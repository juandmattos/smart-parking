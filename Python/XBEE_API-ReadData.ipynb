{
 "cells": [
  {
   "cell_type": "code",
   "execution_count": 1,
   "metadata": {},
   "outputs": [],
   "source": [
    "from digi.xbee.devices import *\n",
    "import re\n",
    "import time"
   ]
  },
  {
   "cell_type": "code",
   "execution_count": 2,
   "metadata": {},
   "outputs": [],
   "source": [
    "device = XBeeDevice(\"/dev/ttyUSB1\", 9600)\n",
    "device.open()\n",
    "\n",
    "\n",
    "remote_xbee = RemoteXBeeDevice(device, XBee64BitAddress.from_hex_string(\"0013A20041814D79\"))"
   ]
  },
  {
   "cell_type": "code",
   "execution_count": 3,
   "metadata": {},
   "outputs": [],
   "source": [
    "xbee_message = device.read_data()"
   ]
  },
  {
   "cell_type": "code",
   "execution_count": 4,
   "metadata": {},
   "outputs": [],
   "source": [
    "remote_device =xbee_message.remote_device\n",
    "data = bytes(xbee_message.data)\n",
    "is_broadcast = xbee_message.is_broadcast\n",
    "timestamp = time.ctime(xbee_message.timestamp)"
   ]
  },
  {
   "cell_type": "code",
   "execution_count": 5,
   "metadata": {},
   "outputs": [
    {
     "name": "stdout",
     "output_type": "stream",
     "text": [
      "83  80  0  84  0  72  0  72  83  1  255  "
     ]
    }
   ],
   "source": [
    "data2 = []\n",
    "for val in data:\n",
    "    print(val, ' ', end='')"
   ]
  },
  {
   "cell_type": "code",
   "execution_count": 6,
   "metadata": {},
   "outputs": [],
   "source": [
    "data2 = []\n",
    "for i in range(0,len(data)):\n",
    "    if i == 2:\n",
    "        data2.append(data[i])\n",
    "    elif i == 4 and chr(data[i]) != 'E':\n",
    "        data2.append(data[i])\n",
    "    elif i == 6 and chr(data[i]) != 'E':\n",
    "        data2.append(data[i])\n",
    "    elif i == 9 and chr(data[i]) != 'E':\n",
    "        byte12 = data[i]*256\n",
    "    elif i == 10 and chr(data[i]) != 'E':\n",
    "        data2.append(data[i]+byte12)\n",
    "    else:\n",
    "        data2.append(chr(data[i]))"
   ]
  },
  {
   "cell_type": "code",
   "execution_count": 7,
   "metadata": {},
   "outputs": [
    {
     "data": {
      "text/plain": [
       "['S', 'P', 0, 'T', 0, 'H', 0, 'H', 'S', 511]"
      ]
     },
     "execution_count": 7,
     "metadata": {},
     "output_type": "execute_result"
    }
   ],
   "source": [
    "data2\n"
   ]
  },
  {
   "cell_type": "code",
   "execution_count": 8,
   "metadata": {},
   "outputs": [],
   "source": [
    "data = \"\".join(map(str, data2))"
   ]
  },
  {
   "cell_type": "code",
   "execution_count": 9,
   "metadata": {},
   "outputs": [
    {
     "name": "stdout",
     "output_type": "stream",
     "text": [
      "<re.Match object; span=(0, 12), match='SP0T0H0HS511'>\n"
     ]
    }
   ],
   "source": [
    "regex = 'SP(?P<PIR>[0-9]+|E)T(?P<DHT11_T>[0-9]+|E)H(?P<DHT11_H>[0-9]+|E)HS(?P<YL_69>[0-9]+|EE)'\n",
    "match = re.search(regex, data)\n",
    "data_dict = match.groupdict()\n",
    "print(match)"
   ]
  },
  {
   "cell_type": "code",
   "execution_count": 13,
   "metadata": {},
   "outputs": [
    {
     "data": {
      "text/plain": [
       "{'PIR': '0',\n",
       " 'DHT11_T': '0',\n",
       " 'DHT11_H': '0',\n",
       " 'YL_69': '511',\n",
       " 'nodo': b' ROUTER_2',\n",
       " 'timestamp': 'Mon Nov 30 15:19:54 2020'}"
      ]
     },
     "execution_count": 13,
     "metadata": {},
     "output_type": "execute_result"
    }
   ],
   "source": [
    "data_dict"
   ]
  },
  {
   "cell_type": "code",
   "execution_count": 11,
   "metadata": {},
   "outputs": [],
   "source": [
    "remote_device = remote_device.get_parameter('NI')"
   ]
  },
  {
   "cell_type": "code",
   "execution_count": 12,
   "metadata": {},
   "outputs": [],
   "source": [
    "data_dict.update(nodo=bytes(remote_device), timestamp=timestamp)"
   ]
  }
 ],
 "metadata": {
  "kernelspec": {
   "display_name": "Python 3",
   "language": "python",
   "name": "python3"
  },
  "language_info": {
   "codemirror_mode": {
    "name": "ipython",
    "version": 3
   },
   "file_extension": ".py",
   "mimetype": "text/x-python",
   "name": "python",
   "nbconvert_exporter": "python",
   "pygments_lexer": "ipython3",
   "version": "3.7.3"
  }
 },
 "nbformat": 4,
 "nbformat_minor": 4
}
