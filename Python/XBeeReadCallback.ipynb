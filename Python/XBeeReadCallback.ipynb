{
 "cells": [
  {
   "cell_type": "code",
   "execution_count": 1,
   "metadata": {
    "scrolled": true
   },
   "outputs": [
    {
     "ename": "InvalidOperatingModeException",
     "evalue": "Could not determine operating mode",
     "output_type": "error",
     "traceback": [
      "\u001b[0;31m---------------------------------------------------------------------------\u001b[0m",
      "\u001b[0;31mInvalidOperatingModeException\u001b[0m             Traceback (most recent call last)",
      "\u001b[0;32m<ipython-input-1-5e2c1c4a9523>\u001b[0m in \u001b[0;36m<module>\u001b[0;34m\u001b[0m\n\u001b[1;32m      5\u001b[0m \u001b[0;31m# Instantiate an XBee device object.\u001b[0m\u001b[0;34m\u001b[0m\u001b[0;34m\u001b[0m\u001b[0;34m\u001b[0m\u001b[0m\n\u001b[1;32m      6\u001b[0m \u001b[0mdevice\u001b[0m \u001b[0;34m=\u001b[0m \u001b[0mXBeeDevice\u001b[0m\u001b[0;34m(\u001b[0m\u001b[0;34m\"/dev/ttyUSB0\"\u001b[0m\u001b[0;34m,\u001b[0m \u001b[0;36m9600\u001b[0m\u001b[0;34m)\u001b[0m\u001b[0;34m\u001b[0m\u001b[0;34m\u001b[0m\u001b[0m\n\u001b[0;32m----> 7\u001b[0;31m \u001b[0mdevice\u001b[0m\u001b[0;34m.\u001b[0m\u001b[0mopen\u001b[0m\u001b[0;34m(\u001b[0m\u001b[0;34m)\u001b[0m\u001b[0;34m\u001b[0m\u001b[0;34m\u001b[0m\u001b[0m\n\u001b[0m\u001b[1;32m      8\u001b[0m \u001b[0;34m\u001b[0m\u001b[0m\n\u001b[1;32m      9\u001b[0m \u001b[0;31m# Define callback.\u001b[0m\u001b[0;34m\u001b[0m\u001b[0;34m\u001b[0m\u001b[0;34m\u001b[0m\u001b[0m\n",
      "\u001b[0;32m~/.local/lib/python3.7/site-packages/digi/xbee/devices.py\u001b[0m in \u001b[0;36mopen\u001b[0;34m(self, force_settings)\u001b[0m\n\u001b[1;32m   2041\u001b[0m                 \u001b[0mself\u001b[0m\u001b[0;34m.\u001b[0m\u001b[0mopen\u001b[0m\u001b[0;34m(\u001b[0m\u001b[0mforce_settings\u001b[0m\u001b[0;34m=\u001b[0m\u001b[0;32mFalse\u001b[0m\u001b[0;34m)\u001b[0m\u001b[0;34m\u001b[0m\u001b[0;34m\u001b[0m\u001b[0m\n\u001b[1;32m   2042\u001b[0m         \u001b[0;32melse\u001b[0m\u001b[0;34m:\u001b[0m\u001b[0;34m\u001b[0m\u001b[0;34m\u001b[0m\u001b[0m\n\u001b[0;32m-> 2043\u001b[0;31m             \u001b[0mself\u001b[0m\u001b[0;34m.\u001b[0m\u001b[0m_do_open\u001b[0m\u001b[0;34m(\u001b[0m\u001b[0;34m)\u001b[0m\u001b[0;34m\u001b[0m\u001b[0;34m\u001b[0m\u001b[0m\n\u001b[0m\u001b[1;32m   2044\u001b[0m \u001b[0;34m\u001b[0m\u001b[0m\n\u001b[1;32m   2045\u001b[0m     \u001b[0;32mdef\u001b[0m \u001b[0m_do_open\u001b[0m\u001b[0;34m(\u001b[0m\u001b[0mself\u001b[0m\u001b[0;34m)\u001b[0m\u001b[0;34m:\u001b[0m\u001b[0;34m\u001b[0m\u001b[0;34m\u001b[0m\u001b[0m\n",
      "\u001b[0;32m~/.local/lib/python3.7/site-packages/digi/xbee/devices.py\u001b[0m in \u001b[0;36m_do_open\u001b[0;34m(self)\u001b[0m\n\u001b[1;32m   2057\u001b[0m         \u001b[0;32mif\u001b[0m \u001b[0mself\u001b[0m\u001b[0;34m.\u001b[0m\u001b[0m_operating_mode\u001b[0m \u001b[0;34m==\u001b[0m \u001b[0mOperatingMode\u001b[0m\u001b[0;34m.\u001b[0m\u001b[0mUNKNOWN\u001b[0m\u001b[0;34m:\u001b[0m\u001b[0;34m\u001b[0m\u001b[0;34m\u001b[0m\u001b[0m\n\u001b[1;32m   2058\u001b[0m             \u001b[0mself\u001b[0m\u001b[0;34m.\u001b[0m\u001b[0mclose\u001b[0m\u001b[0;34m(\u001b[0m\u001b[0;34m)\u001b[0m\u001b[0;34m\u001b[0m\u001b[0;34m\u001b[0m\u001b[0m\n\u001b[0;32m-> 2059\u001b[0;31m             \u001b[0;32mraise\u001b[0m \u001b[0mInvalidOperatingModeException\u001b[0m\u001b[0;34m(\u001b[0m\u001b[0mmessage\u001b[0m\u001b[0;34m=\u001b[0m\u001b[0;34m\"Could not determine operating mode\"\u001b[0m\u001b[0;34m)\u001b[0m\u001b[0;34m\u001b[0m\u001b[0;34m\u001b[0m\u001b[0m\n\u001b[0m\u001b[1;32m   2060\u001b[0m         \u001b[0;32mif\u001b[0m \u001b[0mself\u001b[0m\u001b[0;34m.\u001b[0m\u001b[0m_operating_mode\u001b[0m \u001b[0;32mnot\u001b[0m \u001b[0;32min\u001b[0m \u001b[0;34m[\u001b[0m\u001b[0mOperatingMode\u001b[0m\u001b[0;34m.\u001b[0m\u001b[0mAPI_MODE\u001b[0m\u001b[0;34m,\u001b[0m \u001b[0mOperatingMode\u001b[0m\u001b[0;34m.\u001b[0m\u001b[0mESCAPED_API_MODE\u001b[0m\u001b[0;34m]\u001b[0m\u001b[0;34m:\u001b[0m\u001b[0;34m\u001b[0m\u001b[0;34m\u001b[0m\u001b[0m\n\u001b[1;32m   2061\u001b[0m             \u001b[0mself\u001b[0m\u001b[0;34m.\u001b[0m\u001b[0mclose\u001b[0m\u001b[0;34m(\u001b[0m\u001b[0;34m)\u001b[0m\u001b[0;34m\u001b[0m\u001b[0;34m\u001b[0m\u001b[0m\n",
      "\u001b[0;31mInvalidOperatingModeException\u001b[0m: Could not determine operating mode"
     ]
    }
   ],
   "source": [
    "from digi.xbee.devices import *\n",
    "import re\n",
    "import time\n",
    "\n",
    "# Instantiate an XBee device object.\n",
    "device = XBeeDevice(\"/dev/ttyUSB0\", 9600)\n",
    "device.open()\n",
    "\n",
    "# Define callback.\n",
    "def my_data_received_callback(xbee_message):\n",
    "    #address = xbee_message.remote_device.get_64bit_addr()\n",
    "    #data = xbee_message.data.decode(\"utf8\")\n",
    "    #print(\"Received data from %s: %s\" % (address, data))\n",
    "    remote_device = xbee_message.remote_device\n",
    "    data = bytes(xbee_message.data)\n",
    "    is_broadcast = xbee_message.is_broadcast\n",
    "    timestamp = time.ctime(xbee_message.timestamp)\n",
    "    \n",
    "    data2 = []\n",
    "    for i in range(0,len(data)):\n",
    "        if i == 2:\n",
    "            data2.append(data[i])\n",
    "        elif i == 4 and chr(data[i]) != 'E':\n",
    "            data2.append(data[i])\n",
    "        elif i == 6 and chr(data[i]) != 'E':\n",
    "            data2.append(data[i])\n",
    "        elif i == 9 and chr(data[i]) != 'E':\n",
    "            byte12 = data[i]*256\n",
    "        elif i == 10 and chr(data[i]) != 'E':\n",
    "            data2.append(data[i]+byte12)\n",
    "        else:\n",
    "            data2.append(chr(data[i]))\n",
    "    \n",
    "    data = \"\".join(map(str, data2))\n",
    "    regex = 'SP(?P<PIR>[0-9]+|E)T(?P<DHT11_T>[0-9]+|E)H(?P<DHT11_H>[0-9]+|E)HS(?P<YL_69>[0-9]+|EE)'\n",
    "    match = re.search(regex, data)\n",
    "    data_dict = match.groupdict()\n",
    "    remote_device = remote_device.get_parameter('NI')\n",
    "    data_dict.update(nodo=remote_device, timestamp=timestamp)\n",
    "    \n",
    "    print(\"Received data from %s: %s\" % (bytes(remote_device), data))\n",
    "    \n",
    "# Add the callback.\n",
    "\n",
    "device.add_data_received_callback(my_data_received_callback)"
   ]
  },
  {
   "cell_type": "code",
   "execution_count": null,
   "metadata": {},
   "outputs": [],
   "source": []
  }
 ],
 "metadata": {
  "kernelspec": {
   "display_name": "Python 3",
   "language": "python",
   "name": "python3"
  },
  "language_info": {
   "codemirror_mode": {
    "name": "ipython",
    "version": 3
   },
   "file_extension": ".py",
   "mimetype": "text/x-python",
   "name": "python",
   "nbconvert_exporter": "python",
   "pygments_lexer": "ipython3",
   "version": "3.7.3"
  }
 },
 "nbformat": 4,
 "nbformat_minor": 4
}
