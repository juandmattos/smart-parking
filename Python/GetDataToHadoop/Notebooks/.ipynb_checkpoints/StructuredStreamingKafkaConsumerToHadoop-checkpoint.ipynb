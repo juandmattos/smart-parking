{
 "cells": [
  {
   "cell_type": "code",
   "execution_count": 1,
   "metadata": {},
   "outputs": [],
   "source": [
    "import subprocess\n",
    "import findspark\n",
    "from pyspark.sql.window import Window\n",
    "from pyspark.sql import SparkSession\n",
    "from pyspark.sql.functions import explode\n",
    "from pyspark.sql.functions import split\n",
    "from pyspark.sql.functions import from_unixtime\n",
    "from pyspark.sql.functions import from_json\n",
    "from pyspark.sql.functions import col,year,month,dayofmonth,coalesce,lit,from_json, hour\n",
    "from pyspark.sql.types import *\n",
    "from pyspark.sql.functions import *"
   ]
  },
  {
   "cell_type": "code",
   "execution_count": 2,
   "metadata": {},
   "outputs": [],
   "source": [
    "import os\n",
    "os.environ[\"HADOOP_USER_NAME\"] = \"hadoop\""
   ]
  },
  {
   "cell_type": "code",
   "execution_count": 3,
   "metadata": {},
   "outputs": [],
   "source": [
    "findspark.init(spark_home='/opt/spark')"
   ]
  },
  {
   "cell_type": "code",
   "execution_count": 4,
   "metadata": {},
   "outputs": [],
   "source": [
    "# topics = subprocess.check_output(\"/opt/kafka/bin/kafka-topics.sh --list --bootstrap-server hadoop-namenode:9092\", shell=True)\n",
    "# topics = topics.split()\n",
    "# topics = [ topic.decode(\"UTF-8\") for topic in topics ]\n",
    "# topics.pop()\n",
    "# topics"
   ]
  },
  {
   "cell_type": "code",
   "execution_count": 5,
   "metadata": {},
   "outputs": [
    {
     "name": "stderr",
     "output_type": "stream",
     "text": [
      "22/06/14 01:16:55 WARN NativeCodeLoader: Unable to load native-hadoop library for your platform... using builtin-java classes where applicable\n"
     ]
    }
   ],
   "source": [
    "# Spark session & context\n",
    "spark = (SparkSession\n",
    "         .builder\n",
    "         .master('local[*]')\n",
    "         .appName('TresCrucesShoppingHDFS')\n",
    "         .config('spark.jars', 'file:///opt/smart-parking/Python/Spark-Jars-Utils/spark-sql-kafka-0-10_2.12-3.2.1.jar,file:///opt/smart-parking/Python/Spark-Jars-Utils/kafka-clients-3.1.0.jar')\n",
    "         .config('spark.executor.extraClassPath','file:///opt/smart-parking/Python/Spark-Jars-Utils/spark-sql-kafka-0-10_2.12-3.2.1.jar:file:///opt/smart-parking/Python/Spark-Jars-Utils/kafka-clients-3.1.0.jar')\n",
    "         .config('spark.executor.extraLibrary','file:///opt/smart-parking/Python/Spark-Jars-Utils/spark-sql-kafka-0-10_2.12-3.2.1.jar:file:///opt/smart-parking/Python/Spark-Jars-Utils/kafka-clients-3.1.0.jar')\n",
    "         .config('spark.driver.extraClassPath', 'file:///opt/smart-parking/Python/Spark-Jars-Utils/spark-sql-kafka-0-10_2.12-3.2.1.jar:file:///opt/smart-parking/Python/Spark-Jars-Utils/kafka-clients-3.1.0.jar')\n",
    "         .getOrCreate())\n",
    "\n",
    "spark.sparkContext.setLogLevel(\"ERROR\")\n",
    "sc = spark.sparkContext"
   ]
  },
  {
   "cell_type": "code",
   "execution_count": 6,
   "metadata": {},
   "outputs": [
    {
     "data": {
      "text/html": [
       "\n",
       "            <div>\n",
       "                <p><b>SparkSession - in-memory</b></p>\n",
       "                \n",
       "        <div>\n",
       "            <p><b>SparkContext</b></p>\n",
       "\n",
       "            <p><a href=\"http://spsystem:4040\">Spark UI</a></p>\n",
       "\n",
       "            <dl>\n",
       "              <dt>Version</dt>\n",
       "                <dd><code>v3.2.1</code></dd>\n",
       "              <dt>Master</dt>\n",
       "                <dd><code>local[*]</code></dd>\n",
       "              <dt>AppName</dt>\n",
       "                <dd><code>TresCrucesShoppingHDFS</code></dd>\n",
       "            </dl>\n",
       "        </div>\n",
       "        \n",
       "            </div>\n",
       "        "
      ],
      "text/plain": [
       "<pyspark.sql.session.SparkSession at 0x7f2b618d6800>"
      ]
     },
     "execution_count": 6,
     "metadata": {},
     "output_type": "execute_result"
    }
   ],
   "source": [
    "spark"
   ]
  },
  {
   "cell_type": "code",
   "execution_count": 7,
   "metadata": {},
   "outputs": [
    {
     "data": {
      "text/plain": [
       "DataFrame[key: string, value: string]"
      ]
     },
     "execution_count": 7,
     "metadata": {},
     "output_type": "execute_result"
    }
   ],
   "source": [
    "# Subscribe to 1 topic\n",
    "df = spark \\\n",
    "  .readStream \\\n",
    "  .format(\"kafka\") \\\n",
    "  .option(\"kafka.bootstrap.servers\", \"hadoop-namenode:9092\") \\\n",
    "  .option(\"subscribe\", \"TresCrucesShopping\") \\\n",
    "  .load()\n",
    "df.selectExpr(\"CAST(key AS STRING)\", \"CAST(value AS STRING)\")"
   ]
  },
  {
   "cell_type": "code",
   "execution_count": 8,
   "metadata": {},
   "outputs": [],
   "source": [
    "def CountOccupation(lista):\n",
    "    i=0\n",
    "    for opp in lista:\n",
    "        if opp == True:\n",
    "            i+=1\n",
    "    return i\n",
    "\n",
    "countOcuppation = udf(lambda x: CountOccupation(x), IntegerType())      "
   ]
  },
  {
   "cell_type": "code",
   "execution_count": 9,
   "metadata": {},
   "outputs": [],
   "source": [
    "def convertList(lista):\n",
    "    i=0\n",
    "    for opp in lista:\n",
    "        if opp == True:\n",
    "            i+=1\n",
    "    return i\n",
    "\n",
    "countOcuppation = udf(lambda x: CountOccupation(x))      "
   ]
  },
  {
   "cell_type": "code",
   "execution_count": 10,
   "metadata": {},
   "outputs": [],
   "source": [
    "def percentagetoString(sp_total, sp_ocupied):\n",
    "    percnt = int((sp_ocupied*100)/sp_total)\n",
    "    #print(percnt)\n",
    "    if percnt >= 0 and percnt <=25:\n",
    "        return \"Empty\"\n",
    "    elif percnt > 25 and percnt <=50:\n",
    "        return \"Almost Empty\"\n",
    "    elif percnt > 50 and percnt <=75:\n",
    "        return \"Almost Full\"\n",
    "    elif percnt > 75 and percnt <=100:\n",
    "        return \"Full\"\n",
    "    else:\n",
    "        return \"Other\"\n",
    "    \n",
    "percentageOcuppation = udf(lambda x, y: percentagetoString(x,y), StringType())   \n",
    "\n",
    "areaAvailableSpots = udf(lambda x, y: x-y, IntegerType())"
   ]
  },
  {
   "cell_type": "code",
   "execution_count": 13,
   "metadata": {},
   "outputs": [],
   "source": [
    "def func(batch_df, batch_id):\n",
    "    batch_df.persist()\n",
    "    \n",
    "    df = batch_df.withColumn(\"value\", col(\"value\").cast(\"string\"))\n",
    "    tableSchema = StructType() \\\n",
    "            .add(\"parking_name\", StringType())\\\n",
    "            .add(\"parking_id\", StringType())\\\n",
    "            .add(\"parking_address\", StringType())\\\n",
    "            .add(\"parking_description\", StringType())\\\n",
    "            .add(\"device_timestamp\", TimestampType())\\\n",
    "            .add(\"device_id\", StringType())\\\n",
    "            .add(\"parking_latitude\", DoubleType())\\\n",
    "            .add(\"parking_longitude\", DoubleType())\\\n",
    "            .add(\"parking_temperature\", StringType())\\\n",
    "            .add(\"parking_humidity\", StringType())\\\n",
    "            .add(\"parking_uuid\", StringType())\\\n",
    "            .add(\"device_level_id\", StringType())\\\n",
    "            .add(\"device_area_id\", StringType())\\\n",
    "            .add(\"device_area_name\", StringType())\\\n",
    "            .add(\"device_spots\", StringType())\\\n",
    "            .add(\"device_slots\", ArrayType(BooleanType()))\\\n",
    "            .add(\"parking_closed\", BooleanType())\n",
    "        \n",
    "    prov = df.select(\"*\",from_json(\"value\",tableSchema).alias(\"data_parsed\")).select(\"data_parsed.*\")\n",
    "    \n",
    "    dlist = prov.columns\n",
    "    \n",
    "    dfalldata = prov.select(dlist)\n",
    "    df_partitioned =  dfalldata.withColumn(\"year\", year(col(\"device_timestamp\"))) \\\n",
    "        .withColumn(\"month\", month(col(\"device_timestamp\"))) \\\n",
    "        .withColumn(\"day\", dayofmonth(col(\"device_timestamp\"))) \\\n",
    "        .withColumn(\"hour\", hour(col(\"device_timestamp\"))) \\\n",
    "        .withColumn(\"minutes\", minute(col(\"device_timestamp\"))) \\\n",
    "        .drop(col(\"device_timestamp\"))\n",
    "    \n",
    "    # dfalldata = dfalldata.orderBy(dfalldata.device_timestamp.desc())\n",
    "    # dfalldata = dfalldata.dropDuplicates((['device_address']))\n",
    "    df_partitioned = df_partitioned\\\n",
    "                    .withColumnRenamed(\"device_area_name\", \"area_name\")\\\n",
    "                    .withColumnRenamed(\"device_area_id\", \"area_id\")\\\n",
    "                    .withColumnRenamed(\"device_level_id\", \"level_id\")\\\n",
    "                    .withColumn(\"area_description\", lit(\"short description\"))\\\n",
    "                    .withColumn(\"area_occupied_spots\", countOcuppation(col(\"device_slots\")))\\\n",
    "                    .withColumn(\"area_occupation\", percentageOcuppation(col(\"device_spots\").cast(\"int\"), col(\"area_occupied_spots\").cast(\"int\")))\\\n",
    "                    .withColumn(\"area_available_spots\", areaAvailableSpots(col(\"device_spots\").cast(\"int\"), col(\"area_occupied_spots\").cast(\"int\")))\\\n",
    "                    .withColumnRenamed(\"device_spots\", \"area_total_spots\")\\\n",
    "                    .withColumn(\"level_name\", lit(\"Piso \")+col(\"level_id\"))\\\n",
    "                    .withColumn(\"level_id\", col(\"level_id\").cast(\"int\"))\\\n",
    "                    .withColumn(\"area_id\", col(\"area_id\").cast(\"int\"))\\\n",
    "                    .withColumn(\"area_total_spots\", col(\"area_total_spots\").cast(\"int\"))\n",
    "    \n",
    "    df_partitioned = df_partitioned.select(\"*\", posexplode(\"device_slots\").alias(\"slot_id\", \"slot_state\"))\n",
    "    df_partitioned = df_partitioned \\\n",
    "                        .withColumn(\"slot_id\", col(\"slot_id\") + 1)\n",
    "    \n",
    "    #df_partitioned.printSchema()\n",
    "    df_partitioned.show()\n",
    "    if not df_partitioned.rdd.isEmpty():\n",
    "        df_partitioned.write\\\n",
    "        .mode(\"append\").\\\n",
    "        format(\"parquet\").\\\n",
    "        partitionBy(\"parking_name\", \"year\", \"month\", \"day\",\"hour\") \\\n",
    "        .save(\"hdfs://hadoop-namenode:9000/data/Parkings/\")\n",
    "    \n",
    "    #df_partitioned.select(\"*\", \"device_slots.*\").show()\n",
    "#     for i in range(1,10):\n",
    "#         df_partitioned = df_partitioned.withColumn(\"slots_id_\" + str(i), col(\"device_slots\").getItem(i-1))\n",
    "#     df_partitioned.show()    \n",
    "#     windowPartitionAgg  = Window.partitionBy(\"device_level_id\")              \n",
    "#     df2 = dfalldata.withColumn(\"level_total_spots\", sum(col(\"device_spots\")).over(windowPartitionAgg))\\\n",
    "#                    .withColumn(\"level_occupied_slots\", sum(col(\"area_occupied_slots\")).over(windowPartitionAgg))\n",
    "    \n",
    "    \"\"\"\n",
    "    A nivel del streaming como se está usando el foreachBatch hace que agarre fragmentos de información,\n",
    "    en mi caso puntual este desarrollo serí para realizar la integración con Hadoop y no con el Backend\n",
    "    en esta seccion ver parte del notebook dedicada a codigo de agregación\n",
    "    \"\"\"\n",
    " \n",
    "    batch_df.unpersist()"
   ]
  },
  {
   "cell_type": "code",
   "execution_count": null,
   "metadata": {},
   "outputs": [
    {
     "name": "stdout",
     "output_type": "stream",
     "text": [
      "+------------------+----------+--------------------+--------------------+----------------+----------------+-----------------+-------------------+----------------+--------------------+--------+-------+---------+----------------+--------------------+--------------+----+-----+---+----+-------+-----------------+-------------------+---------------+--------------------+----------+-------+----------+\n",
      "|      parking_name|parking_id|     parking_address| parking_description|       device_id|parking_latitude|parking_longitude|parking_temperature|parking_humidity|        parking_uuid|level_id|area_id|area_name|area_total_spots|        device_slots|parking_closed|year|month|day|hour|minutes| area_description|area_occupied_spots|area_occupation|area_available_spots|level_name|slot_id|slot_state|\n",
      "+------------------+----------+--------------------+--------------------+----------------+----------------+-----------------+-------------------+----------------+--------------------+--------+-------+---------+----------------+--------------------+--------------+----+-----+---+----+-------+-----------------+-------------------+---------------+--------------------+----------+-------+----------+\n",
      "|TresCrucesShopping|         1|La Pasiva, 1825, ...|Parking ubicado e...|39CABC1D179D7D7E|     -34.8943081|      -56.1664375|                8.0|              74|76c41438-3a97-433...|       1|      2|        B|              10|[false, false, fa...|          true|2022|    6| 14|   1|     18|short description|                  0|          Empty|                  10|      null|      1|     false|\n",
      "|TresCrucesShopping|         1|La Pasiva, 1825, ...|Parking ubicado e...|39CABC1D179D7D7E|     -34.8943081|      -56.1664375|                8.0|              74|76c41438-3a97-433...|       1|      2|        B|              10|[false, false, fa...|          true|2022|    6| 14|   1|     18|short description|                  0|          Empty|                  10|      null|      2|     false|\n",
      "|TresCrucesShopping|         1|La Pasiva, 1825, ...|Parking ubicado e...|39CABC1D179D7D7E|     -34.8943081|      -56.1664375|                8.0|              74|76c41438-3a97-433...|       1|      2|        B|              10|[false, false, fa...|          true|2022|    6| 14|   1|     18|short description|                  0|          Empty|                  10|      null|      3|     false|\n",
      "|TresCrucesShopping|         1|La Pasiva, 1825, ...|Parking ubicado e...|39CABC1D179D7D7E|     -34.8943081|      -56.1664375|                8.0|              74|76c41438-3a97-433...|       1|      2|        B|              10|[false, false, fa...|          true|2022|    6| 14|   1|     18|short description|                  0|          Empty|                  10|      null|      4|     false|\n",
      "|TresCrucesShopping|         1|La Pasiva, 1825, ...|Parking ubicado e...|39CABC1D179D7D7E|     -34.8943081|      -56.1664375|                8.0|              74|76c41438-3a97-433...|       1|      2|        B|              10|[false, false, fa...|          true|2022|    6| 14|   1|     18|short description|                  0|          Empty|                  10|      null|      5|     false|\n",
      "|TresCrucesShopping|         1|La Pasiva, 1825, ...|Parking ubicado e...|39CABC1D179D7D7E|     -34.8943081|      -56.1664375|                8.0|              74|76c41438-3a97-433...|       1|      2|        B|              10|[false, false, fa...|          true|2022|    6| 14|   1|     18|short description|                  0|          Empty|                  10|      null|      6|     false|\n",
      "|TresCrucesShopping|         1|La Pasiva, 1825, ...|Parking ubicado e...|39CABC1D179D7D7E|     -34.8943081|      -56.1664375|                8.0|              74|76c41438-3a97-433...|       1|      2|        B|              10|[false, false, fa...|          true|2022|    6| 14|   1|     18|short description|                  0|          Empty|                  10|      null|      7|     false|\n",
      "|TresCrucesShopping|         1|La Pasiva, 1825, ...|Parking ubicado e...|39CABC1D179D7D7E|     -34.8943081|      -56.1664375|                8.0|              74|76c41438-3a97-433...|       1|      2|        B|              10|[false, false, fa...|          true|2022|    6| 14|   1|     18|short description|                  0|          Empty|                  10|      null|      8|     false|\n",
      "|TresCrucesShopping|         1|La Pasiva, 1825, ...|Parking ubicado e...|39CABC1D179D7D7E|     -34.8943081|      -56.1664375|                8.0|              74|76c41438-3a97-433...|       1|      2|        B|              10|[false, false, fa...|          true|2022|    6| 14|   1|     18|short description|                  0|          Empty|                  10|      null|      9|     false|\n",
      "|TresCrucesShopping|         1|La Pasiva, 1825, ...|Parking ubicado e...|39CABC1D179D7D7E|     -34.8943081|      -56.1664375|                8.0|              74|76c41438-3a97-433...|       1|      2|        B|              10|[false, false, fa...|          true|2022|    6| 14|   1|     18|short description|                  0|          Empty|                  10|      null|     10|     false|\n",
      "|TresCrucesShopping|         1|La Pasiva, 1825, ...|Parking ubicado e...|0CB935F148C9C8D3|     -34.8943081|      -56.1664375|                8.0|              74|76c41438-3a97-433...|       2|      1|        A|              10|[false, false, fa...|          true|2022|    6| 14|   1|     18|short description|                  0|          Empty|                  10|      null|      1|     false|\n",
      "|TresCrucesShopping|         1|La Pasiva, 1825, ...|Parking ubicado e...|0CB935F148C9C8D3|     -34.8943081|      -56.1664375|                8.0|              74|76c41438-3a97-433...|       2|      1|        A|              10|[false, false, fa...|          true|2022|    6| 14|   1|     18|short description|                  0|          Empty|                  10|      null|      2|     false|\n",
      "|TresCrucesShopping|         1|La Pasiva, 1825, ...|Parking ubicado e...|0CB935F148C9C8D3|     -34.8943081|      -56.1664375|                8.0|              74|76c41438-3a97-433...|       2|      1|        A|              10|[false, false, fa...|          true|2022|    6| 14|   1|     18|short description|                  0|          Empty|                  10|      null|      3|     false|\n",
      "|TresCrucesShopping|         1|La Pasiva, 1825, ...|Parking ubicado e...|0CB935F148C9C8D3|     -34.8943081|      -56.1664375|                8.0|              74|76c41438-3a97-433...|       2|      1|        A|              10|[false, false, fa...|          true|2022|    6| 14|   1|     18|short description|                  0|          Empty|                  10|      null|      4|     false|\n",
      "|TresCrucesShopping|         1|La Pasiva, 1825, ...|Parking ubicado e...|0CB935F148C9C8D3|     -34.8943081|      -56.1664375|                8.0|              74|76c41438-3a97-433...|       2|      1|        A|              10|[false, false, fa...|          true|2022|    6| 14|   1|     18|short description|                  0|          Empty|                  10|      null|      5|     false|\n",
      "|TresCrucesShopping|         1|La Pasiva, 1825, ...|Parking ubicado e...|0CB935F148C9C8D3|     -34.8943081|      -56.1664375|                8.0|              74|76c41438-3a97-433...|       2|      1|        A|              10|[false, false, fa...|          true|2022|    6| 14|   1|     18|short description|                  0|          Empty|                  10|      null|      6|     false|\n",
      "|TresCrucesShopping|         1|La Pasiva, 1825, ...|Parking ubicado e...|0CB935F148C9C8D3|     -34.8943081|      -56.1664375|                8.0|              74|76c41438-3a97-433...|       2|      1|        A|              10|[false, false, fa...|          true|2022|    6| 14|   1|     18|short description|                  0|          Empty|                  10|      null|      7|     false|\n",
      "|TresCrucesShopping|         1|La Pasiva, 1825, ...|Parking ubicado e...|0CB935F148C9C8D3|     -34.8943081|      -56.1664375|                8.0|              74|76c41438-3a97-433...|       2|      1|        A|              10|[false, false, fa...|          true|2022|    6| 14|   1|     18|short description|                  0|          Empty|                  10|      null|      8|     false|\n",
      "|TresCrucesShopping|         1|La Pasiva, 1825, ...|Parking ubicado e...|0CB935F148C9C8D3|     -34.8943081|      -56.1664375|                8.0|              74|76c41438-3a97-433...|       2|      1|        A|              10|[false, false, fa...|          true|2022|    6| 14|   1|     18|short description|                  0|          Empty|                  10|      null|      9|     false|\n",
      "|TresCrucesShopping|         1|La Pasiva, 1825, ...|Parking ubicado e...|0CB935F148C9C8D3|     -34.8943081|      -56.1664375|                8.0|              74|76c41438-3a97-433...|       2|      1|        A|              10|[false, false, fa...|          true|2022|    6| 14|   1|     18|short description|                  0|          Empty|                  10|      null|     10|     false|\n",
      "+------------------+----------+--------------------+--------------------+----------------+----------------+-----------------+-------------------+----------------+--------------------+--------+-------+---------+----------------+--------------------+--------------+----+-----+---+----+-------+-----------------+-------------------+---------------+--------------------+----------+-------+----------+\n",
      "only showing top 20 rows\n",
      "\n"
     ]
    },
    {
     "name": "stderr",
     "output_type": "stream",
     "text": [
      "                                                                                \r"
     ]
    }
   ],
   "source": [
    "# Inicia la consulta e imprime el resultado\n",
    "CHECKPOINT_DIRECTORY = 'file:///opt/smart-parking/Python/GetData/CommitLogHadoop'\n",
    "df \\\n",
    ".writeStream\\\n",
    ".trigger(processingTime='120 seconds')\\\n",
    ".outputMode(\"append\") \\\n",
    ".option(\"checkpointLocation\", CHECKPOINT_DIRECTORY)\\\n",
    ".foreachBatch(func) \\\n",
    ".start()\\\n",
    ".awaitTermination()"
   ]
  },
  {
   "cell_type": "markdown",
   "metadata": {},
   "source": [
    "## Codigo para agregar en el otro notebook:"
   ]
  },
  {
   "cell_type": "code",
   "execution_count": null,
   "metadata": {},
   "outputs": [],
   "source": [
    "#        \n",
    "# .withColumn(\"level_occupation\", percentageOcuppation(col(\"level_total_spots\"), col(\"level_occupied_slots\")))\\\n",
    "# .withColumn('area_name', merge_udf(dfalldata['area_name']).over(windowPartitionAgg))\\\n",
    "# .withColumn('device_address', merge_udf(dfalldata['device_address']).over(windowPartitionAgg))\\\n",
    "# .withColumn('area_occupation', merge_udf(dfalldata['area_occupation']).over(windowPartitionAgg))\\\n",
    "# .withColumn('spots', merge_udf(dfalldata['spots'].cast(\"string\")).over(windowPartitionAgg))\\\n",
    "# .withColumn('slots', merge_udf(dfalldata['slots'].cast(\"string\")).over(windowPartitionAgg))\\\n",
    "# .withColumn('area_occupied_slots', merge_udf(dfalldata['area_occupied_slots'].cast(\"string\")).over(windowPartitionAgg))\\\n",
    "# .dropDuplicates((['level_id']))\n",
    "\n",
    "# windowPartitionAgg  = Window.partitionBy(\"parking_name\")\n",
    "# df3 = df2.withColumn(\"level_total_spots\", merge_udf_total(df2['level_total_spots'].cast(\"string\")).over(windowPartitionAgg))\\\n",
    "# .withColumn(\"level_occupied_slots\", merge_udf_total(df2['level_occupied_slots'].cast(\"string\")).over(windowPartitionAgg))\\\n",
    "# .withColumn(\"level_occupation\", merge_udf_total(df2['level_occupation']).over(windowPartitionAgg))\\\n",
    "# .withColumn('area_name', merge_udf_total(df2['area_name']).over(windowPartitionAgg))\\\n",
    "# .withColumn('device_address', merge_udf_total(df2['device_address']).over(windowPartitionAgg))\\\n",
    "# .withColumn('area_occupation', merge_udf_total(df2['area_occupation']).over(windowPartitionAgg))\\\n",
    "# .withColumn('spots', merge_udf_total(df2['spots'].cast(\"string\")).over(windowPartitionAgg))\\\n",
    "# .withColumn('slots', merge_udf_total(df2['slots'].cast(\"string\")).over(windowPartitionAgg))\\\n",
    "# .withColumn('area_occupied_slots', merge_udf_total(df2['area_occupied_slots'].cast(\"string\")).over(windowPartitionAgg))\\\n",
    "# .dropDuplicates((['parking_name']))\n",
    "# "
   ]
  },
  {
   "cell_type": "code",
   "execution_count": null,
   "metadata": {},
   "outputs": [],
   "source": [
    "df\\\n",
    "    .writeStream\\\n",
    "    .outputMode(\"update\") \\\n",
    "    .option(\"checkpointLocation\", CHECKPOINT_DIRECTORY)\\\n",
    "    .foreachBatch(func) \\\n",
    "    .start()\\\n",
    "    .awaitTermination()"
   ]
  }
 ],
 "metadata": {
  "kernelspec": {
   "display_name": "Python 3 (ipykernel)",
   "language": "python",
   "name": "python3"
  },
  "language_info": {
   "codemirror_mode": {
    "name": "ipython",
    "version": 3
   },
   "file_extension": ".py",
   "mimetype": "text/x-python",
   "name": "python",
   "nbconvert_exporter": "python",
   "pygments_lexer": "ipython3",
   "version": "3.10.4"
  }
 },
 "nbformat": 4,
 "nbformat_minor": 2
}
