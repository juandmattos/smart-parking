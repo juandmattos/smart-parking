{
 "cells": [
  {
   "cell_type": "code",
   "execution_count": 1,
   "metadata": {},
   "outputs": [],
   "source": [
    "import subprocess\n",
    "import findspark\n",
    "from pyspark.sql.window import Window\n",
    "from pyspark.sql import SparkSession\n",
    "from pyspark.sql.functions import explode\n",
    "from pyspark.sql.functions import split\n",
    "from pyspark.sql.functions import from_unixtime\n",
    "from pyspark.sql.functions import from_json\n",
    "from pyspark.sql.functions import col,year,month,dayofmonth,coalesce,lit,from_json, hour\n",
    "from pyspark.sql.types import *\n",
    "from pyspark.sql.functions import *"
   ]
  },
  {
   "cell_type": "code",
   "execution_count": 2,
   "metadata": {},
   "outputs": [],
   "source": [
    "import os\n",
    "os.environ[\"HADOOP_USER_NAME\"] = \"hadoop\""
   ]
  },
  {
   "cell_type": "code",
   "execution_count": 3,
   "metadata": {},
   "outputs": [],
   "source": [
    "findspark.init(spark_home='/opt/spark')"
   ]
  },
  {
   "cell_type": "code",
   "execution_count": 4,
   "metadata": {},
   "outputs": [],
   "source": [
    "# topics = subprocess.check_output(\"/opt/kafka/bin/kafka-topics.sh --list --bootstrap-server hadoop-namenode:9092\", shell=True)\n",
    "# topics = topics.split()\n",
    "# topics = [ topic.decode(\"UTF-8\") for topic in topics ]\n",
    "# topics.pop()\n",
    "# topics"
   ]
  },
  {
   "cell_type": "code",
   "execution_count": 5,
   "metadata": {},
   "outputs": [
    {
     "name": "stderr",
     "output_type": "stream",
     "text": [
      "22/06/14 01:16:55 WARN NativeCodeLoader: Unable to load native-hadoop library for your platform... using builtin-java classes where applicable\n"
     ]
    }
   ],
   "source": [
    "# Spark session & context\n",
    "spark = (SparkSession\n",
    "         .builder\n",
    "         .master('local[*]')\n",
    "         .appName('TresCrucesShoppingHDFS')\n",
    "         .config('spark.jars', 'file:///opt/smart-parking/Python/Spark-Jars-Utils/spark-sql-kafka-0-10_2.12-3.2.1.jar,file:///opt/smart-parking/Python/Spark-Jars-Utils/kafka-clients-3.1.0.jar')\n",
    "         .config('spark.executor.extraClassPath','file:///opt/smart-parking/Python/Spark-Jars-Utils/spark-sql-kafka-0-10_2.12-3.2.1.jar:file:///opt/smart-parking/Python/Spark-Jars-Utils/kafka-clients-3.1.0.jar')\n",
    "         .config('spark.executor.extraLibrary','file:///opt/smart-parking/Python/Spark-Jars-Utils/spark-sql-kafka-0-10_2.12-3.2.1.jar:file:///opt/smart-parking/Python/Spark-Jars-Utils/kafka-clients-3.1.0.jar')\n",
    "         .config('spark.driver.extraClassPath', 'file:///opt/smart-parking/Python/Spark-Jars-Utils/spark-sql-kafka-0-10_2.12-3.2.1.jar:file:///opt/smart-parking/Python/Spark-Jars-Utils/kafka-clients-3.1.0.jar')\n",
    "         .getOrCreate())\n",
    "\n",
    "spark.sparkContext.setLogLevel(\"ERROR\")\n",
    "sc = spark.sparkContext"
   ]
  },
  {
   "cell_type": "code",
   "execution_count": 6,
   "metadata": {},
   "outputs": [
    {
     "data": {
      "text/html": [
       "\n",
       "            <div>\n",
       "                <p><b>SparkSession - in-memory</b></p>\n",
       "                \n",
       "        <div>\n",
       "            <p><b>SparkContext</b></p>\n",
       "\n",
       "            <p><a href=\"http://spsystem:4040\">Spark UI</a></p>\n",
       "\n",
       "            <dl>\n",
       "              <dt>Version</dt>\n",
       "                <dd><code>v3.2.1</code></dd>\n",
       "              <dt>Master</dt>\n",
       "                <dd><code>local[*]</code></dd>\n",
       "              <dt>AppName</dt>\n",
       "                <dd><code>TresCrucesShoppingHDFS</code></dd>\n",
       "            </dl>\n",
       "        </div>\n",
       "        \n",
       "            </div>\n",
       "        "
      ],
      "text/plain": [
       "<pyspark.sql.session.SparkSession at 0x7f2b618d6800>"
      ]
     },
     "execution_count": 6,
     "metadata": {},
     "output_type": "execute_result"
    }
   ],
   "source": [
    "spark"
   ]
  },
  {
   "cell_type": "code",
   "execution_count": 7,
   "metadata": {},
   "outputs": [
    {
     "data": {
      "text/plain": [
       "DataFrame[key: string, value: string]"
      ]
     },
     "execution_count": 7,
     "metadata": {},
     "output_type": "execute_result"
    }
   ],
   "source": [
    "# Subscribe to 1 topic\n",
    "df = spark \\\n",
    "  .readStream \\\n",
    "  .format(\"kafka\") \\\n",
    "  .option(\"kafka.bootstrap.servers\", \"hadoop-namenode:9092\") \\\n",
    "  .option(\"subscribe\", \"TresCrucesShopping\") \\\n",
    "  .load()\n",
    "df.selectExpr(\"CAST(key AS STRING)\", \"CAST(value AS STRING)\")"
   ]
  },
  {
   "cell_type": "code",
   "execution_count": 8,
   "metadata": {},
   "outputs": [],
   "source": [
    "def CountOccupation(lista):\n",
    "    i=0\n",
    "    for opp in lista:\n",
    "        if opp == True:\n",
    "            i+=1\n",
    "    return i\n",
    "\n",
    "countOcuppation = udf(lambda x: CountOccupation(x), IntegerType())      "
   ]
  },
  {
   "cell_type": "code",
   "execution_count": 9,
   "metadata": {},
   "outputs": [],
   "source": [
    "def convertList(lista):\n",
    "    i=0\n",
    "    for opp in lista:\n",
    "        if opp == True:\n",
    "            i+=1\n",
    "    return i\n",
    "\n",
    "countOcuppation = udf(lambda x: CountOccupation(x))      "
   ]
  },
  {
   "cell_type": "code",
   "execution_count": 10,
   "metadata": {},
   "outputs": [],
   "source": [
    "def percentagetoString(sp_total, sp_ocupied):\n",
    "    percnt = int((sp_ocupied*100)/sp_total)\n",
    "    #print(percnt)\n",
    "    if percnt >= 0 and percnt <=25:\n",
    "        return \"Empty\"\n",
    "    elif percnt > 25 and percnt <=50:\n",
    "        return \"Almost Empty\"\n",
    "    elif percnt > 50 and percnt <=75:\n",
    "        return \"Almost Full\"\n",
    "    elif percnt > 75 and percnt <=100:\n",
    "        return \"Full\"\n",
    "    else:\n",
    "        return \"Other\"\n",
    "    \n",
    "percentageOcuppation = udf(lambda x, y: percentagetoString(x,y), StringType())   \n",
    "\n",
    "areaAvailableSpots = udf(lambda x, y: x-y, IntegerType())"
   ]
  },
  {
   "cell_type": "code",
   "execution_count": 15,
   "metadata": {},
   "outputs": [],
   "source": [
    "def func(batch_df, batch_id):\n",
    "    batch_df.persist()\n",
    "    \n",
    "    df = batch_df.withColumn(\"value\", col(\"value\").cast(\"string\"))\n",
    "    tableSchema = StructType() \\\n",
    "            .add(\"parking_name\", StringType())\\\n",
    "            .add(\"parking_id\", StringType())\\\n",
    "            .add(\"parking_address\", StringType())\\\n",
    "            .add(\"parking_description\", StringType())\\\n",
    "            .add(\"device_timestamp\", TimestampType())\\\n",
    "            .add(\"device_id\", StringType())\\\n",
    "            .add(\"parking_latitude\", DoubleType())\\\n",
    "            .add(\"parking_longitude\", DoubleType())\\\n",
    "            .add(\"parking_temperature\", StringType())\\\n",
    "            .add(\"parking_humidity\", StringType())\\\n",
    "            .add(\"parking_uuid\", StringType())\\\n",
    "            .add(\"device_level_id\", StringType())\\\n",
    "            .add(\"device_area_id\", StringType())\\\n",
    "            .add(\"device_area_name\", StringType())\\\n",
    "            .add(\"device_area_description\", StringType())\\\n",
    "            .add(\"device_spots\", StringType())\\\n",
    "            .add(\"device_slots\", ArrayType(BooleanType()))\\\n",
    "            .add(\"parking_closed\", BooleanType())\n",
    "        \n",
    "    prov = df.select(\"*\",from_json(\"value\",tableSchema).alias(\"data_parsed\")).select(\"data_parsed.*\")\n",
    "    \n",
    "    dlist = prov.columns\n",
    "    \n",
    "    dfalldata = prov.select(dlist)\n",
    "    df_partitioned =  dfalldata.withColumn(\"year\", year(col(\"device_timestamp\"))) \\\n",
    "        .withColumn(\"month\", month(col(\"device_timestamp\"))) \\\n",
    "        .withColumn(\"day\", dayofmonth(col(\"device_timestamp\"))) \\\n",
    "        .withColumn(\"hour\", hour(col(\"device_timestamp\"))) \\\n",
    "        .withColumn(\"minutes\", minute(col(\"device_timestamp\"))) \\\n",
    "        .drop(col(\"device_timestamp\"))\n",
    "    \n",
    "    # dfalldata = dfalldata.orderBy(dfalldata.device_timestamp.desc())\n",
    "    # dfalldata = dfalldata.dropDuplicates((['device_address']))\n",
    "    df_partitioned = df_partitioned\\\n",
    "                    .withColumnRenamed(\"device_area_name\", \"area_name\")\\\n",
    "                    .withColumnRenamed(\"device_area_id\", \"area_id\")\\\n",
    "                    .withColumnRenamed(\"device_level_id\", \"level_id\")\\\n",
    "                    .withColumnRenamed(\"device_area_description\",\"area_description\")\\\n",
    "                    .withColumn(\"area_occupied_spots\", countOcuppation(col(\"device_slots\")))\\\n",
    "                    .withColumn(\"area_occupation\", percentageOcuppation(col(\"device_spots\").cast(\"int\"), col(\"area_occupied_spots\").cast(\"int\")))\\\n",
    "                    .withColumn(\"area_available_spots\", areaAvailableSpots(col(\"device_spots\").cast(\"int\"), col(\"area_occupied_spots\").cast(\"int\")))\\\n",
    "                    .withColumnRenamed(\"device_spots\", \"area_total_spots\")\\\n",
    "                    .withColumn(\"level_name\", concat(lit(\"Piso \"),col(\"level_id\")))\\\n",
    "                    .withColumn(\"level_id\", col(\"level_id\").cast(\"int\"))\\\n",
    "                    .withColumn(\"area_id\", col(\"area_id\").cast(\"int\"))\\\n",
    "                    .withColumn(\"area_total_spots\", col(\"area_total_spots\").cast(\"int\"))\n",
    "    \n",
    "    df_partitioned = df_partitioned.select(\"*\", posexplode(\"device_slots\").alias(\"slot_id\", \"slot_state\"))\n",
    "    df_partitioned = df_partitioned \\\n",
    "                        .withColumn(\"slot_id\", col(\"slot_id\") + 1)\n",
    "    \n",
    "    #df_partitioned.printSchema()\n",
    "    df_partitioned.show()\n",
    "    if not df_partitioned.rdd.isEmpty():\n",
    "        df_partitioned.write\\\n",
    "        .mode(\"append\").\\\n",
    "        format(\"parquet\").\\\n",
    "        partitionBy(\"parking_name\", \"year\", \"month\", \"day\",\"hour\") \\\n",
    "        .save(\"hdfs://hadoop-namenode:9000/data/Parkings/\")\n",
    "    \n",
    "    #df_partitioned.select(\"*\", \"device_slots.*\").show()\n",
    "#     for i in range(1,10):\n",
    "#         df_partitioned = df_partitioned.withColumn(\"slots_id_\" + str(i), col(\"device_slots\").getItem(i-1))\n",
    "#     df_partitioned.show()    \n",
    "#     windowPartitionAgg  = Window.partitionBy(\"device_level_id\")              \n",
    "#     df2 = dfalldata.withColumn(\"level_total_spots\", sum(col(\"device_spots\")).over(windowPartitionAgg))\\\n",
    "#                    .withColumn(\"level_occupied_slots\", sum(col(\"area_occupied_slots\")).over(windowPartitionAgg))\n",
    "    \n",
    "    \"\"\"\n",
    "    A nivel del streaming como se está usando el foreachBatch hace que agarre fragmentos de información,\n",
    "    en mi caso puntual este desarrollo serí para realizar la integración con Hadoop y no con el Backend\n",
    "    en esta seccion ver parte del notebook dedicada a codigo de agregación\n",
    "    \"\"\"\n",
    " \n",
    "    batch_df.unpersist()"
   ]
  },
  {
   "cell_type": "code",
   "execution_count": 16,
   "metadata": {},
   "outputs": [
    {
     "name": "stdout",
     "output_type": "stream",
     "text": [
      "+------------------+----------+--------------------+--------------------+----------------+----------------+-----------------+-------------------+----------------+--------------------+--------+-------+---------+----------------+--------------------+--------------+----+-----+---+----+-------+-----------------+-------------------+---------------+--------------------+----------+-------+----------+\n",
      "|      parking_name|parking_id|     parking_address| parking_description|       device_id|parking_latitude|parking_longitude|parking_temperature|parking_humidity|        parking_uuid|level_id|area_id|area_name|area_total_spots|        device_slots|parking_closed|year|month|day|hour|minutes| area_description|area_occupied_spots|area_occupation|area_available_spots|level_name|slot_id|slot_state|\n",
      "+------------------+----------+--------------------+--------------------+----------------+----------------+-----------------+-------------------+----------------+--------------------+--------+-------+---------+----------------+--------------------+--------------+----+-----+---+----+-------+-----------------+-------------------+---------------+--------------------+----------+-------+----------+\n",
      "|TresCrucesShopping|         1|La Pasiva, 1825, ...|Parking ubicado e...|39CABC1D179D7D7E|     -34.8943081|      -56.1664375|                8.0|              74|76c41438-3a97-433...|       1|      2|        B|              10|[false, false, fa...|          true|2022|    6| 14|   1|     20|short description|                  0|          Empty|                  10|    Piso 1|      1|     false|\n",
      "|TresCrucesShopping|         1|La Pasiva, 1825, ...|Parking ubicado e...|39CABC1D179D7D7E|     -34.8943081|      -56.1664375|                8.0|              74|76c41438-3a97-433...|       1|      2|        B|              10|[false, false, fa...|          true|2022|    6| 14|   1|     20|short description|                  0|          Empty|                  10|    Piso 1|      2|     false|\n",
      "|TresCrucesShopping|         1|La Pasiva, 1825, ...|Parking ubicado e...|39CABC1D179D7D7E|     -34.8943081|      -56.1664375|                8.0|              74|76c41438-3a97-433...|       1|      2|        B|              10|[false, false, fa...|          true|2022|    6| 14|   1|     20|short description|                  0|          Empty|                  10|    Piso 1|      3|     false|\n",
      "|TresCrucesShopping|         1|La Pasiva, 1825, ...|Parking ubicado e...|39CABC1D179D7D7E|     -34.8943081|      -56.1664375|                8.0|              74|76c41438-3a97-433...|       1|      2|        B|              10|[false, false, fa...|          true|2022|    6| 14|   1|     20|short description|                  0|          Empty|                  10|    Piso 1|      4|     false|\n",
      "|TresCrucesShopping|         1|La Pasiva, 1825, ...|Parking ubicado e...|39CABC1D179D7D7E|     -34.8943081|      -56.1664375|                8.0|              74|76c41438-3a97-433...|       1|      2|        B|              10|[false, false, fa...|          true|2022|    6| 14|   1|     20|short description|                  0|          Empty|                  10|    Piso 1|      5|     false|\n",
      "|TresCrucesShopping|         1|La Pasiva, 1825, ...|Parking ubicado e...|39CABC1D179D7D7E|     -34.8943081|      -56.1664375|                8.0|              74|76c41438-3a97-433...|       1|      2|        B|              10|[false, false, fa...|          true|2022|    6| 14|   1|     20|short description|                  0|          Empty|                  10|    Piso 1|      6|     false|\n",
      "|TresCrucesShopping|         1|La Pasiva, 1825, ...|Parking ubicado e...|39CABC1D179D7D7E|     -34.8943081|      -56.1664375|                8.0|              74|76c41438-3a97-433...|       1|      2|        B|              10|[false, false, fa...|          true|2022|    6| 14|   1|     20|short description|                  0|          Empty|                  10|    Piso 1|      7|     false|\n",
      "|TresCrucesShopping|         1|La Pasiva, 1825, ...|Parking ubicado e...|39CABC1D179D7D7E|     -34.8943081|      -56.1664375|                8.0|              74|76c41438-3a97-433...|       1|      2|        B|              10|[false, false, fa...|          true|2022|    6| 14|   1|     20|short description|                  0|          Empty|                  10|    Piso 1|      8|     false|\n",
      "|TresCrucesShopping|         1|La Pasiva, 1825, ...|Parking ubicado e...|39CABC1D179D7D7E|     -34.8943081|      -56.1664375|                8.0|              74|76c41438-3a97-433...|       1|      2|        B|              10|[false, false, fa...|          true|2022|    6| 14|   1|     20|short description|                  0|          Empty|                  10|    Piso 1|      9|     false|\n",
      "|TresCrucesShopping|         1|La Pasiva, 1825, ...|Parking ubicado e...|39CABC1D179D7D7E|     -34.8943081|      -56.1664375|                8.0|              74|76c41438-3a97-433...|       1|      2|        B|              10|[false, false, fa...|          true|2022|    6| 14|   1|     20|short description|                  0|          Empty|                  10|    Piso 1|     10|     false|\n",
      "|TresCrucesShopping|         1|La Pasiva, 1825, ...|Parking ubicado e...|0CB935F148C9C8D3|     -34.8943081|      -56.1664375|                8.0|              74|76c41438-3a97-433...|       2|      1|        A|              10|[false, false, fa...|          true|2022|    6| 14|   1|     20|short description|                  0|          Empty|                  10|    Piso 2|      1|     false|\n",
      "|TresCrucesShopping|         1|La Pasiva, 1825, ...|Parking ubicado e...|0CB935F148C9C8D3|     -34.8943081|      -56.1664375|                8.0|              74|76c41438-3a97-433...|       2|      1|        A|              10|[false, false, fa...|          true|2022|    6| 14|   1|     20|short description|                  0|          Empty|                  10|    Piso 2|      2|     false|\n",
      "|TresCrucesShopping|         1|La Pasiva, 1825, ...|Parking ubicado e...|0CB935F148C9C8D3|     -34.8943081|      -56.1664375|                8.0|              74|76c41438-3a97-433...|       2|      1|        A|              10|[false, false, fa...|          true|2022|    6| 14|   1|     20|short description|                  0|          Empty|                  10|    Piso 2|      3|     false|\n",
      "|TresCrucesShopping|         1|La Pasiva, 1825, ...|Parking ubicado e...|0CB935F148C9C8D3|     -34.8943081|      -56.1664375|                8.0|              74|76c41438-3a97-433...|       2|      1|        A|              10|[false, false, fa...|          true|2022|    6| 14|   1|     20|short description|                  0|          Empty|                  10|    Piso 2|      4|     false|\n",
      "|TresCrucesShopping|         1|La Pasiva, 1825, ...|Parking ubicado e...|0CB935F148C9C8D3|     -34.8943081|      -56.1664375|                8.0|              74|76c41438-3a97-433...|       2|      1|        A|              10|[false, false, fa...|          true|2022|    6| 14|   1|     20|short description|                  0|          Empty|                  10|    Piso 2|      5|     false|\n",
      "|TresCrucesShopping|         1|La Pasiva, 1825, ...|Parking ubicado e...|0CB935F148C9C8D3|     -34.8943081|      -56.1664375|                8.0|              74|76c41438-3a97-433...|       2|      1|        A|              10|[false, false, fa...|          true|2022|    6| 14|   1|     20|short description|                  0|          Empty|                  10|    Piso 2|      6|     false|\n",
      "|TresCrucesShopping|         1|La Pasiva, 1825, ...|Parking ubicado e...|0CB935F148C9C8D3|     -34.8943081|      -56.1664375|                8.0|              74|76c41438-3a97-433...|       2|      1|        A|              10|[false, false, fa...|          true|2022|    6| 14|   1|     20|short description|                  0|          Empty|                  10|    Piso 2|      7|     false|\n",
      "|TresCrucesShopping|         1|La Pasiva, 1825, ...|Parking ubicado e...|0CB935F148C9C8D3|     -34.8943081|      -56.1664375|                8.0|              74|76c41438-3a97-433...|       2|      1|        A|              10|[false, false, fa...|          true|2022|    6| 14|   1|     20|short description|                  0|          Empty|                  10|    Piso 2|      8|     false|\n",
      "|TresCrucesShopping|         1|La Pasiva, 1825, ...|Parking ubicado e...|0CB935F148C9C8D3|     -34.8943081|      -56.1664375|                8.0|              74|76c41438-3a97-433...|       2|      1|        A|              10|[false, false, fa...|          true|2022|    6| 14|   1|     20|short description|                  0|          Empty|                  10|    Piso 2|      9|     false|\n",
      "|TresCrucesShopping|         1|La Pasiva, 1825, ...|Parking ubicado e...|0CB935F148C9C8D3|     -34.8943081|      -56.1664375|                8.0|              74|76c41438-3a97-433...|       2|      1|        A|              10|[false, false, fa...|          true|2022|    6| 14|   1|     20|short description|                  0|          Empty|                  10|    Piso 2|     10|     false|\n",
      "+------------------+----------+--------------------+--------------------+----------------+----------------+-----------------+-------------------+----------------+--------------------+--------+-------+---------+----------------+--------------------+--------------+----+-----+---+----+-------+-----------------+-------------------+---------------+--------------------+----------+-------+----------+\n",
      "only showing top 20 rows\n",
      "\n"
     ]
    },
    {
     "name": "stderr",
     "output_type": "stream",
     "text": [
      "                                                                                \r"
     ]
    },
    {
     "name": "stdout",
     "output_type": "stream",
     "text": [
      "+------------------+----------+--------------------+--------------------+----------------+----------------+-----------------+-------------------+----------------+--------------------+--------+-------+---------+----------------+--------------------+--------------+----+-----+---+----+-------+-----------------+-------------------+---------------+--------------------+----------+-------+----------+\n",
      "|      parking_name|parking_id|     parking_address| parking_description|       device_id|parking_latitude|parking_longitude|parking_temperature|parking_humidity|        parking_uuid|level_id|area_id|area_name|area_total_spots|        device_slots|parking_closed|year|month|day|hour|minutes| area_description|area_occupied_spots|area_occupation|area_available_spots|level_name|slot_id|slot_state|\n",
      "+------------------+----------+--------------------+--------------------+----------------+----------------+-----------------+-------------------+----------------+--------------------+--------+-------+---------+----------------+--------------------+--------------+----+-----+---+----+-------+-----------------+-------------------+---------------+--------------------+----------+-------+----------+\n",
      "|TresCrucesShopping|         1|La Pasiva, 1825, ...|Parking ubicado e...|39CABC1D179D7D7E|     -34.8943081|      -56.1664375|                8.0|              74|76c41438-3a97-433...|       1|      2|        B|              10|[false, false, fa...|          true|2022|    6| 14|   1|     21|short description|                  0|          Empty|                  10|    Piso 1|      1|     false|\n",
      "|TresCrucesShopping|         1|La Pasiva, 1825, ...|Parking ubicado e...|39CABC1D179D7D7E|     -34.8943081|      -56.1664375|                8.0|              74|76c41438-3a97-433...|       1|      2|        B|              10|[false, false, fa...|          true|2022|    6| 14|   1|     21|short description|                  0|          Empty|                  10|    Piso 1|      2|     false|\n",
      "|TresCrucesShopping|         1|La Pasiva, 1825, ...|Parking ubicado e...|39CABC1D179D7D7E|     -34.8943081|      -56.1664375|                8.0|              74|76c41438-3a97-433...|       1|      2|        B|              10|[false, false, fa...|          true|2022|    6| 14|   1|     21|short description|                  0|          Empty|                  10|    Piso 1|      3|     false|\n",
      "|TresCrucesShopping|         1|La Pasiva, 1825, ...|Parking ubicado e...|39CABC1D179D7D7E|     -34.8943081|      -56.1664375|                8.0|              74|76c41438-3a97-433...|       1|      2|        B|              10|[false, false, fa...|          true|2022|    6| 14|   1|     21|short description|                  0|          Empty|                  10|    Piso 1|      4|     false|\n",
      "|TresCrucesShopping|         1|La Pasiva, 1825, ...|Parking ubicado e...|39CABC1D179D7D7E|     -34.8943081|      -56.1664375|                8.0|              74|76c41438-3a97-433...|       1|      2|        B|              10|[false, false, fa...|          true|2022|    6| 14|   1|     21|short description|                  0|          Empty|                  10|    Piso 1|      5|     false|\n",
      "|TresCrucesShopping|         1|La Pasiva, 1825, ...|Parking ubicado e...|39CABC1D179D7D7E|     -34.8943081|      -56.1664375|                8.0|              74|76c41438-3a97-433...|       1|      2|        B|              10|[false, false, fa...|          true|2022|    6| 14|   1|     21|short description|                  0|          Empty|                  10|    Piso 1|      6|     false|\n",
      "|TresCrucesShopping|         1|La Pasiva, 1825, ...|Parking ubicado e...|39CABC1D179D7D7E|     -34.8943081|      -56.1664375|                8.0|              74|76c41438-3a97-433...|       1|      2|        B|              10|[false, false, fa...|          true|2022|    6| 14|   1|     21|short description|                  0|          Empty|                  10|    Piso 1|      7|     false|\n",
      "|TresCrucesShopping|         1|La Pasiva, 1825, ...|Parking ubicado e...|39CABC1D179D7D7E|     -34.8943081|      -56.1664375|                8.0|              74|76c41438-3a97-433...|       1|      2|        B|              10|[false, false, fa...|          true|2022|    6| 14|   1|     21|short description|                  0|          Empty|                  10|    Piso 1|      8|     false|\n",
      "|TresCrucesShopping|         1|La Pasiva, 1825, ...|Parking ubicado e...|39CABC1D179D7D7E|     -34.8943081|      -56.1664375|                8.0|              74|76c41438-3a97-433...|       1|      2|        B|              10|[false, false, fa...|          true|2022|    6| 14|   1|     21|short description|                  0|          Empty|                  10|    Piso 1|      9|     false|\n",
      "|TresCrucesShopping|         1|La Pasiva, 1825, ...|Parking ubicado e...|39CABC1D179D7D7E|     -34.8943081|      -56.1664375|                8.0|              74|76c41438-3a97-433...|       1|      2|        B|              10|[false, false, fa...|          true|2022|    6| 14|   1|     21|short description|                  0|          Empty|                  10|    Piso 1|     10|     false|\n",
      "|TresCrucesShopping|         1|La Pasiva, 1825, ...|Parking ubicado e...|0CB935F148C9C8D3|     -34.8943081|      -56.1664375|                8.0|              74|76c41438-3a97-433...|       2|      1|        A|              10|[false, false, fa...|          true|2022|    6| 14|   1|     21|short description|                  0|          Empty|                  10|    Piso 2|      1|     false|\n",
      "|TresCrucesShopping|         1|La Pasiva, 1825, ...|Parking ubicado e...|0CB935F148C9C8D3|     -34.8943081|      -56.1664375|                8.0|              74|76c41438-3a97-433...|       2|      1|        A|              10|[false, false, fa...|          true|2022|    6| 14|   1|     21|short description|                  0|          Empty|                  10|    Piso 2|      2|     false|\n",
      "|TresCrucesShopping|         1|La Pasiva, 1825, ...|Parking ubicado e...|0CB935F148C9C8D3|     -34.8943081|      -56.1664375|                8.0|              74|76c41438-3a97-433...|       2|      1|        A|              10|[false, false, fa...|          true|2022|    6| 14|   1|     21|short description|                  0|          Empty|                  10|    Piso 2|      3|     false|\n",
      "|TresCrucesShopping|         1|La Pasiva, 1825, ...|Parking ubicado e...|0CB935F148C9C8D3|     -34.8943081|      -56.1664375|                8.0|              74|76c41438-3a97-433...|       2|      1|        A|              10|[false, false, fa...|          true|2022|    6| 14|   1|     21|short description|                  0|          Empty|                  10|    Piso 2|      4|     false|\n",
      "|TresCrucesShopping|         1|La Pasiva, 1825, ...|Parking ubicado e...|0CB935F148C9C8D3|     -34.8943081|      -56.1664375|                8.0|              74|76c41438-3a97-433...|       2|      1|        A|              10|[false, false, fa...|          true|2022|    6| 14|   1|     21|short description|                  0|          Empty|                  10|    Piso 2|      5|     false|\n",
      "|TresCrucesShopping|         1|La Pasiva, 1825, ...|Parking ubicado e...|0CB935F148C9C8D3|     -34.8943081|      -56.1664375|                8.0|              74|76c41438-3a97-433...|       2|      1|        A|              10|[false, false, fa...|          true|2022|    6| 14|   1|     21|short description|                  0|          Empty|                  10|    Piso 2|      6|     false|\n",
      "|TresCrucesShopping|         1|La Pasiva, 1825, ...|Parking ubicado e...|0CB935F148C9C8D3|     -34.8943081|      -56.1664375|                8.0|              74|76c41438-3a97-433...|       2|      1|        A|              10|[false, false, fa...|          true|2022|    6| 14|   1|     21|short description|                  0|          Empty|                  10|    Piso 2|      7|     false|\n",
      "|TresCrucesShopping|         1|La Pasiva, 1825, ...|Parking ubicado e...|0CB935F148C9C8D3|     -34.8943081|      -56.1664375|                8.0|              74|76c41438-3a97-433...|       2|      1|        A|              10|[false, false, fa...|          true|2022|    6| 14|   1|     21|short description|                  0|          Empty|                  10|    Piso 2|      8|     false|\n",
      "|TresCrucesShopping|         1|La Pasiva, 1825, ...|Parking ubicado e...|0CB935F148C9C8D3|     -34.8943081|      -56.1664375|                8.0|              74|76c41438-3a97-433...|       2|      1|        A|              10|[false, false, fa...|          true|2022|    6| 14|   1|     21|short description|                  0|          Empty|                  10|    Piso 2|      9|     false|\n",
      "|TresCrucesShopping|         1|La Pasiva, 1825, ...|Parking ubicado e...|0CB935F148C9C8D3|     -34.8943081|      -56.1664375|                8.0|              74|76c41438-3a97-433...|       2|      1|        A|              10|[false, false, fa...|          true|2022|    6| 14|   1|     21|short description|                  0|          Empty|                  10|    Piso 2|     10|     false|\n",
      "+------------------+----------+--------------------+--------------------+----------------+----------------+-----------------+-------------------+----------------+--------------------+--------+-------+---------+----------------+--------------------+--------------+----+-----+---+----+-------+-----------------+-------------------+---------------+--------------------+----------+-------+----------+\n",
      "only showing top 20 rows\n",
      "\n"
     ]
    },
    {
     "name": "stderr",
     "output_type": "stream",
     "text": [
      "                                                                                \r"
     ]
    },
    {
     "name": "stdout",
     "output_type": "stream",
     "text": [
      "+------------------+----------+--------------------+--------------------+----------------+----------------+-----------------+-------------------+----------------+--------------------+--------+-------+---------+----------------+--------------------+--------------+----+-----+---+----+-------+-----------------+-------------------+---------------+--------------------+----------+-------+----------+\n",
      "|      parking_name|parking_id|     parking_address| parking_description|       device_id|parking_latitude|parking_longitude|parking_temperature|parking_humidity|        parking_uuid|level_id|area_id|area_name|area_total_spots|        device_slots|parking_closed|year|month|day|hour|minutes| area_description|area_occupied_spots|area_occupation|area_available_spots|level_name|slot_id|slot_state|\n",
      "+------------------+----------+--------------------+--------------------+----------------+----------------+-----------------+-------------------+----------------+--------------------+--------+-------+---------+----------------+--------------------+--------------+----+-----+---+----+-------+-----------------+-------------------+---------------+--------------------+----------+-------+----------+\n",
      "|TresCrucesShopping|         1|La Pasiva, 1825, ...|Parking ubicado e...|39CABC1D179D7D7E|     -34.8943081|      -56.1664375|                8.0|              74|76c41438-3a97-433...|       1|      2|        B|              10|[false, false, fa...|          true|2022|    6| 14|   1|     22|short description|                  0|          Empty|                  10|    Piso 1|      1|     false|\n",
      "|TresCrucesShopping|         1|La Pasiva, 1825, ...|Parking ubicado e...|39CABC1D179D7D7E|     -34.8943081|      -56.1664375|                8.0|              74|76c41438-3a97-433...|       1|      2|        B|              10|[false, false, fa...|          true|2022|    6| 14|   1|     22|short description|                  0|          Empty|                  10|    Piso 1|      2|     false|\n",
      "|TresCrucesShopping|         1|La Pasiva, 1825, ...|Parking ubicado e...|39CABC1D179D7D7E|     -34.8943081|      -56.1664375|                8.0|              74|76c41438-3a97-433...|       1|      2|        B|              10|[false, false, fa...|          true|2022|    6| 14|   1|     22|short description|                  0|          Empty|                  10|    Piso 1|      3|     false|\n",
      "|TresCrucesShopping|         1|La Pasiva, 1825, ...|Parking ubicado e...|39CABC1D179D7D7E|     -34.8943081|      -56.1664375|                8.0|              74|76c41438-3a97-433...|       1|      2|        B|              10|[false, false, fa...|          true|2022|    6| 14|   1|     22|short description|                  0|          Empty|                  10|    Piso 1|      4|     false|\n",
      "|TresCrucesShopping|         1|La Pasiva, 1825, ...|Parking ubicado e...|39CABC1D179D7D7E|     -34.8943081|      -56.1664375|                8.0|              74|76c41438-3a97-433...|       1|      2|        B|              10|[false, false, fa...|          true|2022|    6| 14|   1|     22|short description|                  0|          Empty|                  10|    Piso 1|      5|     false|\n",
      "|TresCrucesShopping|         1|La Pasiva, 1825, ...|Parking ubicado e...|39CABC1D179D7D7E|     -34.8943081|      -56.1664375|                8.0|              74|76c41438-3a97-433...|       1|      2|        B|              10|[false, false, fa...|          true|2022|    6| 14|   1|     22|short description|                  0|          Empty|                  10|    Piso 1|      6|     false|\n",
      "|TresCrucesShopping|         1|La Pasiva, 1825, ...|Parking ubicado e...|39CABC1D179D7D7E|     -34.8943081|      -56.1664375|                8.0|              74|76c41438-3a97-433...|       1|      2|        B|              10|[false, false, fa...|          true|2022|    6| 14|   1|     22|short description|                  0|          Empty|                  10|    Piso 1|      7|     false|\n",
      "|TresCrucesShopping|         1|La Pasiva, 1825, ...|Parking ubicado e...|39CABC1D179D7D7E|     -34.8943081|      -56.1664375|                8.0|              74|76c41438-3a97-433...|       1|      2|        B|              10|[false, false, fa...|          true|2022|    6| 14|   1|     22|short description|                  0|          Empty|                  10|    Piso 1|      8|     false|\n",
      "|TresCrucesShopping|         1|La Pasiva, 1825, ...|Parking ubicado e...|39CABC1D179D7D7E|     -34.8943081|      -56.1664375|                8.0|              74|76c41438-3a97-433...|       1|      2|        B|              10|[false, false, fa...|          true|2022|    6| 14|   1|     22|short description|                  0|          Empty|                  10|    Piso 1|      9|     false|\n",
      "|TresCrucesShopping|         1|La Pasiva, 1825, ...|Parking ubicado e...|39CABC1D179D7D7E|     -34.8943081|      -56.1664375|                8.0|              74|76c41438-3a97-433...|       1|      2|        B|              10|[false, false, fa...|          true|2022|    6| 14|   1|     22|short description|                  0|          Empty|                  10|    Piso 1|     10|     false|\n",
      "|TresCrucesShopping|         1|La Pasiva, 1825, ...|Parking ubicado e...|0013A2003152AC3D|     -34.8943081|      -56.1664375|              11.89|              53|76c41438-3a97-433...|       1|      3|        C|              10|[false, false, fa...|          true|2022|    6| 14|   1|     22|short description|                  0|          Empty|                  10|    Piso 1|      1|     false|\n",
      "|TresCrucesShopping|         1|La Pasiva, 1825, ...|Parking ubicado e...|0013A2003152AC3D|     -34.8943081|      -56.1664375|              11.89|              53|76c41438-3a97-433...|       1|      3|        C|              10|[false, false, fa...|          true|2022|    6| 14|   1|     22|short description|                  0|          Empty|                  10|    Piso 1|      2|     false|\n",
      "|TresCrucesShopping|         1|La Pasiva, 1825, ...|Parking ubicado e...|0013A2003152AC3D|     -34.8943081|      -56.1664375|              11.89|              53|76c41438-3a97-433...|       1|      3|        C|              10|[false, false, fa...|          true|2022|    6| 14|   1|     22|short description|                  0|          Empty|                  10|    Piso 1|      3|     false|\n",
      "|TresCrucesShopping|         1|La Pasiva, 1825, ...|Parking ubicado e...|0013A2003152AC3D|     -34.8943081|      -56.1664375|              11.89|              53|76c41438-3a97-433...|       1|      3|        C|              10|[false, false, fa...|          true|2022|    6| 14|   1|     22|short description|                  0|          Empty|                  10|    Piso 1|      4|     false|\n",
      "|TresCrucesShopping|         1|La Pasiva, 1825, ...|Parking ubicado e...|0013A2003152AC3D|     -34.8943081|      -56.1664375|              11.89|              53|76c41438-3a97-433...|       1|      3|        C|              10|[false, false, fa...|          true|2022|    6| 14|   1|     22|short description|                  0|          Empty|                  10|    Piso 1|      5|     false|\n",
      "|TresCrucesShopping|         1|La Pasiva, 1825, ...|Parking ubicado e...|0013A2003152AC3D|     -34.8943081|      -56.1664375|              11.89|              53|76c41438-3a97-433...|       1|      3|        C|              10|[false, false, fa...|          true|2022|    6| 14|   1|     22|short description|                  0|          Empty|                  10|    Piso 1|      6|     false|\n",
      "|TresCrucesShopping|         1|La Pasiva, 1825, ...|Parking ubicado e...|0013A2003152AC3D|     -34.8943081|      -56.1664375|              11.89|              53|76c41438-3a97-433...|       1|      3|        C|              10|[false, false, fa...|          true|2022|    6| 14|   1|     22|short description|                  0|          Empty|                  10|    Piso 1|      7|     false|\n",
      "|TresCrucesShopping|         1|La Pasiva, 1825, ...|Parking ubicado e...|0013A2003152AC3D|     -34.8943081|      -56.1664375|              11.89|              53|76c41438-3a97-433...|       1|      3|        C|              10|[false, false, fa...|          true|2022|    6| 14|   1|     22|short description|                  0|          Empty|                  10|    Piso 1|      8|     false|\n",
      "|TresCrucesShopping|         1|La Pasiva, 1825, ...|Parking ubicado e...|0013A2003152AC3D|     -34.8943081|      -56.1664375|              11.89|              53|76c41438-3a97-433...|       1|      3|        C|              10|[false, false, fa...|          true|2022|    6| 14|   1|     22|short description|                  0|          Empty|                  10|    Piso 1|      9|     false|\n",
      "|TresCrucesShopping|         1|La Pasiva, 1825, ...|Parking ubicado e...|0013A2003152AC3D|     -34.8943081|      -56.1664375|              11.89|              53|76c41438-3a97-433...|       1|      3|        C|              10|[false, false, fa...|          true|2022|    6| 14|   1|     22|short description|                  0|          Empty|                  10|    Piso 1|     10|     false|\n",
      "+------------------+----------+--------------------+--------------------+----------------+----------------+-----------------+-------------------+----------------+--------------------+--------+-------+---------+----------------+--------------------+--------------+----+-----+---+----+-------+-----------------+-------------------+---------------+--------------------+----------+-------+----------+\n",
      "only showing top 20 rows\n",
      "\n"
     ]
    },
    {
     "name": "stderr",
     "output_type": "stream",
     "text": [
      "                                                                                \r"
     ]
    },
    {
     "name": "stdout",
     "output_type": "stream",
     "text": [
      "+------------------+----------+--------------------+--------------------+----------------+----------------+-----------------+-------------------+----------------+--------------------+--------+-------+---------+----------------+--------------------+--------------+----+-----+---+----+-------+-----------------+-------------------+---------------+--------------------+----------+-------+----------+\n",
      "|      parking_name|parking_id|     parking_address| parking_description|       device_id|parking_latitude|parking_longitude|parking_temperature|parking_humidity|        parking_uuid|level_id|area_id|area_name|area_total_spots|        device_slots|parking_closed|year|month|day|hour|minutes| area_description|area_occupied_spots|area_occupation|area_available_spots|level_name|slot_id|slot_state|\n",
      "+------------------+----------+--------------------+--------------------+----------------+----------------+-----------------+-------------------+----------------+--------------------+--------+-------+---------+----------------+--------------------+--------------+----+-----+---+----+-------+-----------------+-------------------+---------------+--------------------+----------+-------+----------+\n",
      "|TresCrucesShopping|         1|La Pasiva, 1825, ...|Parking ubicado e...|39CABC1D179D7D7E|     -34.8943081|      -56.1664375|                8.0|              74|76c41438-3a97-433...|       1|      2|        B|              10|[false, false, fa...|          true|2022|    6| 14|   1|     24|short description|                  0|          Empty|                  10|    Piso 1|      1|     false|\n",
      "|TresCrucesShopping|         1|La Pasiva, 1825, ...|Parking ubicado e...|39CABC1D179D7D7E|     -34.8943081|      -56.1664375|                8.0|              74|76c41438-3a97-433...|       1|      2|        B|              10|[false, false, fa...|          true|2022|    6| 14|   1|     24|short description|                  0|          Empty|                  10|    Piso 1|      2|     false|\n",
      "|TresCrucesShopping|         1|La Pasiva, 1825, ...|Parking ubicado e...|39CABC1D179D7D7E|     -34.8943081|      -56.1664375|                8.0|              74|76c41438-3a97-433...|       1|      2|        B|              10|[false, false, fa...|          true|2022|    6| 14|   1|     24|short description|                  0|          Empty|                  10|    Piso 1|      3|     false|\n",
      "|TresCrucesShopping|         1|La Pasiva, 1825, ...|Parking ubicado e...|39CABC1D179D7D7E|     -34.8943081|      -56.1664375|                8.0|              74|76c41438-3a97-433...|       1|      2|        B|              10|[false, false, fa...|          true|2022|    6| 14|   1|     24|short description|                  0|          Empty|                  10|    Piso 1|      4|     false|\n",
      "|TresCrucesShopping|         1|La Pasiva, 1825, ...|Parking ubicado e...|39CABC1D179D7D7E|     -34.8943081|      -56.1664375|                8.0|              74|76c41438-3a97-433...|       1|      2|        B|              10|[false, false, fa...|          true|2022|    6| 14|   1|     24|short description|                  0|          Empty|                  10|    Piso 1|      5|     false|\n",
      "|TresCrucesShopping|         1|La Pasiva, 1825, ...|Parking ubicado e...|39CABC1D179D7D7E|     -34.8943081|      -56.1664375|                8.0|              74|76c41438-3a97-433...|       1|      2|        B|              10|[false, false, fa...|          true|2022|    6| 14|   1|     24|short description|                  0|          Empty|                  10|    Piso 1|      6|     false|\n",
      "|TresCrucesShopping|         1|La Pasiva, 1825, ...|Parking ubicado e...|39CABC1D179D7D7E|     -34.8943081|      -56.1664375|                8.0|              74|76c41438-3a97-433...|       1|      2|        B|              10|[false, false, fa...|          true|2022|    6| 14|   1|     24|short description|                  0|          Empty|                  10|    Piso 1|      7|     false|\n",
      "|TresCrucesShopping|         1|La Pasiva, 1825, ...|Parking ubicado e...|39CABC1D179D7D7E|     -34.8943081|      -56.1664375|                8.0|              74|76c41438-3a97-433...|       1|      2|        B|              10|[false, false, fa...|          true|2022|    6| 14|   1|     24|short description|                  0|          Empty|                  10|    Piso 1|      8|     false|\n",
      "|TresCrucesShopping|         1|La Pasiva, 1825, ...|Parking ubicado e...|39CABC1D179D7D7E|     -34.8943081|      -56.1664375|                8.0|              74|76c41438-3a97-433...|       1|      2|        B|              10|[false, false, fa...|          true|2022|    6| 14|   1|     24|short description|                  0|          Empty|                  10|    Piso 1|      9|     false|\n",
      "|TresCrucesShopping|         1|La Pasiva, 1825, ...|Parking ubicado e...|39CABC1D179D7D7E|     -34.8943081|      -56.1664375|                8.0|              74|76c41438-3a97-433...|       1|      2|        B|              10|[false, false, fa...|          true|2022|    6| 14|   1|     24|short description|                  0|          Empty|                  10|    Piso 1|     10|     false|\n",
      "|TresCrucesShopping|         1|La Pasiva, 1825, ...|Parking ubicado e...|0701C5EED1D00C8E|     -34.8943081|      -56.1664375|                7.9|              68|76c41438-3a97-433...|       3|      2|        B|              10|[false, false, fa...|          true|2022|    6| 14|   1|     24|short description|                  0|          Empty|                  10|    Piso 3|      1|     false|\n",
      "|TresCrucesShopping|         1|La Pasiva, 1825, ...|Parking ubicado e...|0701C5EED1D00C8E|     -34.8943081|      -56.1664375|                7.9|              68|76c41438-3a97-433...|       3|      2|        B|              10|[false, false, fa...|          true|2022|    6| 14|   1|     24|short description|                  0|          Empty|                  10|    Piso 3|      2|     false|\n",
      "|TresCrucesShopping|         1|La Pasiva, 1825, ...|Parking ubicado e...|0701C5EED1D00C8E|     -34.8943081|      -56.1664375|                7.9|              68|76c41438-3a97-433...|       3|      2|        B|              10|[false, false, fa...|          true|2022|    6| 14|   1|     24|short description|                  0|          Empty|                  10|    Piso 3|      3|     false|\n",
      "|TresCrucesShopping|         1|La Pasiva, 1825, ...|Parking ubicado e...|0701C5EED1D00C8E|     -34.8943081|      -56.1664375|                7.9|              68|76c41438-3a97-433...|       3|      2|        B|              10|[false, false, fa...|          true|2022|    6| 14|   1|     24|short description|                  0|          Empty|                  10|    Piso 3|      4|     false|\n",
      "|TresCrucesShopping|         1|La Pasiva, 1825, ...|Parking ubicado e...|0701C5EED1D00C8E|     -34.8943081|      -56.1664375|                7.9|              68|76c41438-3a97-433...|       3|      2|        B|              10|[false, false, fa...|          true|2022|    6| 14|   1|     24|short description|                  0|          Empty|                  10|    Piso 3|      5|     false|\n",
      "|TresCrucesShopping|         1|La Pasiva, 1825, ...|Parking ubicado e...|0701C5EED1D00C8E|     -34.8943081|      -56.1664375|                7.9|              68|76c41438-3a97-433...|       3|      2|        B|              10|[false, false, fa...|          true|2022|    6| 14|   1|     24|short description|                  0|          Empty|                  10|    Piso 3|      6|     false|\n",
      "|TresCrucesShopping|         1|La Pasiva, 1825, ...|Parking ubicado e...|0701C5EED1D00C8E|     -34.8943081|      -56.1664375|                7.9|              68|76c41438-3a97-433...|       3|      2|        B|              10|[false, false, fa...|          true|2022|    6| 14|   1|     24|short description|                  0|          Empty|                  10|    Piso 3|      7|     false|\n",
      "|TresCrucesShopping|         1|La Pasiva, 1825, ...|Parking ubicado e...|0701C5EED1D00C8E|     -34.8943081|      -56.1664375|                7.9|              68|76c41438-3a97-433...|       3|      2|        B|              10|[false, false, fa...|          true|2022|    6| 14|   1|     24|short description|                  0|          Empty|                  10|    Piso 3|      8|     false|\n",
      "|TresCrucesShopping|         1|La Pasiva, 1825, ...|Parking ubicado e...|0701C5EED1D00C8E|     -34.8943081|      -56.1664375|                7.9|              68|76c41438-3a97-433...|       3|      2|        B|              10|[false, false, fa...|          true|2022|    6| 14|   1|     24|short description|                  0|          Empty|                  10|    Piso 3|      9|     false|\n",
      "|TresCrucesShopping|         1|La Pasiva, 1825, ...|Parking ubicado e...|0701C5EED1D00C8E|     -34.8943081|      -56.1664375|                7.9|              68|76c41438-3a97-433...|       3|      2|        B|              10|[false, false, fa...|          true|2022|    6| 14|   1|     24|short description|                  0|          Empty|                  10|    Piso 3|     10|     false|\n",
      "+------------------+----------+--------------------+--------------------+----------------+----------------+-----------------+-------------------+----------------+--------------------+--------+-------+---------+----------------+--------------------+--------------+----+-----+---+----+-------+-----------------+-------------------+---------------+--------------------+----------+-------+----------+\n",
      "only showing top 20 rows\n",
      "\n"
     ]
    },
    {
     "name": "stderr",
     "output_type": "stream",
     "text": [
      "                                                                                \r"
     ]
    },
    {
     "name": "stdout",
     "output_type": "stream",
     "text": [
      "+------------------+----------+--------------------+--------------------+----------------+----------------+-----------------+-------------------+----------------+--------------------+--------+-------+---------+----------------+--------------------+--------------+----+-----+---+----+-------+-----------------+-------------------+---------------+--------------------+----------+-------+----------+\n",
      "|      parking_name|parking_id|     parking_address| parking_description|       device_id|parking_latitude|parking_longitude|parking_temperature|parking_humidity|        parking_uuid|level_id|area_id|area_name|area_total_spots|        device_slots|parking_closed|year|month|day|hour|minutes| area_description|area_occupied_spots|area_occupation|area_available_spots|level_name|slot_id|slot_state|\n",
      "+------------------+----------+--------------------+--------------------+----------------+----------------+-----------------+-------------------+----------------+--------------------+--------+-------+---------+----------------+--------------------+--------------+----+-----+---+----+-------+-----------------+-------------------+---------------+--------------------+----------+-------+----------+\n",
      "|TresCrucesShopping|         1|La Pasiva, 1825, ...|Parking ubicado e...|39CABC1D179D7D7E|     -34.8943081|      -56.1664375|                8.0|              74|76c41438-3a97-433...|       1|      2|        B|              10|[false, false, fa...|          true|2022|    6| 14|   1|     26|short description|                  0|          Empty|                  10|    Piso 1|      1|     false|\n",
      "|TresCrucesShopping|         1|La Pasiva, 1825, ...|Parking ubicado e...|39CABC1D179D7D7E|     -34.8943081|      -56.1664375|                8.0|              74|76c41438-3a97-433...|       1|      2|        B|              10|[false, false, fa...|          true|2022|    6| 14|   1|     26|short description|                  0|          Empty|                  10|    Piso 1|      2|     false|\n",
      "|TresCrucesShopping|         1|La Pasiva, 1825, ...|Parking ubicado e...|39CABC1D179D7D7E|     -34.8943081|      -56.1664375|                8.0|              74|76c41438-3a97-433...|       1|      2|        B|              10|[false, false, fa...|          true|2022|    6| 14|   1|     26|short description|                  0|          Empty|                  10|    Piso 1|      3|     false|\n",
      "|TresCrucesShopping|         1|La Pasiva, 1825, ...|Parking ubicado e...|39CABC1D179D7D7E|     -34.8943081|      -56.1664375|                8.0|              74|76c41438-3a97-433...|       1|      2|        B|              10|[false, false, fa...|          true|2022|    6| 14|   1|     26|short description|                  0|          Empty|                  10|    Piso 1|      4|     false|\n",
      "|TresCrucesShopping|         1|La Pasiva, 1825, ...|Parking ubicado e...|39CABC1D179D7D7E|     -34.8943081|      -56.1664375|                8.0|              74|76c41438-3a97-433...|       1|      2|        B|              10|[false, false, fa...|          true|2022|    6| 14|   1|     26|short description|                  0|          Empty|                  10|    Piso 1|      5|     false|\n",
      "|TresCrucesShopping|         1|La Pasiva, 1825, ...|Parking ubicado e...|39CABC1D179D7D7E|     -34.8943081|      -56.1664375|                8.0|              74|76c41438-3a97-433...|       1|      2|        B|              10|[false, false, fa...|          true|2022|    6| 14|   1|     26|short description|                  0|          Empty|                  10|    Piso 1|      6|     false|\n",
      "|TresCrucesShopping|         1|La Pasiva, 1825, ...|Parking ubicado e...|39CABC1D179D7D7E|     -34.8943081|      -56.1664375|                8.0|              74|76c41438-3a97-433...|       1|      2|        B|              10|[false, false, fa...|          true|2022|    6| 14|   1|     26|short description|                  0|          Empty|                  10|    Piso 1|      7|     false|\n",
      "|TresCrucesShopping|         1|La Pasiva, 1825, ...|Parking ubicado e...|39CABC1D179D7D7E|     -34.8943081|      -56.1664375|                8.0|              74|76c41438-3a97-433...|       1|      2|        B|              10|[false, false, fa...|          true|2022|    6| 14|   1|     26|short description|                  0|          Empty|                  10|    Piso 1|      8|     false|\n",
      "|TresCrucesShopping|         1|La Pasiva, 1825, ...|Parking ubicado e...|39CABC1D179D7D7E|     -34.8943081|      -56.1664375|                8.0|              74|76c41438-3a97-433...|       1|      2|        B|              10|[false, false, fa...|          true|2022|    6| 14|   1|     26|short description|                  0|          Empty|                  10|    Piso 1|      9|     false|\n",
      "|TresCrucesShopping|         1|La Pasiva, 1825, ...|Parking ubicado e...|39CABC1D179D7D7E|     -34.8943081|      -56.1664375|                8.0|              74|76c41438-3a97-433...|       1|      2|        B|              10|[false, false, fa...|          true|2022|    6| 14|   1|     26|short description|                  0|          Empty|                  10|    Piso 1|     10|     false|\n",
      "|TresCrucesShopping|         1|La Pasiva, 1825, ...|Parking ubicado e...|0701C5EED1D00C8E|     -34.8943081|      -56.1664375|                7.9|              68|76c41438-3a97-433...|       3|      2|        B|              10|[false, false, fa...|          true|2022|    6| 14|   1|     26|short description|                  0|          Empty|                  10|    Piso 3|      1|     false|\n",
      "|TresCrucesShopping|         1|La Pasiva, 1825, ...|Parking ubicado e...|0701C5EED1D00C8E|     -34.8943081|      -56.1664375|                7.9|              68|76c41438-3a97-433...|       3|      2|        B|              10|[false, false, fa...|          true|2022|    6| 14|   1|     26|short description|                  0|          Empty|                  10|    Piso 3|      2|     false|\n",
      "|TresCrucesShopping|         1|La Pasiva, 1825, ...|Parking ubicado e...|0701C5EED1D00C8E|     -34.8943081|      -56.1664375|                7.9|              68|76c41438-3a97-433...|       3|      2|        B|              10|[false, false, fa...|          true|2022|    6| 14|   1|     26|short description|                  0|          Empty|                  10|    Piso 3|      3|     false|\n",
      "|TresCrucesShopping|         1|La Pasiva, 1825, ...|Parking ubicado e...|0701C5EED1D00C8E|     -34.8943081|      -56.1664375|                7.9|              68|76c41438-3a97-433...|       3|      2|        B|              10|[false, false, fa...|          true|2022|    6| 14|   1|     26|short description|                  0|          Empty|                  10|    Piso 3|      4|     false|\n",
      "|TresCrucesShopping|         1|La Pasiva, 1825, ...|Parking ubicado e...|0701C5EED1D00C8E|     -34.8943081|      -56.1664375|                7.9|              68|76c41438-3a97-433...|       3|      2|        B|              10|[false, false, fa...|          true|2022|    6| 14|   1|     26|short description|                  0|          Empty|                  10|    Piso 3|      5|     false|\n",
      "|TresCrucesShopping|         1|La Pasiva, 1825, ...|Parking ubicado e...|0701C5EED1D00C8E|     -34.8943081|      -56.1664375|                7.9|              68|76c41438-3a97-433...|       3|      2|        B|              10|[false, false, fa...|          true|2022|    6| 14|   1|     26|short description|                  0|          Empty|                  10|    Piso 3|      6|     false|\n",
      "|TresCrucesShopping|         1|La Pasiva, 1825, ...|Parking ubicado e...|0701C5EED1D00C8E|     -34.8943081|      -56.1664375|                7.9|              68|76c41438-3a97-433...|       3|      2|        B|              10|[false, false, fa...|          true|2022|    6| 14|   1|     26|short description|                  0|          Empty|                  10|    Piso 3|      7|     false|\n",
      "|TresCrucesShopping|         1|La Pasiva, 1825, ...|Parking ubicado e...|0701C5EED1D00C8E|     -34.8943081|      -56.1664375|                7.9|              68|76c41438-3a97-433...|       3|      2|        B|              10|[false, false, fa...|          true|2022|    6| 14|   1|     26|short description|                  0|          Empty|                  10|    Piso 3|      8|     false|\n",
      "|TresCrucesShopping|         1|La Pasiva, 1825, ...|Parking ubicado e...|0701C5EED1D00C8E|     -34.8943081|      -56.1664375|                7.9|              68|76c41438-3a97-433...|       3|      2|        B|              10|[false, false, fa...|          true|2022|    6| 14|   1|     26|short description|                  0|          Empty|                  10|    Piso 3|      9|     false|\n",
      "|TresCrucesShopping|         1|La Pasiva, 1825, ...|Parking ubicado e...|0701C5EED1D00C8E|     -34.8943081|      -56.1664375|                7.9|              68|76c41438-3a97-433...|       3|      2|        B|              10|[false, false, fa...|          true|2022|    6| 14|   1|     26|short description|                  0|          Empty|                  10|    Piso 3|     10|     false|\n",
      "+------------------+----------+--------------------+--------------------+----------------+----------------+-----------------+-------------------+----------------+--------------------+--------+-------+---------+----------------+--------------------+--------------+----+-----+---+----+-------+-----------------+-------------------+---------------+--------------------+----------+-------+----------+\n",
      "only showing top 20 rows\n",
      "\n"
     ]
    },
    {
     "name": "stderr",
     "output_type": "stream",
     "text": [
      "                                                                                \r"
     ]
    },
    {
     "name": "stdout",
     "output_type": "stream",
     "text": [
      "+------------------+----------+--------------------+--------------------+----------------+----------------+-----------------+-------------------+----------------+--------------------+--------+-------+---------+----------------+--------------------+--------------+----+-----+---+----+-------+-----------------+-------------------+---------------+--------------------+----------+-------+----------+\n",
      "|      parking_name|parking_id|     parking_address| parking_description|       device_id|parking_latitude|parking_longitude|parking_temperature|parking_humidity|        parking_uuid|level_id|area_id|area_name|area_total_spots|        device_slots|parking_closed|year|month|day|hour|minutes| area_description|area_occupied_spots|area_occupation|area_available_spots|level_name|slot_id|slot_state|\n",
      "+------------------+----------+--------------------+--------------------+----------------+----------------+-----------------+-------------------+----------------+--------------------+--------+-------+---------+----------------+--------------------+--------------+----+-----+---+----+-------+-----------------+-------------------+---------------+--------------------+----------+-------+----------+\n",
      "|TresCrucesShopping|         1|La Pasiva, 1825, ...|Parking ubicado e...|39CABC1D179D7D7E|     -34.8943081|      -56.1664375|                8.0|              74|76c41438-3a97-433...|       1|      2|        B|              10|[false, false, fa...|          true|2022|    6| 14|   1|     28|short description|                  0|          Empty|                  10|    Piso 1|      1|     false|\n",
      "|TresCrucesShopping|         1|La Pasiva, 1825, ...|Parking ubicado e...|39CABC1D179D7D7E|     -34.8943081|      -56.1664375|                8.0|              74|76c41438-3a97-433...|       1|      2|        B|              10|[false, false, fa...|          true|2022|    6| 14|   1|     28|short description|                  0|          Empty|                  10|    Piso 1|      2|     false|\n",
      "|TresCrucesShopping|         1|La Pasiva, 1825, ...|Parking ubicado e...|39CABC1D179D7D7E|     -34.8943081|      -56.1664375|                8.0|              74|76c41438-3a97-433...|       1|      2|        B|              10|[false, false, fa...|          true|2022|    6| 14|   1|     28|short description|                  0|          Empty|                  10|    Piso 1|      3|     false|\n",
      "|TresCrucesShopping|         1|La Pasiva, 1825, ...|Parking ubicado e...|39CABC1D179D7D7E|     -34.8943081|      -56.1664375|                8.0|              74|76c41438-3a97-433...|       1|      2|        B|              10|[false, false, fa...|          true|2022|    6| 14|   1|     28|short description|                  0|          Empty|                  10|    Piso 1|      4|     false|\n",
      "|TresCrucesShopping|         1|La Pasiva, 1825, ...|Parking ubicado e...|39CABC1D179D7D7E|     -34.8943081|      -56.1664375|                8.0|              74|76c41438-3a97-433...|       1|      2|        B|              10|[false, false, fa...|          true|2022|    6| 14|   1|     28|short description|                  0|          Empty|                  10|    Piso 1|      5|     false|\n",
      "|TresCrucesShopping|         1|La Pasiva, 1825, ...|Parking ubicado e...|39CABC1D179D7D7E|     -34.8943081|      -56.1664375|                8.0|              74|76c41438-3a97-433...|       1|      2|        B|              10|[false, false, fa...|          true|2022|    6| 14|   1|     28|short description|                  0|          Empty|                  10|    Piso 1|      6|     false|\n",
      "|TresCrucesShopping|         1|La Pasiva, 1825, ...|Parking ubicado e...|39CABC1D179D7D7E|     -34.8943081|      -56.1664375|                8.0|              74|76c41438-3a97-433...|       1|      2|        B|              10|[false, false, fa...|          true|2022|    6| 14|   1|     28|short description|                  0|          Empty|                  10|    Piso 1|      7|     false|\n",
      "|TresCrucesShopping|         1|La Pasiva, 1825, ...|Parking ubicado e...|39CABC1D179D7D7E|     -34.8943081|      -56.1664375|                8.0|              74|76c41438-3a97-433...|       1|      2|        B|              10|[false, false, fa...|          true|2022|    6| 14|   1|     28|short description|                  0|          Empty|                  10|    Piso 1|      8|     false|\n",
      "|TresCrucesShopping|         1|La Pasiva, 1825, ...|Parking ubicado e...|39CABC1D179D7D7E|     -34.8943081|      -56.1664375|                8.0|              74|76c41438-3a97-433...|       1|      2|        B|              10|[false, false, fa...|          true|2022|    6| 14|   1|     28|short description|                  0|          Empty|                  10|    Piso 1|      9|     false|\n",
      "|TresCrucesShopping|         1|La Pasiva, 1825, ...|Parking ubicado e...|39CABC1D179D7D7E|     -34.8943081|      -56.1664375|                8.0|              74|76c41438-3a97-433...|       1|      2|        B|              10|[false, false, fa...|          true|2022|    6| 14|   1|     28|short description|                  0|          Empty|                  10|    Piso 1|     10|     false|\n",
      "|TresCrucesShopping|         1|La Pasiva, 1825, ...|Parking ubicado e...|0013A2003152AC3D|     -34.8943081|      -56.1664375|              11.89|              53|76c41438-3a97-433...|       1|      3|        C|              10|[false, false, fa...|          true|2022|    6| 14|   1|     28|short description|                  0|          Empty|                  10|    Piso 1|      1|     false|\n",
      "|TresCrucesShopping|         1|La Pasiva, 1825, ...|Parking ubicado e...|0013A2003152AC3D|     -34.8943081|      -56.1664375|              11.89|              53|76c41438-3a97-433...|       1|      3|        C|              10|[false, false, fa...|          true|2022|    6| 14|   1|     28|short description|                  0|          Empty|                  10|    Piso 1|      2|     false|\n",
      "|TresCrucesShopping|         1|La Pasiva, 1825, ...|Parking ubicado e...|0013A2003152AC3D|     -34.8943081|      -56.1664375|              11.89|              53|76c41438-3a97-433...|       1|      3|        C|              10|[false, false, fa...|          true|2022|    6| 14|   1|     28|short description|                  0|          Empty|                  10|    Piso 1|      3|     false|\n",
      "|TresCrucesShopping|         1|La Pasiva, 1825, ...|Parking ubicado e...|0013A2003152AC3D|     -34.8943081|      -56.1664375|              11.89|              53|76c41438-3a97-433...|       1|      3|        C|              10|[false, false, fa...|          true|2022|    6| 14|   1|     28|short description|                  0|          Empty|                  10|    Piso 1|      4|     false|\n",
      "|TresCrucesShopping|         1|La Pasiva, 1825, ...|Parking ubicado e...|0013A2003152AC3D|     -34.8943081|      -56.1664375|              11.89|              53|76c41438-3a97-433...|       1|      3|        C|              10|[false, false, fa...|          true|2022|    6| 14|   1|     28|short description|                  0|          Empty|                  10|    Piso 1|      5|     false|\n",
      "|TresCrucesShopping|         1|La Pasiva, 1825, ...|Parking ubicado e...|0013A2003152AC3D|     -34.8943081|      -56.1664375|              11.89|              53|76c41438-3a97-433...|       1|      3|        C|              10|[false, false, fa...|          true|2022|    6| 14|   1|     28|short description|                  0|          Empty|                  10|    Piso 1|      6|     false|\n",
      "|TresCrucesShopping|         1|La Pasiva, 1825, ...|Parking ubicado e...|0013A2003152AC3D|     -34.8943081|      -56.1664375|              11.89|              53|76c41438-3a97-433...|       1|      3|        C|              10|[false, false, fa...|          true|2022|    6| 14|   1|     28|short description|                  0|          Empty|                  10|    Piso 1|      7|     false|\n",
      "|TresCrucesShopping|         1|La Pasiva, 1825, ...|Parking ubicado e...|0013A2003152AC3D|     -34.8943081|      -56.1664375|              11.89|              53|76c41438-3a97-433...|       1|      3|        C|              10|[false, false, fa...|          true|2022|    6| 14|   1|     28|short description|                  0|          Empty|                  10|    Piso 1|      8|     false|\n",
      "|TresCrucesShopping|         1|La Pasiva, 1825, ...|Parking ubicado e...|0013A2003152AC3D|     -34.8943081|      -56.1664375|              11.89|              53|76c41438-3a97-433...|       1|      3|        C|              10|[false, false, fa...|          true|2022|    6| 14|   1|     28|short description|                  0|          Empty|                  10|    Piso 1|      9|     false|\n",
      "|TresCrucesShopping|         1|La Pasiva, 1825, ...|Parking ubicado e...|0013A2003152AC3D|     -34.8943081|      -56.1664375|              11.89|              53|76c41438-3a97-433...|       1|      3|        C|              10|[false, false, fa...|          true|2022|    6| 14|   1|     28|short description|                  0|          Empty|                  10|    Piso 1|     10|     false|\n",
      "+------------------+----------+--------------------+--------------------+----------------+----------------+-----------------+-------------------+----------------+--------------------+--------+-------+---------+----------------+--------------------+--------------+----+-----+---+----+-------+-----------------+-------------------+---------------+--------------------+----------+-------+----------+\n",
      "only showing top 20 rows\n",
      "\n"
     ]
    },
    {
     "name": "stderr",
     "output_type": "stream",
     "text": [
      "                                                                                \r"
     ]
    },
    {
     "name": "stdout",
     "output_type": "stream",
     "text": [
      "+------------------+----------+--------------------+--------------------+----------------+----------------+-----------------+-------------------+----------------+--------------------+--------+-------+---------+----------------+--------------------+--------------+----+-----+---+----+-------+-----------------+-------------------+---------------+--------------------+----------+-------+----------+\n",
      "|      parking_name|parking_id|     parking_address| parking_description|       device_id|parking_latitude|parking_longitude|parking_temperature|parking_humidity|        parking_uuid|level_id|area_id|area_name|area_total_spots|        device_slots|parking_closed|year|month|day|hour|minutes| area_description|area_occupied_spots|area_occupation|area_available_spots|level_name|slot_id|slot_state|\n",
      "+------------------+----------+--------------------+--------------------+----------------+----------------+-----------------+-------------------+----------------+--------------------+--------+-------+---------+----------------+--------------------+--------------+----+-----+---+----+-------+-----------------+-------------------+---------------+--------------------+----------+-------+----------+\n",
      "|TresCrucesShopping|         1|La Pasiva, 1825, ...|Parking ubicado e...|39CABC1D179D7D7E|     -34.8943081|      -56.1664375|                8.0|              74|76c41438-3a97-433...|       1|      2|        B|              10|[false, false, fa...|          true|2022|    6| 14|   1|     30|short description|                  0|          Empty|                  10|    Piso 1|      1|     false|\n",
      "|TresCrucesShopping|         1|La Pasiva, 1825, ...|Parking ubicado e...|39CABC1D179D7D7E|     -34.8943081|      -56.1664375|                8.0|              74|76c41438-3a97-433...|       1|      2|        B|              10|[false, false, fa...|          true|2022|    6| 14|   1|     30|short description|                  0|          Empty|                  10|    Piso 1|      2|     false|\n",
      "|TresCrucesShopping|         1|La Pasiva, 1825, ...|Parking ubicado e...|39CABC1D179D7D7E|     -34.8943081|      -56.1664375|                8.0|              74|76c41438-3a97-433...|       1|      2|        B|              10|[false, false, fa...|          true|2022|    6| 14|   1|     30|short description|                  0|          Empty|                  10|    Piso 1|      3|     false|\n",
      "|TresCrucesShopping|         1|La Pasiva, 1825, ...|Parking ubicado e...|39CABC1D179D7D7E|     -34.8943081|      -56.1664375|                8.0|              74|76c41438-3a97-433...|       1|      2|        B|              10|[false, false, fa...|          true|2022|    6| 14|   1|     30|short description|                  0|          Empty|                  10|    Piso 1|      4|     false|\n",
      "|TresCrucesShopping|         1|La Pasiva, 1825, ...|Parking ubicado e...|39CABC1D179D7D7E|     -34.8943081|      -56.1664375|                8.0|              74|76c41438-3a97-433...|       1|      2|        B|              10|[false, false, fa...|          true|2022|    6| 14|   1|     30|short description|                  0|          Empty|                  10|    Piso 1|      5|     false|\n",
      "|TresCrucesShopping|         1|La Pasiva, 1825, ...|Parking ubicado e...|39CABC1D179D7D7E|     -34.8943081|      -56.1664375|                8.0|              74|76c41438-3a97-433...|       1|      2|        B|              10|[false, false, fa...|          true|2022|    6| 14|   1|     30|short description|                  0|          Empty|                  10|    Piso 1|      6|     false|\n",
      "|TresCrucesShopping|         1|La Pasiva, 1825, ...|Parking ubicado e...|39CABC1D179D7D7E|     -34.8943081|      -56.1664375|                8.0|              74|76c41438-3a97-433...|       1|      2|        B|              10|[false, false, fa...|          true|2022|    6| 14|   1|     30|short description|                  0|          Empty|                  10|    Piso 1|      7|     false|\n",
      "|TresCrucesShopping|         1|La Pasiva, 1825, ...|Parking ubicado e...|39CABC1D179D7D7E|     -34.8943081|      -56.1664375|                8.0|              74|76c41438-3a97-433...|       1|      2|        B|              10|[false, false, fa...|          true|2022|    6| 14|   1|     30|short description|                  0|          Empty|                  10|    Piso 1|      8|     false|\n",
      "|TresCrucesShopping|         1|La Pasiva, 1825, ...|Parking ubicado e...|39CABC1D179D7D7E|     -34.8943081|      -56.1664375|                8.0|              74|76c41438-3a97-433...|       1|      2|        B|              10|[false, false, fa...|          true|2022|    6| 14|   1|     30|short description|                  0|          Empty|                  10|    Piso 1|      9|     false|\n",
      "|TresCrucesShopping|         1|La Pasiva, 1825, ...|Parking ubicado e...|39CABC1D179D7D7E|     -34.8943081|      -56.1664375|                8.0|              74|76c41438-3a97-433...|       1|      2|        B|              10|[false, false, fa...|          true|2022|    6| 14|   1|     30|short description|                  0|          Empty|                  10|    Piso 1|     10|     false|\n",
      "|TresCrucesShopping|         1|La Pasiva, 1825, ...|Parking ubicado e...|0013A2003152AC3D|     -34.8943081|      -56.1664375|              11.89|              53|76c41438-3a97-433...|       1|      3|        C|              10|[false, false, fa...|          true|2022|    6| 14|   1|     30|short description|                  0|          Empty|                  10|    Piso 1|      1|     false|\n",
      "|TresCrucesShopping|         1|La Pasiva, 1825, ...|Parking ubicado e...|0013A2003152AC3D|     -34.8943081|      -56.1664375|              11.89|              53|76c41438-3a97-433...|       1|      3|        C|              10|[false, false, fa...|          true|2022|    6| 14|   1|     30|short description|                  0|          Empty|                  10|    Piso 1|      2|     false|\n",
      "|TresCrucesShopping|         1|La Pasiva, 1825, ...|Parking ubicado e...|0013A2003152AC3D|     -34.8943081|      -56.1664375|              11.89|              53|76c41438-3a97-433...|       1|      3|        C|              10|[false, false, fa...|          true|2022|    6| 14|   1|     30|short description|                  0|          Empty|                  10|    Piso 1|      3|     false|\n",
      "|TresCrucesShopping|         1|La Pasiva, 1825, ...|Parking ubicado e...|0013A2003152AC3D|     -34.8943081|      -56.1664375|              11.89|              53|76c41438-3a97-433...|       1|      3|        C|              10|[false, false, fa...|          true|2022|    6| 14|   1|     30|short description|                  0|          Empty|                  10|    Piso 1|      4|     false|\n",
      "|TresCrucesShopping|         1|La Pasiva, 1825, ...|Parking ubicado e...|0013A2003152AC3D|     -34.8943081|      -56.1664375|              11.89|              53|76c41438-3a97-433...|       1|      3|        C|              10|[false, false, fa...|          true|2022|    6| 14|   1|     30|short description|                  0|          Empty|                  10|    Piso 1|      5|     false|\n",
      "|TresCrucesShopping|         1|La Pasiva, 1825, ...|Parking ubicado e...|0013A2003152AC3D|     -34.8943081|      -56.1664375|              11.89|              53|76c41438-3a97-433...|       1|      3|        C|              10|[false, false, fa...|          true|2022|    6| 14|   1|     30|short description|                  0|          Empty|                  10|    Piso 1|      6|     false|\n",
      "|TresCrucesShopping|         1|La Pasiva, 1825, ...|Parking ubicado e...|0013A2003152AC3D|     -34.8943081|      -56.1664375|              11.89|              53|76c41438-3a97-433...|       1|      3|        C|              10|[false, false, fa...|          true|2022|    6| 14|   1|     30|short description|                  0|          Empty|                  10|    Piso 1|      7|     false|\n",
      "|TresCrucesShopping|         1|La Pasiva, 1825, ...|Parking ubicado e...|0013A2003152AC3D|     -34.8943081|      -56.1664375|              11.89|              53|76c41438-3a97-433...|       1|      3|        C|              10|[false, false, fa...|          true|2022|    6| 14|   1|     30|short description|                  0|          Empty|                  10|    Piso 1|      8|     false|\n",
      "|TresCrucesShopping|         1|La Pasiva, 1825, ...|Parking ubicado e...|0013A2003152AC3D|     -34.8943081|      -56.1664375|              11.89|              53|76c41438-3a97-433...|       1|      3|        C|              10|[false, false, fa...|          true|2022|    6| 14|   1|     30|short description|                  0|          Empty|                  10|    Piso 1|      9|     false|\n",
      "|TresCrucesShopping|         1|La Pasiva, 1825, ...|Parking ubicado e...|0013A2003152AC3D|     -34.8943081|      -56.1664375|              11.89|              53|76c41438-3a97-433...|       1|      3|        C|              10|[false, false, fa...|          true|2022|    6| 14|   1|     30|short description|                  0|          Empty|                  10|    Piso 1|     10|     false|\n",
      "+------------------+----------+--------------------+--------------------+----------------+----------------+-----------------+-------------------+----------------+--------------------+--------+-------+---------+----------------+--------------------+--------------+----+-----+---+----+-------+-----------------+-------------------+---------------+--------------------+----------+-------+----------+\n",
      "only showing top 20 rows\n",
      "\n"
     ]
    },
    {
     "name": "stderr",
     "output_type": "stream",
     "text": [
      "\r",
      "[Stage 28:>                                                         (0 + 1) / 1]\r",
      "\r",
      "                                                                                \r"
     ]
    },
    {
     "name": "stdout",
     "output_type": "stream",
     "text": [
      "+------------------+----------+--------------------+--------------------+----------------+----------------+-----------------+-------------------+----------------+--------------------+--------+-------+---------+----------------+--------------------+--------------+----+-----+---+----+-------+-----------------+-------------------+---------------+--------------------+----------+-------+----------+\n",
      "|      parking_name|parking_id|     parking_address| parking_description|       device_id|parking_latitude|parking_longitude|parking_temperature|parking_humidity|        parking_uuid|level_id|area_id|area_name|area_total_spots|        device_slots|parking_closed|year|month|day|hour|minutes| area_description|area_occupied_spots|area_occupation|area_available_spots|level_name|slot_id|slot_state|\n",
      "+------------------+----------+--------------------+--------------------+----------------+----------------+-----------------+-------------------+----------------+--------------------+--------+-------+---------+----------------+--------------------+--------------+----+-----+---+----+-------+-----------------+-------------------+---------------+--------------------+----------+-------+----------+\n",
      "|TresCrucesShopping|         1|La Pasiva, 1825, ...|Parking ubicado e...|39CABC1D179D7D7E|     -34.8943081|      -56.1664375|                8.0|              74|76c41438-3a97-433...|       1|      2|        B|              10|[false, false, fa...|          true|2022|    6| 14|   1|     32|short description|                  0|          Empty|                  10|    Piso 1|      1|     false|\n",
      "|TresCrucesShopping|         1|La Pasiva, 1825, ...|Parking ubicado e...|39CABC1D179D7D7E|     -34.8943081|      -56.1664375|                8.0|              74|76c41438-3a97-433...|       1|      2|        B|              10|[false, false, fa...|          true|2022|    6| 14|   1|     32|short description|                  0|          Empty|                  10|    Piso 1|      2|     false|\n",
      "|TresCrucesShopping|         1|La Pasiva, 1825, ...|Parking ubicado e...|39CABC1D179D7D7E|     -34.8943081|      -56.1664375|                8.0|              74|76c41438-3a97-433...|       1|      2|        B|              10|[false, false, fa...|          true|2022|    6| 14|   1|     32|short description|                  0|          Empty|                  10|    Piso 1|      3|     false|\n",
      "|TresCrucesShopping|         1|La Pasiva, 1825, ...|Parking ubicado e...|39CABC1D179D7D7E|     -34.8943081|      -56.1664375|                8.0|              74|76c41438-3a97-433...|       1|      2|        B|              10|[false, false, fa...|          true|2022|    6| 14|   1|     32|short description|                  0|          Empty|                  10|    Piso 1|      4|     false|\n",
      "|TresCrucesShopping|         1|La Pasiva, 1825, ...|Parking ubicado e...|39CABC1D179D7D7E|     -34.8943081|      -56.1664375|                8.0|              74|76c41438-3a97-433...|       1|      2|        B|              10|[false, false, fa...|          true|2022|    6| 14|   1|     32|short description|                  0|          Empty|                  10|    Piso 1|      5|     false|\n",
      "|TresCrucesShopping|         1|La Pasiva, 1825, ...|Parking ubicado e...|39CABC1D179D7D7E|     -34.8943081|      -56.1664375|                8.0|              74|76c41438-3a97-433...|       1|      2|        B|              10|[false, false, fa...|          true|2022|    6| 14|   1|     32|short description|                  0|          Empty|                  10|    Piso 1|      6|     false|\n",
      "|TresCrucesShopping|         1|La Pasiva, 1825, ...|Parking ubicado e...|39CABC1D179D7D7E|     -34.8943081|      -56.1664375|                8.0|              74|76c41438-3a97-433...|       1|      2|        B|              10|[false, false, fa...|          true|2022|    6| 14|   1|     32|short description|                  0|          Empty|                  10|    Piso 1|      7|     false|\n",
      "|TresCrucesShopping|         1|La Pasiva, 1825, ...|Parking ubicado e...|39CABC1D179D7D7E|     -34.8943081|      -56.1664375|                8.0|              74|76c41438-3a97-433...|       1|      2|        B|              10|[false, false, fa...|          true|2022|    6| 14|   1|     32|short description|                  0|          Empty|                  10|    Piso 1|      8|     false|\n",
      "|TresCrucesShopping|         1|La Pasiva, 1825, ...|Parking ubicado e...|39CABC1D179D7D7E|     -34.8943081|      -56.1664375|                8.0|              74|76c41438-3a97-433...|       1|      2|        B|              10|[false, false, fa...|          true|2022|    6| 14|   1|     32|short description|                  0|          Empty|                  10|    Piso 1|      9|     false|\n",
      "|TresCrucesShopping|         1|La Pasiva, 1825, ...|Parking ubicado e...|39CABC1D179D7D7E|     -34.8943081|      -56.1664375|                8.0|              74|76c41438-3a97-433...|       1|      2|        B|              10|[false, false, fa...|          true|2022|    6| 14|   1|     32|short description|                  0|          Empty|                  10|    Piso 1|     10|     false|\n",
      "|TresCrucesShopping|         1|La Pasiva, 1825, ...|Parking ubicado e...|0013A2003152AC3D|     -34.8943081|      -56.1664375|              11.89|              53|76c41438-3a97-433...|       1|      3|        C|              10|[false, false, fa...|          true|2022|    6| 14|   1|     32|short description|                  0|          Empty|                  10|    Piso 1|      1|     false|\n",
      "|TresCrucesShopping|         1|La Pasiva, 1825, ...|Parking ubicado e...|0013A2003152AC3D|     -34.8943081|      -56.1664375|              11.89|              53|76c41438-3a97-433...|       1|      3|        C|              10|[false, false, fa...|          true|2022|    6| 14|   1|     32|short description|                  0|          Empty|                  10|    Piso 1|      2|     false|\n",
      "|TresCrucesShopping|         1|La Pasiva, 1825, ...|Parking ubicado e...|0013A2003152AC3D|     -34.8943081|      -56.1664375|              11.89|              53|76c41438-3a97-433...|       1|      3|        C|              10|[false, false, fa...|          true|2022|    6| 14|   1|     32|short description|                  0|          Empty|                  10|    Piso 1|      3|     false|\n",
      "|TresCrucesShopping|         1|La Pasiva, 1825, ...|Parking ubicado e...|0013A2003152AC3D|     -34.8943081|      -56.1664375|              11.89|              53|76c41438-3a97-433...|       1|      3|        C|              10|[false, false, fa...|          true|2022|    6| 14|   1|     32|short description|                  0|          Empty|                  10|    Piso 1|      4|     false|\n",
      "|TresCrucesShopping|         1|La Pasiva, 1825, ...|Parking ubicado e...|0013A2003152AC3D|     -34.8943081|      -56.1664375|              11.89|              53|76c41438-3a97-433...|       1|      3|        C|              10|[false, false, fa...|          true|2022|    6| 14|   1|     32|short description|                  0|          Empty|                  10|    Piso 1|      5|     false|\n",
      "|TresCrucesShopping|         1|La Pasiva, 1825, ...|Parking ubicado e...|0013A2003152AC3D|     -34.8943081|      -56.1664375|              11.89|              53|76c41438-3a97-433...|       1|      3|        C|              10|[false, false, fa...|          true|2022|    6| 14|   1|     32|short description|                  0|          Empty|                  10|    Piso 1|      6|     false|\n",
      "|TresCrucesShopping|         1|La Pasiva, 1825, ...|Parking ubicado e...|0013A2003152AC3D|     -34.8943081|      -56.1664375|              11.89|              53|76c41438-3a97-433...|       1|      3|        C|              10|[false, false, fa...|          true|2022|    6| 14|   1|     32|short description|                  0|          Empty|                  10|    Piso 1|      7|     false|\n",
      "|TresCrucesShopping|         1|La Pasiva, 1825, ...|Parking ubicado e...|0013A2003152AC3D|     -34.8943081|      -56.1664375|              11.89|              53|76c41438-3a97-433...|       1|      3|        C|              10|[false, false, fa...|          true|2022|    6| 14|   1|     32|short description|                  0|          Empty|                  10|    Piso 1|      8|     false|\n",
      "|TresCrucesShopping|         1|La Pasiva, 1825, ...|Parking ubicado e...|0013A2003152AC3D|     -34.8943081|      -56.1664375|              11.89|              53|76c41438-3a97-433...|       1|      3|        C|              10|[false, false, fa...|          true|2022|    6| 14|   1|     32|short description|                  0|          Empty|                  10|    Piso 1|      9|     false|\n",
      "|TresCrucesShopping|         1|La Pasiva, 1825, ...|Parking ubicado e...|0013A2003152AC3D|     -34.8943081|      -56.1664375|              11.89|              53|76c41438-3a97-433...|       1|      3|        C|              10|[false, false, fa...|          true|2022|    6| 14|   1|     32|short description|                  0|          Empty|                  10|    Piso 1|     10|     false|\n",
      "+------------------+----------+--------------------+--------------------+----------------+----------------+-----------------+-------------------+----------------+--------------------+--------+-------+---------+----------------+--------------------+--------------+----+-----+---+----+-------+-----------------+-------------------+---------------+--------------------+----------+-------+----------+\n",
      "only showing top 20 rows\n",
      "\n"
     ]
    },
    {
     "name": "stderr",
     "output_type": "stream",
     "text": [
      "                                                                                \r"
     ]
    },
    {
     "name": "stdout",
     "output_type": "stream",
     "text": [
      "+------------------+----------+--------------------+--------------------+----------------+----------------+-----------------+-------------------+----------------+--------------------+--------+-------+---------+----------------+--------------------+--------------+----+-----+---+----+-------+-----------------+-------------------+---------------+--------------------+----------+-------+----------+\n",
      "|      parking_name|parking_id|     parking_address| parking_description|       device_id|parking_latitude|parking_longitude|parking_temperature|parking_humidity|        parking_uuid|level_id|area_id|area_name|area_total_spots|        device_slots|parking_closed|year|month|day|hour|minutes| area_description|area_occupied_spots|area_occupation|area_available_spots|level_name|slot_id|slot_state|\n",
      "+------------------+----------+--------------------+--------------------+----------------+----------------+-----------------+-------------------+----------------+--------------------+--------+-------+---------+----------------+--------------------+--------------+----+-----+---+----+-------+-----------------+-------------------+---------------+--------------------+----------+-------+----------+\n",
      "|TresCrucesShopping|         1|La Pasiva, 1825, ...|Parking ubicado e...|39CABC1D179D7D7E|     -34.8943081|      -56.1664375|                8.0|              74|76c41438-3a97-433...|       1|      2|        B|              10|[false, false, fa...|          true|2022|    6| 14|   1|     34|short description|                  0|          Empty|                  10|    Piso 1|      1|     false|\n",
      "|TresCrucesShopping|         1|La Pasiva, 1825, ...|Parking ubicado e...|39CABC1D179D7D7E|     -34.8943081|      -56.1664375|                8.0|              74|76c41438-3a97-433...|       1|      2|        B|              10|[false, false, fa...|          true|2022|    6| 14|   1|     34|short description|                  0|          Empty|                  10|    Piso 1|      2|     false|\n",
      "|TresCrucesShopping|         1|La Pasiva, 1825, ...|Parking ubicado e...|39CABC1D179D7D7E|     -34.8943081|      -56.1664375|                8.0|              74|76c41438-3a97-433...|       1|      2|        B|              10|[false, false, fa...|          true|2022|    6| 14|   1|     34|short description|                  0|          Empty|                  10|    Piso 1|      3|     false|\n",
      "|TresCrucesShopping|         1|La Pasiva, 1825, ...|Parking ubicado e...|39CABC1D179D7D7E|     -34.8943081|      -56.1664375|                8.0|              74|76c41438-3a97-433...|       1|      2|        B|              10|[false, false, fa...|          true|2022|    6| 14|   1|     34|short description|                  0|          Empty|                  10|    Piso 1|      4|     false|\n",
      "|TresCrucesShopping|         1|La Pasiva, 1825, ...|Parking ubicado e...|39CABC1D179D7D7E|     -34.8943081|      -56.1664375|                8.0|              74|76c41438-3a97-433...|       1|      2|        B|              10|[false, false, fa...|          true|2022|    6| 14|   1|     34|short description|                  0|          Empty|                  10|    Piso 1|      5|     false|\n",
      "|TresCrucesShopping|         1|La Pasiva, 1825, ...|Parking ubicado e...|39CABC1D179D7D7E|     -34.8943081|      -56.1664375|                8.0|              74|76c41438-3a97-433...|       1|      2|        B|              10|[false, false, fa...|          true|2022|    6| 14|   1|     34|short description|                  0|          Empty|                  10|    Piso 1|      6|     false|\n",
      "|TresCrucesShopping|         1|La Pasiva, 1825, ...|Parking ubicado e...|39CABC1D179D7D7E|     -34.8943081|      -56.1664375|                8.0|              74|76c41438-3a97-433...|       1|      2|        B|              10|[false, false, fa...|          true|2022|    6| 14|   1|     34|short description|                  0|          Empty|                  10|    Piso 1|      7|     false|\n",
      "|TresCrucesShopping|         1|La Pasiva, 1825, ...|Parking ubicado e...|39CABC1D179D7D7E|     -34.8943081|      -56.1664375|                8.0|              74|76c41438-3a97-433...|       1|      2|        B|              10|[false, false, fa...|          true|2022|    6| 14|   1|     34|short description|                  0|          Empty|                  10|    Piso 1|      8|     false|\n",
      "|TresCrucesShopping|         1|La Pasiva, 1825, ...|Parking ubicado e...|39CABC1D179D7D7E|     -34.8943081|      -56.1664375|                8.0|              74|76c41438-3a97-433...|       1|      2|        B|              10|[false, false, fa...|          true|2022|    6| 14|   1|     34|short description|                  0|          Empty|                  10|    Piso 1|      9|     false|\n",
      "|TresCrucesShopping|         1|La Pasiva, 1825, ...|Parking ubicado e...|39CABC1D179D7D7E|     -34.8943081|      -56.1664375|                8.0|              74|76c41438-3a97-433...|       1|      2|        B|              10|[false, false, fa...|          true|2022|    6| 14|   1|     34|short description|                  0|          Empty|                  10|    Piso 1|     10|     false|\n",
      "|TresCrucesShopping|         1|La Pasiva, 1825, ...|Parking ubicado e...|0013A2003152AC3D|     -34.8943081|      -56.1664375|              11.89|              53|76c41438-3a97-433...|       1|      3|        C|              10|[false, false, fa...|          true|2022|    6| 14|   1|     34|short description|                  0|          Empty|                  10|    Piso 1|      1|     false|\n",
      "|TresCrucesShopping|         1|La Pasiva, 1825, ...|Parking ubicado e...|0013A2003152AC3D|     -34.8943081|      -56.1664375|              11.89|              53|76c41438-3a97-433...|       1|      3|        C|              10|[false, false, fa...|          true|2022|    6| 14|   1|     34|short description|                  0|          Empty|                  10|    Piso 1|      2|     false|\n",
      "|TresCrucesShopping|         1|La Pasiva, 1825, ...|Parking ubicado e...|0013A2003152AC3D|     -34.8943081|      -56.1664375|              11.89|              53|76c41438-3a97-433...|       1|      3|        C|              10|[false, false, fa...|          true|2022|    6| 14|   1|     34|short description|                  0|          Empty|                  10|    Piso 1|      3|     false|\n",
      "|TresCrucesShopping|         1|La Pasiva, 1825, ...|Parking ubicado e...|0013A2003152AC3D|     -34.8943081|      -56.1664375|              11.89|              53|76c41438-3a97-433...|       1|      3|        C|              10|[false, false, fa...|          true|2022|    6| 14|   1|     34|short description|                  0|          Empty|                  10|    Piso 1|      4|     false|\n",
      "|TresCrucesShopping|         1|La Pasiva, 1825, ...|Parking ubicado e...|0013A2003152AC3D|     -34.8943081|      -56.1664375|              11.89|              53|76c41438-3a97-433...|       1|      3|        C|              10|[false, false, fa...|          true|2022|    6| 14|   1|     34|short description|                  0|          Empty|                  10|    Piso 1|      5|     false|\n",
      "|TresCrucesShopping|         1|La Pasiva, 1825, ...|Parking ubicado e...|0013A2003152AC3D|     -34.8943081|      -56.1664375|              11.89|              53|76c41438-3a97-433...|       1|      3|        C|              10|[false, false, fa...|          true|2022|    6| 14|   1|     34|short description|                  0|          Empty|                  10|    Piso 1|      6|     false|\n",
      "|TresCrucesShopping|         1|La Pasiva, 1825, ...|Parking ubicado e...|0013A2003152AC3D|     -34.8943081|      -56.1664375|              11.89|              53|76c41438-3a97-433...|       1|      3|        C|              10|[false, false, fa...|          true|2022|    6| 14|   1|     34|short description|                  0|          Empty|                  10|    Piso 1|      7|     false|\n",
      "|TresCrucesShopping|         1|La Pasiva, 1825, ...|Parking ubicado e...|0013A2003152AC3D|     -34.8943081|      -56.1664375|              11.89|              53|76c41438-3a97-433...|       1|      3|        C|              10|[false, false, fa...|          true|2022|    6| 14|   1|     34|short description|                  0|          Empty|                  10|    Piso 1|      8|     false|\n",
      "|TresCrucesShopping|         1|La Pasiva, 1825, ...|Parking ubicado e...|0013A2003152AC3D|     -34.8943081|      -56.1664375|              11.89|              53|76c41438-3a97-433...|       1|      3|        C|              10|[false, false, fa...|          true|2022|    6| 14|   1|     34|short description|                  0|          Empty|                  10|    Piso 1|      9|     false|\n",
      "|TresCrucesShopping|         1|La Pasiva, 1825, ...|Parking ubicado e...|0013A2003152AC3D|     -34.8943081|      -56.1664375|              11.89|              53|76c41438-3a97-433...|       1|      3|        C|              10|[false, false, fa...|          true|2022|    6| 14|   1|     34|short description|                  0|          Empty|                  10|    Piso 1|     10|     false|\n",
      "+------------------+----------+--------------------+--------------------+----------------+----------------+-----------------+-------------------+----------------+--------------------+--------+-------+---------+----------------+--------------------+--------------+----+-----+---+----+-------+-----------------+-------------------+---------------+--------------------+----------+-------+----------+\n",
      "only showing top 20 rows\n",
      "\n"
     ]
    },
    {
     "name": "stderr",
     "output_type": "stream",
     "text": [
      "                                                                                \r"
     ]
    },
    {
     "name": "stdout",
     "output_type": "stream",
     "text": [
      "+------------------+----------+--------------------+--------------------+----------------+----------------+-----------------+-------------------+----------------+--------------------+--------+-------+---------+----------------+--------------------+--------------+----+-----+---+----+-------+-----------------+-------------------+---------------+--------------------+----------+-------+----------+\n",
      "|      parking_name|parking_id|     parking_address| parking_description|       device_id|parking_latitude|parking_longitude|parking_temperature|parking_humidity|        parking_uuid|level_id|area_id|area_name|area_total_spots|        device_slots|parking_closed|year|month|day|hour|minutes| area_description|area_occupied_spots|area_occupation|area_available_spots|level_name|slot_id|slot_state|\n",
      "+------------------+----------+--------------------+--------------------+----------------+----------------+-----------------+-------------------+----------------+--------------------+--------+-------+---------+----------------+--------------------+--------------+----+-----+---+----+-------+-----------------+-------------------+---------------+--------------------+----------+-------+----------+\n",
      "|TresCrucesShopping|         1|La Pasiva, 1825, ...|Parking ubicado e...|39CABC1D179D7D7E|     -34.8943081|      -56.1664375|                8.0|              74|76c41438-3a97-433...|       1|      2|        B|              10|[false, false, fa...|          true|2022|    6| 14|   1|     36|short description|                  0|          Empty|                  10|    Piso 1|      1|     false|\n",
      "|TresCrucesShopping|         1|La Pasiva, 1825, ...|Parking ubicado e...|39CABC1D179D7D7E|     -34.8943081|      -56.1664375|                8.0|              74|76c41438-3a97-433...|       1|      2|        B|              10|[false, false, fa...|          true|2022|    6| 14|   1|     36|short description|                  0|          Empty|                  10|    Piso 1|      2|     false|\n",
      "|TresCrucesShopping|         1|La Pasiva, 1825, ...|Parking ubicado e...|39CABC1D179D7D7E|     -34.8943081|      -56.1664375|                8.0|              74|76c41438-3a97-433...|       1|      2|        B|              10|[false, false, fa...|          true|2022|    6| 14|   1|     36|short description|                  0|          Empty|                  10|    Piso 1|      3|     false|\n",
      "|TresCrucesShopping|         1|La Pasiva, 1825, ...|Parking ubicado e...|39CABC1D179D7D7E|     -34.8943081|      -56.1664375|                8.0|              74|76c41438-3a97-433...|       1|      2|        B|              10|[false, false, fa...|          true|2022|    6| 14|   1|     36|short description|                  0|          Empty|                  10|    Piso 1|      4|     false|\n",
      "|TresCrucesShopping|         1|La Pasiva, 1825, ...|Parking ubicado e...|39CABC1D179D7D7E|     -34.8943081|      -56.1664375|                8.0|              74|76c41438-3a97-433...|       1|      2|        B|              10|[false, false, fa...|          true|2022|    6| 14|   1|     36|short description|                  0|          Empty|                  10|    Piso 1|      5|     false|\n",
      "|TresCrucesShopping|         1|La Pasiva, 1825, ...|Parking ubicado e...|39CABC1D179D7D7E|     -34.8943081|      -56.1664375|                8.0|              74|76c41438-3a97-433...|       1|      2|        B|              10|[false, false, fa...|          true|2022|    6| 14|   1|     36|short description|                  0|          Empty|                  10|    Piso 1|      6|     false|\n",
      "|TresCrucesShopping|         1|La Pasiva, 1825, ...|Parking ubicado e...|39CABC1D179D7D7E|     -34.8943081|      -56.1664375|                8.0|              74|76c41438-3a97-433...|       1|      2|        B|              10|[false, false, fa...|          true|2022|    6| 14|   1|     36|short description|                  0|          Empty|                  10|    Piso 1|      7|     false|\n",
      "|TresCrucesShopping|         1|La Pasiva, 1825, ...|Parking ubicado e...|39CABC1D179D7D7E|     -34.8943081|      -56.1664375|                8.0|              74|76c41438-3a97-433...|       1|      2|        B|              10|[false, false, fa...|          true|2022|    6| 14|   1|     36|short description|                  0|          Empty|                  10|    Piso 1|      8|     false|\n",
      "|TresCrucesShopping|         1|La Pasiva, 1825, ...|Parking ubicado e...|39CABC1D179D7D7E|     -34.8943081|      -56.1664375|                8.0|              74|76c41438-3a97-433...|       1|      2|        B|              10|[false, false, fa...|          true|2022|    6| 14|   1|     36|short description|                  0|          Empty|                  10|    Piso 1|      9|     false|\n",
      "|TresCrucesShopping|         1|La Pasiva, 1825, ...|Parking ubicado e...|39CABC1D179D7D7E|     -34.8943081|      -56.1664375|                8.0|              74|76c41438-3a97-433...|       1|      2|        B|              10|[false, false, fa...|          true|2022|    6| 14|   1|     36|short description|                  0|          Empty|                  10|    Piso 1|     10|     false|\n",
      "|TresCrucesShopping|         1|La Pasiva, 1825, ...|Parking ubicado e...|0013A2003152AC3D|     -34.8943081|      -56.1664375|              11.89|              53|76c41438-3a97-433...|       1|      3|        C|              10|[false, false, fa...|          true|2022|    6| 14|   1|     36|short description|                  0|          Empty|                  10|    Piso 1|      1|     false|\n",
      "|TresCrucesShopping|         1|La Pasiva, 1825, ...|Parking ubicado e...|0013A2003152AC3D|     -34.8943081|      -56.1664375|              11.89|              53|76c41438-3a97-433...|       1|      3|        C|              10|[false, false, fa...|          true|2022|    6| 14|   1|     36|short description|                  0|          Empty|                  10|    Piso 1|      2|     false|\n",
      "|TresCrucesShopping|         1|La Pasiva, 1825, ...|Parking ubicado e...|0013A2003152AC3D|     -34.8943081|      -56.1664375|              11.89|              53|76c41438-3a97-433...|       1|      3|        C|              10|[false, false, fa...|          true|2022|    6| 14|   1|     36|short description|                  0|          Empty|                  10|    Piso 1|      3|     false|\n",
      "|TresCrucesShopping|         1|La Pasiva, 1825, ...|Parking ubicado e...|0013A2003152AC3D|     -34.8943081|      -56.1664375|              11.89|              53|76c41438-3a97-433...|       1|      3|        C|              10|[false, false, fa...|          true|2022|    6| 14|   1|     36|short description|                  0|          Empty|                  10|    Piso 1|      4|     false|\n",
      "|TresCrucesShopping|         1|La Pasiva, 1825, ...|Parking ubicado e...|0013A2003152AC3D|     -34.8943081|      -56.1664375|              11.89|              53|76c41438-3a97-433...|       1|      3|        C|              10|[false, false, fa...|          true|2022|    6| 14|   1|     36|short description|                  0|          Empty|                  10|    Piso 1|      5|     false|\n",
      "|TresCrucesShopping|         1|La Pasiva, 1825, ...|Parking ubicado e...|0013A2003152AC3D|     -34.8943081|      -56.1664375|              11.89|              53|76c41438-3a97-433...|       1|      3|        C|              10|[false, false, fa...|          true|2022|    6| 14|   1|     36|short description|                  0|          Empty|                  10|    Piso 1|      6|     false|\n",
      "|TresCrucesShopping|         1|La Pasiva, 1825, ...|Parking ubicado e...|0013A2003152AC3D|     -34.8943081|      -56.1664375|              11.89|              53|76c41438-3a97-433...|       1|      3|        C|              10|[false, false, fa...|          true|2022|    6| 14|   1|     36|short description|                  0|          Empty|                  10|    Piso 1|      7|     false|\n",
      "|TresCrucesShopping|         1|La Pasiva, 1825, ...|Parking ubicado e...|0013A2003152AC3D|     -34.8943081|      -56.1664375|              11.89|              53|76c41438-3a97-433...|       1|      3|        C|              10|[false, false, fa...|          true|2022|    6| 14|   1|     36|short description|                  0|          Empty|                  10|    Piso 1|      8|     false|\n",
      "|TresCrucesShopping|         1|La Pasiva, 1825, ...|Parking ubicado e...|0013A2003152AC3D|     -34.8943081|      -56.1664375|              11.89|              53|76c41438-3a97-433...|       1|      3|        C|              10|[false, false, fa...|          true|2022|    6| 14|   1|     36|short description|                  0|          Empty|                  10|    Piso 1|      9|     false|\n",
      "|TresCrucesShopping|         1|La Pasiva, 1825, ...|Parking ubicado e...|0013A2003152AC3D|     -34.8943081|      -56.1664375|              11.89|              53|76c41438-3a97-433...|       1|      3|        C|              10|[false, false, fa...|          true|2022|    6| 14|   1|     36|short description|                  0|          Empty|                  10|    Piso 1|     10|     false|\n",
      "+------------------+----------+--------------------+--------------------+----------------+----------------+-----------------+-------------------+----------------+--------------------+--------+-------+---------+----------------+--------------------+--------------+----+-----+---+----+-------+-----------------+-------------------+---------------+--------------------+----------+-------+----------+\n",
      "only showing top 20 rows\n",
      "\n"
     ]
    },
    {
     "name": "stderr",
     "output_type": "stream",
     "text": [
      "\r",
      "[Stage 38:>                                                         (0 + 1) / 1]\r",
      "\r",
      "                                                                                \r"
     ]
    },
    {
     "name": "stdout",
     "output_type": "stream",
     "text": [
      "+------------------+----------+--------------------+--------------------+----------------+----------------+-----------------+-------------------+----------------+--------------------+--------+-------+---------+----------------+--------------------+--------------+----+-----+---+----+-------+-----------------+-------------------+---------------+--------------------+----------+-------+----------+\n",
      "|      parking_name|parking_id|     parking_address| parking_description|       device_id|parking_latitude|parking_longitude|parking_temperature|parking_humidity|        parking_uuid|level_id|area_id|area_name|area_total_spots|        device_slots|parking_closed|year|month|day|hour|minutes| area_description|area_occupied_spots|area_occupation|area_available_spots|level_name|slot_id|slot_state|\n",
      "+------------------+----------+--------------------+--------------------+----------------+----------------+-----------------+-------------------+----------------+--------------------+--------+-------+---------+----------------+--------------------+--------------+----+-----+---+----+-------+-----------------+-------------------+---------------+--------------------+----------+-------+----------+\n",
      "|TresCrucesShopping|         1|La Pasiva, 1825, ...|Parking ubicado e...|39CABC1D179D7D7E|     -34.8943081|      -56.1664375|                8.0|              74|76c41438-3a97-433...|       1|      2|        B|              10|[false, false, fa...|          true|2022|    6| 14|   1|     38|short description|                  0|          Empty|                  10|    Piso 1|      1|     false|\n",
      "|TresCrucesShopping|         1|La Pasiva, 1825, ...|Parking ubicado e...|39CABC1D179D7D7E|     -34.8943081|      -56.1664375|                8.0|              74|76c41438-3a97-433...|       1|      2|        B|              10|[false, false, fa...|          true|2022|    6| 14|   1|     38|short description|                  0|          Empty|                  10|    Piso 1|      2|     false|\n",
      "|TresCrucesShopping|         1|La Pasiva, 1825, ...|Parking ubicado e...|39CABC1D179D7D7E|     -34.8943081|      -56.1664375|                8.0|              74|76c41438-3a97-433...|       1|      2|        B|              10|[false, false, fa...|          true|2022|    6| 14|   1|     38|short description|                  0|          Empty|                  10|    Piso 1|      3|     false|\n",
      "|TresCrucesShopping|         1|La Pasiva, 1825, ...|Parking ubicado e...|39CABC1D179D7D7E|     -34.8943081|      -56.1664375|                8.0|              74|76c41438-3a97-433...|       1|      2|        B|              10|[false, false, fa...|          true|2022|    6| 14|   1|     38|short description|                  0|          Empty|                  10|    Piso 1|      4|     false|\n",
      "|TresCrucesShopping|         1|La Pasiva, 1825, ...|Parking ubicado e...|39CABC1D179D7D7E|     -34.8943081|      -56.1664375|                8.0|              74|76c41438-3a97-433...|       1|      2|        B|              10|[false, false, fa...|          true|2022|    6| 14|   1|     38|short description|                  0|          Empty|                  10|    Piso 1|      5|     false|\n",
      "|TresCrucesShopping|         1|La Pasiva, 1825, ...|Parking ubicado e...|39CABC1D179D7D7E|     -34.8943081|      -56.1664375|                8.0|              74|76c41438-3a97-433...|       1|      2|        B|              10|[false, false, fa...|          true|2022|    6| 14|   1|     38|short description|                  0|          Empty|                  10|    Piso 1|      6|     false|\n",
      "|TresCrucesShopping|         1|La Pasiva, 1825, ...|Parking ubicado e...|39CABC1D179D7D7E|     -34.8943081|      -56.1664375|                8.0|              74|76c41438-3a97-433...|       1|      2|        B|              10|[false, false, fa...|          true|2022|    6| 14|   1|     38|short description|                  0|          Empty|                  10|    Piso 1|      7|     false|\n",
      "|TresCrucesShopping|         1|La Pasiva, 1825, ...|Parking ubicado e...|39CABC1D179D7D7E|     -34.8943081|      -56.1664375|                8.0|              74|76c41438-3a97-433...|       1|      2|        B|              10|[false, false, fa...|          true|2022|    6| 14|   1|     38|short description|                  0|          Empty|                  10|    Piso 1|      8|     false|\n",
      "|TresCrucesShopping|         1|La Pasiva, 1825, ...|Parking ubicado e...|39CABC1D179D7D7E|     -34.8943081|      -56.1664375|                8.0|              74|76c41438-3a97-433...|       1|      2|        B|              10|[false, false, fa...|          true|2022|    6| 14|   1|     38|short description|                  0|          Empty|                  10|    Piso 1|      9|     false|\n",
      "|TresCrucesShopping|         1|La Pasiva, 1825, ...|Parking ubicado e...|39CABC1D179D7D7E|     -34.8943081|      -56.1664375|                8.0|              74|76c41438-3a97-433...|       1|      2|        B|              10|[false, false, fa...|          true|2022|    6| 14|   1|     38|short description|                  0|          Empty|                  10|    Piso 1|     10|     false|\n",
      "|TresCrucesShopping|         1|La Pasiva, 1825, ...|Parking ubicado e...|0701C5EED1D00C8E|     -34.8943081|      -56.1664375|                7.9|              68|76c41438-3a97-433...|       3|      2|        B|              10|[false, false, fa...|          true|2022|    6| 14|   1|     38|short description|                  0|          Empty|                  10|    Piso 3|      1|     false|\n",
      "|TresCrucesShopping|         1|La Pasiva, 1825, ...|Parking ubicado e...|0701C5EED1D00C8E|     -34.8943081|      -56.1664375|                7.9|              68|76c41438-3a97-433...|       3|      2|        B|              10|[false, false, fa...|          true|2022|    6| 14|   1|     38|short description|                  0|          Empty|                  10|    Piso 3|      2|     false|\n",
      "|TresCrucesShopping|         1|La Pasiva, 1825, ...|Parking ubicado e...|0701C5EED1D00C8E|     -34.8943081|      -56.1664375|                7.9|              68|76c41438-3a97-433...|       3|      2|        B|              10|[false, false, fa...|          true|2022|    6| 14|   1|     38|short description|                  0|          Empty|                  10|    Piso 3|      3|     false|\n",
      "|TresCrucesShopping|         1|La Pasiva, 1825, ...|Parking ubicado e...|0701C5EED1D00C8E|     -34.8943081|      -56.1664375|                7.9|              68|76c41438-3a97-433...|       3|      2|        B|              10|[false, false, fa...|          true|2022|    6| 14|   1|     38|short description|                  0|          Empty|                  10|    Piso 3|      4|     false|\n",
      "|TresCrucesShopping|         1|La Pasiva, 1825, ...|Parking ubicado e...|0701C5EED1D00C8E|     -34.8943081|      -56.1664375|                7.9|              68|76c41438-3a97-433...|       3|      2|        B|              10|[false, false, fa...|          true|2022|    6| 14|   1|     38|short description|                  0|          Empty|                  10|    Piso 3|      5|     false|\n",
      "|TresCrucesShopping|         1|La Pasiva, 1825, ...|Parking ubicado e...|0701C5EED1D00C8E|     -34.8943081|      -56.1664375|                7.9|              68|76c41438-3a97-433...|       3|      2|        B|              10|[false, false, fa...|          true|2022|    6| 14|   1|     38|short description|                  0|          Empty|                  10|    Piso 3|      6|     false|\n",
      "|TresCrucesShopping|         1|La Pasiva, 1825, ...|Parking ubicado e...|0701C5EED1D00C8E|     -34.8943081|      -56.1664375|                7.9|              68|76c41438-3a97-433...|       3|      2|        B|              10|[false, false, fa...|          true|2022|    6| 14|   1|     38|short description|                  0|          Empty|                  10|    Piso 3|      7|     false|\n",
      "|TresCrucesShopping|         1|La Pasiva, 1825, ...|Parking ubicado e...|0701C5EED1D00C8E|     -34.8943081|      -56.1664375|                7.9|              68|76c41438-3a97-433...|       3|      2|        B|              10|[false, false, fa...|          true|2022|    6| 14|   1|     38|short description|                  0|          Empty|                  10|    Piso 3|      8|     false|\n",
      "|TresCrucesShopping|         1|La Pasiva, 1825, ...|Parking ubicado e...|0701C5EED1D00C8E|     -34.8943081|      -56.1664375|                7.9|              68|76c41438-3a97-433...|       3|      2|        B|              10|[false, false, fa...|          true|2022|    6| 14|   1|     38|short description|                  0|          Empty|                  10|    Piso 3|      9|     false|\n",
      "|TresCrucesShopping|         1|La Pasiva, 1825, ...|Parking ubicado e...|0701C5EED1D00C8E|     -34.8943081|      -56.1664375|                7.9|              68|76c41438-3a97-433...|       3|      2|        B|              10|[false, false, fa...|          true|2022|    6| 14|   1|     38|short description|                  0|          Empty|                  10|    Piso 3|     10|     false|\n",
      "+------------------+----------+--------------------+--------------------+----------------+----------------+-----------------+-------------------+----------------+--------------------+--------+-------+---------+----------------+--------------------+--------------+----+-----+---+----+-------+-----------------+-------------------+---------------+--------------------+----------+-------+----------+\n",
      "only showing top 20 rows\n",
      "\n"
     ]
    },
    {
     "name": "stderr",
     "output_type": "stream",
     "text": [
      "\r",
      "[Stage 41:>                                                         (0 + 1) / 1]\r",
      "\r",
      "                                                                                \r"
     ]
    },
    {
     "name": "stdout",
     "output_type": "stream",
     "text": [
      "+------------------+----------+--------------------+--------------------+----------------+----------------+-----------------+-------------------+----------------+--------------------+--------+-------+---------+----------------+--------------------+--------------+----+-----+---+----+-------+-----------------+-------------------+---------------+--------------------+----------+-------+----------+\n",
      "|      parking_name|parking_id|     parking_address| parking_description|       device_id|parking_latitude|parking_longitude|parking_temperature|parking_humidity|        parking_uuid|level_id|area_id|area_name|area_total_spots|        device_slots|parking_closed|year|month|day|hour|minutes| area_description|area_occupied_spots|area_occupation|area_available_spots|level_name|slot_id|slot_state|\n",
      "+------------------+----------+--------------------+--------------------+----------------+----------------+-----------------+-------------------+----------------+--------------------+--------+-------+---------+----------------+--------------------+--------------+----+-----+---+----+-------+-----------------+-------------------+---------------+--------------------+----------+-------+----------+\n",
      "|TresCrucesShopping|         1|La Pasiva, 1825, ...|Parking ubicado e...|39CABC1D179D7D7E|     -34.8943081|      -56.1664375|                8.0|              74|76c41438-3a97-433...|       1|      2|        B|              10|[false, false, fa...|          true|2022|    6| 14|   1|     40|short description|                  0|          Empty|                  10|    Piso 1|      1|     false|\n",
      "|TresCrucesShopping|         1|La Pasiva, 1825, ...|Parking ubicado e...|39CABC1D179D7D7E|     -34.8943081|      -56.1664375|                8.0|              74|76c41438-3a97-433...|       1|      2|        B|              10|[false, false, fa...|          true|2022|    6| 14|   1|     40|short description|                  0|          Empty|                  10|    Piso 1|      2|     false|\n",
      "|TresCrucesShopping|         1|La Pasiva, 1825, ...|Parking ubicado e...|39CABC1D179D7D7E|     -34.8943081|      -56.1664375|                8.0|              74|76c41438-3a97-433...|       1|      2|        B|              10|[false, false, fa...|          true|2022|    6| 14|   1|     40|short description|                  0|          Empty|                  10|    Piso 1|      3|     false|\n",
      "|TresCrucesShopping|         1|La Pasiva, 1825, ...|Parking ubicado e...|39CABC1D179D7D7E|     -34.8943081|      -56.1664375|                8.0|              74|76c41438-3a97-433...|       1|      2|        B|              10|[false, false, fa...|          true|2022|    6| 14|   1|     40|short description|                  0|          Empty|                  10|    Piso 1|      4|     false|\n",
      "|TresCrucesShopping|         1|La Pasiva, 1825, ...|Parking ubicado e...|39CABC1D179D7D7E|     -34.8943081|      -56.1664375|                8.0|              74|76c41438-3a97-433...|       1|      2|        B|              10|[false, false, fa...|          true|2022|    6| 14|   1|     40|short description|                  0|          Empty|                  10|    Piso 1|      5|     false|\n",
      "|TresCrucesShopping|         1|La Pasiva, 1825, ...|Parking ubicado e...|39CABC1D179D7D7E|     -34.8943081|      -56.1664375|                8.0|              74|76c41438-3a97-433...|       1|      2|        B|              10|[false, false, fa...|          true|2022|    6| 14|   1|     40|short description|                  0|          Empty|                  10|    Piso 1|      6|     false|\n",
      "|TresCrucesShopping|         1|La Pasiva, 1825, ...|Parking ubicado e...|39CABC1D179D7D7E|     -34.8943081|      -56.1664375|                8.0|              74|76c41438-3a97-433...|       1|      2|        B|              10|[false, false, fa...|          true|2022|    6| 14|   1|     40|short description|                  0|          Empty|                  10|    Piso 1|      7|     false|\n",
      "|TresCrucesShopping|         1|La Pasiva, 1825, ...|Parking ubicado e...|39CABC1D179D7D7E|     -34.8943081|      -56.1664375|                8.0|              74|76c41438-3a97-433...|       1|      2|        B|              10|[false, false, fa...|          true|2022|    6| 14|   1|     40|short description|                  0|          Empty|                  10|    Piso 1|      8|     false|\n",
      "|TresCrucesShopping|         1|La Pasiva, 1825, ...|Parking ubicado e...|39CABC1D179D7D7E|     -34.8943081|      -56.1664375|                8.0|              74|76c41438-3a97-433...|       1|      2|        B|              10|[false, false, fa...|          true|2022|    6| 14|   1|     40|short description|                  0|          Empty|                  10|    Piso 1|      9|     false|\n",
      "|TresCrucesShopping|         1|La Pasiva, 1825, ...|Parking ubicado e...|39CABC1D179D7D7E|     -34.8943081|      -56.1664375|                8.0|              74|76c41438-3a97-433...|       1|      2|        B|              10|[false, false, fa...|          true|2022|    6| 14|   1|     40|short description|                  0|          Empty|                  10|    Piso 1|     10|     false|\n",
      "|TresCrucesShopping|         1|La Pasiva, 1825, ...|Parking ubicado e...|0013A2003152AC3D|     -34.8943081|      -56.1664375|              11.89|              53|76c41438-3a97-433...|       1|      3|        C|              10|[false, false, fa...|          true|2022|    6| 14|   1|     40|short description|                  0|          Empty|                  10|    Piso 1|      1|     false|\n",
      "|TresCrucesShopping|         1|La Pasiva, 1825, ...|Parking ubicado e...|0013A2003152AC3D|     -34.8943081|      -56.1664375|              11.89|              53|76c41438-3a97-433...|       1|      3|        C|              10|[false, false, fa...|          true|2022|    6| 14|   1|     40|short description|                  0|          Empty|                  10|    Piso 1|      2|     false|\n",
      "|TresCrucesShopping|         1|La Pasiva, 1825, ...|Parking ubicado e...|0013A2003152AC3D|     -34.8943081|      -56.1664375|              11.89|              53|76c41438-3a97-433...|       1|      3|        C|              10|[false, false, fa...|          true|2022|    6| 14|   1|     40|short description|                  0|          Empty|                  10|    Piso 1|      3|     false|\n",
      "|TresCrucesShopping|         1|La Pasiva, 1825, ...|Parking ubicado e...|0013A2003152AC3D|     -34.8943081|      -56.1664375|              11.89|              53|76c41438-3a97-433...|       1|      3|        C|              10|[false, false, fa...|          true|2022|    6| 14|   1|     40|short description|                  0|          Empty|                  10|    Piso 1|      4|     false|\n",
      "|TresCrucesShopping|         1|La Pasiva, 1825, ...|Parking ubicado e...|0013A2003152AC3D|     -34.8943081|      -56.1664375|              11.89|              53|76c41438-3a97-433...|       1|      3|        C|              10|[false, false, fa...|          true|2022|    6| 14|   1|     40|short description|                  0|          Empty|                  10|    Piso 1|      5|     false|\n",
      "|TresCrucesShopping|         1|La Pasiva, 1825, ...|Parking ubicado e...|0013A2003152AC3D|     -34.8943081|      -56.1664375|              11.89|              53|76c41438-3a97-433...|       1|      3|        C|              10|[false, false, fa...|          true|2022|    6| 14|   1|     40|short description|                  0|          Empty|                  10|    Piso 1|      6|     false|\n",
      "|TresCrucesShopping|         1|La Pasiva, 1825, ...|Parking ubicado e...|0013A2003152AC3D|     -34.8943081|      -56.1664375|              11.89|              53|76c41438-3a97-433...|       1|      3|        C|              10|[false, false, fa...|          true|2022|    6| 14|   1|     40|short description|                  0|          Empty|                  10|    Piso 1|      7|     false|\n",
      "|TresCrucesShopping|         1|La Pasiva, 1825, ...|Parking ubicado e...|0013A2003152AC3D|     -34.8943081|      -56.1664375|              11.89|              53|76c41438-3a97-433...|       1|      3|        C|              10|[false, false, fa...|          true|2022|    6| 14|   1|     40|short description|                  0|          Empty|                  10|    Piso 1|      8|     false|\n",
      "|TresCrucesShopping|         1|La Pasiva, 1825, ...|Parking ubicado e...|0013A2003152AC3D|     -34.8943081|      -56.1664375|              11.89|              53|76c41438-3a97-433...|       1|      3|        C|              10|[false, false, fa...|          true|2022|    6| 14|   1|     40|short description|                  0|          Empty|                  10|    Piso 1|      9|     false|\n",
      "|TresCrucesShopping|         1|La Pasiva, 1825, ...|Parking ubicado e...|0013A2003152AC3D|     -34.8943081|      -56.1664375|              11.89|              53|76c41438-3a97-433...|       1|      3|        C|              10|[false, false, fa...|          true|2022|    6| 14|   1|     40|short description|                  0|          Empty|                  10|    Piso 1|     10|     false|\n",
      "+------------------+----------+--------------------+--------------------+----------------+----------------+-----------------+-------------------+----------------+--------------------+--------+-------+---------+----------------+--------------------+--------------+----+-----+---+----+-------+-----------------+-------------------+---------------+--------------------+----------+-------+----------+\n",
      "only showing top 20 rows\n",
      "\n"
     ]
    },
    {
     "name": "stderr",
     "output_type": "stream",
     "text": [
      "\r",
      "[Stage 43:>                                                         (0 + 1) / 1]\r",
      "\r",
      "                                                                                \r"
     ]
    },
    {
     "name": "stdout",
     "output_type": "stream",
     "text": [
      "+------------------+----------+--------------------+--------------------+----------------+----------------+-----------------+-------------------+----------------+--------------------+--------+-------+---------+----------------+--------------------+--------------+----+-----+---+----+-------+-----------------+-------------------+---------------+--------------------+----------+-------+----------+\n",
      "|      parking_name|parking_id|     parking_address| parking_description|       device_id|parking_latitude|parking_longitude|parking_temperature|parking_humidity|        parking_uuid|level_id|area_id|area_name|area_total_spots|        device_slots|parking_closed|year|month|day|hour|minutes| area_description|area_occupied_spots|area_occupation|area_available_spots|level_name|slot_id|slot_state|\n",
      "+------------------+----------+--------------------+--------------------+----------------+----------------+-----------------+-------------------+----------------+--------------------+--------+-------+---------+----------------+--------------------+--------------+----+-----+---+----+-------+-----------------+-------------------+---------------+--------------------+----------+-------+----------+\n",
      "|TresCrucesShopping|         1|La Pasiva, 1825, ...|Parking ubicado e...|39CABC1D179D7D7E|     -34.8943081|      -56.1664375|                8.0|              74|76c41438-3a97-433...|       1|      2|        B|              10|[false, false, fa...|          true|2022|    6| 14|   1|     42|short description|                  0|          Empty|                  10|    Piso 1|      1|     false|\n",
      "|TresCrucesShopping|         1|La Pasiva, 1825, ...|Parking ubicado e...|39CABC1D179D7D7E|     -34.8943081|      -56.1664375|                8.0|              74|76c41438-3a97-433...|       1|      2|        B|              10|[false, false, fa...|          true|2022|    6| 14|   1|     42|short description|                  0|          Empty|                  10|    Piso 1|      2|     false|\n",
      "|TresCrucesShopping|         1|La Pasiva, 1825, ...|Parking ubicado e...|39CABC1D179D7D7E|     -34.8943081|      -56.1664375|                8.0|              74|76c41438-3a97-433...|       1|      2|        B|              10|[false, false, fa...|          true|2022|    6| 14|   1|     42|short description|                  0|          Empty|                  10|    Piso 1|      3|     false|\n",
      "|TresCrucesShopping|         1|La Pasiva, 1825, ...|Parking ubicado e...|39CABC1D179D7D7E|     -34.8943081|      -56.1664375|                8.0|              74|76c41438-3a97-433...|       1|      2|        B|              10|[false, false, fa...|          true|2022|    6| 14|   1|     42|short description|                  0|          Empty|                  10|    Piso 1|      4|     false|\n",
      "|TresCrucesShopping|         1|La Pasiva, 1825, ...|Parking ubicado e...|39CABC1D179D7D7E|     -34.8943081|      -56.1664375|                8.0|              74|76c41438-3a97-433...|       1|      2|        B|              10|[false, false, fa...|          true|2022|    6| 14|   1|     42|short description|                  0|          Empty|                  10|    Piso 1|      5|     false|\n",
      "|TresCrucesShopping|         1|La Pasiva, 1825, ...|Parking ubicado e...|39CABC1D179D7D7E|     -34.8943081|      -56.1664375|                8.0|              74|76c41438-3a97-433...|       1|      2|        B|              10|[false, false, fa...|          true|2022|    6| 14|   1|     42|short description|                  0|          Empty|                  10|    Piso 1|      6|     false|\n",
      "|TresCrucesShopping|         1|La Pasiva, 1825, ...|Parking ubicado e...|39CABC1D179D7D7E|     -34.8943081|      -56.1664375|                8.0|              74|76c41438-3a97-433...|       1|      2|        B|              10|[false, false, fa...|          true|2022|    6| 14|   1|     42|short description|                  0|          Empty|                  10|    Piso 1|      7|     false|\n",
      "|TresCrucesShopping|         1|La Pasiva, 1825, ...|Parking ubicado e...|39CABC1D179D7D7E|     -34.8943081|      -56.1664375|                8.0|              74|76c41438-3a97-433...|       1|      2|        B|              10|[false, false, fa...|          true|2022|    6| 14|   1|     42|short description|                  0|          Empty|                  10|    Piso 1|      8|     false|\n",
      "|TresCrucesShopping|         1|La Pasiva, 1825, ...|Parking ubicado e...|39CABC1D179D7D7E|     -34.8943081|      -56.1664375|                8.0|              74|76c41438-3a97-433...|       1|      2|        B|              10|[false, false, fa...|          true|2022|    6| 14|   1|     42|short description|                  0|          Empty|                  10|    Piso 1|      9|     false|\n",
      "|TresCrucesShopping|         1|La Pasiva, 1825, ...|Parking ubicado e...|39CABC1D179D7D7E|     -34.8943081|      -56.1664375|                8.0|              74|76c41438-3a97-433...|       1|      2|        B|              10|[false, false, fa...|          true|2022|    6| 14|   1|     42|short description|                  0|          Empty|                  10|    Piso 1|     10|     false|\n",
      "|TresCrucesShopping|         1|La Pasiva, 1825, ...|Parking ubicado e...|0013A2003152AC3D|     -34.8943081|      -56.1664375|              11.89|              53|76c41438-3a97-433...|       1|      3|        C|              10|[false, false, fa...|          true|2022|    6| 14|   1|     42|short description|                  0|          Empty|                  10|    Piso 1|      1|     false|\n",
      "|TresCrucesShopping|         1|La Pasiva, 1825, ...|Parking ubicado e...|0013A2003152AC3D|     -34.8943081|      -56.1664375|              11.89|              53|76c41438-3a97-433...|       1|      3|        C|              10|[false, false, fa...|          true|2022|    6| 14|   1|     42|short description|                  0|          Empty|                  10|    Piso 1|      2|     false|\n",
      "|TresCrucesShopping|         1|La Pasiva, 1825, ...|Parking ubicado e...|0013A2003152AC3D|     -34.8943081|      -56.1664375|              11.89|              53|76c41438-3a97-433...|       1|      3|        C|              10|[false, false, fa...|          true|2022|    6| 14|   1|     42|short description|                  0|          Empty|                  10|    Piso 1|      3|     false|\n",
      "|TresCrucesShopping|         1|La Pasiva, 1825, ...|Parking ubicado e...|0013A2003152AC3D|     -34.8943081|      -56.1664375|              11.89|              53|76c41438-3a97-433...|       1|      3|        C|              10|[false, false, fa...|          true|2022|    6| 14|   1|     42|short description|                  0|          Empty|                  10|    Piso 1|      4|     false|\n",
      "|TresCrucesShopping|         1|La Pasiva, 1825, ...|Parking ubicado e...|0013A2003152AC3D|     -34.8943081|      -56.1664375|              11.89|              53|76c41438-3a97-433...|       1|      3|        C|              10|[false, false, fa...|          true|2022|    6| 14|   1|     42|short description|                  0|          Empty|                  10|    Piso 1|      5|     false|\n",
      "|TresCrucesShopping|         1|La Pasiva, 1825, ...|Parking ubicado e...|0013A2003152AC3D|     -34.8943081|      -56.1664375|              11.89|              53|76c41438-3a97-433...|       1|      3|        C|              10|[false, false, fa...|          true|2022|    6| 14|   1|     42|short description|                  0|          Empty|                  10|    Piso 1|      6|     false|\n",
      "|TresCrucesShopping|         1|La Pasiva, 1825, ...|Parking ubicado e...|0013A2003152AC3D|     -34.8943081|      -56.1664375|              11.89|              53|76c41438-3a97-433...|       1|      3|        C|              10|[false, false, fa...|          true|2022|    6| 14|   1|     42|short description|                  0|          Empty|                  10|    Piso 1|      7|     false|\n",
      "|TresCrucesShopping|         1|La Pasiva, 1825, ...|Parking ubicado e...|0013A2003152AC3D|     -34.8943081|      -56.1664375|              11.89|              53|76c41438-3a97-433...|       1|      3|        C|              10|[false, false, fa...|          true|2022|    6| 14|   1|     42|short description|                  0|          Empty|                  10|    Piso 1|      8|     false|\n",
      "|TresCrucesShopping|         1|La Pasiva, 1825, ...|Parking ubicado e...|0013A2003152AC3D|     -34.8943081|      -56.1664375|              11.89|              53|76c41438-3a97-433...|       1|      3|        C|              10|[false, false, fa...|          true|2022|    6| 14|   1|     42|short description|                  0|          Empty|                  10|    Piso 1|      9|     false|\n",
      "|TresCrucesShopping|         1|La Pasiva, 1825, ...|Parking ubicado e...|0013A2003152AC3D|     -34.8943081|      -56.1664375|              11.89|              53|76c41438-3a97-433...|       1|      3|        C|              10|[false, false, fa...|          true|2022|    6| 14|   1|     42|short description|                  0|          Empty|                  10|    Piso 1|     10|     false|\n",
      "+------------------+----------+--------------------+--------------------+----------------+----------------+-----------------+-------------------+----------------+--------------------+--------+-------+---------+----------------+--------------------+--------------+----+-----+---+----+-------+-----------------+-------------------+---------------+--------------------+----------+-------+----------+\n",
      "only showing top 20 rows\n",
      "\n"
     ]
    },
    {
     "name": "stderr",
     "output_type": "stream",
     "text": [
      "\r",
      "[Stage 47:>                                                         (0 + 1) / 1]\r",
      "\r",
      "                                                                                \r"
     ]
    },
    {
     "name": "stdout",
     "output_type": "stream",
     "text": [
      "+------------------+----------+--------------------+--------------------+----------------+----------------+-----------------+-------------------+----------------+--------------------+--------+-------+---------+----------------+--------------------+--------------+----+-----+---+----+-------+-----------------+-------------------+---------------+--------------------+----------+-------+----------+\n",
      "|      parking_name|parking_id|     parking_address| parking_description|       device_id|parking_latitude|parking_longitude|parking_temperature|parking_humidity|        parking_uuid|level_id|area_id|area_name|area_total_spots|        device_slots|parking_closed|year|month|day|hour|minutes| area_description|area_occupied_spots|area_occupation|area_available_spots|level_name|slot_id|slot_state|\n",
      "+------------------+----------+--------------------+--------------------+----------------+----------------+-----------------+-------------------+----------------+--------------------+--------+-------+---------+----------------+--------------------+--------------+----+-----+---+----+-------+-----------------+-------------------+---------------+--------------------+----------+-------+----------+\n",
      "|TresCrucesShopping|         1|La Pasiva, 1825, ...|Parking ubicado e...|39CABC1D179D7D7E|     -34.8943081|      -56.1664375|                8.0|              74|76c41438-3a97-433...|       1|      2|        B|              10|[false, false, fa...|          true|2022|    6| 14|   1|     44|short description|                  0|          Empty|                  10|    Piso 1|      1|     false|\n",
      "|TresCrucesShopping|         1|La Pasiva, 1825, ...|Parking ubicado e...|39CABC1D179D7D7E|     -34.8943081|      -56.1664375|                8.0|              74|76c41438-3a97-433...|       1|      2|        B|              10|[false, false, fa...|          true|2022|    6| 14|   1|     44|short description|                  0|          Empty|                  10|    Piso 1|      2|     false|\n",
      "|TresCrucesShopping|         1|La Pasiva, 1825, ...|Parking ubicado e...|39CABC1D179D7D7E|     -34.8943081|      -56.1664375|                8.0|              74|76c41438-3a97-433...|       1|      2|        B|              10|[false, false, fa...|          true|2022|    6| 14|   1|     44|short description|                  0|          Empty|                  10|    Piso 1|      3|     false|\n",
      "|TresCrucesShopping|         1|La Pasiva, 1825, ...|Parking ubicado e...|39CABC1D179D7D7E|     -34.8943081|      -56.1664375|                8.0|              74|76c41438-3a97-433...|       1|      2|        B|              10|[false, false, fa...|          true|2022|    6| 14|   1|     44|short description|                  0|          Empty|                  10|    Piso 1|      4|     false|\n",
      "|TresCrucesShopping|         1|La Pasiva, 1825, ...|Parking ubicado e...|39CABC1D179D7D7E|     -34.8943081|      -56.1664375|                8.0|              74|76c41438-3a97-433...|       1|      2|        B|              10|[false, false, fa...|          true|2022|    6| 14|   1|     44|short description|                  0|          Empty|                  10|    Piso 1|      5|     false|\n",
      "|TresCrucesShopping|         1|La Pasiva, 1825, ...|Parking ubicado e...|39CABC1D179D7D7E|     -34.8943081|      -56.1664375|                8.0|              74|76c41438-3a97-433...|       1|      2|        B|              10|[false, false, fa...|          true|2022|    6| 14|   1|     44|short description|                  0|          Empty|                  10|    Piso 1|      6|     false|\n",
      "|TresCrucesShopping|         1|La Pasiva, 1825, ...|Parking ubicado e...|39CABC1D179D7D7E|     -34.8943081|      -56.1664375|                8.0|              74|76c41438-3a97-433...|       1|      2|        B|              10|[false, false, fa...|          true|2022|    6| 14|   1|     44|short description|                  0|          Empty|                  10|    Piso 1|      7|     false|\n",
      "|TresCrucesShopping|         1|La Pasiva, 1825, ...|Parking ubicado e...|39CABC1D179D7D7E|     -34.8943081|      -56.1664375|                8.0|              74|76c41438-3a97-433...|       1|      2|        B|              10|[false, false, fa...|          true|2022|    6| 14|   1|     44|short description|                  0|          Empty|                  10|    Piso 1|      8|     false|\n",
      "|TresCrucesShopping|         1|La Pasiva, 1825, ...|Parking ubicado e...|39CABC1D179D7D7E|     -34.8943081|      -56.1664375|                8.0|              74|76c41438-3a97-433...|       1|      2|        B|              10|[false, false, fa...|          true|2022|    6| 14|   1|     44|short description|                  0|          Empty|                  10|    Piso 1|      9|     false|\n",
      "|TresCrucesShopping|         1|La Pasiva, 1825, ...|Parking ubicado e...|39CABC1D179D7D7E|     -34.8943081|      -56.1664375|                8.0|              74|76c41438-3a97-433...|       1|      2|        B|              10|[false, false, fa...|          true|2022|    6| 14|   1|     44|short description|                  0|          Empty|                  10|    Piso 1|     10|     false|\n",
      "|TresCrucesShopping|         1|La Pasiva, 1825, ...|Parking ubicado e...|0701C5EED1D00C8E|     -34.8943081|      -56.1664375|                7.9|              68|76c41438-3a97-433...|       3|      2|        B|              10|[false, false, fa...|          true|2022|    6| 14|   1|     44|short description|                  0|          Empty|                  10|    Piso 3|      1|     false|\n",
      "|TresCrucesShopping|         1|La Pasiva, 1825, ...|Parking ubicado e...|0701C5EED1D00C8E|     -34.8943081|      -56.1664375|                7.9|              68|76c41438-3a97-433...|       3|      2|        B|              10|[false, false, fa...|          true|2022|    6| 14|   1|     44|short description|                  0|          Empty|                  10|    Piso 3|      2|     false|\n",
      "|TresCrucesShopping|         1|La Pasiva, 1825, ...|Parking ubicado e...|0701C5EED1D00C8E|     -34.8943081|      -56.1664375|                7.9|              68|76c41438-3a97-433...|       3|      2|        B|              10|[false, false, fa...|          true|2022|    6| 14|   1|     44|short description|                  0|          Empty|                  10|    Piso 3|      3|     false|\n",
      "|TresCrucesShopping|         1|La Pasiva, 1825, ...|Parking ubicado e...|0701C5EED1D00C8E|     -34.8943081|      -56.1664375|                7.9|              68|76c41438-3a97-433...|       3|      2|        B|              10|[false, false, fa...|          true|2022|    6| 14|   1|     44|short description|                  0|          Empty|                  10|    Piso 3|      4|     false|\n",
      "|TresCrucesShopping|         1|La Pasiva, 1825, ...|Parking ubicado e...|0701C5EED1D00C8E|     -34.8943081|      -56.1664375|                7.9|              68|76c41438-3a97-433...|       3|      2|        B|              10|[false, false, fa...|          true|2022|    6| 14|   1|     44|short description|                  0|          Empty|                  10|    Piso 3|      5|     false|\n",
      "|TresCrucesShopping|         1|La Pasiva, 1825, ...|Parking ubicado e...|0701C5EED1D00C8E|     -34.8943081|      -56.1664375|                7.9|              68|76c41438-3a97-433...|       3|      2|        B|              10|[false, false, fa...|          true|2022|    6| 14|   1|     44|short description|                  0|          Empty|                  10|    Piso 3|      6|     false|\n",
      "|TresCrucesShopping|         1|La Pasiva, 1825, ...|Parking ubicado e...|0701C5EED1D00C8E|     -34.8943081|      -56.1664375|                7.9|              68|76c41438-3a97-433...|       3|      2|        B|              10|[false, false, fa...|          true|2022|    6| 14|   1|     44|short description|                  0|          Empty|                  10|    Piso 3|      7|     false|\n",
      "|TresCrucesShopping|         1|La Pasiva, 1825, ...|Parking ubicado e...|0701C5EED1D00C8E|     -34.8943081|      -56.1664375|                7.9|              68|76c41438-3a97-433...|       3|      2|        B|              10|[false, false, fa...|          true|2022|    6| 14|   1|     44|short description|                  0|          Empty|                  10|    Piso 3|      8|     false|\n",
      "|TresCrucesShopping|         1|La Pasiva, 1825, ...|Parking ubicado e...|0701C5EED1D00C8E|     -34.8943081|      -56.1664375|                7.9|              68|76c41438-3a97-433...|       3|      2|        B|              10|[false, false, fa...|          true|2022|    6| 14|   1|     44|short description|                  0|          Empty|                  10|    Piso 3|      9|     false|\n",
      "|TresCrucesShopping|         1|La Pasiva, 1825, ...|Parking ubicado e...|0701C5EED1D00C8E|     -34.8943081|      -56.1664375|                7.9|              68|76c41438-3a97-433...|       3|      2|        B|              10|[false, false, fa...|          true|2022|    6| 14|   1|     44|short description|                  0|          Empty|                  10|    Piso 3|     10|     false|\n",
      "+------------------+----------+--------------------+--------------------+----------------+----------------+-----------------+-------------------+----------------+--------------------+--------+-------+---------+----------------+--------------------+--------------+----+-----+---+----+-------+-----------------+-------------------+---------------+--------------------+----------+-------+----------+\n",
      "only showing top 20 rows\n",
      "\n"
     ]
    },
    {
     "name": "stderr",
     "output_type": "stream",
     "text": [
      "                                                                                \r"
     ]
    },
    {
     "name": "stdout",
     "output_type": "stream",
     "text": [
      "+------------------+----------+--------------------+--------------------+----------------+----------------+-----------------+-------------------+----------------+--------------------+--------+-------+---------+----------------+--------------------+--------------+----+-----+---+----+-------+-----------------+-------------------+---------------+--------------------+----------+-------+----------+\n",
      "|      parking_name|parking_id|     parking_address| parking_description|       device_id|parking_latitude|parking_longitude|parking_temperature|parking_humidity|        parking_uuid|level_id|area_id|area_name|area_total_spots|        device_slots|parking_closed|year|month|day|hour|minutes| area_description|area_occupied_spots|area_occupation|area_available_spots|level_name|slot_id|slot_state|\n",
      "+------------------+----------+--------------------+--------------------+----------------+----------------+-----------------+-------------------+----------------+--------------------+--------+-------+---------+----------------+--------------------+--------------+----+-----+---+----+-------+-----------------+-------------------+---------------+--------------------+----------+-------+----------+\n",
      "|TresCrucesShopping|         1|La Pasiva, 1825, ...|Parking ubicado e...|39CABC1D179D7D7E|     -34.8943081|      -56.1664375|                8.0|              74|76c41438-3a97-433...|       1|      2|        B|              10|[false, false, fa...|          true|2022|    6| 14|   1|     46|short description|                  0|          Empty|                  10|    Piso 1|      1|     false|\n",
      "|TresCrucesShopping|         1|La Pasiva, 1825, ...|Parking ubicado e...|39CABC1D179D7D7E|     -34.8943081|      -56.1664375|                8.0|              74|76c41438-3a97-433...|       1|      2|        B|              10|[false, false, fa...|          true|2022|    6| 14|   1|     46|short description|                  0|          Empty|                  10|    Piso 1|      2|     false|\n",
      "|TresCrucesShopping|         1|La Pasiva, 1825, ...|Parking ubicado e...|39CABC1D179D7D7E|     -34.8943081|      -56.1664375|                8.0|              74|76c41438-3a97-433...|       1|      2|        B|              10|[false, false, fa...|          true|2022|    6| 14|   1|     46|short description|                  0|          Empty|                  10|    Piso 1|      3|     false|\n",
      "|TresCrucesShopping|         1|La Pasiva, 1825, ...|Parking ubicado e...|39CABC1D179D7D7E|     -34.8943081|      -56.1664375|                8.0|              74|76c41438-3a97-433...|       1|      2|        B|              10|[false, false, fa...|          true|2022|    6| 14|   1|     46|short description|                  0|          Empty|                  10|    Piso 1|      4|     false|\n",
      "|TresCrucesShopping|         1|La Pasiva, 1825, ...|Parking ubicado e...|39CABC1D179D7D7E|     -34.8943081|      -56.1664375|                8.0|              74|76c41438-3a97-433...|       1|      2|        B|              10|[false, false, fa...|          true|2022|    6| 14|   1|     46|short description|                  0|          Empty|                  10|    Piso 1|      5|     false|\n",
      "|TresCrucesShopping|         1|La Pasiva, 1825, ...|Parking ubicado e...|39CABC1D179D7D7E|     -34.8943081|      -56.1664375|                8.0|              74|76c41438-3a97-433...|       1|      2|        B|              10|[false, false, fa...|          true|2022|    6| 14|   1|     46|short description|                  0|          Empty|                  10|    Piso 1|      6|     false|\n",
      "|TresCrucesShopping|         1|La Pasiva, 1825, ...|Parking ubicado e...|39CABC1D179D7D7E|     -34.8943081|      -56.1664375|                8.0|              74|76c41438-3a97-433...|       1|      2|        B|              10|[false, false, fa...|          true|2022|    6| 14|   1|     46|short description|                  0|          Empty|                  10|    Piso 1|      7|     false|\n",
      "|TresCrucesShopping|         1|La Pasiva, 1825, ...|Parking ubicado e...|39CABC1D179D7D7E|     -34.8943081|      -56.1664375|                8.0|              74|76c41438-3a97-433...|       1|      2|        B|              10|[false, false, fa...|          true|2022|    6| 14|   1|     46|short description|                  0|          Empty|                  10|    Piso 1|      8|     false|\n",
      "|TresCrucesShopping|         1|La Pasiva, 1825, ...|Parking ubicado e...|39CABC1D179D7D7E|     -34.8943081|      -56.1664375|                8.0|              74|76c41438-3a97-433...|       1|      2|        B|              10|[false, false, fa...|          true|2022|    6| 14|   1|     46|short description|                  0|          Empty|                  10|    Piso 1|      9|     false|\n",
      "|TresCrucesShopping|         1|La Pasiva, 1825, ...|Parking ubicado e...|39CABC1D179D7D7E|     -34.8943081|      -56.1664375|                8.0|              74|76c41438-3a97-433...|       1|      2|        B|              10|[false, false, fa...|          true|2022|    6| 14|   1|     46|short description|                  0|          Empty|                  10|    Piso 1|     10|     false|\n",
      "|TresCrucesShopping|         1|La Pasiva, 1825, ...|Parking ubicado e...|0013A2003152AC3D|     -34.8943081|      -56.1664375|              11.89|              53|76c41438-3a97-433...|       1|      3|        C|              10|[false, false, fa...|          true|2022|    6| 14|   1|     46|short description|                  0|          Empty|                  10|    Piso 1|      1|     false|\n",
      "|TresCrucesShopping|         1|La Pasiva, 1825, ...|Parking ubicado e...|0013A2003152AC3D|     -34.8943081|      -56.1664375|              11.89|              53|76c41438-3a97-433...|       1|      3|        C|              10|[false, false, fa...|          true|2022|    6| 14|   1|     46|short description|                  0|          Empty|                  10|    Piso 1|      2|     false|\n",
      "|TresCrucesShopping|         1|La Pasiva, 1825, ...|Parking ubicado e...|0013A2003152AC3D|     -34.8943081|      -56.1664375|              11.89|              53|76c41438-3a97-433...|       1|      3|        C|              10|[false, false, fa...|          true|2022|    6| 14|   1|     46|short description|                  0|          Empty|                  10|    Piso 1|      3|     false|\n",
      "|TresCrucesShopping|         1|La Pasiva, 1825, ...|Parking ubicado e...|0013A2003152AC3D|     -34.8943081|      -56.1664375|              11.89|              53|76c41438-3a97-433...|       1|      3|        C|              10|[false, false, fa...|          true|2022|    6| 14|   1|     46|short description|                  0|          Empty|                  10|    Piso 1|      4|     false|\n",
      "|TresCrucesShopping|         1|La Pasiva, 1825, ...|Parking ubicado e...|0013A2003152AC3D|     -34.8943081|      -56.1664375|              11.89|              53|76c41438-3a97-433...|       1|      3|        C|              10|[false, false, fa...|          true|2022|    6| 14|   1|     46|short description|                  0|          Empty|                  10|    Piso 1|      5|     false|\n",
      "|TresCrucesShopping|         1|La Pasiva, 1825, ...|Parking ubicado e...|0013A2003152AC3D|     -34.8943081|      -56.1664375|              11.89|              53|76c41438-3a97-433...|       1|      3|        C|              10|[false, false, fa...|          true|2022|    6| 14|   1|     46|short description|                  0|          Empty|                  10|    Piso 1|      6|     false|\n",
      "|TresCrucesShopping|         1|La Pasiva, 1825, ...|Parking ubicado e...|0013A2003152AC3D|     -34.8943081|      -56.1664375|              11.89|              53|76c41438-3a97-433...|       1|      3|        C|              10|[false, false, fa...|          true|2022|    6| 14|   1|     46|short description|                  0|          Empty|                  10|    Piso 1|      7|     false|\n",
      "|TresCrucesShopping|         1|La Pasiva, 1825, ...|Parking ubicado e...|0013A2003152AC3D|     -34.8943081|      -56.1664375|              11.89|              53|76c41438-3a97-433...|       1|      3|        C|              10|[false, false, fa...|          true|2022|    6| 14|   1|     46|short description|                  0|          Empty|                  10|    Piso 1|      8|     false|\n",
      "|TresCrucesShopping|         1|La Pasiva, 1825, ...|Parking ubicado e...|0013A2003152AC3D|     -34.8943081|      -56.1664375|              11.89|              53|76c41438-3a97-433...|       1|      3|        C|              10|[false, false, fa...|          true|2022|    6| 14|   1|     46|short description|                  0|          Empty|                  10|    Piso 1|      9|     false|\n",
      "|TresCrucesShopping|         1|La Pasiva, 1825, ...|Parking ubicado e...|0013A2003152AC3D|     -34.8943081|      -56.1664375|              11.89|              53|76c41438-3a97-433...|       1|      3|        C|              10|[false, false, fa...|          true|2022|    6| 14|   1|     46|short description|                  0|          Empty|                  10|    Piso 1|     10|     false|\n",
      "+------------------+----------+--------------------+--------------------+----------------+----------------+-----------------+-------------------+----------------+--------------------+--------+-------+---------+----------------+--------------------+--------------+----+-----+---+----+-------+-----------------+-------------------+---------------+--------------------+----------+-------+----------+\n",
      "only showing top 20 rows\n",
      "\n"
     ]
    },
    {
     "name": "stderr",
     "output_type": "stream",
     "text": [
      "\r",
      "[Stage 52:>                                                         (0 + 1) / 1]\r",
      "\r",
      "                                                                                \r"
     ]
    },
    {
     "name": "stdout",
     "output_type": "stream",
     "text": [
      "+------------------+----------+--------------------+--------------------+----------------+----------------+-----------------+-------------------+----------------+--------------------+--------+-------+---------+----------------+--------------------+--------------+----+-----+---+----+-------+-----------------+-------------------+---------------+--------------------+----------+-------+----------+\n",
      "|      parking_name|parking_id|     parking_address| parking_description|       device_id|parking_latitude|parking_longitude|parking_temperature|parking_humidity|        parking_uuid|level_id|area_id|area_name|area_total_spots|        device_slots|parking_closed|year|month|day|hour|minutes| area_description|area_occupied_spots|area_occupation|area_available_spots|level_name|slot_id|slot_state|\n",
      "+------------------+----------+--------------------+--------------------+----------------+----------------+-----------------+-------------------+----------------+--------------------+--------+-------+---------+----------------+--------------------+--------------+----+-----+---+----+-------+-----------------+-------------------+---------------+--------------------+----------+-------+----------+\n",
      "|TresCrucesShopping|         1|La Pasiva, 1825, ...|Parking ubicado e...|39CABC1D179D7D7E|     -34.8943081|      -56.1664375|                8.0|              74|76c41438-3a97-433...|       1|      2|        B|              10|[false, false, fa...|          true|2022|    6| 14|   1|     48|short description|                  0|          Empty|                  10|    Piso 1|      1|     false|\n",
      "|TresCrucesShopping|         1|La Pasiva, 1825, ...|Parking ubicado e...|39CABC1D179D7D7E|     -34.8943081|      -56.1664375|                8.0|              74|76c41438-3a97-433...|       1|      2|        B|              10|[false, false, fa...|          true|2022|    6| 14|   1|     48|short description|                  0|          Empty|                  10|    Piso 1|      2|     false|\n",
      "|TresCrucesShopping|         1|La Pasiva, 1825, ...|Parking ubicado e...|39CABC1D179D7D7E|     -34.8943081|      -56.1664375|                8.0|              74|76c41438-3a97-433...|       1|      2|        B|              10|[false, false, fa...|          true|2022|    6| 14|   1|     48|short description|                  0|          Empty|                  10|    Piso 1|      3|     false|\n",
      "|TresCrucesShopping|         1|La Pasiva, 1825, ...|Parking ubicado e...|39CABC1D179D7D7E|     -34.8943081|      -56.1664375|                8.0|              74|76c41438-3a97-433...|       1|      2|        B|              10|[false, false, fa...|          true|2022|    6| 14|   1|     48|short description|                  0|          Empty|                  10|    Piso 1|      4|     false|\n",
      "|TresCrucesShopping|         1|La Pasiva, 1825, ...|Parking ubicado e...|39CABC1D179D7D7E|     -34.8943081|      -56.1664375|                8.0|              74|76c41438-3a97-433...|       1|      2|        B|              10|[false, false, fa...|          true|2022|    6| 14|   1|     48|short description|                  0|          Empty|                  10|    Piso 1|      5|     false|\n",
      "|TresCrucesShopping|         1|La Pasiva, 1825, ...|Parking ubicado e...|39CABC1D179D7D7E|     -34.8943081|      -56.1664375|                8.0|              74|76c41438-3a97-433...|       1|      2|        B|              10|[false, false, fa...|          true|2022|    6| 14|   1|     48|short description|                  0|          Empty|                  10|    Piso 1|      6|     false|\n",
      "|TresCrucesShopping|         1|La Pasiva, 1825, ...|Parking ubicado e...|39CABC1D179D7D7E|     -34.8943081|      -56.1664375|                8.0|              74|76c41438-3a97-433...|       1|      2|        B|              10|[false, false, fa...|          true|2022|    6| 14|   1|     48|short description|                  0|          Empty|                  10|    Piso 1|      7|     false|\n",
      "|TresCrucesShopping|         1|La Pasiva, 1825, ...|Parking ubicado e...|39CABC1D179D7D7E|     -34.8943081|      -56.1664375|                8.0|              74|76c41438-3a97-433...|       1|      2|        B|              10|[false, false, fa...|          true|2022|    6| 14|   1|     48|short description|                  0|          Empty|                  10|    Piso 1|      8|     false|\n",
      "|TresCrucesShopping|         1|La Pasiva, 1825, ...|Parking ubicado e...|39CABC1D179D7D7E|     -34.8943081|      -56.1664375|                8.0|              74|76c41438-3a97-433...|       1|      2|        B|              10|[false, false, fa...|          true|2022|    6| 14|   1|     48|short description|                  0|          Empty|                  10|    Piso 1|      9|     false|\n",
      "|TresCrucesShopping|         1|La Pasiva, 1825, ...|Parking ubicado e...|39CABC1D179D7D7E|     -34.8943081|      -56.1664375|                8.0|              74|76c41438-3a97-433...|       1|      2|        B|              10|[false, false, fa...|          true|2022|    6| 14|   1|     48|short description|                  0|          Empty|                  10|    Piso 1|     10|     false|\n",
      "|TresCrucesShopping|         1|La Pasiva, 1825, ...|Parking ubicado e...|0013A2003152AC3D|     -34.8943081|      -56.1664375|              11.89|              53|76c41438-3a97-433...|       1|      3|        C|              10|[false, false, fa...|          true|2022|    6| 14|   1|     48|short description|                  0|          Empty|                  10|    Piso 1|      1|     false|\n",
      "|TresCrucesShopping|         1|La Pasiva, 1825, ...|Parking ubicado e...|0013A2003152AC3D|     -34.8943081|      -56.1664375|              11.89|              53|76c41438-3a97-433...|       1|      3|        C|              10|[false, false, fa...|          true|2022|    6| 14|   1|     48|short description|                  0|          Empty|                  10|    Piso 1|      2|     false|\n",
      "|TresCrucesShopping|         1|La Pasiva, 1825, ...|Parking ubicado e...|0013A2003152AC3D|     -34.8943081|      -56.1664375|              11.89|              53|76c41438-3a97-433...|       1|      3|        C|              10|[false, false, fa...|          true|2022|    6| 14|   1|     48|short description|                  0|          Empty|                  10|    Piso 1|      3|     false|\n",
      "|TresCrucesShopping|         1|La Pasiva, 1825, ...|Parking ubicado e...|0013A2003152AC3D|     -34.8943081|      -56.1664375|              11.89|              53|76c41438-3a97-433...|       1|      3|        C|              10|[false, false, fa...|          true|2022|    6| 14|   1|     48|short description|                  0|          Empty|                  10|    Piso 1|      4|     false|\n",
      "|TresCrucesShopping|         1|La Pasiva, 1825, ...|Parking ubicado e...|0013A2003152AC3D|     -34.8943081|      -56.1664375|              11.89|              53|76c41438-3a97-433...|       1|      3|        C|              10|[false, false, fa...|          true|2022|    6| 14|   1|     48|short description|                  0|          Empty|                  10|    Piso 1|      5|     false|\n",
      "|TresCrucesShopping|         1|La Pasiva, 1825, ...|Parking ubicado e...|0013A2003152AC3D|     -34.8943081|      -56.1664375|              11.89|              53|76c41438-3a97-433...|       1|      3|        C|              10|[false, false, fa...|          true|2022|    6| 14|   1|     48|short description|                  0|          Empty|                  10|    Piso 1|      6|     false|\n",
      "|TresCrucesShopping|         1|La Pasiva, 1825, ...|Parking ubicado e...|0013A2003152AC3D|     -34.8943081|      -56.1664375|              11.89|              53|76c41438-3a97-433...|       1|      3|        C|              10|[false, false, fa...|          true|2022|    6| 14|   1|     48|short description|                  0|          Empty|                  10|    Piso 1|      7|     false|\n",
      "|TresCrucesShopping|         1|La Pasiva, 1825, ...|Parking ubicado e...|0013A2003152AC3D|     -34.8943081|      -56.1664375|              11.89|              53|76c41438-3a97-433...|       1|      3|        C|              10|[false, false, fa...|          true|2022|    6| 14|   1|     48|short description|                  0|          Empty|                  10|    Piso 1|      8|     false|\n",
      "|TresCrucesShopping|         1|La Pasiva, 1825, ...|Parking ubicado e...|0013A2003152AC3D|     -34.8943081|      -56.1664375|              11.89|              53|76c41438-3a97-433...|       1|      3|        C|              10|[false, false, fa...|          true|2022|    6| 14|   1|     48|short description|                  0|          Empty|                  10|    Piso 1|      9|     false|\n",
      "|TresCrucesShopping|         1|La Pasiva, 1825, ...|Parking ubicado e...|0013A2003152AC3D|     -34.8943081|      -56.1664375|              11.89|              53|76c41438-3a97-433...|       1|      3|        C|              10|[false, false, fa...|          true|2022|    6| 14|   1|     48|short description|                  0|          Empty|                  10|    Piso 1|     10|     false|\n",
      "+------------------+----------+--------------------+--------------------+----------------+----------------+-----------------+-------------------+----------------+--------------------+--------+-------+---------+----------------+--------------------+--------------+----+-----+---+----+-------+-----------------+-------------------+---------------+--------------------+----------+-------+----------+\n",
      "only showing top 20 rows\n",
      "\n"
     ]
    },
    {
     "name": "stderr",
     "output_type": "stream",
     "text": [
      "\r",
      "[Stage 55:>                                                         (0 + 1) / 1]\r",
      "\r",
      "                                                                                \r"
     ]
    },
    {
     "name": "stdout",
     "output_type": "stream",
     "text": [
      "+------------------+----------+--------------------+--------------------+----------------+----------------+-----------------+-------------------+----------------+--------------------+--------+-------+---------+----------------+--------------------+--------------+----+-----+---+----+-------+-----------------+-------------------+---------------+--------------------+----------+-------+----------+\n",
      "|      parking_name|parking_id|     parking_address| parking_description|       device_id|parking_latitude|parking_longitude|parking_temperature|parking_humidity|        parking_uuid|level_id|area_id|area_name|area_total_spots|        device_slots|parking_closed|year|month|day|hour|minutes| area_description|area_occupied_spots|area_occupation|area_available_spots|level_name|slot_id|slot_state|\n",
      "+------------------+----------+--------------------+--------------------+----------------+----------------+-----------------+-------------------+----------------+--------------------+--------+-------+---------+----------------+--------------------+--------------+----+-----+---+----+-------+-----------------+-------------------+---------------+--------------------+----------+-------+----------+\n",
      "|TresCrucesShopping|         1|La Pasiva, 1825, ...|Parking ubicado e...|39CABC1D179D7D7E|     -34.8943081|      -56.1664375|                8.0|              74|76c41438-3a97-433...|       1|      2|        B|              10|[false, false, fa...|          true|2022|    6| 14|   1|     50|short description|                  0|          Empty|                  10|    Piso 1|      1|     false|\n",
      "|TresCrucesShopping|         1|La Pasiva, 1825, ...|Parking ubicado e...|39CABC1D179D7D7E|     -34.8943081|      -56.1664375|                8.0|              74|76c41438-3a97-433...|       1|      2|        B|              10|[false, false, fa...|          true|2022|    6| 14|   1|     50|short description|                  0|          Empty|                  10|    Piso 1|      2|     false|\n",
      "|TresCrucesShopping|         1|La Pasiva, 1825, ...|Parking ubicado e...|39CABC1D179D7D7E|     -34.8943081|      -56.1664375|                8.0|              74|76c41438-3a97-433...|       1|      2|        B|              10|[false, false, fa...|          true|2022|    6| 14|   1|     50|short description|                  0|          Empty|                  10|    Piso 1|      3|     false|\n",
      "|TresCrucesShopping|         1|La Pasiva, 1825, ...|Parking ubicado e...|39CABC1D179D7D7E|     -34.8943081|      -56.1664375|                8.0|              74|76c41438-3a97-433...|       1|      2|        B|              10|[false, false, fa...|          true|2022|    6| 14|   1|     50|short description|                  0|          Empty|                  10|    Piso 1|      4|     false|\n",
      "|TresCrucesShopping|         1|La Pasiva, 1825, ...|Parking ubicado e...|39CABC1D179D7D7E|     -34.8943081|      -56.1664375|                8.0|              74|76c41438-3a97-433...|       1|      2|        B|              10|[false, false, fa...|          true|2022|    6| 14|   1|     50|short description|                  0|          Empty|                  10|    Piso 1|      5|     false|\n",
      "|TresCrucesShopping|         1|La Pasiva, 1825, ...|Parking ubicado e...|39CABC1D179D7D7E|     -34.8943081|      -56.1664375|                8.0|              74|76c41438-3a97-433...|       1|      2|        B|              10|[false, false, fa...|          true|2022|    6| 14|   1|     50|short description|                  0|          Empty|                  10|    Piso 1|      6|     false|\n",
      "|TresCrucesShopping|         1|La Pasiva, 1825, ...|Parking ubicado e...|39CABC1D179D7D7E|     -34.8943081|      -56.1664375|                8.0|              74|76c41438-3a97-433...|       1|      2|        B|              10|[false, false, fa...|          true|2022|    6| 14|   1|     50|short description|                  0|          Empty|                  10|    Piso 1|      7|     false|\n",
      "|TresCrucesShopping|         1|La Pasiva, 1825, ...|Parking ubicado e...|39CABC1D179D7D7E|     -34.8943081|      -56.1664375|                8.0|              74|76c41438-3a97-433...|       1|      2|        B|              10|[false, false, fa...|          true|2022|    6| 14|   1|     50|short description|                  0|          Empty|                  10|    Piso 1|      8|     false|\n",
      "|TresCrucesShopping|         1|La Pasiva, 1825, ...|Parking ubicado e...|39CABC1D179D7D7E|     -34.8943081|      -56.1664375|                8.0|              74|76c41438-3a97-433...|       1|      2|        B|              10|[false, false, fa...|          true|2022|    6| 14|   1|     50|short description|                  0|          Empty|                  10|    Piso 1|      9|     false|\n",
      "|TresCrucesShopping|         1|La Pasiva, 1825, ...|Parking ubicado e...|39CABC1D179D7D7E|     -34.8943081|      -56.1664375|                8.0|              74|76c41438-3a97-433...|       1|      2|        B|              10|[false, false, fa...|          true|2022|    6| 14|   1|     50|short description|                  0|          Empty|                  10|    Piso 1|     10|     false|\n",
      "|TresCrucesShopping|         1|La Pasiva, 1825, ...|Parking ubicado e...|0013A2003152AC3D|     -34.8943081|      -56.1664375|              11.89|              53|76c41438-3a97-433...|       1|      3|        C|              10|[false, false, fa...|          true|2022|    6| 14|   1|     50|short description|                  0|          Empty|                  10|    Piso 1|      1|     false|\n",
      "|TresCrucesShopping|         1|La Pasiva, 1825, ...|Parking ubicado e...|0013A2003152AC3D|     -34.8943081|      -56.1664375|              11.89|              53|76c41438-3a97-433...|       1|      3|        C|              10|[false, false, fa...|          true|2022|    6| 14|   1|     50|short description|                  0|          Empty|                  10|    Piso 1|      2|     false|\n",
      "|TresCrucesShopping|         1|La Pasiva, 1825, ...|Parking ubicado e...|0013A2003152AC3D|     -34.8943081|      -56.1664375|              11.89|              53|76c41438-3a97-433...|       1|      3|        C|              10|[false, false, fa...|          true|2022|    6| 14|   1|     50|short description|                  0|          Empty|                  10|    Piso 1|      3|     false|\n",
      "|TresCrucesShopping|         1|La Pasiva, 1825, ...|Parking ubicado e...|0013A2003152AC3D|     -34.8943081|      -56.1664375|              11.89|              53|76c41438-3a97-433...|       1|      3|        C|              10|[false, false, fa...|          true|2022|    6| 14|   1|     50|short description|                  0|          Empty|                  10|    Piso 1|      4|     false|\n",
      "|TresCrucesShopping|         1|La Pasiva, 1825, ...|Parking ubicado e...|0013A2003152AC3D|     -34.8943081|      -56.1664375|              11.89|              53|76c41438-3a97-433...|       1|      3|        C|              10|[false, false, fa...|          true|2022|    6| 14|   1|     50|short description|                  0|          Empty|                  10|    Piso 1|      5|     false|\n",
      "|TresCrucesShopping|         1|La Pasiva, 1825, ...|Parking ubicado e...|0013A2003152AC3D|     -34.8943081|      -56.1664375|              11.89|              53|76c41438-3a97-433...|       1|      3|        C|              10|[false, false, fa...|          true|2022|    6| 14|   1|     50|short description|                  0|          Empty|                  10|    Piso 1|      6|     false|\n",
      "|TresCrucesShopping|         1|La Pasiva, 1825, ...|Parking ubicado e...|0013A2003152AC3D|     -34.8943081|      -56.1664375|              11.89|              53|76c41438-3a97-433...|       1|      3|        C|              10|[false, false, fa...|          true|2022|    6| 14|   1|     50|short description|                  0|          Empty|                  10|    Piso 1|      7|     false|\n",
      "|TresCrucesShopping|         1|La Pasiva, 1825, ...|Parking ubicado e...|0013A2003152AC3D|     -34.8943081|      -56.1664375|              11.89|              53|76c41438-3a97-433...|       1|      3|        C|              10|[false, false, fa...|          true|2022|    6| 14|   1|     50|short description|                  0|          Empty|                  10|    Piso 1|      8|     false|\n",
      "|TresCrucesShopping|         1|La Pasiva, 1825, ...|Parking ubicado e...|0013A2003152AC3D|     -34.8943081|      -56.1664375|              11.89|              53|76c41438-3a97-433...|       1|      3|        C|              10|[false, false, fa...|          true|2022|    6| 14|   1|     50|short description|                  0|          Empty|                  10|    Piso 1|      9|     false|\n",
      "|TresCrucesShopping|         1|La Pasiva, 1825, ...|Parking ubicado e...|0013A2003152AC3D|     -34.8943081|      -56.1664375|              11.89|              53|76c41438-3a97-433...|       1|      3|        C|              10|[false, false, fa...|          true|2022|    6| 14|   1|     50|short description|                  0|          Empty|                  10|    Piso 1|     10|     false|\n",
      "+------------------+----------+--------------------+--------------------+----------------+----------------+-----------------+-------------------+----------------+--------------------+--------+-------+---------+----------------+--------------------+--------------+----+-----+---+----+-------+-----------------+-------------------+---------------+--------------------+----------+-------+----------+\n",
      "only showing top 20 rows\n",
      "\n"
     ]
    },
    {
     "name": "stderr",
     "output_type": "stream",
     "text": [
      "\r",
      "[Stage 59:>                                                         (0 + 1) / 1]\r",
      "\r",
      "                                                                                \r"
     ]
    },
    {
     "name": "stdout",
     "output_type": "stream",
     "text": [
      "+------------------+----------+--------------------+--------------------+----------------+----------------+-----------------+-------------------+----------------+--------------------+--------+-------+---------+----------------+--------------------+--------------+----+-----+---+----+-------+-----------------+-------------------+---------------+--------------------+----------+-------+----------+\n",
      "|      parking_name|parking_id|     parking_address| parking_description|       device_id|parking_latitude|parking_longitude|parking_temperature|parking_humidity|        parking_uuid|level_id|area_id|area_name|area_total_spots|        device_slots|parking_closed|year|month|day|hour|minutes| area_description|area_occupied_spots|area_occupation|area_available_spots|level_name|slot_id|slot_state|\n",
      "+------------------+----------+--------------------+--------------------+----------------+----------------+-----------------+-------------------+----------------+--------------------+--------+-------+---------+----------------+--------------------+--------------+----+-----+---+----+-------+-----------------+-------------------+---------------+--------------------+----------+-------+----------+\n",
      "|TresCrucesShopping|         1|La Pasiva, 1825, ...|Parking ubicado e...|39CABC1D179D7D7E|     -34.8943081|      -56.1664375|                8.0|              74|76c41438-3a97-433...|       1|      2|        B|              10|[false, false, fa...|          true|2022|    6| 14|   1|     52|short description|                  0|          Empty|                  10|    Piso 1|      1|     false|\n",
      "|TresCrucesShopping|         1|La Pasiva, 1825, ...|Parking ubicado e...|39CABC1D179D7D7E|     -34.8943081|      -56.1664375|                8.0|              74|76c41438-3a97-433...|       1|      2|        B|              10|[false, false, fa...|          true|2022|    6| 14|   1|     52|short description|                  0|          Empty|                  10|    Piso 1|      2|     false|\n",
      "|TresCrucesShopping|         1|La Pasiva, 1825, ...|Parking ubicado e...|39CABC1D179D7D7E|     -34.8943081|      -56.1664375|                8.0|              74|76c41438-3a97-433...|       1|      2|        B|              10|[false, false, fa...|          true|2022|    6| 14|   1|     52|short description|                  0|          Empty|                  10|    Piso 1|      3|     false|\n",
      "|TresCrucesShopping|         1|La Pasiva, 1825, ...|Parking ubicado e...|39CABC1D179D7D7E|     -34.8943081|      -56.1664375|                8.0|              74|76c41438-3a97-433...|       1|      2|        B|              10|[false, false, fa...|          true|2022|    6| 14|   1|     52|short description|                  0|          Empty|                  10|    Piso 1|      4|     false|\n",
      "|TresCrucesShopping|         1|La Pasiva, 1825, ...|Parking ubicado e...|39CABC1D179D7D7E|     -34.8943081|      -56.1664375|                8.0|              74|76c41438-3a97-433...|       1|      2|        B|              10|[false, false, fa...|          true|2022|    6| 14|   1|     52|short description|                  0|          Empty|                  10|    Piso 1|      5|     false|\n",
      "|TresCrucesShopping|         1|La Pasiva, 1825, ...|Parking ubicado e...|39CABC1D179D7D7E|     -34.8943081|      -56.1664375|                8.0|              74|76c41438-3a97-433...|       1|      2|        B|              10|[false, false, fa...|          true|2022|    6| 14|   1|     52|short description|                  0|          Empty|                  10|    Piso 1|      6|     false|\n",
      "|TresCrucesShopping|         1|La Pasiva, 1825, ...|Parking ubicado e...|39CABC1D179D7D7E|     -34.8943081|      -56.1664375|                8.0|              74|76c41438-3a97-433...|       1|      2|        B|              10|[false, false, fa...|          true|2022|    6| 14|   1|     52|short description|                  0|          Empty|                  10|    Piso 1|      7|     false|\n",
      "|TresCrucesShopping|         1|La Pasiva, 1825, ...|Parking ubicado e...|39CABC1D179D7D7E|     -34.8943081|      -56.1664375|                8.0|              74|76c41438-3a97-433...|       1|      2|        B|              10|[false, false, fa...|          true|2022|    6| 14|   1|     52|short description|                  0|          Empty|                  10|    Piso 1|      8|     false|\n",
      "|TresCrucesShopping|         1|La Pasiva, 1825, ...|Parking ubicado e...|39CABC1D179D7D7E|     -34.8943081|      -56.1664375|                8.0|              74|76c41438-3a97-433...|       1|      2|        B|              10|[false, false, fa...|          true|2022|    6| 14|   1|     52|short description|                  0|          Empty|                  10|    Piso 1|      9|     false|\n",
      "|TresCrucesShopping|         1|La Pasiva, 1825, ...|Parking ubicado e...|39CABC1D179D7D7E|     -34.8943081|      -56.1664375|                8.0|              74|76c41438-3a97-433...|       1|      2|        B|              10|[false, false, fa...|          true|2022|    6| 14|   1|     52|short description|                  0|          Empty|                  10|    Piso 1|     10|     false|\n",
      "|TresCrucesShopping|         1|La Pasiva, 1825, ...|Parking ubicado e...|0013A2003152AC3D|     -34.8943081|      -56.1664375|              11.89|              53|76c41438-3a97-433...|       1|      3|        C|              10|[false, false, fa...|          true|2022|    6| 14|   1|     52|short description|                  0|          Empty|                  10|    Piso 1|      1|     false|\n",
      "|TresCrucesShopping|         1|La Pasiva, 1825, ...|Parking ubicado e...|0013A2003152AC3D|     -34.8943081|      -56.1664375|              11.89|              53|76c41438-3a97-433...|       1|      3|        C|              10|[false, false, fa...|          true|2022|    6| 14|   1|     52|short description|                  0|          Empty|                  10|    Piso 1|      2|     false|\n",
      "|TresCrucesShopping|         1|La Pasiva, 1825, ...|Parking ubicado e...|0013A2003152AC3D|     -34.8943081|      -56.1664375|              11.89|              53|76c41438-3a97-433...|       1|      3|        C|              10|[false, false, fa...|          true|2022|    6| 14|   1|     52|short description|                  0|          Empty|                  10|    Piso 1|      3|     false|\n",
      "|TresCrucesShopping|         1|La Pasiva, 1825, ...|Parking ubicado e...|0013A2003152AC3D|     -34.8943081|      -56.1664375|              11.89|              53|76c41438-3a97-433...|       1|      3|        C|              10|[false, false, fa...|          true|2022|    6| 14|   1|     52|short description|                  0|          Empty|                  10|    Piso 1|      4|     false|\n",
      "|TresCrucesShopping|         1|La Pasiva, 1825, ...|Parking ubicado e...|0013A2003152AC3D|     -34.8943081|      -56.1664375|              11.89|              53|76c41438-3a97-433...|       1|      3|        C|              10|[false, false, fa...|          true|2022|    6| 14|   1|     52|short description|                  0|          Empty|                  10|    Piso 1|      5|     false|\n",
      "|TresCrucesShopping|         1|La Pasiva, 1825, ...|Parking ubicado e...|0013A2003152AC3D|     -34.8943081|      -56.1664375|              11.89|              53|76c41438-3a97-433...|       1|      3|        C|              10|[false, false, fa...|          true|2022|    6| 14|   1|     52|short description|                  0|          Empty|                  10|    Piso 1|      6|     false|\n",
      "|TresCrucesShopping|         1|La Pasiva, 1825, ...|Parking ubicado e...|0013A2003152AC3D|     -34.8943081|      -56.1664375|              11.89|              53|76c41438-3a97-433...|       1|      3|        C|              10|[false, false, fa...|          true|2022|    6| 14|   1|     52|short description|                  0|          Empty|                  10|    Piso 1|      7|     false|\n",
      "|TresCrucesShopping|         1|La Pasiva, 1825, ...|Parking ubicado e...|0013A2003152AC3D|     -34.8943081|      -56.1664375|              11.89|              53|76c41438-3a97-433...|       1|      3|        C|              10|[false, false, fa...|          true|2022|    6| 14|   1|     52|short description|                  0|          Empty|                  10|    Piso 1|      8|     false|\n",
      "|TresCrucesShopping|         1|La Pasiva, 1825, ...|Parking ubicado e...|0013A2003152AC3D|     -34.8943081|      -56.1664375|              11.89|              53|76c41438-3a97-433...|       1|      3|        C|              10|[false, false, fa...|          true|2022|    6| 14|   1|     52|short description|                  0|          Empty|                  10|    Piso 1|      9|     false|\n",
      "|TresCrucesShopping|         1|La Pasiva, 1825, ...|Parking ubicado e...|0013A2003152AC3D|     -34.8943081|      -56.1664375|              11.89|              53|76c41438-3a97-433...|       1|      3|        C|              10|[false, false, fa...|          true|2022|    6| 14|   1|     52|short description|                  0|          Empty|                  10|    Piso 1|     10|     false|\n",
      "+------------------+----------+--------------------+--------------------+----------------+----------------+-----------------+-------------------+----------------+--------------------+--------+-------+---------+----------------+--------------------+--------------+----+-----+---+----+-------+-----------------+-------------------+---------------+--------------------+----------+-------+----------+\n",
      "only showing top 20 rows\n",
      "\n"
     ]
    },
    {
     "name": "stderr",
     "output_type": "stream",
     "text": [
      "                                                                                \r"
     ]
    },
    {
     "name": "stdout",
     "output_type": "stream",
     "text": [
      "+------------------+----------+--------------------+--------------------+----------------+----------------+-----------------+-------------------+----------------+--------------------+--------+-------+---------+----------------+--------------------+--------------+----+-----+---+----+-------+-----------------+-------------------+---------------+--------------------+----------+-------+----------+\n",
      "|      parking_name|parking_id|     parking_address| parking_description|       device_id|parking_latitude|parking_longitude|parking_temperature|parking_humidity|        parking_uuid|level_id|area_id|area_name|area_total_spots|        device_slots|parking_closed|year|month|day|hour|minutes| area_description|area_occupied_spots|area_occupation|area_available_spots|level_name|slot_id|slot_state|\n",
      "+------------------+----------+--------------------+--------------------+----------------+----------------+-----------------+-------------------+----------------+--------------------+--------+-------+---------+----------------+--------------------+--------------+----+-----+---+----+-------+-----------------+-------------------+---------------+--------------------+----------+-------+----------+\n",
      "|TresCrucesShopping|         1|La Pasiva, 1825, ...|Parking ubicado e...|39CABC1D179D7D7E|     -34.8943081|      -56.1664375|                8.0|              74|76c41438-3a97-433...|       1|      2|        B|              10|[false, false, fa...|          true|2022|    6| 14|   1|     54|short description|                  0|          Empty|                  10|    Piso 1|      1|     false|\n",
      "|TresCrucesShopping|         1|La Pasiva, 1825, ...|Parking ubicado e...|39CABC1D179D7D7E|     -34.8943081|      -56.1664375|                8.0|              74|76c41438-3a97-433...|       1|      2|        B|              10|[false, false, fa...|          true|2022|    6| 14|   1|     54|short description|                  0|          Empty|                  10|    Piso 1|      2|     false|\n",
      "|TresCrucesShopping|         1|La Pasiva, 1825, ...|Parking ubicado e...|39CABC1D179D7D7E|     -34.8943081|      -56.1664375|                8.0|              74|76c41438-3a97-433...|       1|      2|        B|              10|[false, false, fa...|          true|2022|    6| 14|   1|     54|short description|                  0|          Empty|                  10|    Piso 1|      3|     false|\n",
      "|TresCrucesShopping|         1|La Pasiva, 1825, ...|Parking ubicado e...|39CABC1D179D7D7E|     -34.8943081|      -56.1664375|                8.0|              74|76c41438-3a97-433...|       1|      2|        B|              10|[false, false, fa...|          true|2022|    6| 14|   1|     54|short description|                  0|          Empty|                  10|    Piso 1|      4|     false|\n",
      "|TresCrucesShopping|         1|La Pasiva, 1825, ...|Parking ubicado e...|39CABC1D179D7D7E|     -34.8943081|      -56.1664375|                8.0|              74|76c41438-3a97-433...|       1|      2|        B|              10|[false, false, fa...|          true|2022|    6| 14|   1|     54|short description|                  0|          Empty|                  10|    Piso 1|      5|     false|\n",
      "|TresCrucesShopping|         1|La Pasiva, 1825, ...|Parking ubicado e...|39CABC1D179D7D7E|     -34.8943081|      -56.1664375|                8.0|              74|76c41438-3a97-433...|       1|      2|        B|              10|[false, false, fa...|          true|2022|    6| 14|   1|     54|short description|                  0|          Empty|                  10|    Piso 1|      6|     false|\n",
      "|TresCrucesShopping|         1|La Pasiva, 1825, ...|Parking ubicado e...|39CABC1D179D7D7E|     -34.8943081|      -56.1664375|                8.0|              74|76c41438-3a97-433...|       1|      2|        B|              10|[false, false, fa...|          true|2022|    6| 14|   1|     54|short description|                  0|          Empty|                  10|    Piso 1|      7|     false|\n",
      "|TresCrucesShopping|         1|La Pasiva, 1825, ...|Parking ubicado e...|39CABC1D179D7D7E|     -34.8943081|      -56.1664375|                8.0|              74|76c41438-3a97-433...|       1|      2|        B|              10|[false, false, fa...|          true|2022|    6| 14|   1|     54|short description|                  0|          Empty|                  10|    Piso 1|      8|     false|\n",
      "|TresCrucesShopping|         1|La Pasiva, 1825, ...|Parking ubicado e...|39CABC1D179D7D7E|     -34.8943081|      -56.1664375|                8.0|              74|76c41438-3a97-433...|       1|      2|        B|              10|[false, false, fa...|          true|2022|    6| 14|   1|     54|short description|                  0|          Empty|                  10|    Piso 1|      9|     false|\n",
      "|TresCrucesShopping|         1|La Pasiva, 1825, ...|Parking ubicado e...|39CABC1D179D7D7E|     -34.8943081|      -56.1664375|                8.0|              74|76c41438-3a97-433...|       1|      2|        B|              10|[false, false, fa...|          true|2022|    6| 14|   1|     54|short description|                  0|          Empty|                  10|    Piso 1|     10|     false|\n",
      "|TresCrucesShopping|         1|La Pasiva, 1825, ...|Parking ubicado e...|ED6257CE2D586A19|     -34.8943081|      -56.1664375|                8.0|              74|76c41438-3a97-433...|       3|      1|        A|              10|[false, false, fa...|          true|2022|    6| 14|   1|     54|short description|                  0|          Empty|                  10|    Piso 3|      1|     false|\n",
      "|TresCrucesShopping|         1|La Pasiva, 1825, ...|Parking ubicado e...|ED6257CE2D586A19|     -34.8943081|      -56.1664375|                8.0|              74|76c41438-3a97-433...|       3|      1|        A|              10|[false, false, fa...|          true|2022|    6| 14|   1|     54|short description|                  0|          Empty|                  10|    Piso 3|      2|     false|\n",
      "|TresCrucesShopping|         1|La Pasiva, 1825, ...|Parking ubicado e...|ED6257CE2D586A19|     -34.8943081|      -56.1664375|                8.0|              74|76c41438-3a97-433...|       3|      1|        A|              10|[false, false, fa...|          true|2022|    6| 14|   1|     54|short description|                  0|          Empty|                  10|    Piso 3|      3|     false|\n",
      "|TresCrucesShopping|         1|La Pasiva, 1825, ...|Parking ubicado e...|ED6257CE2D586A19|     -34.8943081|      -56.1664375|                8.0|              74|76c41438-3a97-433...|       3|      1|        A|              10|[false, false, fa...|          true|2022|    6| 14|   1|     54|short description|                  0|          Empty|                  10|    Piso 3|      4|     false|\n",
      "|TresCrucesShopping|         1|La Pasiva, 1825, ...|Parking ubicado e...|ED6257CE2D586A19|     -34.8943081|      -56.1664375|                8.0|              74|76c41438-3a97-433...|       3|      1|        A|              10|[false, false, fa...|          true|2022|    6| 14|   1|     54|short description|                  0|          Empty|                  10|    Piso 3|      5|     false|\n",
      "|TresCrucesShopping|         1|La Pasiva, 1825, ...|Parking ubicado e...|ED6257CE2D586A19|     -34.8943081|      -56.1664375|                8.0|              74|76c41438-3a97-433...|       3|      1|        A|              10|[false, false, fa...|          true|2022|    6| 14|   1|     54|short description|                  0|          Empty|                  10|    Piso 3|      6|     false|\n",
      "|TresCrucesShopping|         1|La Pasiva, 1825, ...|Parking ubicado e...|ED6257CE2D586A19|     -34.8943081|      -56.1664375|                8.0|              74|76c41438-3a97-433...|       3|      1|        A|              10|[false, false, fa...|          true|2022|    6| 14|   1|     54|short description|                  0|          Empty|                  10|    Piso 3|      7|     false|\n",
      "|TresCrucesShopping|         1|La Pasiva, 1825, ...|Parking ubicado e...|ED6257CE2D586A19|     -34.8943081|      -56.1664375|                8.0|              74|76c41438-3a97-433...|       3|      1|        A|              10|[false, false, fa...|          true|2022|    6| 14|   1|     54|short description|                  0|          Empty|                  10|    Piso 3|      8|     false|\n",
      "|TresCrucesShopping|         1|La Pasiva, 1825, ...|Parking ubicado e...|ED6257CE2D586A19|     -34.8943081|      -56.1664375|                8.0|              74|76c41438-3a97-433...|       3|      1|        A|              10|[false, false, fa...|          true|2022|    6| 14|   1|     54|short description|                  0|          Empty|                  10|    Piso 3|      9|     false|\n",
      "|TresCrucesShopping|         1|La Pasiva, 1825, ...|Parking ubicado e...|ED6257CE2D586A19|     -34.8943081|      -56.1664375|                8.0|              74|76c41438-3a97-433...|       3|      1|        A|              10|[false, false, fa...|          true|2022|    6| 14|   1|     54|short description|                  0|          Empty|                  10|    Piso 3|     10|     false|\n",
      "+------------------+----------+--------------------+--------------------+----------------+----------------+-----------------+-------------------+----------------+--------------------+--------+-------+---------+----------------+--------------------+--------------+----+-----+---+----+-------+-----------------+-------------------+---------------+--------------------+----------+-------+----------+\n",
      "only showing top 20 rows\n",
      "\n"
     ]
    },
    {
     "name": "stderr",
     "output_type": "stream",
     "text": [
      "                                                                                \r"
     ]
    },
    {
     "name": "stdout",
     "output_type": "stream",
     "text": [
      "+------------------+----------+--------------------+--------------------+----------------+----------------+-----------------+-------------------+----------------+--------------------+--------+-------+---------+----------------+--------------------+--------------+----+-----+---+----+-------+-----------------+-------------------+---------------+--------------------+----------+-------+----------+\n",
      "|      parking_name|parking_id|     parking_address| parking_description|       device_id|parking_latitude|parking_longitude|parking_temperature|parking_humidity|        parking_uuid|level_id|area_id|area_name|area_total_spots|        device_slots|parking_closed|year|month|day|hour|minutes| area_description|area_occupied_spots|area_occupation|area_available_spots|level_name|slot_id|slot_state|\n",
      "+------------------+----------+--------------------+--------------------+----------------+----------------+-----------------+-------------------+----------------+--------------------+--------+-------+---------+----------------+--------------------+--------------+----+-----+---+----+-------+-----------------+-------------------+---------------+--------------------+----------+-------+----------+\n",
      "|TresCrucesShopping|         1|La Pasiva, 1825, ...|Parking ubicado e...|39CABC1D179D7D7E|     -34.8943081|      -56.1664375|                8.0|              74|76c41438-3a97-433...|       1|      2|        B|              10|[false, false, fa...|          true|2022|    6| 14|   1|     56|short description|                  0|          Empty|                  10|    Piso 1|      1|     false|\n",
      "|TresCrucesShopping|         1|La Pasiva, 1825, ...|Parking ubicado e...|39CABC1D179D7D7E|     -34.8943081|      -56.1664375|                8.0|              74|76c41438-3a97-433...|       1|      2|        B|              10|[false, false, fa...|          true|2022|    6| 14|   1|     56|short description|                  0|          Empty|                  10|    Piso 1|      2|     false|\n",
      "|TresCrucesShopping|         1|La Pasiva, 1825, ...|Parking ubicado e...|39CABC1D179D7D7E|     -34.8943081|      -56.1664375|                8.0|              74|76c41438-3a97-433...|       1|      2|        B|              10|[false, false, fa...|          true|2022|    6| 14|   1|     56|short description|                  0|          Empty|                  10|    Piso 1|      3|     false|\n",
      "|TresCrucesShopping|         1|La Pasiva, 1825, ...|Parking ubicado e...|39CABC1D179D7D7E|     -34.8943081|      -56.1664375|                8.0|              74|76c41438-3a97-433...|       1|      2|        B|              10|[false, false, fa...|          true|2022|    6| 14|   1|     56|short description|                  0|          Empty|                  10|    Piso 1|      4|     false|\n",
      "|TresCrucesShopping|         1|La Pasiva, 1825, ...|Parking ubicado e...|39CABC1D179D7D7E|     -34.8943081|      -56.1664375|                8.0|              74|76c41438-3a97-433...|       1|      2|        B|              10|[false, false, fa...|          true|2022|    6| 14|   1|     56|short description|                  0|          Empty|                  10|    Piso 1|      5|     false|\n",
      "|TresCrucesShopping|         1|La Pasiva, 1825, ...|Parking ubicado e...|39CABC1D179D7D7E|     -34.8943081|      -56.1664375|                8.0|              74|76c41438-3a97-433...|       1|      2|        B|              10|[false, false, fa...|          true|2022|    6| 14|   1|     56|short description|                  0|          Empty|                  10|    Piso 1|      6|     false|\n",
      "|TresCrucesShopping|         1|La Pasiva, 1825, ...|Parking ubicado e...|39CABC1D179D7D7E|     -34.8943081|      -56.1664375|                8.0|              74|76c41438-3a97-433...|       1|      2|        B|              10|[false, false, fa...|          true|2022|    6| 14|   1|     56|short description|                  0|          Empty|                  10|    Piso 1|      7|     false|\n",
      "|TresCrucesShopping|         1|La Pasiva, 1825, ...|Parking ubicado e...|39CABC1D179D7D7E|     -34.8943081|      -56.1664375|                8.0|              74|76c41438-3a97-433...|       1|      2|        B|              10|[false, false, fa...|          true|2022|    6| 14|   1|     56|short description|                  0|          Empty|                  10|    Piso 1|      8|     false|\n",
      "|TresCrucesShopping|         1|La Pasiva, 1825, ...|Parking ubicado e...|39CABC1D179D7D7E|     -34.8943081|      -56.1664375|                8.0|              74|76c41438-3a97-433...|       1|      2|        B|              10|[false, false, fa...|          true|2022|    6| 14|   1|     56|short description|                  0|          Empty|                  10|    Piso 1|      9|     false|\n",
      "|TresCrucesShopping|         1|La Pasiva, 1825, ...|Parking ubicado e...|39CABC1D179D7D7E|     -34.8943081|      -56.1664375|                8.0|              74|76c41438-3a97-433...|       1|      2|        B|              10|[false, false, fa...|          true|2022|    6| 14|   1|     56|short description|                  0|          Empty|                  10|    Piso 1|     10|     false|\n",
      "|TresCrucesShopping|         1|La Pasiva, 1825, ...|Parking ubicado e...|0013A2003152AC3D|     -34.8943081|      -56.1664375|              11.89|              53|76c41438-3a97-433...|       1|      3|        C|              10|[false, false, fa...|          true|2022|    6| 14|   1|     56|short description|                  0|          Empty|                  10|    Piso 1|      1|     false|\n",
      "|TresCrucesShopping|         1|La Pasiva, 1825, ...|Parking ubicado e...|0013A2003152AC3D|     -34.8943081|      -56.1664375|              11.89|              53|76c41438-3a97-433...|       1|      3|        C|              10|[false, false, fa...|          true|2022|    6| 14|   1|     56|short description|                  0|          Empty|                  10|    Piso 1|      2|     false|\n",
      "|TresCrucesShopping|         1|La Pasiva, 1825, ...|Parking ubicado e...|0013A2003152AC3D|     -34.8943081|      -56.1664375|              11.89|              53|76c41438-3a97-433...|       1|      3|        C|              10|[false, false, fa...|          true|2022|    6| 14|   1|     56|short description|                  0|          Empty|                  10|    Piso 1|      3|     false|\n",
      "|TresCrucesShopping|         1|La Pasiva, 1825, ...|Parking ubicado e...|0013A2003152AC3D|     -34.8943081|      -56.1664375|              11.89|              53|76c41438-3a97-433...|       1|      3|        C|              10|[false, false, fa...|          true|2022|    6| 14|   1|     56|short description|                  0|          Empty|                  10|    Piso 1|      4|     false|\n",
      "|TresCrucesShopping|         1|La Pasiva, 1825, ...|Parking ubicado e...|0013A2003152AC3D|     -34.8943081|      -56.1664375|              11.89|              53|76c41438-3a97-433...|       1|      3|        C|              10|[false, false, fa...|          true|2022|    6| 14|   1|     56|short description|                  0|          Empty|                  10|    Piso 1|      5|     false|\n",
      "|TresCrucesShopping|         1|La Pasiva, 1825, ...|Parking ubicado e...|0013A2003152AC3D|     -34.8943081|      -56.1664375|              11.89|              53|76c41438-3a97-433...|       1|      3|        C|              10|[false, false, fa...|          true|2022|    6| 14|   1|     56|short description|                  0|          Empty|                  10|    Piso 1|      6|     false|\n",
      "|TresCrucesShopping|         1|La Pasiva, 1825, ...|Parking ubicado e...|0013A2003152AC3D|     -34.8943081|      -56.1664375|              11.89|              53|76c41438-3a97-433...|       1|      3|        C|              10|[false, false, fa...|          true|2022|    6| 14|   1|     56|short description|                  0|          Empty|                  10|    Piso 1|      7|     false|\n",
      "|TresCrucesShopping|         1|La Pasiva, 1825, ...|Parking ubicado e...|0013A2003152AC3D|     -34.8943081|      -56.1664375|              11.89|              53|76c41438-3a97-433...|       1|      3|        C|              10|[false, false, fa...|          true|2022|    6| 14|   1|     56|short description|                  0|          Empty|                  10|    Piso 1|      8|     false|\n",
      "|TresCrucesShopping|         1|La Pasiva, 1825, ...|Parking ubicado e...|0013A2003152AC3D|     -34.8943081|      -56.1664375|              11.89|              53|76c41438-3a97-433...|       1|      3|        C|              10|[false, false, fa...|          true|2022|    6| 14|   1|     56|short description|                  0|          Empty|                  10|    Piso 1|      9|     false|\n",
      "|TresCrucesShopping|         1|La Pasiva, 1825, ...|Parking ubicado e...|0013A2003152AC3D|     -34.8943081|      -56.1664375|              11.89|              53|76c41438-3a97-433...|       1|      3|        C|              10|[false, false, fa...|          true|2022|    6| 14|   1|     56|short description|                  0|          Empty|                  10|    Piso 1|     10|     false|\n",
      "+------------------+----------+--------------------+--------------------+----------------+----------------+-----------------+-------------------+----------------+--------------------+--------+-------+---------+----------------+--------------------+--------------+----+-----+---+----+-------+-----------------+-------------------+---------------+--------------------+----------+-------+----------+\n",
      "only showing top 20 rows\n",
      "\n"
     ]
    },
    {
     "name": "stderr",
     "output_type": "stream",
     "text": [
      "ERROR:root:KeyboardInterrupt while sending command.                             \n",
      "Traceback (most recent call last):\n",
      "  File \"/home/spsystem/.local/lib/python3.10/site-packages/py4j/java_gateway.py\", line 1038, in send_command\n",
      "    response = connection.send_command(command)\n",
      "  File \"/home/spsystem/.local/lib/python3.10/site-packages/py4j/clientserver.py\", line 475, in send_command\n",
      "    answer = smart_decode(self.stream.readline()[:-1])\n",
      "  File \"/usr/local/lib/python3.10/socket.py\", line 705, in readinto\n",
      "    return self._sock.recv_into(b)\n",
      "KeyboardInterrupt\n"
     ]
    },
    {
     "ename": "KeyboardInterrupt",
     "evalue": "",
     "output_type": "error",
     "traceback": [
      "\u001b[0;31m---------------------------------------------------------------------------\u001b[0m",
      "\u001b[0;31mKeyboardInterrupt\u001b[0m                         Traceback (most recent call last)",
      "Input \u001b[0;32mIn [16]\u001b[0m, in \u001b[0;36m<cell line: 3>\u001b[0;34m()\u001b[0m\n\u001b[1;32m      1\u001b[0m \u001b[38;5;66;03m# Inicia la consulta e imprime el resultado\u001b[39;00m\n\u001b[1;32m      2\u001b[0m CHECKPOINT_DIRECTORY \u001b[38;5;241m=\u001b[39m \u001b[38;5;124m'\u001b[39m\u001b[38;5;124mfile:///opt/smart-parking/Python/GetData/CommitLogHadoop\u001b[39m\u001b[38;5;124m'\u001b[39m\n\u001b[1;32m      3\u001b[0m \u001b[43mdf\u001b[49m\u001b[43m \u001b[49m\u001b[43m\\\u001b[49m\n\u001b[1;32m      4\u001b[0m \u001b[38;5;241;43m.\u001b[39;49m\u001b[43mwriteStream\u001b[49m\u001b[43m\\\u001b[49m\n\u001b[1;32m      5\u001b[0m \u001b[38;5;241;43m.\u001b[39;49m\u001b[43mtrigger\u001b[49m\u001b[43m(\u001b[49m\u001b[43mprocessingTime\u001b[49m\u001b[38;5;241;43m=\u001b[39;49m\u001b[38;5;124;43m'\u001b[39;49m\u001b[38;5;124;43m120 seconds\u001b[39;49m\u001b[38;5;124;43m'\u001b[39;49m\u001b[43m)\u001b[49m\u001b[43m\\\u001b[49m\n\u001b[1;32m      6\u001b[0m \u001b[38;5;241;43m.\u001b[39;49m\u001b[43moutputMode\u001b[49m\u001b[43m(\u001b[49m\u001b[38;5;124;43m\"\u001b[39;49m\u001b[38;5;124;43mappend\u001b[39;49m\u001b[38;5;124;43m\"\u001b[39;49m\u001b[43m)\u001b[49m\u001b[43m \u001b[49m\u001b[43m\\\u001b[49m\n\u001b[1;32m      7\u001b[0m \u001b[38;5;241;43m.\u001b[39;49m\u001b[43moption\u001b[49m\u001b[43m(\u001b[49m\u001b[38;5;124;43m\"\u001b[39;49m\u001b[38;5;124;43mcheckpointLocation\u001b[39;49m\u001b[38;5;124;43m\"\u001b[39;49m\u001b[43m,\u001b[49m\u001b[43m \u001b[49m\u001b[43mCHECKPOINT_DIRECTORY\u001b[49m\u001b[43m)\u001b[49m\u001b[43m\\\u001b[49m\n\u001b[1;32m      8\u001b[0m \u001b[38;5;241;43m.\u001b[39;49m\u001b[43mforeachBatch\u001b[49m\u001b[43m(\u001b[49m\u001b[43mfunc\u001b[49m\u001b[43m)\u001b[49m\u001b[43m \u001b[49m\u001b[43m\\\u001b[49m\n\u001b[1;32m      9\u001b[0m \u001b[38;5;241;43m.\u001b[39;49m\u001b[43mstart\u001b[49m\u001b[43m(\u001b[49m\u001b[43m)\u001b[49m\u001b[43m\\\u001b[49m\n\u001b[0;32m---> 10\u001b[0m \u001b[38;5;241;43m.\u001b[39;49m\u001b[43mawaitTermination\u001b[49m\u001b[43m(\u001b[49m\u001b[43m)\u001b[49m\n",
      "File \u001b[0;32m~/.local/lib/python3.10/site-packages/pyspark/sql/streaming.py:101\u001b[0m, in \u001b[0;36mStreamingQuery.awaitTermination\u001b[0;34m(self, timeout)\u001b[0m\n\u001b[1;32m     99\u001b[0m     \u001b[38;5;28;01mreturn\u001b[39;00m \u001b[38;5;28mself\u001b[39m\u001b[38;5;241m.\u001b[39m_jsq\u001b[38;5;241m.\u001b[39mawaitTermination(\u001b[38;5;28mint\u001b[39m(timeout \u001b[38;5;241m*\u001b[39m \u001b[38;5;241m1000\u001b[39m))\n\u001b[1;32m    100\u001b[0m \u001b[38;5;28;01melse\u001b[39;00m:\n\u001b[0;32m--> 101\u001b[0m     \u001b[38;5;28;01mreturn\u001b[39;00m \u001b[38;5;28;43mself\u001b[39;49m\u001b[38;5;241;43m.\u001b[39;49m\u001b[43m_jsq\u001b[49m\u001b[38;5;241;43m.\u001b[39;49m\u001b[43mawaitTermination\u001b[49m\u001b[43m(\u001b[49m\u001b[43m)\u001b[49m\n",
      "File \u001b[0;32m~/.local/lib/python3.10/site-packages/py4j/java_gateway.py:1320\u001b[0m, in \u001b[0;36mJavaMember.__call__\u001b[0;34m(self, *args)\u001b[0m\n\u001b[1;32m   1313\u001b[0m args_command, temp_args \u001b[38;5;241m=\u001b[39m \u001b[38;5;28mself\u001b[39m\u001b[38;5;241m.\u001b[39m_build_args(\u001b[38;5;241m*\u001b[39margs)\n\u001b[1;32m   1315\u001b[0m command \u001b[38;5;241m=\u001b[39m proto\u001b[38;5;241m.\u001b[39mCALL_COMMAND_NAME \u001b[38;5;241m+\u001b[39m\\\n\u001b[1;32m   1316\u001b[0m     \u001b[38;5;28mself\u001b[39m\u001b[38;5;241m.\u001b[39mcommand_header \u001b[38;5;241m+\u001b[39m\\\n\u001b[1;32m   1317\u001b[0m     args_command \u001b[38;5;241m+\u001b[39m\\\n\u001b[1;32m   1318\u001b[0m     proto\u001b[38;5;241m.\u001b[39mEND_COMMAND_PART\n\u001b[0;32m-> 1320\u001b[0m answer \u001b[38;5;241m=\u001b[39m \u001b[38;5;28;43mself\u001b[39;49m\u001b[38;5;241;43m.\u001b[39;49m\u001b[43mgateway_client\u001b[49m\u001b[38;5;241;43m.\u001b[39;49m\u001b[43msend_command\u001b[49m\u001b[43m(\u001b[49m\u001b[43mcommand\u001b[49m\u001b[43m)\u001b[49m\n\u001b[1;32m   1321\u001b[0m return_value \u001b[38;5;241m=\u001b[39m get_return_value(\n\u001b[1;32m   1322\u001b[0m     answer, \u001b[38;5;28mself\u001b[39m\u001b[38;5;241m.\u001b[39mgateway_client, \u001b[38;5;28mself\u001b[39m\u001b[38;5;241m.\u001b[39mtarget_id, \u001b[38;5;28mself\u001b[39m\u001b[38;5;241m.\u001b[39mname)\n\u001b[1;32m   1324\u001b[0m \u001b[38;5;28;01mfor\u001b[39;00m temp_arg \u001b[38;5;129;01min\u001b[39;00m temp_args:\n",
      "File \u001b[0;32m~/.local/lib/python3.10/site-packages/py4j/java_gateway.py:1038\u001b[0m, in \u001b[0;36mGatewayClient.send_command\u001b[0;34m(self, command, retry, binary)\u001b[0m\n\u001b[1;32m   1036\u001b[0m connection \u001b[38;5;241m=\u001b[39m \u001b[38;5;28mself\u001b[39m\u001b[38;5;241m.\u001b[39m_get_connection()\n\u001b[1;32m   1037\u001b[0m \u001b[38;5;28;01mtry\u001b[39;00m:\n\u001b[0;32m-> 1038\u001b[0m     response \u001b[38;5;241m=\u001b[39m \u001b[43mconnection\u001b[49m\u001b[38;5;241;43m.\u001b[39;49m\u001b[43msend_command\u001b[49m\u001b[43m(\u001b[49m\u001b[43mcommand\u001b[49m\u001b[43m)\u001b[49m\n\u001b[1;32m   1039\u001b[0m     \u001b[38;5;28;01mif\u001b[39;00m binary:\n\u001b[1;32m   1040\u001b[0m         \u001b[38;5;28;01mreturn\u001b[39;00m response, \u001b[38;5;28mself\u001b[39m\u001b[38;5;241m.\u001b[39m_create_connection_guard(connection)\n",
      "File \u001b[0;32m~/.local/lib/python3.10/site-packages/py4j/clientserver.py:475\u001b[0m, in \u001b[0;36mClientServerConnection.send_command\u001b[0;34m(self, command)\u001b[0m\n\u001b[1;32m    473\u001b[0m \u001b[38;5;28;01mtry\u001b[39;00m:\n\u001b[1;32m    474\u001b[0m     \u001b[38;5;28;01mwhile\u001b[39;00m \u001b[38;5;28;01mTrue\u001b[39;00m:\n\u001b[0;32m--> 475\u001b[0m         answer \u001b[38;5;241m=\u001b[39m smart_decode(\u001b[38;5;28;43mself\u001b[39;49m\u001b[38;5;241;43m.\u001b[39;49m\u001b[43mstream\u001b[49m\u001b[38;5;241;43m.\u001b[39;49m\u001b[43mreadline\u001b[49m\u001b[43m(\u001b[49m\u001b[43m)\u001b[49m[:\u001b[38;5;241m-\u001b[39m\u001b[38;5;241m1\u001b[39m])\n\u001b[1;32m    476\u001b[0m         logger\u001b[38;5;241m.\u001b[39mdebug(\u001b[38;5;124m\"\u001b[39m\u001b[38;5;124mAnswer received: \u001b[39m\u001b[38;5;132;01m{0}\u001b[39;00m\u001b[38;5;124m\"\u001b[39m\u001b[38;5;241m.\u001b[39mformat(answer))\n\u001b[1;32m    477\u001b[0m         \u001b[38;5;66;03m# Happens when a the other end is dead. There might be an empty\u001b[39;00m\n\u001b[1;32m    478\u001b[0m         \u001b[38;5;66;03m# answer before the socket raises an error.\u001b[39;00m\n",
      "File \u001b[0;32m/usr/local/lib/python3.10/socket.py:705\u001b[0m, in \u001b[0;36mSocketIO.readinto\u001b[0;34m(self, b)\u001b[0m\n\u001b[1;32m    703\u001b[0m \u001b[38;5;28;01mwhile\u001b[39;00m \u001b[38;5;28;01mTrue\u001b[39;00m:\n\u001b[1;32m    704\u001b[0m     \u001b[38;5;28;01mtry\u001b[39;00m:\n\u001b[0;32m--> 705\u001b[0m         \u001b[38;5;28;01mreturn\u001b[39;00m \u001b[38;5;28;43mself\u001b[39;49m\u001b[38;5;241;43m.\u001b[39;49m\u001b[43m_sock\u001b[49m\u001b[38;5;241;43m.\u001b[39;49m\u001b[43mrecv_into\u001b[49m\u001b[43m(\u001b[49m\u001b[43mb\u001b[49m\u001b[43m)\u001b[49m\n\u001b[1;32m    706\u001b[0m     \u001b[38;5;28;01mexcept\u001b[39;00m timeout:\n\u001b[1;32m    707\u001b[0m         \u001b[38;5;28mself\u001b[39m\u001b[38;5;241m.\u001b[39m_timeout_occurred \u001b[38;5;241m=\u001b[39m \u001b[38;5;28;01mTrue\u001b[39;00m\n",
      "\u001b[0;31mKeyboardInterrupt\u001b[0m: "
     ]
    }
   ],
   "source": [
    "# Inicia la consulta e imprime el resultado\n",
    "CHECKPOINT_DIRECTORY = 'file:///opt/smart-parking/Python/GetData/CommitLogHadoop'\n",
    "df \\\n",
    ".writeStream\\\n",
    ".trigger(processingTime='120 seconds')\\\n",
    ".outputMode(\"append\") \\\n",
    ".option(\"checkpointLocation\", CHECKPOINT_DIRECTORY)\\\n",
    ".foreachBatch(func) \\\n",
    ".start()\\\n",
    ".awaitTermination()"
   ]
  },
  {
   "cell_type": "markdown",
   "metadata": {},
   "source": [
    "## Codigo para agregar en el otro notebook:"
   ]
  },
  {
   "cell_type": "code",
   "execution_count": null,
   "metadata": {},
   "outputs": [],
   "source": [
    "#        \n",
    "# .withColumn(\"level_occupation\", percentageOcuppation(col(\"level_total_spots\"), col(\"level_occupied_slots\")))\\\n",
    "# .withColumn('area_name', merge_udf(dfalldata['area_name']).over(windowPartitionAgg))\\\n",
    "# .withColumn('device_address', merge_udf(dfalldata['device_address']).over(windowPartitionAgg))\\\n",
    "# .withColumn('area_occupation', merge_udf(dfalldata['area_occupation']).over(windowPartitionAgg))\\\n",
    "# .withColumn('spots', merge_udf(dfalldata['spots'].cast(\"string\")).over(windowPartitionAgg))\\\n",
    "# .withColumn('slots', merge_udf(dfalldata['slots'].cast(\"string\")).over(windowPartitionAgg))\\\n",
    "# .withColumn('area_occupied_slots', merge_udf(dfalldata['area_occupied_slots'].cast(\"string\")).over(windowPartitionAgg))\\\n",
    "# .dropDuplicates((['level_id']))\n",
    "\n",
    "# windowPartitionAgg  = Window.partitionBy(\"parking_name\")\n",
    "# df3 = df2.withColumn(\"level_total_spots\", merge_udf_total(df2['level_total_spots'].cast(\"string\")).over(windowPartitionAgg))\\\n",
    "# .withColumn(\"level_occupied_slots\", merge_udf_total(df2['level_occupied_slots'].cast(\"string\")).over(windowPartitionAgg))\\\n",
    "# .withColumn(\"level_occupation\", merge_udf_total(df2['level_occupation']).over(windowPartitionAgg))\\\n",
    "# .withColumn('area_name', merge_udf_total(df2['area_name']).over(windowPartitionAgg))\\\n",
    "# .withColumn('device_address', merge_udf_total(df2['device_address']).over(windowPartitionAgg))\\\n",
    "# .withColumn('area_occupation', merge_udf_total(df2['area_occupation']).over(windowPartitionAgg))\\\n",
    "# .withColumn('spots', merge_udf_total(df2['spots'].cast(\"string\")).over(windowPartitionAgg))\\\n",
    "# .withColumn('slots', merge_udf_total(df2['slots'].cast(\"string\")).over(windowPartitionAgg))\\\n",
    "# .withColumn('area_occupied_slots', merge_udf_total(df2['area_occupied_slots'].cast(\"string\")).over(windowPartitionAgg))\\\n",
    "# .dropDuplicates((['parking_name']))\n",
    "# "
   ]
  },
  {
   "cell_type": "code",
   "execution_count": null,
   "metadata": {},
   "outputs": [],
   "source": [
    "df\\\n",
    "    .writeStream\\\n",
    "    .outputMode(\"update\") \\\n",
    "    .option(\"checkpointLocation\", CHECKPOINT_DIRECTORY)\\\n",
    "    .foreachBatch(func) \\\n",
    "    .start()\\\n",
    "    .awaitTermination()"
   ]
  }
 ],
 "metadata": {
  "kernelspec": {
   "display_name": "Python 3 (ipykernel)",
   "language": "python",
   "name": "python3"
  },
  "language_info": {
   "codemirror_mode": {
    "name": "ipython",
    "version": 3
   },
   "file_extension": ".py",
   "mimetype": "text/x-python",
   "name": "python",
   "nbconvert_exporter": "python",
   "pygments_lexer": "ipython3",
   "version": "3.10.4"
  }
 },
 "nbformat": 4,
 "nbformat_minor": 2
}
