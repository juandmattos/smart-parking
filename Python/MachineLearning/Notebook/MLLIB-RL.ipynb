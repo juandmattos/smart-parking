{
 "cells": [
  {
   "cell_type": "code",
   "execution_count": 1,
   "metadata": {},
   "outputs": [],
   "source": [
    "import findspark\n",
    "findspark.init()\n",
    "\n",
    "import sys\n",
    "import seaborn as sns \n",
    "import pandas as pd \n",
    "import numpy as np\n",
    "import matplotlib.pyplot as plt\n",
    "import warnings\n",
    "\n",
    "from pyspark.sql.functions import *\n",
    "from pyspark import SparkContext, SparkConf\n",
    "from pyspark.streaming import StreamingContext\n",
    "from pyspark.ml.evaluation import RegressionEvaluator\n",
    "\n",
    "\n",
    "#from pyspark.ml.recommendation import ALS, ALSModel\n",
    "#from pyspark.mllib.recommendation import MatrixFactorizationModel\n",
    "from pyspark.sql import Row, SQLContext,SparkSession\n",
    "import os\n",
    "os.environ['HADOOP_USER_NAME'] = \"hadoop\""
   ]
  },
  {
   "cell_type": "code",
   "execution_count": 2,
   "metadata": {},
   "outputs": [],
   "source": [
    "warnings.filterwarnings(\"ignore\")"
   ]
  },
  {
   "cell_type": "code",
   "execution_count": 3,
   "metadata": {},
   "outputs": [
    {
     "name": "stderr",
     "output_type": "stream",
     "text": [
      "22/07/19 21:24:33 WARN NativeCodeLoader: Unable to load native-hadoop library for your platform... using builtin-java classes where applicable\n",
      "22/07/19 21:24:35 WARN Utils: Service 'SparkUI' could not bind on port 4040. Attempting port 4041.\n",
      "22/07/19 21:24:35 WARN Utils: Service 'SparkUI' could not bind on port 4041. Attempting port 4042.\n"
     ]
    }
   ],
   "source": [
    "# Creamos el spark SparkContext\n",
    "sc = SparkContext(appName=\"MLIB-RL\")\n",
    "sc.setLogLevel(\"WARN\")\n",
    "sqlcontext = SQLContext(sc)"
   ]
  },
  {
   "cell_type": "code",
   "execution_count": 4,
   "metadata": {},
   "outputs": [],
   "source": [
    "# definimos la variable spark, en la que creamos una Sesión\n",
    "spark = SparkSession \\\n",
    "        .builder \\\n",
    "        .appName(\"MLIB-RL\") \\\n",
    "        .getOrCreate()"
   ]
  },
  {
   "cell_type": "code",
   "execution_count": 5,
   "metadata": {},
   "outputs": [
    {
     "data": {
      "text/html": [
       "\n",
       "            <div>\n",
       "                <p><b>SparkSession - in-memory</b></p>\n",
       "                \n",
       "        <div>\n",
       "            <p><b>SparkContext</b></p>\n",
       "\n",
       "            <p><a href=\"http://spsystem:4042\">Spark UI</a></p>\n",
       "\n",
       "            <dl>\n",
       "              <dt>Version</dt>\n",
       "                <dd><code>v3.2.1</code></dd>\n",
       "              <dt>Master</dt>\n",
       "                <dd><code>local[*]</code></dd>\n",
       "              <dt>AppName</dt>\n",
       "                <dd><code>MLIB-RL</code></dd>\n",
       "            </dl>\n",
       "        </div>\n",
       "        \n",
       "            </div>\n",
       "        "
      ],
      "text/plain": [
       "<pyspark.sql.session.SparkSession at 0x7f3bfc1b5330>"
      ]
     },
     "execution_count": 5,
     "metadata": {},
     "output_type": "execute_result"
    }
   ],
   "source": [
    "spark"
   ]
  },
  {
   "cell_type": "markdown",
   "metadata": {},
   "source": [
    "## Carga de datos\n",
    "\n",
    "Se realiza la carga de datos de la data de un día anterior a los datos"
   ]
  },
  {
   "cell_type": "code",
   "execution_count": 12,
   "metadata": {},
   "outputs": [],
   "source": [
    "df = spark.read.option(\"delimiter\", \"|\").csv(path=\"/opt/smart-parking/comments_limpio.csv\", header=True)"
   ]
  },
  {
   "cell_type": "code",
   "execution_count": 15,
   "metadata": {},
   "outputs": [],
   "source": [
    "df = df[[\"author_id\", \"fecha\"]]"
   ]
  },
  {
   "cell_type": "code",
   "execution_count": 16,
   "metadata": {},
   "outputs": [
    {
     "name": "stdout",
     "output_type": "stream",
     "text": [
      "+---------+----------+\n",
      "|author_id|     fecha|\n",
      "+---------+----------+\n",
      "|   700035|2019-01-01|\n",
      "|   418510|2016-01-01|\n",
      "|   187737|2014-10-01|\n",
      "|   195477|2014-08-01|\n",
      "|   103944|2013-08-01|\n",
      "|   107607|2010-02-01|\n",
      "|   768457|2019-02-01|\n",
      "|   636671|2018-01-01|\n",
      "|    10247|2017-03-01|\n",
      "|    14229|2016-12-01|\n",
      "|    45840|2016-12-01|\n",
      "|   271886|2016-09-01|\n",
      "|     5433|2016-01-01|\n",
      "|   512021|2015-10-01|\n",
      "|    10247|2015-07-01|\n",
      "|   136814|2014-07-01|\n",
      "|   144420|2013-11-01|\n",
      "|   560116|2013-04-01|\n",
      "|   106308|2013-04-01|\n",
      "|   108996|2011-10-01|\n",
      "+---------+----------+\n",
      "only showing top 20 rows\n",
      "\n"
     ]
    }
   ],
   "source": [
    "df.show()"
   ]
  },
  {
   "cell_type": "code",
   "execution_count": 9,
   "metadata": {},
   "outputs": [],
   "source": [
    "df_parking = spark.read.parquet(\"hdfs://hadoop-namenode:9000/data/Parkings/TresCrucesShopping/year=2022/month=7/\")"
   ]
  },
  {
   "cell_type": "code",
   "execution_count": 10,
   "metadata": {},
   "outputs": [],
   "source": [
    "#df_parkin_joined = df_parking.union(df_parking2).union(df_parking3)\n",
    "df_parkin_joined = df_parking"
   ]
  },
  {
   "cell_type": "code",
   "execution_count": 11,
   "metadata": {},
   "outputs": [],
   "source": [
    "df_parking_cleaned = df_parkin_joined \\\n",
    "                        .withColumn(\"year\", year(col(\"device_timestamp\"))) \\\n",
    "                        .withColumn(\"month\", month(col(\"device_timestamp\"))) \\\n",
    "                        .withColumn(\"day\", dayofmonth(col(\"device_timestamp\"))) \n",
    "                        #.drop(\"device_slots\", \"parking_address\", \"parking_description\", \"parking_weather_status_detailed\", \"parking_uuid\", \"parking_holiday_description\", \"level_name\", \"area_occupation\", \"device_timestamp\")"
   ]
  },
  {
   "cell_type": "code",
   "execution_count": 9,
   "metadata": {},
   "outputs": [],
   "source": [
    "df_parking_cleaned_2 = df_parking \\\n",
    "                        .drop(\"device_slots\", \"parking_address\", \"parking_description\", \"parking_weather_status_detailed\", \"parking_uuid\", \"parking_holiday_description\", \"level_name\", \"area_occupation\", \"device_timestamp\")"
   ]
  },
  {
   "cell_type": "code",
   "execution_count": 12,
   "metadata": {},
   "outputs": [],
   "source": [
    "df_parking_cleaned = df_parking_cleaned \\\n",
    "    .withColumn(\"parking_temperature\", col(\"parking_temperature\").cast(\"double\"))\\\n",
    "    .withColumn(\"parking_humidity\", col(\"parking_humidity\").cast(\"double\"))\n",
    "            "
   ]
  },
  {
   "cell_type": "code",
   "execution_count": 11,
   "metadata": {},
   "outputs": [],
   "source": [
    "df_parking_cleaned_without_duplicated = df_parking_cleaned.dropDuplicates()"
   ]
  },
  {
   "cell_type": "code",
   "execution_count": 13,
   "metadata": {},
   "outputs": [
    {
     "name": "stderr",
     "output_type": "stream",
     "text": [
      "22/07/19 08:25:32 WARN package: Truncated the string representation of a plan since it was too large. This behavior can be adjusted by setting 'spark.sql.debug.maxToStringFields'.\n",
      "                                                                                \r"
     ]
    }
   ],
   "source": [
    "df_parkin_joined.coalesce(1).write.format(\"parquet\").mode(\"overwrite\").save(\"hdfs://hadoop-namenode:9000/machineLearning/Parkings/TresCrucesShopping/dataset_julio.parquet/\")"
   ]
  },
  {
   "cell_type": "code",
   "execution_count": 12,
   "metadata": {},
   "outputs": [
    {
     "name": "stderr",
     "output_type": "stream",
     "text": [
      "22/07/18 23:18:37 WARN package: Truncated the string representation of a plan since it was too large. This behavior can be adjusted by setting 'spark.sql.debug.maxToStringFields'.\n",
      "                                                                                \r"
     ]
    }
   ],
   "source": [
    "df_parking_cleaned_without_duplicated.write.format(\"parquet\").mode(\"overwrite\").save(\"hdfs://hadoop-namenode:9000/machineLearning/Parkings/TresCrucesShopping/dataset_without_duplicated.parquet\")"
   ]
  },
  {
   "cell_type": "markdown",
   "metadata": {},
   "source": [
    "## Ingeniería de atributos"
   ]
  },
  {
   "cell_type": "code",
   "execution_count": 13,
   "metadata": {},
   "outputs": [],
   "source": [
    "df_parking_machine_learning = spark.read.parquet(\"hdfs://hadoop-namenode:9000/machineLearning/Parkings/TresCrucesShopping/dataset_without_duplicated.parquet/\")"
   ]
  },
  {
   "cell_type": "code",
   "execution_count": 14,
   "metadata": {},
   "outputs": [
    {
     "name": "stdout",
     "output_type": "stream",
     "text": [
      "root\n",
      " |-- parking_name: string (nullable = true)\n",
      " |-- parking_id: string (nullable = true)\n",
      " |-- parking_address: string (nullable = true)\n",
      " |-- parking_description: string (nullable = true)\n",
      " |-- device_timestamp: timestamp (nullable = true)\n",
      " |-- device_id: string (nullable = true)\n",
      " |-- parking_latitude: double (nullable = true)\n",
      " |-- parking_longitude: double (nullable = true)\n",
      " |-- parking_temperature: string (nullable = true)\n",
      " |-- parking_humidity: string (nullable = true)\n",
      " |-- parking_uuid: string (nullable = true)\n",
      " |-- level_id: integer (nullable = true)\n",
      " |-- area_id: integer (nullable = true)\n",
      " |-- area_name: string (nullable = true)\n",
      " |-- area_total_spots: integer (nullable = true)\n",
      " |-- device_slots: array (nullable = true)\n",
      " |    |-- element: boolean (containsNull = true)\n",
      " |-- parking_weather_status: string (nullable = true)\n",
      " |-- parking_weather_status_detailed: string (nullable = true)\n",
      " |-- parking_wind_speed: double (nullable = true)\n",
      " |-- parking_holiday_status: boolean (nullable = true)\n",
      " |-- parking_holiday_description: string (nullable = true)\n",
      " |-- parking_holiday_type: string (nullable = true)\n",
      " |-- parking_closed: boolean (nullable = true)\n",
      " |-- minutes: integer (nullable = true)\n",
      " |-- area_occupied_spots: integer (nullable = true)\n",
      " |-- area_occupation: string (nullable = true)\n",
      " |-- area_occupation_percentage: integer (nullable = true)\n",
      " |-- area_available_spots: integer (nullable = true)\n",
      " |-- level_name: string (nullable = true)\n",
      " |-- slot_id: integer (nullable = true)\n",
      " |-- slot_state: boolean (nullable = true)\n",
      " |-- day: integer (nullable = true)\n",
      " |-- hour: integer (nullable = true)\n",
      "\n"
     ]
    }
   ],
   "source": [
    "df_parkin_joined.printSchema()"
   ]
  },
  {
   "cell_type": "code",
   "execution_count": 14,
   "metadata": {},
   "outputs": [
    {
     "name": "stderr",
     "output_type": "stream",
     "text": [
      "                                                                                \r"
     ]
    }
   ],
   "source": [
    "dfp = df_parking_machine_learning.toPandas() #Creamos este dataframe para mejor visualización de datos"
   ]
  },
  {
   "cell_type": "code",
   "execution_count": 15,
   "metadata": {},
   "outputs": [
    {
     "data": {
      "text/html": [
       "<div>\n",
       "<style scoped>\n",
       "    .dataframe tbody tr th:only-of-type {\n",
       "        vertical-align: middle;\n",
       "    }\n",
       "\n",
       "    .dataframe tbody tr th {\n",
       "        vertical-align: top;\n",
       "    }\n",
       "\n",
       "    .dataframe thead th {\n",
       "        text-align: right;\n",
       "    }\n",
       "</style>\n",
       "<table border=\"1\" class=\"dataframe\">\n",
       "  <thead>\n",
       "    <tr style=\"text-align: right;\">\n",
       "      <th></th>\n",
       "      <th>parking_name</th>\n",
       "      <th>parking_id</th>\n",
       "      <th>device_id</th>\n",
       "      <th>parking_latitude</th>\n",
       "      <th>parking_longitude</th>\n",
       "      <th>parking_temperature</th>\n",
       "      <th>parking_humidity</th>\n",
       "      <th>level_id</th>\n",
       "      <th>area_id</th>\n",
       "      <th>area_name</th>\n",
       "      <th>...</th>\n",
       "      <th>minutes</th>\n",
       "      <th>area_occupied_spots</th>\n",
       "      <th>area_occupation_percentage</th>\n",
       "      <th>area_available_spots</th>\n",
       "      <th>slot_id</th>\n",
       "      <th>slot_state</th>\n",
       "      <th>day</th>\n",
       "      <th>hour</th>\n",
       "      <th>year</th>\n",
       "      <th>month</th>\n",
       "    </tr>\n",
       "  </thead>\n",
       "  <tbody>\n",
       "    <tr>\n",
       "      <th>0</th>\n",
       "      <td>TresCrucesShopping</td>\n",
       "      <td>1</td>\n",
       "      <td>9AA1AD57EC8B8856</td>\n",
       "      <td>-34.894308</td>\n",
       "      <td>-56.166438</td>\n",
       "      <td>9.73</td>\n",
       "      <td>66.0</td>\n",
       "      <td>2</td>\n",
       "      <td>1</td>\n",
       "      <td>A</td>\n",
       "      <td>...</td>\n",
       "      <td>29</td>\n",
       "      <td>4</td>\n",
       "      <td>40</td>\n",
       "      <td>6</td>\n",
       "      <td>6</td>\n",
       "      <td>True</td>\n",
       "      <td>15</td>\n",
       "      <td>9</td>\n",
       "      <td>2022</td>\n",
       "      <td>7</td>\n",
       "    </tr>\n",
       "    <tr>\n",
       "      <th>1</th>\n",
       "      <td>TresCrucesShopping</td>\n",
       "      <td>1</td>\n",
       "      <td>51FE29B1E7DACCB6</td>\n",
       "      <td>-34.894308</td>\n",
       "      <td>-56.166438</td>\n",
       "      <td>9.73</td>\n",
       "      <td>66.0</td>\n",
       "      <td>2</td>\n",
       "      <td>3</td>\n",
       "      <td>C</td>\n",
       "      <td>...</td>\n",
       "      <td>29</td>\n",
       "      <td>8</td>\n",
       "      <td>80</td>\n",
       "      <td>2</td>\n",
       "      <td>4</td>\n",
       "      <td>False</td>\n",
       "      <td>15</td>\n",
       "      <td>9</td>\n",
       "      <td>2022</td>\n",
       "      <td>7</td>\n",
       "    </tr>\n",
       "    <tr>\n",
       "      <th>2</th>\n",
       "      <td>TresCrucesShopping</td>\n",
       "      <td>1</td>\n",
       "      <td>CE6EFF5988ECBF74</td>\n",
       "      <td>-34.894308</td>\n",
       "      <td>-56.166438</td>\n",
       "      <td>9.73</td>\n",
       "      <td>66.0</td>\n",
       "      <td>3</td>\n",
       "      <td>1</td>\n",
       "      <td>A</td>\n",
       "      <td>...</td>\n",
       "      <td>30</td>\n",
       "      <td>6</td>\n",
       "      <td>60</td>\n",
       "      <td>4</td>\n",
       "      <td>5</td>\n",
       "      <td>True</td>\n",
       "      <td>15</td>\n",
       "      <td>9</td>\n",
       "      <td>2022</td>\n",
       "      <td>7</td>\n",
       "    </tr>\n",
       "    <tr>\n",
       "      <th>3</th>\n",
       "      <td>TresCrucesShopping</td>\n",
       "      <td>1</td>\n",
       "      <td>4DE1C372D9293D6F</td>\n",
       "      <td>-34.894308</td>\n",
       "      <td>-56.166438</td>\n",
       "      <td>9.73</td>\n",
       "      <td>66.0</td>\n",
       "      <td>1</td>\n",
       "      <td>3</td>\n",
       "      <td>C</td>\n",
       "      <td>...</td>\n",
       "      <td>30</td>\n",
       "      <td>6</td>\n",
       "      <td>60</td>\n",
       "      <td>4</td>\n",
       "      <td>7</td>\n",
       "      <td>False</td>\n",
       "      <td>15</td>\n",
       "      <td>9</td>\n",
       "      <td>2022</td>\n",
       "      <td>7</td>\n",
       "    </tr>\n",
       "    <tr>\n",
       "      <th>4</th>\n",
       "      <td>TresCrucesShopping</td>\n",
       "      <td>1</td>\n",
       "      <td>DD5F6C5BDA3D7A95</td>\n",
       "      <td>-34.894308</td>\n",
       "      <td>-56.166438</td>\n",
       "      <td>9.84</td>\n",
       "      <td>100.0</td>\n",
       "      <td>1</td>\n",
       "      <td>2</td>\n",
       "      <td>B</td>\n",
       "      <td>...</td>\n",
       "      <td>44</td>\n",
       "      <td>4</td>\n",
       "      <td>40</td>\n",
       "      <td>6</td>\n",
       "      <td>1</td>\n",
       "      <td>False</td>\n",
       "      <td>12</td>\n",
       "      <td>16</td>\n",
       "      <td>2022</td>\n",
       "      <td>7</td>\n",
       "    </tr>\n",
       "    <tr>\n",
       "      <th>5</th>\n",
       "      <td>TresCrucesShopping</td>\n",
       "      <td>1</td>\n",
       "      <td>CE6EFF5988ECBF74</td>\n",
       "      <td>-34.894308</td>\n",
       "      <td>-56.166438</td>\n",
       "      <td>9.84</td>\n",
       "      <td>100.0</td>\n",
       "      <td>3</td>\n",
       "      <td>1</td>\n",
       "      <td>A</td>\n",
       "      <td>...</td>\n",
       "      <td>44</td>\n",
       "      <td>4</td>\n",
       "      <td>40</td>\n",
       "      <td>6</td>\n",
       "      <td>6</td>\n",
       "      <td>True</td>\n",
       "      <td>12</td>\n",
       "      <td>16</td>\n",
       "      <td>2022</td>\n",
       "      <td>7</td>\n",
       "    </tr>\n",
       "    <tr>\n",
       "      <th>6</th>\n",
       "      <td>TresCrucesShopping</td>\n",
       "      <td>1</td>\n",
       "      <td>51FE29B1E7DACCB6</td>\n",
       "      <td>-34.894308</td>\n",
       "      <td>-56.166438</td>\n",
       "      <td>9.84</td>\n",
       "      <td>100.0</td>\n",
       "      <td>2</td>\n",
       "      <td>3</td>\n",
       "      <td>C</td>\n",
       "      <td>...</td>\n",
       "      <td>45</td>\n",
       "      <td>4</td>\n",
       "      <td>40</td>\n",
       "      <td>6</td>\n",
       "      <td>2</td>\n",
       "      <td>False</td>\n",
       "      <td>12</td>\n",
       "      <td>16</td>\n",
       "      <td>2022</td>\n",
       "      <td>7</td>\n",
       "    </tr>\n",
       "    <tr>\n",
       "      <th>7</th>\n",
       "      <td>TresCrucesShopping</td>\n",
       "      <td>1</td>\n",
       "      <td>4DE1C372D9293D6F</td>\n",
       "      <td>-34.894308</td>\n",
       "      <td>-56.166438</td>\n",
       "      <td>9.84</td>\n",
       "      <td>100.0</td>\n",
       "      <td>1</td>\n",
       "      <td>3</td>\n",
       "      <td>C</td>\n",
       "      <td>...</td>\n",
       "      <td>47</td>\n",
       "      <td>6</td>\n",
       "      <td>60</td>\n",
       "      <td>4</td>\n",
       "      <td>1</td>\n",
       "      <td>True</td>\n",
       "      <td>12</td>\n",
       "      <td>16</td>\n",
       "      <td>2022</td>\n",
       "      <td>7</td>\n",
       "    </tr>\n",
       "    <tr>\n",
       "      <th>8</th>\n",
       "      <td>TresCrucesShopping</td>\n",
       "      <td>1</td>\n",
       "      <td>DD5F6C5BDA3D7A95</td>\n",
       "      <td>-34.894308</td>\n",
       "      <td>-56.166438</td>\n",
       "      <td>9.84</td>\n",
       "      <td>100.0</td>\n",
       "      <td>1</td>\n",
       "      <td>2</td>\n",
       "      <td>B</td>\n",
       "      <td>...</td>\n",
       "      <td>49</td>\n",
       "      <td>4</td>\n",
       "      <td>40</td>\n",
       "      <td>6</td>\n",
       "      <td>6</td>\n",
       "      <td>True</td>\n",
       "      <td>12</td>\n",
       "      <td>16</td>\n",
       "      <td>2022</td>\n",
       "      <td>7</td>\n",
       "    </tr>\n",
       "    <tr>\n",
       "      <th>9</th>\n",
       "      <td>TresCrucesShopping</td>\n",
       "      <td>1</td>\n",
       "      <td>51FE29B1E7DACCB6</td>\n",
       "      <td>-34.894308</td>\n",
       "      <td>-56.166438</td>\n",
       "      <td>9.84</td>\n",
       "      <td>100.0</td>\n",
       "      <td>2</td>\n",
       "      <td>3</td>\n",
       "      <td>C</td>\n",
       "      <td>...</td>\n",
       "      <td>49</td>\n",
       "      <td>3</td>\n",
       "      <td>30</td>\n",
       "      <td>7</td>\n",
       "      <td>7</td>\n",
       "      <td>False</td>\n",
       "      <td>12</td>\n",
       "      <td>16</td>\n",
       "      <td>2022</td>\n",
       "      <td>7</td>\n",
       "    </tr>\n",
       "  </tbody>\n",
       "</table>\n",
       "<p>10 rows × 26 columns</p>\n",
       "</div>"
      ],
      "text/plain": [
       "         parking_name parking_id         device_id  parking_latitude  \\\n",
       "0  TresCrucesShopping          1  9AA1AD57EC8B8856        -34.894308   \n",
       "1  TresCrucesShopping          1  51FE29B1E7DACCB6        -34.894308   \n",
       "2  TresCrucesShopping          1  CE6EFF5988ECBF74        -34.894308   \n",
       "3  TresCrucesShopping          1  4DE1C372D9293D6F        -34.894308   \n",
       "4  TresCrucesShopping          1  DD5F6C5BDA3D7A95        -34.894308   \n",
       "5  TresCrucesShopping          1  CE6EFF5988ECBF74        -34.894308   \n",
       "6  TresCrucesShopping          1  51FE29B1E7DACCB6        -34.894308   \n",
       "7  TresCrucesShopping          1  4DE1C372D9293D6F        -34.894308   \n",
       "8  TresCrucesShopping          1  DD5F6C5BDA3D7A95        -34.894308   \n",
       "9  TresCrucesShopping          1  51FE29B1E7DACCB6        -34.894308   \n",
       "\n",
       "   parking_longitude  parking_temperature  parking_humidity  level_id  \\\n",
       "0         -56.166438                 9.73              66.0         2   \n",
       "1         -56.166438                 9.73              66.0         2   \n",
       "2         -56.166438                 9.73              66.0         3   \n",
       "3         -56.166438                 9.73              66.0         1   \n",
       "4         -56.166438                 9.84             100.0         1   \n",
       "5         -56.166438                 9.84             100.0         3   \n",
       "6         -56.166438                 9.84             100.0         2   \n",
       "7         -56.166438                 9.84             100.0         1   \n",
       "8         -56.166438                 9.84             100.0         1   \n",
       "9         -56.166438                 9.84             100.0         2   \n",
       "\n",
       "   area_id area_name  ...  minutes area_occupied_spots  \\\n",
       "0        1         A  ...       29                   4   \n",
       "1        3         C  ...       29                   8   \n",
       "2        1         A  ...       30                   6   \n",
       "3        3         C  ...       30                   6   \n",
       "4        2         B  ...       44                   4   \n",
       "5        1         A  ...       44                   4   \n",
       "6        3         C  ...       45                   4   \n",
       "7        3         C  ...       47                   6   \n",
       "8        2         B  ...       49                   4   \n",
       "9        3         C  ...       49                   3   \n",
       "\n",
       "   area_occupation_percentage  area_available_spots slot_id  slot_state  day  \\\n",
       "0                          40                     6       6        True   15   \n",
       "1                          80                     2       4       False   15   \n",
       "2                          60                     4       5        True   15   \n",
       "3                          60                     4       7       False   15   \n",
       "4                          40                     6       1       False   12   \n",
       "5                          40                     6       6        True   12   \n",
       "6                          40                     6       2       False   12   \n",
       "7                          60                     4       1        True   12   \n",
       "8                          40                     6       6        True   12   \n",
       "9                          30                     7       7       False   12   \n",
       "\n",
       "   hour  year  month  \n",
       "0     9  2022      7  \n",
       "1     9  2022      7  \n",
       "2     9  2022      7  \n",
       "3     9  2022      7  \n",
       "4    16  2022      7  \n",
       "5    16  2022      7  \n",
       "6    16  2022      7  \n",
       "7    16  2022      7  \n",
       "8    16  2022      7  \n",
       "9    16  2022      7  \n",
       "\n",
       "[10 rows x 26 columns]"
      ]
     },
     "execution_count": 15,
     "metadata": {},
     "output_type": "execute_result"
    }
   ],
   "source": [
    "dfp.head(10) "
   ]
  },
  {
   "cell_type": "code",
   "execution_count": 16,
   "metadata": {},
   "outputs": [
    {
     "data": {
      "text/html": [
       "<div>\n",
       "<style scoped>\n",
       "    .dataframe tbody tr th:only-of-type {\n",
       "        vertical-align: middle;\n",
       "    }\n",
       "\n",
       "    .dataframe tbody tr th {\n",
       "        vertical-align: top;\n",
       "    }\n",
       "\n",
       "    .dataframe thead th {\n",
       "        text-align: right;\n",
       "    }\n",
       "</style>\n",
       "<table border=\"1\" class=\"dataframe\">\n",
       "  <thead>\n",
       "    <tr style=\"text-align: right;\">\n",
       "      <th></th>\n",
       "      <th>parking_latitude</th>\n",
       "      <th>parking_longitude</th>\n",
       "      <th>parking_temperature</th>\n",
       "      <th>parking_humidity</th>\n",
       "      <th>level_id</th>\n",
       "      <th>area_id</th>\n",
       "      <th>area_total_spots</th>\n",
       "      <th>parking_wind_speed</th>\n",
       "      <th>minutes</th>\n",
       "      <th>area_occupied_spots</th>\n",
       "      <th>area_occupation_percentage</th>\n",
       "      <th>area_available_spots</th>\n",
       "      <th>slot_id</th>\n",
       "      <th>day</th>\n",
       "      <th>hour</th>\n",
       "      <th>year</th>\n",
       "      <th>month</th>\n",
       "    </tr>\n",
       "  </thead>\n",
       "  <tbody>\n",
       "    <tr>\n",
       "      <th>count</th>\n",
       "      <td>1.303272e+06</td>\n",
       "      <td>1.303272e+06</td>\n",
       "      <td>1.303272e+06</td>\n",
       "      <td>1.303272e+06</td>\n",
       "      <td>1.303272e+06</td>\n",
       "      <td>1.303272e+06</td>\n",
       "      <td>1303272.0</td>\n",
       "      <td>1.303272e+06</td>\n",
       "      <td>1.303272e+06</td>\n",
       "      <td>1.303272e+06</td>\n",
       "      <td>1.303272e+06</td>\n",
       "      <td>1.303272e+06</td>\n",
       "      <td>1.303272e+06</td>\n",
       "      <td>1.303272e+06</td>\n",
       "      <td>1.303272e+06</td>\n",
       "      <td>1303272.0</td>\n",
       "      <td>1303272.0</td>\n",
       "    </tr>\n",
       "    <tr>\n",
       "      <th>mean</th>\n",
       "      <td>-3.489431e+01</td>\n",
       "      <td>-5.616644e+01</td>\n",
       "      <td>9.861153e+00</td>\n",
       "      <td>8.817044e+01</td>\n",
       "      <td>1.888238e+00</td>\n",
       "      <td>2.111501e+00</td>\n",
       "      <td>10.0</td>\n",
       "      <td>3.114869e+00</td>\n",
       "      <td>2.936732e+01</td>\n",
       "      <td>4.946464e+00</td>\n",
       "      <td>4.946464e+01</td>\n",
       "      <td>5.053536e+00</td>\n",
       "      <td>5.499998e+00</td>\n",
       "      <td>9.753502e+00</td>\n",
       "      <td>1.470442e+01</td>\n",
       "      <td>2022.0</td>\n",
       "      <td>7.0</td>\n",
       "    </tr>\n",
       "    <tr>\n",
       "      <th>std</th>\n",
       "      <td>1.421086e-14</td>\n",
       "      <td>2.131629e-14</td>\n",
       "      <td>4.396811e-01</td>\n",
       "      <td>1.646142e+01</td>\n",
       "      <td>7.371358e-01</td>\n",
       "      <td>9.937786e-01</td>\n",
       "      <td>0.0</td>\n",
       "      <td>7.675835e-01</td>\n",
       "      <td>1.736817e+01</td>\n",
       "      <td>1.614499e+00</td>\n",
       "      <td>1.614499e+01</td>\n",
       "      <td>1.614499e+00</td>\n",
       "      <td>2.872292e+00</td>\n",
       "      <td>5.130665e+00</td>\n",
       "      <td>4.058676e+00</td>\n",
       "      <td>0.0</td>\n",
       "      <td>0.0</td>\n",
       "    </tr>\n",
       "    <tr>\n",
       "      <th>min</th>\n",
       "      <td>-3.489431e+01</td>\n",
       "      <td>-5.616644e+01</td>\n",
       "      <td>9.010000e+00</td>\n",
       "      <td>4.900000e+01</td>\n",
       "      <td>1.000000e+00</td>\n",
       "      <td>1.000000e+00</td>\n",
       "      <td>10.0</td>\n",
       "      <td>2.060000e+00</td>\n",
       "      <td>0.000000e+00</td>\n",
       "      <td>0.000000e+00</td>\n",
       "      <td>0.000000e+00</td>\n",
       "      <td>0.000000e+00</td>\n",
       "      <td>1.000000e+00</td>\n",
       "      <td>1.000000e+00</td>\n",
       "      <td>8.000000e+00</td>\n",
       "      <td>2022.0</td>\n",
       "      <td>7.0</td>\n",
       "    </tr>\n",
       "    <tr>\n",
       "      <th>25%</th>\n",
       "      <td>-3.489431e+01</td>\n",
       "      <td>-5.616644e+01</td>\n",
       "      <td>9.730000e+00</td>\n",
       "      <td>6.600000e+01</td>\n",
       "      <td>1.000000e+00</td>\n",
       "      <td>1.000000e+00</td>\n",
       "      <td>10.0</td>\n",
       "      <td>2.570000e+00</td>\n",
       "      <td>1.400000e+01</td>\n",
       "      <td>4.000000e+00</td>\n",
       "      <td>4.000000e+01</td>\n",
       "      <td>4.000000e+00</td>\n",
       "      <td>3.000000e+00</td>\n",
       "      <td>5.000000e+00</td>\n",
       "      <td>1.100000e+01</td>\n",
       "      <td>2022.0</td>\n",
       "      <td>7.0</td>\n",
       "    </tr>\n",
       "    <tr>\n",
       "      <th>50%</th>\n",
       "      <td>-3.489431e+01</td>\n",
       "      <td>-5.616644e+01</td>\n",
       "      <td>9.840000e+00</td>\n",
       "      <td>1.000000e+02</td>\n",
       "      <td>2.000000e+00</td>\n",
       "      <td>2.000000e+00</td>\n",
       "      <td>10.0</td>\n",
       "      <td>2.570000e+00</td>\n",
       "      <td>2.900000e+01</td>\n",
       "      <td>5.000000e+00</td>\n",
       "      <td>5.000000e+01</td>\n",
       "      <td>5.000000e+00</td>\n",
       "      <td>6.000000e+00</td>\n",
       "      <td>9.000000e+00</td>\n",
       "      <td>1.500000e+01</td>\n",
       "      <td>2022.0</td>\n",
       "      <td>7.0</td>\n",
       "    </tr>\n",
       "    <tr>\n",
       "      <th>75%</th>\n",
       "      <td>-3.489431e+01</td>\n",
       "      <td>-5.616644e+01</td>\n",
       "      <td>9.840000e+00</td>\n",
       "      <td>1.000000e+02</td>\n",
       "      <td>2.000000e+00</td>\n",
       "      <td>3.000000e+00</td>\n",
       "      <td>10.0</td>\n",
       "      <td>4.120000e+00</td>\n",
       "      <td>4.400000e+01</td>\n",
       "      <td>6.000000e+00</td>\n",
       "      <td>6.000000e+01</td>\n",
       "      <td>6.000000e+00</td>\n",
       "      <td>8.000000e+00</td>\n",
       "      <td>1.500000e+01</td>\n",
       "      <td>1.800000e+01</td>\n",
       "      <td>2022.0</td>\n",
       "      <td>7.0</td>\n",
       "    </tr>\n",
       "    <tr>\n",
       "      <th>max</th>\n",
       "      <td>-3.489431e+01</td>\n",
       "      <td>-5.616644e+01</td>\n",
       "      <td>1.377000e+01</td>\n",
       "      <td>1.000000e+02</td>\n",
       "      <td>3.000000e+00</td>\n",
       "      <td>4.000000e+00</td>\n",
       "      <td>10.0</td>\n",
       "      <td>5.140000e+00</td>\n",
       "      <td>5.900000e+01</td>\n",
       "      <td>1.000000e+01</td>\n",
       "      <td>1.000000e+02</td>\n",
       "      <td>1.000000e+01</td>\n",
       "      <td>1.000000e+01</td>\n",
       "      <td>1.800000e+01</td>\n",
       "      <td>2.200000e+01</td>\n",
       "      <td>2022.0</td>\n",
       "      <td>7.0</td>\n",
       "    </tr>\n",
       "  </tbody>\n",
       "</table>\n",
       "</div>"
      ],
      "text/plain": [
       "       parking_latitude  parking_longitude  parking_temperature  \\\n",
       "count      1.303272e+06       1.303272e+06         1.303272e+06   \n",
       "mean      -3.489431e+01      -5.616644e+01         9.861153e+00   \n",
       "std        1.421086e-14       2.131629e-14         4.396811e-01   \n",
       "min       -3.489431e+01      -5.616644e+01         9.010000e+00   \n",
       "25%       -3.489431e+01      -5.616644e+01         9.730000e+00   \n",
       "50%       -3.489431e+01      -5.616644e+01         9.840000e+00   \n",
       "75%       -3.489431e+01      -5.616644e+01         9.840000e+00   \n",
       "max       -3.489431e+01      -5.616644e+01         1.377000e+01   \n",
       "\n",
       "       parking_humidity      level_id       area_id  area_total_spots  \\\n",
       "count      1.303272e+06  1.303272e+06  1.303272e+06         1303272.0   \n",
       "mean       8.817044e+01  1.888238e+00  2.111501e+00              10.0   \n",
       "std        1.646142e+01  7.371358e-01  9.937786e-01               0.0   \n",
       "min        4.900000e+01  1.000000e+00  1.000000e+00              10.0   \n",
       "25%        6.600000e+01  1.000000e+00  1.000000e+00              10.0   \n",
       "50%        1.000000e+02  2.000000e+00  2.000000e+00              10.0   \n",
       "75%        1.000000e+02  2.000000e+00  3.000000e+00              10.0   \n",
       "max        1.000000e+02  3.000000e+00  4.000000e+00              10.0   \n",
       "\n",
       "       parking_wind_speed       minutes  area_occupied_spots  \\\n",
       "count        1.303272e+06  1.303272e+06         1.303272e+06   \n",
       "mean         3.114869e+00  2.936732e+01         4.946464e+00   \n",
       "std          7.675835e-01  1.736817e+01         1.614499e+00   \n",
       "min          2.060000e+00  0.000000e+00         0.000000e+00   \n",
       "25%          2.570000e+00  1.400000e+01         4.000000e+00   \n",
       "50%          2.570000e+00  2.900000e+01         5.000000e+00   \n",
       "75%          4.120000e+00  4.400000e+01         6.000000e+00   \n",
       "max          5.140000e+00  5.900000e+01         1.000000e+01   \n",
       "\n",
       "       area_occupation_percentage  area_available_spots       slot_id  \\\n",
       "count                1.303272e+06          1.303272e+06  1.303272e+06   \n",
       "mean                 4.946464e+01          5.053536e+00  5.499998e+00   \n",
       "std                  1.614499e+01          1.614499e+00  2.872292e+00   \n",
       "min                  0.000000e+00          0.000000e+00  1.000000e+00   \n",
       "25%                  4.000000e+01          4.000000e+00  3.000000e+00   \n",
       "50%                  5.000000e+01          5.000000e+00  6.000000e+00   \n",
       "75%                  6.000000e+01          6.000000e+00  8.000000e+00   \n",
       "max                  1.000000e+02          1.000000e+01  1.000000e+01   \n",
       "\n",
       "                day          hour       year      month  \n",
       "count  1.303272e+06  1.303272e+06  1303272.0  1303272.0  \n",
       "mean   9.753502e+00  1.470442e+01     2022.0        7.0  \n",
       "std    5.130665e+00  4.058676e+00        0.0        0.0  \n",
       "min    1.000000e+00  8.000000e+00     2022.0        7.0  \n",
       "25%    5.000000e+00  1.100000e+01     2022.0        7.0  \n",
       "50%    9.000000e+00  1.500000e+01     2022.0        7.0  \n",
       "75%    1.500000e+01  1.800000e+01     2022.0        7.0  \n",
       "max    1.800000e+01  2.200000e+01     2022.0        7.0  "
      ]
     },
     "execution_count": 16,
     "metadata": {},
     "output_type": "execute_result"
    }
   ],
   "source": [
    "dfp.describe() #vemos la descripción estadística de los datos numéricos"
   ]
  },
  {
   "cell_type": "code",
   "execution_count": 17,
   "metadata": {
    "scrolled": true
   },
   "outputs": [
    {
     "data": {
      "text/plain": [
       "<AxesSubplot:>"
      ]
     },
     "execution_count": 17,
     "metadata": {},
     "output_type": "execute_result"
    },
    {
     "data": {
      "image/png": "[encoded data removed]",
      "text/plain": [
       "<Figure size 432x288 with 2 Axes>"
      ]
     },
     "metadata": {
      "needs_background": "light"
     },
     "output_type": "display_data"
    }
   ],
   "source": [
    "#hacemos un mapa de calor para ver las correlaciones entre los atributos que tenemos\n",
    "corr = dfp.corr() \n",
    "sns.heatmap(corr, \n",
    "      xticklabels=corr.columns.values, \n",
    "      yticklabels=corr.columns.values) "
   ]
  },
  {
   "cell_type": "code",
   "execution_count": 18,
   "metadata": {},
   "outputs": [],
   "source": [
    "dfp2 = dfp.drop([\"parking_latitude\", \"parking_longitude\", \"area_total_spots\", ], axis=1)"
   ]
  },
  {
   "cell_type": "code",
   "execution_count": 19,
   "metadata": {
    "scrolled": true
   },
   "outputs": [
    {
     "data": {
      "text/plain": [
       "<AxesSubplot:>"
      ]
     },
     "execution_count": 19,
     "metadata": {},
     "output_type": "execute_result"
    },
    {
     "data": {
      "image/png": "[encoded data removed]",
      "text/plain": [
       "<Figure size 432x288 with 2 Axes>"
      ]
     },
     "metadata": {
      "needs_background": "light"
     },
     "output_type": "display_data"
    }
   ],
   "source": [
    "#hacemos un mapa de calor para ver las correlaciones entre los atributos que tenemos\n",
    "corr2 = dfp2.corr() \n",
    "sns.heatmap(corr2, \n",
    "      xticklabels=corr.columns.values, \n",
    "      yticklabels=corr.columns.values) "
   ]
  },
  {
   "cell_type": "markdown",
   "metadata": {},
   "source": [
    "Vemos que los atributos tienen \"poca\" correlación, por lo que al momento los dejamos todos. "
   ]
  },
  {
   "cell_type": "code",
   "execution_count": null,
   "metadata": {},
   "outputs": [],
   "source": [
    "#Otra forma de ver la correlación, no solo con colores sino con los valores de cada correlación.\n",
    "\n",
    "cmap=sns.diverging_palette(5, 250, as_cmap=True)\n",
    "\n",
    "def magnify():\n",
    "    return [dict(selector=\"th\",\n",
    "                 props=[(\"font-size\", \"7pt\")]),\n",
    "            dict(selector=\"td\",\n",
    "                 props=[('padding', \"0em 0em\")]),\n",
    "            dict(selector=\"th:hover\",\n",
    "                 props=[(\"font-size\", \"12pt\")]),\n",
    "            dict(selector=\"tr:hover td:hover\",\n",
    "                 props=[('max-width', '200px'),\n",
    "                        ('font-size', '12pt')])]\n",
    "\n",
    "corr2.style.background_gradient(cmap, axis=1)\\\n",
    "    .set_properties(**{'max-width': '80px', 'font-size': '10pt'})\\\n",
    "    .set_caption(\"Hover to magify\")\\\n",
    "    .set_precision(2)\\\n",
    "    .set_table_styles(magnify())"
   ]
  },
  {
   "cell_type": "markdown",
   "metadata": {},
   "source": [
    "Esta forma de ver la correlación es un poco más clara y podemos ver los valores, pero se mantiene la conclusión anterior."
   ]
  },
  {
   "cell_type": "markdown",
   "metadata": {},
   "source": [
    "# Preparation of Linear Regression"
   ]
  },
  {
   "cell_type": "code",
   "execution_count": 20,
   "metadata": {},
   "outputs": [],
   "source": [
    "from pyspark.ml.feature import VectorAssembler"
   ]
  },
  {
   "cell_type": "code",
   "execution_count": 21,
   "metadata": {},
   "outputs": [],
   "source": [
    "vectorAssembler = VectorAssembler(inputCols = [\"level_id\", \"area_id\", \"parking_wind_speed\", \"parking_holiday_status\",\n",
    "                                               \"parking_temperature\", \"parking_humidity\", \"parking_closed\",\"minutes\",\n",
    "                                               \"area_occupied_spots\", \"area_available_spots\", \"slot_id\", \"slot_state\",\n",
    "                                               \"hour\", \"year\", \"month\", \"day\"],outputCol = 'features')"
   ]
  },
  {
   "cell_type": "code",
   "execution_count": 22,
   "metadata": {},
   "outputs": [],
   "source": [
    "va_df_parking = vectorAssembler.transform(df_parking_machine_learning)\n"
   ]
  },
  {
   "cell_type": "code",
   "execution_count": 23,
   "metadata": {},
   "outputs": [
    {
     "name": "stdout",
     "output_type": "stream",
     "text": [
      "+--------------------+--------------------------+\n",
      "|            features|area_occupation_percentage|\n",
      "+--------------------+--------------------------+\n",
      "|[2.0,1.0,4.12,0.0...|                        40|\n",
      "|[2.0,3.0,4.12,0.0...|                        80|\n",
      "|[3.0,1.0,4.12,0.0...|                        60|\n",
      "+--------------------+--------------------------+\n",
      "only showing top 3 rows\n",
      "\n"
     ]
    }
   ],
   "source": [
    "va_df_parking = va_df_parking.select(['features', 'area_occupation_percentage'])\n",
    "va_df_parking.show(3)"
   ]
  },
  {
   "cell_type": "markdown",
   "metadata": {},
   "source": [
    "# Modelo RL con MLlib"
   ]
  },
  {
   "cell_type": "code",
   "execution_count": 24,
   "metadata": {},
   "outputs": [],
   "source": [
    "splits = va_df_parking.randomSplit([0.7, 0.3])\n",
    "train_df = splits[0]\n",
    "test_df = splits[1]"
   ]
  },
  {
   "cell_type": "code",
   "execution_count": 25,
   "metadata": {},
   "outputs": [],
   "source": [
    "from pyspark.ml.regression import LinearRegression\n"
   ]
  },
  {
   "cell_type": "code",
   "execution_count": 26,
   "metadata": {},
   "outputs": [
    {
     "name": "stderr",
     "output_type": "stream",
     "text": [
      "22/07/18 23:34:13 WARN InstanceBuilder$NativeBLAS: Failed to load implementation from:dev.ludovic.netlib.blas.JNIBLAS\n",
      "22/07/18 23:34:13 WARN InstanceBuilder$NativeBLAS: Failed to load implementation from:dev.ludovic.netlib.blas.ForeignLinkerBLAS\n",
      "[Stage 8:>                                                          (0 + 4) / 4]\r"
     ]
    },
    {
     "name": "stdout",
     "output_type": "stream",
     "text": [
      "Coefficients: [0.0,0.0,0.0,0.0,0.0,0.0,0.0,0.0,4.916575002675703,-4.916575002679065,0.0,0.0,0.0,0.0,0.0,0.0]\n",
      "Intercept: 49.990852734020805\n"
     ]
    },
    {
     "name": "stderr",
     "output_type": "stream",
     "text": [
      "\r",
      "                                                                                \r"
     ]
    }
   ],
   "source": [
    "lr = LinearRegression(featuresCol = 'features', labelCol='area_occupation_percentage', maxIter=10, regParam=0.3, elasticNetParam=0.8)\n",
    "lr_model = lr.fit(train_df)\n",
    "print(\"Coefficients: \" + str(lr_model.coefficients))\n",
    "print(\"Intercept: \" + str(lr_model.intercept))"
   ]
  },
  {
   "cell_type": "code",
   "execution_count": 27,
   "metadata": {},
   "outputs": [
    {
     "name": "stdout",
     "output_type": "stream",
     "text": [
      "RMSE: 0.269495\n",
      "r2: 0.999722\n"
     ]
    }
   ],
   "source": [
    "trainingSummary = lr_model.summary\n",
    "print(\"RMSE: %f\" % trainingSummary.rootMeanSquaredError)\n",
    "print(\"r2: %f\" % trainingSummary.r2)"
   ]
  },
  {
   "cell_type": "code",
   "execution_count": 28,
   "metadata": {},
   "outputs": [
    {
     "name": "stderr",
     "output_type": "stream",
     "text": [
      "                                                                                \r"
     ]
    },
    {
     "name": "stdout",
     "output_type": "stream",
     "text": [
      "+-------+--------------------------+\n",
      "|summary|area_occupation_percentage|\n",
      "+-------+--------------------------+\n",
      "|  count|                    912240|\n",
      "|   mean|        49.451767078838905|\n",
      "| stddev|        16.151912683698786|\n",
      "|    min|                         0|\n",
      "|    max|                       100|\n",
      "+-------+--------------------------+\n",
      "\n"
     ]
    }
   ],
   "source": [
    "train_df.describe().show()"
   ]
  },
  {
   "cell_type": "code",
   "execution_count": 29,
   "metadata": {},
   "outputs": [
    {
     "name": "stderr",
     "output_type": "stream",
     "text": [
      "                                                                                \r"
     ]
    },
    {
     "name": "stdout",
     "output_type": "stream",
     "text": [
      "+------------------+--------------------------+--------------------+\n",
      "|        prediction|area_occupation_percentage|            features|\n",
      "+------------------+--------------------------+--------------------+\n",
      "|49.990852734003994|                        50|[1.0,1.0,2.06,0.0...|\n",
      "| 40.15770272864923|                        40|[1.0,1.0,2.06,0.0...|\n",
      "|49.990852734003994|                        50|[1.0,1.0,2.06,0.0...|\n",
      "| 40.15770272864923|                        40|[1.0,1.0,2.06,0.0...|\n",
      "| 40.15770272864923|                        40|[1.0,1.0,2.06,0.0...|\n",
      "+------------------+--------------------------+--------------------+\n",
      "only showing top 5 rows\n",
      "\n"
     ]
    },
    {
     "name": "stderr",
     "output_type": "stream",
     "text": [
      "\r",
      "[Stage 13:>                                                         (0 + 4) / 4]\r"
     ]
    },
    {
     "name": "stdout",
     "output_type": "stream",
     "text": [
      "R Squared (R2) on test data = 0.999722\n"
     ]
    },
    {
     "name": "stderr",
     "output_type": "stream",
     "text": [
      "\r",
      "[Stage 13:===========================================>              (3 + 1) / 4]\r",
      "\r",
      "                                                                                \r"
     ]
    }
   ],
   "source": [
    "lr_predictions = lr_model.transform(test_df)\n",
    "lr_predictions.select(\"prediction\",\"area_occupation_percentage\",\"features\").show(5)\n",
    "from pyspark.ml.evaluation import RegressionEvaluator\n",
    "lr_evaluator = RegressionEvaluator(predictionCol=\"prediction\", \\\n",
    "                 labelCol=\"area_occupation_percentage\",metricName=\"r2\")\n",
    "print(\"R Squared (R2) on test data = %g\" % lr_evaluator.evaluate(lr_predictions))"
   ]
  },
  {
   "cell_type": "code",
   "execution_count": null,
   "metadata": {},
   "outputs": [],
   "source": [
    "print(\"numIterations: %d\" % trainingSummary.totalIterations)\n",
    "print(\"objectiveHistory: %s\" % str(trainingSummary.objectiveHistory))\n",
    "trainingSummary.residuals.show()"
   ]
  },
  {
   "cell_type": "code",
   "execution_count": null,
   "metadata": {},
   "outputs": [],
   "source": [
    "predictions = lr_model.transform(test_df)\n",
    "predictions.select(\"prediction\",\"area_occupation_percentage\",\"features\").show()"
   ]
  },
  {
   "cell_type": "markdown",
   "metadata": {},
   "source": [
    "# Decision Tree"
   ]
  },
  {
   "cell_type": "code",
   "execution_count": 118,
   "metadata": {},
   "outputs": [
    {
     "name": "stderr",
     "output_type": "stream",
     "text": [
      "[Stage 151:>                                                        (0 + 4) / 4]\r"
     ]
    },
    {
     "name": "stdout",
     "output_type": "stream",
     "text": [
      "Root Mean Squared Error (RMSE) on test data = 0\n"
     ]
    },
    {
     "name": "stderr",
     "output_type": "stream",
     "text": [
      "\r",
      "[Stage 151:============================>                            (2 + 2) / 4]\r",
      "\r",
      "                                                                                \r"
     ]
    }
   ],
   "source": [
    "from pyspark.ml.regression import DecisionTreeRegressor\n",
    "dt = DecisionTreeRegressor(featuresCol ='features', labelCol = 'area_occupation_percentage')\n",
    "dt_model = dt.fit(train_df)\n",
    "dt_predictions = dt_model.transform(test_df)\n",
    "dt_evaluator = RegressionEvaluator(\n",
    "    labelCol=\"area_occupation_percentage\", predictionCol=\"prediction\", metricName=\"rmse\")\n",
    "rmse = dt_evaluator.evaluate(dt_predictions)\n",
    "print(\"Root Mean Squared Error (RMSE) on test data = %g\" % rmse)"
   ]
  },
  {
   "cell_type": "code",
   "execution_count": 119,
   "metadata": {},
   "outputs": [
    {
     "data": {
      "text/plain": [
       "SparseVector(17, {7: 0.0016, 9: 0.1554, 10: 0.843})"
      ]
     },
     "execution_count": 119,
     "metadata": {},
     "output_type": "execute_result"
    }
   ],
   "source": [
    "dt_model.featureImportances"
   ]
  },
  {
   "cell_type": "code",
   "execution_count": null,
   "metadata": {},
   "outputs": [],
   "source": []
  },
  {
   "cell_type": "code",
   "execution_count": null,
   "metadata": {},
   "outputs": [],
   "source": []
  },
  {
   "cell_type": "code",
   "execution_count": null,
   "metadata": {},
   "outputs": [],
   "source": []
  },
  {
   "cell_type": "code",
   "execution_count": null,
   "metadata": {},
   "outputs": [],
   "source": []
  },
  {
   "cell_type": "code",
   "execution_count": null,
   "metadata": {},
   "outputs": [],
   "source": []
  },
  {
   "cell_type": "code",
   "execution_count": null,
   "metadata": {},
   "outputs": [],
   "source": []
  },
  {
   "cell_type": "code",
   "execution_count": null,
   "metadata": {},
   "outputs": [],
   "source": []
  },
  {
   "cell_type": "code",
   "execution_count": null,
   "metadata": {},
   "outputs": [],
   "source": []
  },
  {
   "cell_type": "markdown",
   "metadata": {},
   "source": [
    "## Modelo ALS"
   ]
  },
  {
   "cell_type": "markdown",
   "metadata": {},
   "source": [
    "Construimos las recomendaciones usando el modelo ALS (Alternating Least Squares) en data de train.\n",
    "Los parametros del modelo son los siguientes:\n",
    "\n",
    "- maxIter: cantidad de iteraciones, el valor predeterminado es 10 pero luego de pruebas, nos quedamos con 8.\n",
    "- regParam: especifica el parámetro de regularización (por defecto es 1, pero optamos por 0.05).\n",
    "\n",
    "Luego se definen las columnas del dataset con las que va a trabajar el modelo:\n",
    "- ColdStartStrategy= drop nos aseguramos de eliminar las filas con valores vacíos y por lo tanto no tener métricas con valores NAN.\n",
    "El modelo puede trabajar con implicit o explicit preference, por defecto es implicit= False. En nuestro caso, trabajaremos con lo que viene predeterminado porque lo que indica las preferencias en nuestro dataset es un rating, o sea que sabemos explícitamente qué tanto le gustó una pelicula a un usuario. "
   ]
  },
  {
   "cell_type": "code",
   "execution_count": 33,
   "metadata": {},
   "outputs": [],
   "source": [
    "#separamos los datos en train y test\n",
    "(train, test) = df_cleaned.randomSplit([0.8, 0.2]) "
   ]
  },
  {
   "cell_type": "code",
   "execution_count": 34,
   "metadata": {},
   "outputs": [],
   "source": [
    "#Definimos los parametros con los que vamos a entrenar el modelo y lo entrenamos\n",
    "als = ALS(maxIter=8, regParam=0.05, userCol=\"User_ID\", itemCol=\"Movie_ID\", ratingCol=\"Rating\",\n",
    "          coldStartStrategy=\"drop\")\n",
    "model = als.fit(train)"
   ]
  },
  {
   "cell_type": "code",
   "execution_count": 37,
   "metadata": {},
   "outputs": [],
   "source": [
    "model.save(\"/home/jovyan/model/\")"
   ]
  },
  {
   "cell_type": "code",
   "execution_count": null,
   "metadata": {},
   "outputs": [],
   "source": [
    "! ls /home/jovyan/model"
   ]
  },
  {
   "cell_type": "code",
   "execution_count": null,
   "metadata": {},
   "outputs": [],
   "source": [
    "! ls /home/jovyan/model/itemFactors"
   ]
  },
  {
   "cell_type": "code",
   "execution_count": null,
   "metadata": {},
   "outputs": [],
   "source": [
    "spark.read.parquet('/home/jovyan/model/itemFactors').show(10,False,True)"
   ]
  },
  {
   "cell_type": "code",
   "execution_count": null,
   "metadata": {},
   "outputs": [],
   "source": [
    "! cat /home/jovyan/model/metadata/part-00000"
   ]
  },
  {
   "cell_type": "code",
   "execution_count": null,
   "metadata": {},
   "outputs": [],
   "source": [
    "! ls /home/jovyan/model/userFactors"
   ]
  },
  {
   "cell_type": "code",
   "execution_count": null,
   "metadata": {},
   "outputs": [],
   "source": [
    "spark.read.parquet('/home/jovyan/model/userFactors').show(10,False,True)"
   ]
  },
  {
   "cell_type": "markdown",
   "metadata": {},
   "source": [
    "## Evaluación del modelo"
   ]
  },
  {
   "cell_type": "markdown",
   "metadata": {},
   "source": [
    "Utilizamos RMSE, que calcula el promedio de los errores al cuadraro entre los valores predichos del conjunto de entrenamiento con los valores del conjunto de validación. Cuanto menor es el error, mejor es la capacidad de pronóstico del modelo según el criterio del RMSE.\n",
    "\n",
    "Con un RMSE de 0.86, consideramos que obtenemos buenos resultados porque como el rating va del 1 al 5, el error que en promedio podremos cometer es de 17%. Es decir, dado un rating estimado, en promedio nos estaremos desviando un 17%, lo cual es un buen resultado."
   ]
  },
  {
   "cell_type": "code",
   "execution_count": 44,
   "metadata": {},
   "outputs": [
    {
     "name": "stdout",
     "output_type": "stream",
     "text": [
      "Root-mean-square error = 0.8615964679702744\n"
     ]
    }
   ],
   "source": [
    "predictions = model.transform(test)\n",
    "evaluator = RegressionEvaluator(metricName=\"rmse\", labelCol=\"Rating\",\n",
    "                                predictionCol=\"prediction\")\n",
    "rmse = evaluator.evaluate(predictions)\n",
    "print(\"Root-mean-square error = \" + str(rmse))"
   ]
  },
  {
   "cell_type": "code",
   "execution_count": 45,
   "metadata": {},
   "outputs": [
    {
     "name": "stdout",
     "output_type": "stream",
     "text": [
      "-RECORD 0-----------------------------------------\n",
      " User_ID       | 2383                             \n",
      " Movie_ID      | 148                              \n",
      " Rating        | 2                                \n",
      " timestamp     | 974417654                        \n",
      " Sexo          | F                                \n",
      " Ocupacion     | 14                               \n",
      " Edad          | 25                               \n",
      " Codigo_postal | 95125                            \n",
      " Genero        | Drama                            \n",
      " Titulo        | Awfully Big Adventure, An (1995) \n",
      " prediction    | 2.255461                         \n",
      "-RECORD 1-----------------------------------------\n",
      " User_ID       | 3539                             \n",
      " Movie_ID      | 148                              \n",
      " Rating        | 3                                \n",
      " timestamp     | 966932408                        \n",
      " Sexo          | F                                \n",
      " Ocupacion     | 4                                \n",
      " Edad          | 25                               \n",
      " Codigo_postal | 77006                            \n",
      " Genero        | Drama                            \n",
      " Titulo        | Awfully Big Adventure, An (1995) \n",
      " prediction    | 3.1831822                        \n",
      "-RECORD 2-----------------------------------------\n",
      " User_ID       | 482                              \n",
      " Movie_ID      | 148                              \n",
      " Rating        | 2                                \n",
      " timestamp     | 976219954                        \n",
      " Sexo          | M                                \n",
      " Ocupacion     | 14                               \n",
      " Edad          | 25                               \n",
      " Codigo_postal | 55305                            \n",
      " Genero        | Drama                            \n",
      " Titulo        | Awfully Big Adventure, An (1995) \n",
      " prediction    | 2.5400124                        \n",
      "-RECORD 3-----------------------------------------\n",
      " User_ID       | 319                              \n",
      " Movie_ID      | 463                              \n",
      " Rating        | 2                                \n",
      " timestamp     | 976424451                        \n",
      " Sexo          | F                                \n",
      " Ocupacion     | 6                                \n",
      " Edad          | 50                               \n",
      " Codigo_postal | 33436                            \n",
      " Genero        | Crime|Drama|Thriller             \n",
      " Titulo        | Guilty as Sin (1993)             \n",
      " prediction    | 2.073638                         \n",
      "-RECORD 4-----------------------------------------\n",
      " User_ID       | 746                              \n",
      " Movie_ID      | 463                              \n",
      " Rating        | 1                                \n",
      " timestamp     | 975470754                        \n",
      " Sexo          | F                                \n",
      " Ocupacion     | 19                               \n",
      " Edad          | 18                               \n",
      " Codigo_postal | 95019                            \n",
      " Genero        | Crime|Drama|Thriller             \n",
      " Titulo        | Guilty as Sin (1993)             \n",
      " prediction    | 2.1326842                        \n",
      "-RECORD 5-----------------------------------------\n",
      " User_ID       | 5511                             \n",
      " Movie_ID      | 463                              \n",
      " Rating        | 2                                \n",
      " timestamp     | 959715021                        \n",
      " Sexo          | M                                \n",
      " Ocupacion     | 1                                \n",
      " Edad          | 45                               \n",
      " Codigo_postal | 92407                            \n",
      " Genero        | Crime|Drama|Thriller             \n",
      " Titulo        | Guilty as Sin (1993)             \n",
      " prediction    | 3.558584                         \n",
      "-RECORD 6-----------------------------------------\n",
      " User_ID       | 331                              \n",
      " Movie_ID      | 463                              \n",
      " Rating        | 4                                \n",
      " timestamp     | 979855540                        \n",
      " Sexo          | M                                \n",
      " Ocupacion     | 7                                \n",
      " Edad          | 25                               \n",
      " Codigo_postal | 55902                            \n",
      " Genero        | Crime|Drama|Thriller             \n",
      " Titulo        | Guilty as Sin (1993)             \n",
      " prediction    | 2.5330088                        \n",
      "-RECORD 7-----------------------------------------\n",
      " User_ID       | 524                              \n",
      " Movie_ID      | 463                              \n",
      " Rating        | 3                                \n",
      " timestamp     | 976172772                        \n",
      " Sexo          | M                                \n",
      " Ocupacion     | 0                                \n",
      " Edad          | 18                               \n",
      " Codigo_postal | 91320                            \n",
      " Genero        | Crime|Drama|Thriller             \n",
      " Titulo        | Guilty as Sin (1993)             \n",
      " prediction    | 2.0462933                        \n",
      "-RECORD 8-----------------------------------------\n",
      " User_ID       | 3808                             \n",
      " Movie_ID      | 463                              \n",
      " Rating        | 3                                \n",
      " timestamp     | 965972261                        \n",
      " Sexo          | M                                \n",
      " Ocupacion     | 7                                \n",
      " Edad          | 25                               \n",
      " Codigo_postal | 60010                            \n",
      " Genero        | Crime|Drama|Thriller             \n",
      " Titulo        | Guilty as Sin (1993)             \n",
      " prediction    | 2.6543467                        \n",
      "-RECORD 9-----------------------------------------\n",
      " User_ID       | 934                              \n",
      " Movie_ID      | 463                              \n",
      " Rating        | 3                                \n",
      " timestamp     | 992547644                        \n",
      " Sexo          | F                                \n",
      " Ocupacion     | 7                                \n",
      " Edad          | 35                               \n",
      " Codigo_postal | 97401                            \n",
      " Genero        | Crime|Drama|Thriller             \n",
      " Titulo        | Guilty as Sin (1993)             \n",
      " prediction    | 2.2434833                        \n",
      "only showing top 10 rows\n",
      "\n"
     ]
    }
   ],
   "source": [
    "predictions.show(10,False,True) #mostramos algunas predicciones luego de aplicar el algoritmo"
   ]
  },
  {
   "cell_type": "code",
   "execution_count": 46,
   "metadata": {},
   "outputs": [],
   "source": [
    "#Vemos la primera película recomendada para cada usuario\n",
    "userRecs = model.recommendForAllUsers(1)"
   ]
  },
  {
   "cell_type": "code",
   "execution_count": 47,
   "metadata": {},
   "outputs": [
    {
     "name": "stdout",
     "output_type": "stream",
     "text": [
      "+-------+-------------------+\n",
      "|User_ID|    recommendations|\n",
      "+-------+-------------------+\n",
      "|   1580|   [[557, 4.94973]]|\n",
      "|   4900|  [[572, 6.751706]]|\n",
      "|   5300| [[557, 5.7473125]]|\n",
      "|    471| [[3951, 5.294216]]|\n",
      "|   1591|  [[572, 6.194825]]|\n",
      "|   4101| [[2964, 6.058449]]|\n",
      "|   1342| [[572, 4.8523083]]|\n",
      "|   2122| [[572, 5.4402065]]|\n",
      "|   2142| [[572, 5.2857795]]|\n",
      "|    463|[[2309, 4.8618903]]|\n",
      "|    833|[[2964, 6.4485483]]|\n",
      "|   5803|[[1574, 6.3360844]]|\n",
      "|   3794|[[2309, 5.0118876]]|\n",
      "|   1645| [[2964, 6.847805]]|\n",
      "|   3175|[[2192, 6.4620423]]|\n",
      "|   4935|  [[682, 5.959664]]|\n",
      "|    496|[[2562, 5.9101458]]|\n",
      "|   2366| [[572, 4.9769077]]|\n",
      "|   2866|[[1743, 5.0615377]]|\n",
      "|   5156|  [[572, 6.002281]]|\n",
      "+-------+-------------------+\n",
      "only showing top 20 rows\n",
      "\n"
     ]
    }
   ],
   "source": [
    "#Acá vemos que el resultado que obtenemos tiene dos columnas, una con el User_ID y la otra con una tupla que incluye el \n",
    "#Movie_ID y el rating estimado\n",
    "userRecs.show()"
   ]
  },
  {
   "cell_type": "code",
   "execution_count": 49,
   "metadata": {},
   "outputs": [],
   "source": [
    "users = df_ratings.select(als.getUserCol()).distinct().limit(3)"
   ]
  },
  {
   "cell_type": "code",
   "execution_count": 50,
   "metadata": {},
   "outputs": [
    {
     "data": {
      "text/plain": [
       "DataFrame[User_ID: string]"
      ]
     },
     "execution_count": 50,
     "metadata": {},
     "output_type": "execute_result"
    }
   ],
   "source": [
    "users"
   ]
  },
  {
   "cell_type": "code",
   "execution_count": 51,
   "metadata": {},
   "outputs": [
    {
     "name": "stdout",
     "output_type": "stream",
     "text": [
      "+-------+\n",
      "|User_ID|\n",
      "+-------+\n",
      "|    296|\n",
      "|    467|\n",
      "|    675|\n",
      "+-------+\n",
      "\n"
     ]
    }
   ],
   "source": [
    "users.show()"
   ]
  },
  {
   "cell_type": "code",
   "execution_count": null,
   "metadata": {},
   "outputs": [],
   "source": []
  }
 ],
 "metadata": {
  "kernelspec": {
   "display_name": "Python 3 (ipykernel)",
   "language": "python",
   "name": "python3"
  },
  "language_info": {
   "codemirror_mode": {
    "name": "ipython",
    "version": 3
   },
   "file_extension": ".py",
   "mimetype": "text/x-python",
   "name": "python",
   "nbconvert_exporter": "python",
   "pygments_lexer": "ipython3",
   "version": "3.10.4"
  }
 },
 "nbformat": 4,
 "nbformat_minor": 2
}
