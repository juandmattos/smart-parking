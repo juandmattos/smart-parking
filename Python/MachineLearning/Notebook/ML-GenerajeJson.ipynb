{
 "cells": [
  {
   "cell_type": "code",
   "execution_count": 1,
   "id": "92a40a87",
   "metadata": {},
   "outputs": [
    {
     "name": "stderr",
     "output_type": "stream",
     "text": [
      "22/08/05 10:31:48 WARN NativeCodeLoader: Unable to load native-hadoop library for your platform... using builtin-java classes where applicable\n",
      "22/08/05 10:31:49 WARN Utils: Service 'SparkUI' could not bind on port 4040. Attempting port 4041.\n",
      "22/08/05 10:31:49 WARN Utils: Service 'SparkUI' could not bind on port 4041. Attempting port 4042.\n",
      "22/08/05 10:31:49 WARN Utils: Service 'SparkUI' could not bind on port 4042. Attempting port 4043.\n"
     ]
    }
   ],
   "source": [
    "import findspark\n",
    "findspark.init()\n",
    "import json\n",
    "import sys\n",
    "import seaborn as sns \n",
    "import pandas as pd \n",
    "import numpy as np\n",
    "import matplotlib.pyplot as plt\n",
    "import warnings\n",
    "from datetime import datetime\n",
    "\n",
    "import pyspark.sql.functions as fn\n",
    "from pyspark import SparkContext, SparkConf\n",
    "from pyspark.streaming import StreamingContext\n",
    "from pyspark.ml.evaluation import RegressionEvaluator\n",
    "from pyspark.ml.feature import VectorAssembler, StringIndexer\n",
    "from pyspark.ml.regression import LinearRegression\n",
    "\n",
    "\n",
    "#from pyspark.ml.recommendation import ALS, ALSModel\n",
    "#from pyspark.mllib.recommendation import MatrixFactorizationModel\n",
    "from pyspark.sql import Row, SQLContext,SparkSession\n",
    "import os\n",
    "\n",
    "parking = \"TresCrucesShopping\"\n",
    "hadoop_home = \"/opt/hadoop/hadoop-3.3.2\"\n",
    "\n",
    "os.environ['HADOOP_USER_NAME'] = \"hadoop\"\n",
    "os.environ['HADOOP_CONF_DIR'] = hadoop_home + \"/etc/hadoop\"\n",
    "os.environ['YARN_CONF_DIR'] = hadoop_home + \"/etc/hadoop\"\n",
    "\n",
    "warnings.filterwarnings(\"ignore\")\n",
    "\n",
    "master = \"local[*]\"\n",
    "#master = \"yarn\"\n",
    "\n",
    "# Spark session & context\n",
    "spark = (SparkSession\n",
    "         .builder\n",
    "         .master(master)\n",
    "         .appName('RL-GenerateJsonSummary')\n",
    "         .getOrCreate())\n",
    "\n",
    "spark.sparkContext.setLogLevel(\"ERROR\")\n",
    "sc = spark.sparkContext"
   ]
  },
  {
   "cell_type": "code",
   "execution_count": 2,
   "id": "e9f67151",
   "metadata": {},
   "outputs": [
    {
     "data": {
      "text/html": [
       "\n",
       "            <div>\n",
       "                <p><b>SparkSession - in-memory</b></p>\n",
       "                \n",
       "        <div>\n",
       "            <p><b>SparkContext</b></p>\n",
       "\n",
       "            <p><a href=\"http://spsystem:4043\">Spark UI</a></p>\n",
       "\n",
       "            <dl>\n",
       "              <dt>Version</dt>\n",
       "                <dd><code>v3.2.1</code></dd>\n",
       "              <dt>Master</dt>\n",
       "                <dd><code>local[*]</code></dd>\n",
       "              <dt>AppName</dt>\n",
       "                <dd><code>RL-GenerateJsonSummary</code></dd>\n",
       "            </dl>\n",
       "        </div>\n",
       "        \n",
       "            </div>\n",
       "        "
      ],
      "text/plain": [
       "<pyspark.sql.session.SparkSession at 0x7f3678595b10>"
      ]
     },
     "execution_count": 2,
     "metadata": {},
     "output_type": "execute_result"
    }
   ],
   "source": [
    "spark"
   ]
  },
  {
   "cell_type": "code",
   "execution_count": 3,
   "id": "4918f40d",
   "metadata": {},
   "outputs": [],
   "source": [
    "now = datetime.now()"
   ]
  },
  {
   "cell_type": "code",
   "execution_count": 8,
   "id": "ba0335a3",
   "metadata": {},
   "outputs": [
    {
     "name": "stderr",
     "output_type": "stream",
     "text": [
      "                                                                                \r"
     ]
    }
   ],
   "source": [
    "df_parking_machine_learning = spark \\\n",
    "    .read \\\n",
    "    .parquet(f\"hdfs://hadoop-namenode:9000/predictions/Parkings/{parking}/year={now.year}/month={now.month - 1}/day={now.day}/hour={now.hour}/minute={now.minute}\")"
   ]
  },
  {
   "cell_type": "code",
   "execution_count": 9,
   "id": "69971fc5",
   "metadata": {},
   "outputs": [],
   "source": [
    "df_parking_machine_learning = df_parking_machine_learning \\\n",
    "                                .withColumnRenamed(\"area_ocupation_percentage_target\", \"area_occupation_percentage_target\")"
   ]
  },
  {
   "cell_type": "code",
   "execution_count": 10,
   "id": "50e436cd",
   "metadata": {},
   "outputs": [
    {
     "name": "stdout",
     "output_type": "stream",
     "text": [
      "+--------+-------+---------------------------------+--------------------------+\n",
      "|level_id|area_id|area_occupation_percentage_target|area_occupation_percentage|\n",
      "+--------+-------+---------------------------------+--------------------------+\n",
      "|       1|      1|               20.494242060714598|                        20|\n",
      "|       1|      2|               30.327811455448266|                        30|\n",
      "|       1|      3|                59.82851963964928|                        60|\n",
      "|       2|      1|                40.16138085018194|                        40|\n",
      "|       2|      2|                49.99495024491561|                        50|\n",
      "|       2|      3|               10.660672665980933|                        10|\n",
      "|       2|      4|               10.660672665980933|                        10|\n",
      "|       3|      1|                59.82851963964928|                        60|\n",
      "|       3|      2|                59.82851963964928|                        60|\n",
      "+--------+-------+---------------------------------+--------------------------+\n",
      "\n"
     ]
    }
   ],
   "source": [
    "df_parking_machine_learning.show()\n"
   ]
  },
  {
   "cell_type": "code",
   "execution_count": 34,
   "id": "11dcedd7",
   "metadata": {},
   "outputs": [],
   "source": [
    "with open(\"/opt/smart-parking/Python/MachineLearning/ParkingSummary.json\") as file:\n",
    "    json_file = json.load(file)"
   ]
  },
  {
   "cell_type": "code",
   "execution_count": 36,
   "id": "2a0ad297",
   "metadata": {
    "scrolled": true
   },
   "outputs": [],
   "source": [
    "data_dict = {}\n",
    "for row in df_parking_machine_learning.rdd.collect():\n",
    "    if row['level_id'] in data_dict:\n",
    "        data_dict[row['level_id']].append({'area_id': row['area_id'], \n",
    "                                'area_occupation_percentage_target': round(row['area_occupation_percentage_target'])})\n",
    "    else:\n",
    "        data_dict.update({row['level_id']:[]})\n",
    "        data_dict[row['level_id']].append({'area_id': row['area_id'], \n",
    "                                'area_occupation_percentage_target': round(row['area_occupation_percentage_target'])})\n",
    "        "
   ]
  },
  {
   "cell_type": "code",
   "execution_count": 38,
   "id": "23de16e7",
   "metadata": {},
   "outputs": [],
   "source": [
    "levels_object = []\n",
    "\n",
    "for k, v in data_dict.items():\n",
    "    levels_object.append({'level_id': k, 'areas': v})\n"
   ]
  },
  {
   "cell_type": "code",
   "execution_count": 41,
   "id": "300c09ea",
   "metadata": {},
   "outputs": [],
   "source": [
    "json_file['levels'] = levels_object"
   ]
  },
  {
   "cell_type": "code",
   "execution_count": 47,
   "id": "7893c1fe",
   "metadata": {},
   "outputs": [
    {
     "name": "stdout",
     "output_type": "stream",
     "text": [
      "{\"coefficients\": {\"0to20Coef\": \"1.1\", \"20to40Coef\": \"1.2\", \"40to60Coef\": \"1.4\", \"60to80Coef\": \"1.8\", \"80to100Coef\": \"2\"}, \"hasDynamicPrice\": true, \"levels\": [{\"level_id\": 1, \"areas\": [{\"area_id\": 1, \"area_occupation_percentage_target\": 20}, {\"area_id\": 2, \"area_occupation_percentage_target\": 30}, {\"area_id\": 3, \"area_occupation_percentage_target\": 60}]}, {\"level_id\": 2, \"areas\": [{\"area_id\": 1, \"area_occupation_percentage_target\": 40}, {\"area_id\": 2, \"area_occupation_percentage_target\": 50}, {\"area_id\": 3, \"area_occupation_percentage_target\": 11}, {\"area_id\": 4, \"area_occupation_percentage_target\": 11}]}, {\"level_id\": 3, \"areas\": [{\"area_id\": 1, \"area_occupation_percentage_target\": 60}, {\"area_id\": 2, \"area_occupation_percentage_target\": 60}]}]}\n"
     ]
    }
   ],
   "source": [
    "print(json.dumps(json_file))"
   ]
  },
  {
   "cell_type": "code",
   "execution_count": 48,
   "id": "1dcd60ea",
   "metadata": {},
   "outputs": [
    {
     "ename": "FileNotFoundError",
     "evalue": "[Errno 2] No such file or directory: '/opt/data/GetData/Parkings/TresCrucesShopping/MachineLearning/ParkingSummary.json'",
     "output_type": "error",
     "traceback": [
      "\u001b[0;31m---------------------------------------------------------------------------\u001b[0m",
      "\u001b[0;31mFileNotFoundError\u001b[0m                         Traceback (most recent call last)",
      "Input \u001b[0;32mIn [48]\u001b[0m, in \u001b[0;36m<cell line: 1>\u001b[0;34m()\u001b[0m\n\u001b[0;32m----> 1\u001b[0m \u001b[38;5;28;01mwith\u001b[39;00m \u001b[38;5;28;43mopen\u001b[39;49m\u001b[43m(\u001b[49m\u001b[38;5;124;43mf\u001b[39;49m\u001b[38;5;124;43m\"\u001b[39;49m\u001b[38;5;124;43m/opt/data/GetData/Parkings/\u001b[39;49m\u001b[38;5;132;43;01m{\u001b[39;49;00m\u001b[43mparking\u001b[49m\u001b[38;5;132;43;01m}\u001b[39;49;00m\u001b[38;5;124;43m/MachineLearning/ParkingSummary.json\u001b[39;49m\u001b[38;5;124;43m\"\u001b[39;49m\u001b[43m,\u001b[49m\u001b[43m \u001b[49m\u001b[38;5;124;43m'\u001b[39;49m\u001b[38;5;124;43mw\u001b[39;49m\u001b[38;5;124;43m'\u001b[39;49m\u001b[43m)\u001b[49m \u001b[38;5;28;01mas\u001b[39;00m f:\n\u001b[1;32m      2\u001b[0m     f\u001b[38;5;241m.\u001b[39mwrite(json\u001b[38;5;241m.\u001b[39mdumps(json_file))\n",
      "\u001b[0;31mFileNotFoundError\u001b[0m: [Errno 2] No such file or directory: '/opt/data/GetData/Parkings/TresCrucesShopping/MachineLearning/ParkingSummary.json'"
     ]
    }
   ],
   "source": [
    "with open(f\"/opt/data/GetData/Parkings/{parking}/MachineLearning/ParkingSummary.json\", 'w') as f:\n",
    "    f.write(json.dumps(json_file)) "
   ]
  },
  {
   "cell_type": "code",
   "execution_count": null,
   "id": "933b55c8",
   "metadata": {},
   "outputs": [],
   "source": []
  }
 ],
 "metadata": {
  "kernelspec": {
   "display_name": "Python 3 (ipykernel)",
   "language": "python",
   "name": "python3"
  },
  "language_info": {
   "codemirror_mode": {
    "name": "ipython",
    "version": 3
   },
   "file_extension": ".py",
   "mimetype": "text/x-python",
   "name": "python",
   "nbconvert_exporter": "python",
   "pygments_lexer": "ipython3",
   "version": "3.10.4"
  }
 },
 "nbformat": 4,
 "nbformat_minor": 5
}
