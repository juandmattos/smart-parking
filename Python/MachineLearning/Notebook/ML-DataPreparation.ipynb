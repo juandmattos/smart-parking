{
 "cells": [
  {
   "cell_type": "code",
   "execution_count": 10,
   "metadata": {},
   "outputs": [
    {
     "data": {
      "text/html": [
       "<style>pre { white-space: pre !important; }</style>"
      ],
      "text/plain": [
       "<IPython.core.display.HTML object>"
      ]
     },
     "metadata": {},
     "output_type": "display_data"
    }
   ],
   "source": [
    "from IPython.core.display import HTML\n",
    "display(HTML(\"<style>pre { white-space: pre !important; }</style>\"))\n",
    "\n",
    "import findspark\n",
    "findspark.init()\n",
    "\n",
    "import sys\n",
    "import seaborn as sns \n",
    "import pandas as pd \n",
    "import numpy as np\n",
    "import matplotlib.pyplot as plt\n",
    "import warnings\n",
    "\n",
    "from pyspark.sql.functions import *\n",
    "from pyspark import SparkContext, SparkConf\n",
    "from pyspark.streaming import StreamingContext\n",
    "from pyspark.ml.evaluation import RegressionEvaluator\n",
    "\n",
    "\n",
    "#from pyspark.ml.recommendation import ALS, ALSModel\n",
    "#from pyspark.mllib.recommendation import MatrixFactorizationModel\n",
    "from pyspark.sql import Row, SQLContext,SparkSession\n",
    "import os\n",
    "\n",
    "parking = \"TresCrucesShopping\"\n",
    "hadoop_home = \"/opt/hadoop/hadoop-3.3.2\"\n",
    "\n",
    "os.environ['HADOOP_USER_NAME'] = \"hadoop\"\n",
    "os.environ['HADOOP_CONF_DIR'] = hadoop_home + \"/etc/hadoop\"\n",
    "os.environ['YARN_CONF_DIR'] = hadoop_home + \"/etc/hadoop\""
   ]
  },
  {
   "cell_type": "code",
   "execution_count": 2,
   "metadata": {},
   "outputs": [],
   "source": [
    "warnings.filterwarnings(\"ignore\")"
   ]
  },
  {
   "cell_type": "code",
   "execution_count": 3,
   "metadata": {},
   "outputs": [
    {
     "name": "stderr",
     "output_type": "stream",
     "text": [
      "22/08/10 12:34:49 WARN NativeCodeLoader: Unable to load native-hadoop library for your platform... using builtin-java classes where applicable\n",
      "22/08/10 12:34:50 WARN Utils: Service 'SparkUI' could not bind on port 4040. Attempting port 4041.\n",
      "22/08/10 12:34:50 WARN Utils: Service 'SparkUI' could not bind on port 4041. Attempting port 4042.\n"
     ]
    }
   ],
   "source": [
    "master = \"local[*]\"\n",
    "#master = \"yarn\"\n",
    "\n",
    "# Spark session & context\n",
    "spark = (SparkSession\n",
    "         .builder\n",
    "         .master(master)\n",
    "         .appName('MLIB-DataPreparation-'+parking)\n",
    "         .getOrCreate())\n",
    "\n",
    "spark.sparkContext.setLogLevel(\"ERROR\")\n",
    "sc = spark.sparkContext"
   ]
  },
  {
   "cell_type": "code",
   "execution_count": 4,
   "metadata": {},
   "outputs": [
    {
     "data": {
      "text/html": [
       "\n",
       "            <div>\n",
       "                <p><b>SparkSession - in-memory</b></p>\n",
       "                \n",
       "        <div>\n",
       "            <p><b>SparkContext</b></p>\n",
       "\n",
       "            <p><a href=\"http://spsystem:4042\">Spark UI</a></p>\n",
       "\n",
       "            <dl>\n",
       "              <dt>Version</dt>\n",
       "                <dd><code>v3.2.1</code></dd>\n",
       "              <dt>Master</dt>\n",
       "                <dd><code>local[*]</code></dd>\n",
       "              <dt>AppName</dt>\n",
       "                <dd><code>MLIB-DataPreparation-TresCrucesShopping</code></dd>\n",
       "            </dl>\n",
       "        </div>\n",
       "        \n",
       "            </div>\n",
       "        "
      ],
      "text/plain": [
       "<pyspark.sql.session.SparkSession at 0x7f2de55954e0>"
      ]
     },
     "execution_count": 4,
     "metadata": {},
     "output_type": "execute_result"
    }
   ],
   "source": [
    "spark"
   ]
  },
  {
   "cell_type": "markdown",
   "metadata": {},
   "source": [
    "## Carga de datos\n",
    "\n",
    "Se realiza la carga de datos de la data de un día anterior a los datos"
   ]
  },
  {
   "cell_type": "code",
   "execution_count": 5,
   "metadata": {},
   "outputs": [
    {
     "name": "stderr",
     "output_type": "stream",
     "text": [
      "                                                                                \r"
     ]
    }
   ],
   "source": [
    "df_parking = spark.read.parquet(\"hdfs://hadoop-namenode:9000/data/Parkings/TresCrucesShopping/year=2022/month=8/day=10/hour=11\")"
   ]
  },
  {
   "cell_type": "code",
   "execution_count": 6,
   "metadata": {},
   "outputs": [],
   "source": [
    "df_parking_cleaned = df_parking \\\n",
    "            .withColumn(\"year\", year(col(\"device_timestamp\"))) \\\n",
    "            .withColumn(\"month\", month(col(\"device_timestamp\"))) \\\n",
    "            .withColumn(\"day\", dayofmonth(col(\"device_timestamp\"))) \\\n",
    "            .withColumn(\"parking_temperature\", col(\"parking_temperature\").cast(\"double\"))\\\n",
    "            .withColumn(\"parking_humidity\", col(\"parking_humidity\").cast(\"double\"))\\\n",
    "            .withColumn(\n",
    "                \"parking_holiday_status\",\n",
    "                when(col(\"day\") == 18,True)\n",
    "                .otherwise(col(\"parking_holiday_status\"))\n",
    "            ) \\\n",
    "            .withColumn(\n",
    "                \"parking_holiday_type\",\n",
    "                when(col(\"day\") == 18, 'NL')\n",
    "                .otherwise(col(\"parking_holiday_type\"))\n",
    "            ) \\\n",
    "            .withColumn(\"slot_state\", col(\"slot_state\").cast(\"integer\")) \\\n",
    "            .withColumn(\"parking_closed\", col(\"parking_closed\").cast(\"integer\")) \\\n",
    "            .withColumn(\"parking_holiday_status\", col(\"parking_holiday_status\").cast(\"integer\")) \\\n",
    "            .drop(\"device_slots\", \n",
    "                  \"parking_address\",\n",
    "                  \"parking_description\",\n",
    "                  \"parking_weather_status_detailed\",\n",
    "                  \"parking_uuid\",\n",
    "                  \"parking_holiday_description\",\n",
    "                  \"level_name\",\n",
    "                  \"area_occupation\",\n",
    "                  \"device_timestamp\",\n",
    "                  \"parking_latitude\",\n",
    "                  \"parking_longitude\"\n",
    "            )"
   ]
  },
  {
   "cell_type": "code",
   "execution_count": 7,
   "metadata": {},
   "outputs": [
    {
     "name": "stdout",
     "output_type": "stream",
     "text": [
      "root\n",
      " |-- parking_name: string (nullable = true)\n",
      " |-- parking_id: string (nullable = true)\n",
      " |-- device_id: string (nullable = true)\n",
      " |-- parking_temperature: double (nullable = true)\n",
      " |-- parking_humidity: double (nullable = true)\n",
      " |-- level_id: integer (nullable = true)\n",
      " |-- area_id: integer (nullable = true)\n",
      " |-- area_name: string (nullable = true)\n",
      " |-- area_total_spots: integer (nullable = true)\n",
      " |-- parking_weather_status: string (nullable = true)\n",
      " |-- parking_wind_speed: double (nullable = true)\n",
      " |-- parking_holiday_status: integer (nullable = true)\n",
      " |-- parking_holiday_type: string (nullable = true)\n",
      " |-- parking_closed: integer (nullable = true)\n",
      " |-- minutes: integer (nullable = true)\n",
      " |-- area_occupied_spots: integer (nullable = true)\n",
      " |-- area_occupation_percentage: integer (nullable = true)\n",
      " |-- area_available_spots: integer (nullable = true)\n",
      " |-- slot_id: integer (nullable = true)\n",
      " |-- slot_state: integer (nullable = true)\n",
      " |-- year: integer (nullable = true)\n",
      " |-- month: integer (nullable = true)\n",
      " |-- day: integer (nullable = true)\n",
      "\n"
     ]
    }
   ],
   "source": [
    "df_parking_cleaned.printSchema()"
   ]
  },
  {
   "cell_type": "code",
   "execution_count": 8,
   "metadata": {},
   "outputs": [],
   "source": [
    "df_parking_cleaned.createOrReplaceTempView(\"tres_cruces_shopping\")"
   ]
  },
  {
   "cell_type": "code",
   "execution_count": 11,
   "metadata": {},
   "outputs": [
    {
     "name": "stdout",
     "output_type": "stream",
     "text": [
      "+------------------+----------+----------------+-------------------+----------------+--------+-------+---------+----------------+----------------------+------------------+----------------------+--------------------+--------------+-------+-------------------+--------------------------+--------------------+-------+----------+----+-----+---+\n",
      "|      parking_name|parking_id|       device_id|parking_temperature|parking_humidity|level_id|area_id|area_name|area_total_spots|parking_weather_status|parking_wind_speed|parking_holiday_status|parking_holiday_type|parking_closed|minutes|area_occupied_spots|area_occupation_percentage|area_available_spots|slot_id|slot_state|year|month|day|\n",
      "+------------------+----------+----------------+-------------------+----------------+--------+-------+---------+----------------+----------------------+------------------+----------------------+--------------------+--------------+-------+-------------------+--------------------------+--------------------+-------+----------+----+-----+---+\n",
      "|TresCrucesShopping|         1|4DE1C372D9293D6F|              10.29|            78.0|       1|      3|        C|               9|                Clouds|              3.13|                     0|                   L|             0|     14|                  5|                        55|                   4|      1|         0|2022|    8| 10|\n",
      "|TresCrucesShopping|         1|4DE1C372D9293D6F|              10.29|            78.0|       1|      3|        C|               9|                Clouds|              3.13|                     0|                   L|             0|     14|                  5|                        55|                   4|      2|         0|2022|    8| 10|\n",
      "|TresCrucesShopping|         1|4DE1C372D9293D6F|              10.29|            78.0|       1|      3|        C|               9|                Clouds|              3.13|                     0|                   L|             0|     14|                  5|                        55|                   4|      3|         0|2022|    8| 10|\n",
      "|TresCrucesShopping|         1|4DE1C372D9293D6F|              10.29|            78.0|       1|      3|        C|               9|                Clouds|              3.13|                     0|                   L|             0|     14|                  5|                        55|                   4|      4|         1|2022|    8| 10|\n",
      "|TresCrucesShopping|         1|4DE1C372D9293D6F|              10.29|            78.0|       1|      3|        C|               9|                Clouds|              3.13|                     0|                   L|             0|     14|                  5|                        55|                   4|      5|         1|2022|    8| 10|\n",
      "|TresCrucesShopping|         1|4DE1C372D9293D6F|              10.29|            78.0|       1|      3|        C|               9|                Clouds|              3.13|                     0|                   L|             0|     14|                  5|                        55|                   4|      6|         1|2022|    8| 10|\n",
      "|TresCrucesShopping|         1|4DE1C372D9293D6F|              10.29|            78.0|       1|      3|        C|               9|                Clouds|              3.13|                     0|                   L|             0|     14|                  5|                        55|                   4|      7|         0|2022|    8| 10|\n",
      "|TresCrucesShopping|         1|4DE1C372D9293D6F|              10.29|            78.0|       1|      3|        C|               9|                Clouds|              3.13|                     0|                   L|             0|     14|                  5|                        55|                   4|      8|         1|2022|    8| 10|\n",
      "|TresCrucesShopping|         1|4DE1C372D9293D6F|              10.29|            78.0|       1|      3|        C|               9|                Clouds|              3.13|                     0|                   L|             0|     14|                  5|                        55|                   4|      9|         1|2022|    8| 10|\n",
      "|TresCrucesShopping|         1|CE6EFF5988ECBF74|              10.29|            78.0|       3|      1|        A|              10|                Clouds|              3.13|                     0|                   L|             0|     14|                  6|                        60|                   4|      1|         0|2022|    8| 10|\n",
      "|TresCrucesShopping|         1|CE6EFF5988ECBF74|              10.29|            78.0|       3|      1|        A|              10|                Clouds|              3.13|                     0|                   L|             0|     14|                  6|                        60|                   4|      2|         0|2022|    8| 10|\n",
      "|TresCrucesShopping|         1|CE6EFF5988ECBF74|              10.29|            78.0|       3|      1|        A|              10|                Clouds|              3.13|                     0|                   L|             0|     14|                  6|                        60|                   4|      3|         1|2022|    8| 10|\n",
      "|TresCrucesShopping|         1|CE6EFF5988ECBF74|              10.29|            78.0|       3|      1|        A|              10|                Clouds|              3.13|                     0|                   L|             0|     14|                  6|                        60|                   4|      4|         1|2022|    8| 10|\n",
      "|TresCrucesShopping|         1|CE6EFF5988ECBF74|              10.29|            78.0|       3|      1|        A|              10|                Clouds|              3.13|                     0|                   L|             0|     14|                  6|                        60|                   4|      5|         1|2022|    8| 10|\n",
      "|TresCrucesShopping|         1|CE6EFF5988ECBF74|              10.29|            78.0|       3|      1|        A|              10|                Clouds|              3.13|                     0|                   L|             0|     14|                  6|                        60|                   4|      6|         0|2022|    8| 10|\n",
      "|TresCrucesShopping|         1|CE6EFF5988ECBF74|              10.29|            78.0|       3|      1|        A|              10|                Clouds|              3.13|                     0|                   L|             0|     14|                  6|                        60|                   4|      7|         1|2022|    8| 10|\n",
      "|TresCrucesShopping|         1|CE6EFF5988ECBF74|              10.29|            78.0|       3|      1|        A|              10|                Clouds|              3.13|                     0|                   L|             0|     14|                  6|                        60|                   4|      8|         1|2022|    8| 10|\n",
      "|TresCrucesShopping|         1|CE6EFF5988ECBF74|              10.29|            78.0|       3|      1|        A|              10|                Clouds|              3.13|                     0|                   L|             0|     14|                  6|                        60|                   4|      9|         1|2022|    8| 10|\n",
      "|TresCrucesShopping|         1|CE6EFF5988ECBF74|              10.29|            78.0|       3|      1|        A|              10|                Clouds|              3.13|                     0|                   L|             0|     14|                  6|                        60|                   4|     10|         0|2022|    8| 10|\n",
      "|TresCrucesShopping|         1|DD5F6C5BDA3D7A95|              10.29|            78.0|       1|      2|        B|              17|                Clouds|              3.13|                     0|                   L|             0|     14|                 12|                        70|                   5|      1|         1|2022|    8| 10|\n",
      "+------------------+----------+----------------+-------------------+----------------+--------+-------+---------+----------------+----------------------+------------------+----------------------+--------------------+--------------+-------+-------------------+--------------------------+--------------------+-------+----------+----+-----+---+\n",
      "only showing top 20 rows\n",
      "\n"
     ]
    },
    {
     "name": "stderr",
     "output_type": "stream",
     "text": [
      "\r",
      "[Stage 1:>                                                          (0 + 1) / 1]\r",
      "\r",
      "                                                                                \r"
     ]
    }
   ],
   "source": [
    "df_parking_cleaned.show()"
   ]
  },
  {
   "cell_type": "code",
   "execution_count": 9,
   "metadata": {},
   "outputs": [
    {
     "ename": "AnalysisException",
     "evalue": "cannot resolve 'tcs.hour' given input columns: [tcs.area_available_spots, tcs.area_id, tcs.area_name, tcs.area_occupation_percentage, tcs.area_occupied_spots, tcs.area_total_spots, tcs.day, tcs.device_id, tcs.level_id, tcs.minutes, tcs.month, tcs.parking_closed, tcs.parking_holiday_status, tcs.parking_holiday_type, tcs.parking_humidity, tcs.parking_id, tcs.parking_name, tcs.parking_temperature, tcs.parking_weather_status, tcs.parking_wind_speed, tcs.slot_id, tcs.slot_state, tcs.year]; line 3 pos 43;\n'Distinct\n+- 'Project [named_struct(year, year#62, month, month#95, day, day#129, hour, 'tcs.hour, minutes, minutes#23, device_id, device_id#5, level_id, level_id#11, area_id, area_id#12, slot_id, slot_id#29) AS MASTER_KEY#432, cast('CONCAT(2022-7-, day#129,  , 'tcs.hour, :, minutes#23, :00) as timestamp) AS datetime#433, parking_name#0, parking_id#1, device_id#5, parking_temperature#164, parking_humidity#199, level_id#11, area_id#12, area_name#13, area_total_spots#14, parking_weather_status#16, parking_wind_speed#18, parking_holiday_status#374, parking_holiday_type#269, parking_closed#339, minutes#23, area_occupied_spots#24, area_occupation_percentage#26, area_available_spots#27, slot_id#29, slot_state#304, year#62, month#95, day#129]\n   +- SubqueryAlias tcs\n      +- SubqueryAlias tres_cruces_shopping\n         +- View (`tres_cruces_shopping`, [parking_name#0,parking_id#1,device_id#5,parking_temperature#164,parking_humidity#199,level_id#11,area_id#12,area_name#13,area_total_spots#14,parking_weather_status#16,parking_wind_speed#18,parking_holiday_status#374,parking_holiday_type#269,parking_closed#339,minutes#23,area_occupied_spots#24,area_occupation_percentage#26,area_available_spots#27,slot_id#29,slot_state#304,year#62,month#95,day#129])\n            +- Project [parking_name#0, parking_id#1, device_id#5, parking_temperature#164, parking_humidity#199, level_id#11, area_id#12, area_name#13, area_total_spots#14, parking_weather_status#16, parking_wind_speed#18, parking_holiday_status#374, parking_holiday_type#269, parking_closed#339, minutes#23, area_occupied_spots#24, area_occupation_percentage#26, area_available_spots#27, slot_id#29, slot_state#304, year#62, month#95, day#129]\n               +- Project [parking_name#0, parking_id#1, parking_address#2, parking_description#3, device_timestamp#4, device_id#5, parking_latitude#6, parking_longitude#7, parking_temperature#164, parking_humidity#199, parking_uuid#10, level_id#11, area_id#12, area_name#13, area_total_spots#14, device_slots#15, parking_weather_status#16, parking_weather_status_detailed#17, parking_wind_speed#18, cast(parking_holiday_status#234 as int) AS parking_holiday_status#374, parking_holiday_description#20, parking_holiday_type#269, parking_closed#339, minutes#23, ... 10 more fields]\n                  +- Project [parking_name#0, parking_id#1, parking_address#2, parking_description#3, device_timestamp#4, device_id#5, parking_latitude#6, parking_longitude#7, parking_temperature#164, parking_humidity#199, parking_uuid#10, level_id#11, area_id#12, area_name#13, area_total_spots#14, device_slots#15, parking_weather_status#16, parking_weather_status_detailed#17, parking_wind_speed#18, parking_holiday_status#234, parking_holiday_description#20, parking_holiday_type#269, cast(parking_closed#22 as int) AS parking_closed#339, minutes#23, ... 10 more fields]\n                     +- Project [parking_name#0, parking_id#1, parking_address#2, parking_description#3, device_timestamp#4, device_id#5, parking_latitude#6, parking_longitude#7, parking_temperature#164, parking_humidity#199, parking_uuid#10, level_id#11, area_id#12, area_name#13, area_total_spots#14, device_slots#15, parking_weather_status#16, parking_weather_status_detailed#17, parking_wind_speed#18, parking_holiday_status#234, parking_holiday_description#20, parking_holiday_type#269, parking_closed#22, minutes#23, ... 10 more fields]\n                        +- Project [parking_name#0, parking_id#1, parking_address#2, parking_description#3, device_timestamp#4, device_id#5, parking_latitude#6, parking_longitude#7, parking_temperature#164, parking_humidity#199, parking_uuid#10, level_id#11, area_id#12, area_name#13, area_total_spots#14, device_slots#15, parking_weather_status#16, parking_weather_status_detailed#17, parking_wind_speed#18, parking_holiday_status#234, parking_holiday_description#20, CASE WHEN (day#129 = 18) THEN NL ELSE parking_holiday_type#21 END AS parking_holiday_type#269, parking_closed#22, minutes#23, ... 10 more fields]\n                           +- Project [parking_name#0, parking_id#1, parking_address#2, parking_description#3, device_timestamp#4, device_id#5, parking_latitude#6, parking_longitude#7, parking_temperature#164, parking_humidity#199, parking_uuid#10, level_id#11, area_id#12, area_name#13, area_total_spots#14, device_slots#15, parking_weather_status#16, parking_weather_status_detailed#17, parking_wind_speed#18, CASE WHEN (day#129 = 18) THEN true ELSE parking_holiday_status#19 END AS parking_holiday_status#234, parking_holiday_description#20, parking_holiday_type#21, parking_closed#22, minutes#23, ... 10 more fields]\n                              +- Project [parking_name#0, parking_id#1, parking_address#2, parking_description#3, device_timestamp#4, device_id#5, parking_latitude#6, parking_longitude#7, parking_temperature#164, cast(parking_humidity#9 as double) AS parking_humidity#199, parking_uuid#10, level_id#11, area_id#12, area_name#13, area_total_spots#14, device_slots#15, parking_weather_status#16, parking_weather_status_detailed#17, parking_wind_speed#18, parking_holiday_status#19, parking_holiday_description#20, parking_holiday_type#21, parking_closed#22, minutes#23, ... 10 more fields]\n                                 +- Project [parking_name#0, parking_id#1, parking_address#2, parking_description#3, device_timestamp#4, device_id#5, parking_latitude#6, parking_longitude#7, cast(parking_temperature#8 as double) AS parking_temperature#164, parking_humidity#9, parking_uuid#10, level_id#11, area_id#12, area_name#13, area_total_spots#14, device_slots#15, parking_weather_status#16, parking_weather_status_detailed#17, parking_wind_speed#18, parking_holiday_status#19, parking_holiday_description#20, parking_holiday_type#21, parking_closed#22, minutes#23, ... 10 more fields]\n                                    +- Project [parking_name#0, parking_id#1, parking_address#2, parking_description#3, device_timestamp#4, device_id#5, parking_latitude#6, parking_longitude#7, parking_temperature#8, parking_humidity#9, parking_uuid#10, level_id#11, area_id#12, area_name#13, area_total_spots#14, device_slots#15, parking_weather_status#16, parking_weather_status_detailed#17, parking_wind_speed#18, parking_holiday_status#19, parking_holiday_description#20, parking_holiday_type#21, parking_closed#22, minutes#23, ... 10 more fields]\n                                       +- Project [parking_name#0, parking_id#1, parking_address#2, parking_description#3, device_timestamp#4, device_id#5, parking_latitude#6, parking_longitude#7, parking_temperature#8, parking_humidity#9, parking_uuid#10, level_id#11, area_id#12, area_name#13, area_total_spots#14, device_slots#15, parking_weather_status#16, parking_weather_status_detailed#17, parking_wind_speed#18, parking_holiday_status#19, parking_holiday_description#20, parking_holiday_type#21, parking_closed#22, minutes#23, ... 9 more fields]\n                                          +- Project [parking_name#0, parking_id#1, parking_address#2, parking_description#3, device_timestamp#4, device_id#5, parking_latitude#6, parking_longitude#7, parking_temperature#8, parking_humidity#9, parking_uuid#10, level_id#11, area_id#12, area_name#13, area_total_spots#14, device_slots#15, parking_weather_status#16, parking_weather_status_detailed#17, parking_wind_speed#18, parking_holiday_status#19, parking_holiday_description#20, parking_holiday_type#21, parking_closed#22, minutes#23, ... 8 more fields]\n                                             +- Relation [parking_name#0,parking_id#1,parking_address#2,parking_description#3,device_timestamp#4,device_id#5,parking_latitude#6,parking_longitude#7,parking_temperature#8,parking_humidity#9,parking_uuid#10,level_id#11,area_id#12,area_name#13,area_total_spots#14,device_slots#15,parking_weather_status#16,parking_weather_status_detailed#17,parking_wind_speed#18,parking_holiday_status#19,parking_holiday_description#20,parking_holiday_type#21,parking_closed#22,minutes#23,... 7 more fields] parquet\n",
     "output_type": "error",
     "traceback": [
      "\u001b[0;31m---------------------------------------------------------------------------\u001b[0m",
      "\u001b[0;31mAnalysisException\u001b[0m                         Traceback (most recent call last)",
      "Input \u001b[0;32mIn [9]\u001b[0m, in \u001b[0;36m<cell line: 1>\u001b[0;34m()\u001b[0m\n\u001b[0;32m----> 1\u001b[0m tres_cruces_shopping_cleaned \u001b[38;5;241m=\u001b[39m \u001b[43mspark\u001b[49m\u001b[38;5;241;43m.\u001b[39;49m\u001b[43msql\u001b[49m\u001b[43m(\u001b[49m\u001b[38;5;124;43m\"\"\"\u001b[39;49m\n\u001b[1;32m      2\u001b[0m \u001b[38;5;124;43mSELECT\u001b[39;49m\n\u001b[1;32m      3\u001b[0m \u001b[38;5;124;43m    DISTINCT(tcs.year, tcs.month, tcs.day, tcs.hour, tcs.minutes, tcs.device_id, tcs.level_id, tcs.area_id, tcs.slot_id) as MASTER_KEY,\u001b[39;49m\n\u001b[1;32m      4\u001b[0m \u001b[38;5;124;43m    CAST(CONCAT(\u001b[39;49m\u001b[38;5;124;43m\"\u001b[39;49m\u001b[38;5;124;43m2022-7-\u001b[39;49m\u001b[38;5;124;43m\"\u001b[39;49m\u001b[38;5;124;43m, tcs.day, \u001b[39;49m\u001b[38;5;124;43m\"\u001b[39;49m\u001b[38;5;124;43m \u001b[39;49m\u001b[38;5;124;43m\"\u001b[39;49m\u001b[38;5;124;43m, tcs.hour, \u001b[39;49m\u001b[38;5;124;43m\"\u001b[39;49m\u001b[38;5;124;43m:\u001b[39;49m\u001b[38;5;124;43m\"\u001b[39;49m\u001b[38;5;124;43m, tcs.minutes, \u001b[39;49m\u001b[38;5;124;43m\"\u001b[39;49m\u001b[38;5;124;43m:00\u001b[39;49m\u001b[38;5;124;43m\"\u001b[39;49m\u001b[38;5;124;43m) as timestamp) as datetime,\u001b[39;49m\n\u001b[1;32m      5\u001b[0m \u001b[38;5;124;43m    tcs.*\u001b[39;49m\n\u001b[1;32m      6\u001b[0m \u001b[38;5;124;43mFROM\u001b[39;49m\n\u001b[1;32m      7\u001b[0m \u001b[38;5;124;43m    tres_cruces_shopping tcs\u001b[39;49m\n\u001b[1;32m      8\u001b[0m \u001b[38;5;124;43m\"\"\"\u001b[39;49m\u001b[43m)\u001b[49m\u001b[38;5;241m.\u001b[39mdrop(\u001b[38;5;124m\"\u001b[39m\u001b[38;5;124mMASTER_KEY\u001b[39m\u001b[38;5;124m\"\u001b[39m, \u001b[38;5;124m\"\u001b[39m\u001b[38;5;124mparking_name\u001b[39m\u001b[38;5;124m\"\u001b[39m)\n",
      "File \u001b[0;32m/opt/spark/python/pyspark/sql/session.py:723\u001b[0m, in \u001b[0;36mSparkSession.sql\u001b[0;34m(self, sqlQuery)\u001b[0m\n\u001b[1;32m    707\u001b[0m \u001b[38;5;28;01mdef\u001b[39;00m \u001b[38;5;21msql\u001b[39m(\u001b[38;5;28mself\u001b[39m, sqlQuery):\n\u001b[1;32m    708\u001b[0m     \u001b[38;5;124;03m\"\"\"Returns a :class:`DataFrame` representing the result of the given query.\u001b[39;00m\n\u001b[1;32m    709\u001b[0m \n\u001b[1;32m    710\u001b[0m \u001b[38;5;124;03m    .. versionadded:: 2.0.0\u001b[39;00m\n\u001b[0;32m   (...)\u001b[0m\n\u001b[1;32m    721\u001b[0m \u001b[38;5;124;03m    [Row(f1=1, f2='row1'), Row(f1=2, f2='row2'), Row(f1=3, f2='row3')]\u001b[39;00m\n\u001b[1;32m    722\u001b[0m \u001b[38;5;124;03m    \"\"\"\u001b[39;00m\n\u001b[0;32m--> 723\u001b[0m     \u001b[38;5;28;01mreturn\u001b[39;00m DataFrame(\u001b[38;5;28;43mself\u001b[39;49m\u001b[38;5;241;43m.\u001b[39;49m\u001b[43m_jsparkSession\u001b[49m\u001b[38;5;241;43m.\u001b[39;49m\u001b[43msql\u001b[49m\u001b[43m(\u001b[49m\u001b[43msqlQuery\u001b[49m\u001b[43m)\u001b[49m, \u001b[38;5;28mself\u001b[39m\u001b[38;5;241m.\u001b[39m_wrapped)\n",
      "File \u001b[0;32m/opt/spark/python/lib/py4j-0.10.9.3-src.zip/py4j/java_gateway.py:1321\u001b[0m, in \u001b[0;36mJavaMember.__call__\u001b[0;34m(self, *args)\u001b[0m\n\u001b[1;32m   1315\u001b[0m command \u001b[38;5;241m=\u001b[39m proto\u001b[38;5;241m.\u001b[39mCALL_COMMAND_NAME \u001b[38;5;241m+\u001b[39m\\\n\u001b[1;32m   1316\u001b[0m     \u001b[38;5;28mself\u001b[39m\u001b[38;5;241m.\u001b[39mcommand_header \u001b[38;5;241m+\u001b[39m\\\n\u001b[1;32m   1317\u001b[0m     args_command \u001b[38;5;241m+\u001b[39m\\\n\u001b[1;32m   1318\u001b[0m     proto\u001b[38;5;241m.\u001b[39mEND_COMMAND_PART\n\u001b[1;32m   1320\u001b[0m answer \u001b[38;5;241m=\u001b[39m \u001b[38;5;28mself\u001b[39m\u001b[38;5;241m.\u001b[39mgateway_client\u001b[38;5;241m.\u001b[39msend_command(command)\n\u001b[0;32m-> 1321\u001b[0m return_value \u001b[38;5;241m=\u001b[39m \u001b[43mget_return_value\u001b[49m\u001b[43m(\u001b[49m\n\u001b[1;32m   1322\u001b[0m \u001b[43m    \u001b[49m\u001b[43manswer\u001b[49m\u001b[43m,\u001b[49m\u001b[43m \u001b[49m\u001b[38;5;28;43mself\u001b[39;49m\u001b[38;5;241;43m.\u001b[39;49m\u001b[43mgateway_client\u001b[49m\u001b[43m,\u001b[49m\u001b[43m \u001b[49m\u001b[38;5;28;43mself\u001b[39;49m\u001b[38;5;241;43m.\u001b[39;49m\u001b[43mtarget_id\u001b[49m\u001b[43m,\u001b[49m\u001b[43m \u001b[49m\u001b[38;5;28;43mself\u001b[39;49m\u001b[38;5;241;43m.\u001b[39;49m\u001b[43mname\u001b[49m\u001b[43m)\u001b[49m\n\u001b[1;32m   1324\u001b[0m \u001b[38;5;28;01mfor\u001b[39;00m temp_arg \u001b[38;5;129;01min\u001b[39;00m temp_args:\n\u001b[1;32m   1325\u001b[0m     temp_arg\u001b[38;5;241m.\u001b[39m_detach()\n",
      "File \u001b[0;32m/opt/spark/python/pyspark/sql/utils.py:117\u001b[0m, in \u001b[0;36mcapture_sql_exception.<locals>.deco\u001b[0;34m(*a, **kw)\u001b[0m\n\u001b[1;32m    113\u001b[0m converted \u001b[38;5;241m=\u001b[39m convert_exception(e\u001b[38;5;241m.\u001b[39mjava_exception)\n\u001b[1;32m    114\u001b[0m \u001b[38;5;28;01mif\u001b[39;00m \u001b[38;5;129;01mnot\u001b[39;00m \u001b[38;5;28misinstance\u001b[39m(converted, UnknownException):\n\u001b[1;32m    115\u001b[0m     \u001b[38;5;66;03m# Hide where the exception came from that shows a non-Pythonic\u001b[39;00m\n\u001b[1;32m    116\u001b[0m     \u001b[38;5;66;03m# JVM exception message.\u001b[39;00m\n\u001b[0;32m--> 117\u001b[0m     \u001b[38;5;28;01mraise\u001b[39;00m converted \u001b[38;5;28;01mfrom\u001b[39;00m \u001b[38;5;28mNone\u001b[39m\n\u001b[1;32m    118\u001b[0m \u001b[38;5;28;01melse\u001b[39;00m:\n\u001b[1;32m    119\u001b[0m     \u001b[38;5;28;01mraise\u001b[39;00m\n",
      "\u001b[0;31mAnalysisException\u001b[0m: cannot resolve 'tcs.hour' given input columns: [tcs.area_available_spots, tcs.area_id, tcs.area_name, tcs.area_occupation_percentage, tcs.area_occupied_spots, tcs.area_total_spots, tcs.day, tcs.device_id, tcs.level_id, tcs.minutes, tcs.month, tcs.parking_closed, tcs.parking_holiday_status, tcs.parking_holiday_type, tcs.parking_humidity, tcs.parking_id, tcs.parking_name, tcs.parking_temperature, tcs.parking_weather_status, tcs.parking_wind_speed, tcs.slot_id, tcs.slot_state, tcs.year]; line 3 pos 43;\n'Distinct\n+- 'Project [named_struct(year, year#62, month, month#95, day, day#129, hour, 'tcs.hour, minutes, minutes#23, device_id, device_id#5, level_id, level_id#11, area_id, area_id#12, slot_id, slot_id#29) AS MASTER_KEY#432, cast('CONCAT(2022-7-, day#129,  , 'tcs.hour, :, minutes#23, :00) as timestamp) AS datetime#433, parking_name#0, parking_id#1, device_id#5, parking_temperature#164, parking_humidity#199, level_id#11, area_id#12, area_name#13, area_total_spots#14, parking_weather_status#16, parking_wind_speed#18, parking_holiday_status#374, parking_holiday_type#269, parking_closed#339, minutes#23, area_occupied_spots#24, area_occupation_percentage#26, area_available_spots#27, slot_id#29, slot_state#304, year#62, month#95, day#129]\n   +- SubqueryAlias tcs\n      +- SubqueryAlias tres_cruces_shopping\n         +- View (`tres_cruces_shopping`, [parking_name#0,parking_id#1,device_id#5,parking_temperature#164,parking_humidity#199,level_id#11,area_id#12,area_name#13,area_total_spots#14,parking_weather_status#16,parking_wind_speed#18,parking_holiday_status#374,parking_holiday_type#269,parking_closed#339,minutes#23,area_occupied_spots#24,area_occupation_percentage#26,area_available_spots#27,slot_id#29,slot_state#304,year#62,month#95,day#129])\n            +- Project [parking_name#0, parking_id#1, device_id#5, parking_temperature#164, parking_humidity#199, level_id#11, area_id#12, area_name#13, area_total_spots#14, parking_weather_status#16, parking_wind_speed#18, parking_holiday_status#374, parking_holiday_type#269, parking_closed#339, minutes#23, area_occupied_spots#24, area_occupation_percentage#26, area_available_spots#27, slot_id#29, slot_state#304, year#62, month#95, day#129]\n               +- Project [parking_name#0, parking_id#1, parking_address#2, parking_description#3, device_timestamp#4, device_id#5, parking_latitude#6, parking_longitude#7, parking_temperature#164, parking_humidity#199, parking_uuid#10, level_id#11, area_id#12, area_name#13, area_total_spots#14, device_slots#15, parking_weather_status#16, parking_weather_status_detailed#17, parking_wind_speed#18, cast(parking_holiday_status#234 as int) AS parking_holiday_status#374, parking_holiday_description#20, parking_holiday_type#269, parking_closed#339, minutes#23, ... 10 more fields]\n                  +- Project [parking_name#0, parking_id#1, parking_address#2, parking_description#3, device_timestamp#4, device_id#5, parking_latitude#6, parking_longitude#7, parking_temperature#164, parking_humidity#199, parking_uuid#10, level_id#11, area_id#12, area_name#13, area_total_spots#14, device_slots#15, parking_weather_status#16, parking_weather_status_detailed#17, parking_wind_speed#18, parking_holiday_status#234, parking_holiday_description#20, parking_holiday_type#269, cast(parking_closed#22 as int) AS parking_closed#339, minutes#23, ... 10 more fields]\n                     +- Project [parking_name#0, parking_id#1, parking_address#2, parking_description#3, device_timestamp#4, device_id#5, parking_latitude#6, parking_longitude#7, parking_temperature#164, parking_humidity#199, parking_uuid#10, level_id#11, area_id#12, area_name#13, area_total_spots#14, device_slots#15, parking_weather_status#16, parking_weather_status_detailed#17, parking_wind_speed#18, parking_holiday_status#234, parking_holiday_description#20, parking_holiday_type#269, parking_closed#22, minutes#23, ... 10 more fields]\n                        +- Project [parking_name#0, parking_id#1, parking_address#2, parking_description#3, device_timestamp#4, device_id#5, parking_latitude#6, parking_longitude#7, parking_temperature#164, parking_humidity#199, parking_uuid#10, level_id#11, area_id#12, area_name#13, area_total_spots#14, device_slots#15, parking_weather_status#16, parking_weather_status_detailed#17, parking_wind_speed#18, parking_holiday_status#234, parking_holiday_description#20, CASE WHEN (day#129 = 18) THEN NL ELSE parking_holiday_type#21 END AS parking_holiday_type#269, parking_closed#22, minutes#23, ... 10 more fields]\n                           +- Project [parking_name#0, parking_id#1, parking_address#2, parking_description#3, device_timestamp#4, device_id#5, parking_latitude#6, parking_longitude#7, parking_temperature#164, parking_humidity#199, parking_uuid#10, level_id#11, area_id#12, area_name#13, area_total_spots#14, device_slots#15, parking_weather_status#16, parking_weather_status_detailed#17, parking_wind_speed#18, CASE WHEN (day#129 = 18) THEN true ELSE parking_holiday_status#19 END AS parking_holiday_status#234, parking_holiday_description#20, parking_holiday_type#21, parking_closed#22, minutes#23, ... 10 more fields]\n                              +- Project [parking_name#0, parking_id#1, parking_address#2, parking_description#3, device_timestamp#4, device_id#5, parking_latitude#6, parking_longitude#7, parking_temperature#164, cast(parking_humidity#9 as double) AS parking_humidity#199, parking_uuid#10, level_id#11, area_id#12, area_name#13, area_total_spots#14, device_slots#15, parking_weather_status#16, parking_weather_status_detailed#17, parking_wind_speed#18, parking_holiday_status#19, parking_holiday_description#20, parking_holiday_type#21, parking_closed#22, minutes#23, ... 10 more fields]\n                                 +- Project [parking_name#0, parking_id#1, parking_address#2, parking_description#3, device_timestamp#4, device_id#5, parking_latitude#6, parking_longitude#7, cast(parking_temperature#8 as double) AS parking_temperature#164, parking_humidity#9, parking_uuid#10, level_id#11, area_id#12, area_name#13, area_total_spots#14, device_slots#15, parking_weather_status#16, parking_weather_status_detailed#17, parking_wind_speed#18, parking_holiday_status#19, parking_holiday_description#20, parking_holiday_type#21, parking_closed#22, minutes#23, ... 10 more fields]\n                                    +- Project [parking_name#0, parking_id#1, parking_address#2, parking_description#3, device_timestamp#4, device_id#5, parking_latitude#6, parking_longitude#7, parking_temperature#8, parking_humidity#9, parking_uuid#10, level_id#11, area_id#12, area_name#13, area_total_spots#14, device_slots#15, parking_weather_status#16, parking_weather_status_detailed#17, parking_wind_speed#18, parking_holiday_status#19, parking_holiday_description#20, parking_holiday_type#21, parking_closed#22, minutes#23, ... 10 more fields]\n                                       +- Project [parking_name#0, parking_id#1, parking_address#2, parking_description#3, device_timestamp#4, device_id#5, parking_latitude#6, parking_longitude#7, parking_temperature#8, parking_humidity#9, parking_uuid#10, level_id#11, area_id#12, area_name#13, area_total_spots#14, device_slots#15, parking_weather_status#16, parking_weather_status_detailed#17, parking_wind_speed#18, parking_holiday_status#19, parking_holiday_description#20, parking_holiday_type#21, parking_closed#22, minutes#23, ... 9 more fields]\n                                          +- Project [parking_name#0, parking_id#1, parking_address#2, parking_description#3, device_timestamp#4, device_id#5, parking_latitude#6, parking_longitude#7, parking_temperature#8, parking_humidity#9, parking_uuid#10, level_id#11, area_id#12, area_name#13, area_total_spots#14, device_slots#15, parking_weather_status#16, parking_weather_status_detailed#17, parking_wind_speed#18, parking_holiday_status#19, parking_holiday_description#20, parking_holiday_type#21, parking_closed#22, minutes#23, ... 8 more fields]\n                                             +- Relation [parking_name#0,parking_id#1,parking_address#2,parking_description#3,device_timestamp#4,device_id#5,parking_latitude#6,parking_longitude#7,parking_temperature#8,parking_humidity#9,parking_uuid#10,level_id#11,area_id#12,area_name#13,area_total_spots#14,device_slots#15,parking_weather_status#16,parking_weather_status_detailed#17,parking_wind_speed#18,parking_holiday_status#19,parking_holiday_description#20,parking_holiday_type#21,parking_closed#22,minutes#23,... 7 more fields] parquet\n"
     ]
    }
   ],
   "source": [
    "tres_cruces_shopping_cleaned = spark.sql(\"\"\"\n",
    "SELECT\n",
    "    DISTINCT(tcs.year, tcs.month, tcs.day, tcs.hour, tcs.minutes, tcs.device_id, tcs.level_id, tcs.area_id, tcs.slot_id) as MASTER_KEY,\n",
    "    CAST(CONCAT(\"2022-7-\", tcs.day, \" \", tcs.hour, \":\", tcs.minutes, \":00\") as timestamp) as datetime,\n",
    "    tcs.*\n",
    "FROM\n",
    "    tres_cruces_shopping tcs\n",
    "\"\"\").drop(\"MASTER_KEY\", \"parking_name\")"
   ]
  },
  {
   "cell_type": "code",
   "execution_count": 10,
   "metadata": {},
   "outputs": [
    {
     "name": "stderr",
     "output_type": "stream",
     "text": [
      "                                                                                \r"
     ]
    }
   ],
   "source": [
    "tres_cruces_shopping_cleaned \\\n",
    "    .write \\\n",
    "    .format(\"parquet\") \\\n",
    "    .mode(\"overwrite\") \\\n",
    "    .partitionBy(\"year\", \"month\", \"day\") \\\n",
    "    .save(\"hdfs://hadoop-namenode:9000/machineLearning/Parkings/\"+parking+\"/\")"
   ]
  },
  {
   "cell_type": "markdown",
   "metadata": {},
   "source": [
    "The  next is just for doing integration with google colab "
   ]
  },
  {
   "cell_type": "code",
   "execution_count": 12,
   "metadata": {},
   "outputs": [
    {
     "name": "stderr",
     "output_type": "stream",
     "text": [
      "                                                                                \r"
     ]
    }
   ],
   "source": [
    "tres_cruces_shopping_cleaned\\\n",
    "    .coalesce(1).write.format(\"parquet\").mode(\"overwrite\").partitionBy(\"year\", \"month\").save(\"hdfs://hadoop-namenode:9000/machineLearningForDebugging/Parkings/\"+parking+\"/\")"
   ]
  }
 ],
 "metadata": {
  "kernelspec": {
   "display_name": "Python 3 (ipykernel)",
   "language": "python",
   "name": "python3"
  },
  "language_info": {
   "codemirror_mode": {
    "name": "ipython",
    "version": 3
   },
   "file_extension": ".py",
   "mimetype": "text/x-python",
   "name": "python",
   "nbconvert_exporter": "python",
   "pygments_lexer": "ipython3",
   "version": "3.10.4"
  }
 },
 "nbformat": 4,
 "nbformat_minor": 2
}
