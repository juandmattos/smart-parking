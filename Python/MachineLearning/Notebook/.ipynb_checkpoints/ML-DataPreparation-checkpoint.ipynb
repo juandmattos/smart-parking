{
 "cells": [
  {
   "cell_type": "code",
   "execution_count": 1,
   "metadata": {},
   "outputs": [],
   "source": [
    "import findspark\n",
    "findspark.init()\n",
    "\n",
    "import sys\n",
    "import seaborn as sns \n",
    "import pandas as pd \n",
    "import numpy as np\n",
    "import matplotlib.pyplot as plt\n",
    "import warnings\n",
    "\n",
    "from pyspark.sql.functions import *\n",
    "from pyspark import SparkContext, SparkConf\n",
    "from pyspark.streaming import StreamingContext\n",
    "from pyspark.ml.evaluation import RegressionEvaluator\n",
    "\n",
    "\n",
    "#from pyspark.ml.recommendation import ALS, ALSModel\n",
    "#from pyspark.mllib.recommendation import MatrixFactorizationModel\n",
    "from pyspark.sql import Row, SQLContext,SparkSession\n",
    "import os\n",
    "\n",
    "parking = \"TresCrucesShopping\"\n",
    "hadoop_home = \"/opt/hadoop/hadoop-3.3.2\"\n",
    "\n",
    "os.environ['HADOOP_USER_NAME'] = \"hadoop\"\n",
    "os.environ['HADOOP_CONF_DIR'] = hadoop_home + \"/etc/hadoop\"\n",
    "os.environ['YARN_CONF_DIR'] = hadoop_home + \"/etc/hadoop\""
   ]
  },
  {
   "cell_type": "code",
   "execution_count": 2,
   "metadata": {},
   "outputs": [],
   "source": [
    "warnings.filterwarnings(\"ignore\")"
   ]
  },
  {
   "cell_type": "code",
   "execution_count": 3,
   "metadata": {},
   "outputs": [
    {
     "name": "stderr",
     "output_type": "stream",
     "text": [
      "22/08/03 20:57:27 WARN NativeCodeLoader: Unable to load native-hadoop library for your platform... using builtin-java classes where applicable\n",
      "22/08/03 20:57:29 WARN Utils: Service 'SparkUI' could not bind on port 4040. Attempting port 4041.\n",
      "22/08/03 20:57:29 WARN Utils: Service 'SparkUI' could not bind on port 4041. Attempting port 4042.\n"
     ]
    }
   ],
   "source": [
    "master = \"local[*]\"\n",
    "#master = \"yarn\"\n",
    "\n",
    "# Spark session & context\n",
    "spark = (SparkSession\n",
    "         .builder\n",
    "         .master(master)\n",
    "         .appName('MLIB-DataPreparation-'+parking)\n",
    "         .getOrCreate())\n",
    "\n",
    "spark.sparkContext.setLogLevel(\"ERROR\")\n",
    "sc = spark.sparkContext"
   ]
  },
  {
   "cell_type": "code",
   "execution_count": 4,
   "metadata": {},
   "outputs": [
    {
     "data": {
      "text/html": [
       "\n",
       "            <div>\n",
       "                <p><b>SparkSession - in-memory</b></p>\n",
       "                \n",
       "        <div>\n",
       "            <p><b>SparkContext</b></p>\n",
       "\n",
       "            <p><a href=\"http://spsystem:4042\">Spark UI</a></p>\n",
       "\n",
       "            <dl>\n",
       "              <dt>Version</dt>\n",
       "                <dd><code>v3.2.1</code></dd>\n",
       "              <dt>Master</dt>\n",
       "                <dd><code>local[*]</code></dd>\n",
       "              <dt>AppName</dt>\n",
       "                <dd><code>MLIB-RL</code></dd>\n",
       "            </dl>\n",
       "        </div>\n",
       "        \n",
       "            </div>\n",
       "        "
      ],
      "text/plain": [
       "<pyspark.sql.session.SparkSession at 0x7f706f311960>"
      ]
     },
     "execution_count": 4,
     "metadata": {},
     "output_type": "execute_result"
    }
   ],
   "source": [
    "spark"
   ]
  },
  {
   "cell_type": "markdown",
   "metadata": {},
   "source": [
    "## Carga de datos\n",
    "\n",
    "Se realiza la carga de datos de la data de un día anterior a los datos"
   ]
  },
  {
   "cell_type": "code",
   "execution_count": 5,
   "metadata": {},
   "outputs": [
    {
     "name": "stderr",
     "output_type": "stream",
     "text": [
      "                                                                                \r"
     ]
    }
   ],
   "source": [
    "df_parking = spark.read.parquet(\"hdfs://hadoop-namenode:9000/data/Parkings/TresCrucesShopping/year=2022/month=7/\")"
   ]
  },
  {
   "cell_type": "code",
   "execution_count": 6,
   "metadata": {},
   "outputs": [],
   "source": [
    "df_parking_cleaned = df_parking \\\n",
    "            .withColumn(\"year\", year(col(\"device_timestamp\"))) \\\n",
    "            .withColumn(\"month\", month(col(\"device_timestamp\"))) \\\n",
    "            .withColumn(\"day\", dayofmonth(col(\"device_timestamp\"))) \\\n",
    "            .withColumn(\"parking_temperature\", col(\"parking_temperature\").cast(\"double\"))\\\n",
    "            .withColumn(\"parking_humidity\", col(\"parking_humidity\").cast(\"double\"))\\\n",
    "            .withColumn(\n",
    "                \"parking_holiday_status\",\n",
    "                when(col(\"day\") == 18,True)\n",
    "                .otherwise(col(\"parking_holiday_status\"))\n",
    "            ) \\\n",
    "            .withColumn(\n",
    "                \"parking_holiday_type\",\n",
    "                when(col(\"day\") == 18, 'NL')\n",
    "                .otherwise(col(\"parking_holiday_type\"))\n",
    "            ) \\\n",
    "            .withColumn(\"slot_state\", col(\"slot_state\").cast(\"integer\")) \\\n",
    "            .withColumn(\"parking_closed\", col(\"parking_closed\").cast(\"integer\")) \\\n",
    "            .withColumn(\"parking_holiday_status\", col(\"parking_holiday_status\").cast(\"integer\")) \\\n",
    "            .drop(\"device_slots\", \n",
    "                  \"parking_address\",\n",
    "                  \"parking_description\",\n",
    "                  \"parking_weather_status_detailed\",\n",
    "                  \"parking_uuid\",\n",
    "                  \"parking_holiday_description\",\n",
    "                  \"level_name\",\n",
    "                  \"area_occupation\",\n",
    "                  \"device_timestamp\",\n",
    "                  #\"parking_latitude\",\n",
    "                  #\"parking_longitude\"\n",
    "            )"
   ]
  },
  {
   "cell_type": "code",
   "execution_count": 7,
   "metadata": {},
   "outputs": [
    {
     "name": "stdout",
     "output_type": "stream",
     "text": [
      "root\n",
      " |-- parking_name: string (nullable = true)\n",
      " |-- parking_id: string (nullable = true)\n",
      " |-- device_id: string (nullable = true)\n",
      " |-- parking_latitude: double (nullable = true)\n",
      " |-- parking_longitude: double (nullable = true)\n",
      " |-- parking_temperature: double (nullable = true)\n",
      " |-- parking_humidity: double (nullable = true)\n",
      " |-- level_id: integer (nullable = true)\n",
      " |-- area_id: integer (nullable = true)\n",
      " |-- area_name: string (nullable = true)\n",
      " |-- area_total_spots: integer (nullable = true)\n",
      " |-- parking_weather_status: string (nullable = true)\n",
      " |-- parking_wind_speed: double (nullable = true)\n",
      " |-- parking_holiday_status: integer (nullable = true)\n",
      " |-- parking_holiday_type: string (nullable = true)\n",
      " |-- parking_closed: integer (nullable = true)\n",
      " |-- minutes: integer (nullable = true)\n",
      " |-- area_occupied_spots: integer (nullable = true)\n",
      " |-- area_occupation_percentage: integer (nullable = true)\n",
      " |-- area_available_spots: integer (nullable = true)\n",
      " |-- slot_id: integer (nullable = true)\n",
      " |-- slot_state: integer (nullable = true)\n",
      " |-- day: integer (nullable = true)\n",
      " |-- hour: integer (nullable = true)\n",
      " |-- year: integer (nullable = true)\n",
      " |-- month: integer (nullable = true)\n",
      "\n"
     ]
    }
   ],
   "source": [
    "df_parking_cleaned.printSchema()"
   ]
  },
  {
   "cell_type": "code",
   "execution_count": 8,
   "metadata": {},
   "outputs": [],
   "source": [
    "df_parking_cleaned.createOrReplaceTempView(\"tres_cruces_shopping\")"
   ]
  },
  {
   "cell_type": "code",
   "execution_count": 9,
   "metadata": {},
   "outputs": [],
   "source": [
    "tres_cruces_shopping_cleaned = spark.sql(\"\"\"\n",
    "SELECT\n",
    "    DISTINCT(tcs.year, tcs.month, tcs.day, tcs.hour, tcs.minutes, tcs.device_id, tcs.level_id, tcs.area_id, tcs.slot_id) as MASTER_KEY,\n",
    "    CAST(CONCAT(\"2022-7-\", tcs.day, \" \", tcs.hour, \":\", tcs.minutes, \":00\") as timestamp) as datetime,\n",
    "    tcs.*\n",
    "FROM\n",
    "    tres_cruces_shopping tcs\n",
    "\"\"\").drop(\"MASTER_KEY\", \"parking_name\")"
   ]
  },
  {
   "cell_type": "code",
   "execution_count": 11,
   "metadata": {},
   "outputs": [
    {
     "name": "stderr",
     "output_type": "stream",
     "text": [
      "                                                                                \r"
     ]
    }
   ],
   "source": [
    "tres_cruces_shopping_cleaned \\\n",
    "    .write \\\n",
    "    .format(\"parquet\") \\\n",
    "    .mode(\"overwrite\") \\\n",
    "    .partitionBy(\"year\", \"month\", \"day\") \\\n",
    "    .save(\"hdfs://hadoop-namenode:9000/machineLearning/Parkings/\"+parking+\"/\")"
   ]
  },
  {
   "cell_type": "markdown",
   "metadata": {},
   "source": [
    "The  next is just for doing integration with google colab "
   ]
  },
  {
   "cell_type": "code",
   "execution_count": 12,
   "metadata": {},
   "outputs": [
    {
     "name": "stderr",
     "output_type": "stream",
     "text": [
      "                                                                                \r"
     ]
    }
   ],
   "source": [
    "tres_cruces_shopping_cleaned\\\n",
    "    .coalesce(1).write.format(\"parquet\").mode(\"overwrite\").partitionBy(\"year\", \"month\").save(\"hdfs://hadoop-namenode:9000/machineLearningForDebugging/Parkings/\"+parking+\"/\")"
   ]
  }
 ],
 "metadata": {
  "kernelspec": {
   "display_name": "Python 3 (ipykernel)",
   "language": "python",
   "name": "python3"
  },
  "language_info": {
   "codemirror_mode": {
    "name": "ipython",
    "version": 3
   },
   "file_extension": ".py",
   "mimetype": "text/x-python",
   "name": "python",
   "nbconvert_exporter": "python",
   "pygments_lexer": "ipython3",
   "version": "3.10.4"
  }
 },
 "nbformat": 4,
 "nbformat_minor": 2
}
