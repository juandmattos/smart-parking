{
 "cells": [
  {
   "cell_type": "code",
   "execution_count": 51,
   "id": "30ef4970",
   "metadata": {},
   "outputs": [
    {
     "data": {
      "text/html": [
       "<style>pre { white-space: pre !important; }</style>"
      ],
      "text/plain": [
       "<IPython.core.display.HTML object>"
      ]
     },
     "metadata": {},
     "output_type": "display_data"
    }
   ],
   "source": [
    "from IPython.core.display import HTML\n",
    "display(HTML(\"<style>pre { white-space: pre !important; }</style>\"))\n",
    "\n",
    "import findspark\n",
    "findspark.init()\n",
    "\n",
    "import sys\n",
    "import seaborn as sns \n",
    "import pandas as pd \n",
    "import numpy as np\n",
    "import matplotlib.pyplot as plt\n",
    "import warnings\n",
    "\n",
    "from pyspark.sql.functions import *\n",
    "from pyspark import SparkContext, SparkConf\n",
    "from pyspark.streaming import StreamingContext\n",
    "from pyspark.ml.evaluation import RegressionEvaluator\n",
    "from pyspark.ml.feature import VectorAssembler, StringIndexer\n",
    "from pyspark.ml.regression import LinearRegression\n",
    "\n",
    "\n",
    "#from pyspark.ml.recommendation import ALS, ALSModel\n",
    "#from pyspark.mllib.recommendation import MatrixFactorizationModel\n",
    "from pyspark.sql import Row, SQLContext,SparkSession\n",
    "import os\n",
    "\n",
    "parking = \"TresCrucesShopping\"\n",
    "hadoop_home = \"/opt/hadoop/hadoop-3.3.2\"\n",
    "\n",
    "os.environ['HADOOP_USER_NAME'] = \"hadoop\"\n",
    "os.environ['HADOOP_CONF_DIR'] = hadoop_home + \"/etc/hadoop\"\n",
    "os.environ['YARN_CONF_DIR'] = hadoop_home + \"/etc/hadoop\""
   ]
  },
  {
   "cell_type": "code",
   "execution_count": 2,
   "id": "bec6f697",
   "metadata": {},
   "outputs": [],
   "source": [
    "warnings.filterwarnings(\"ignore\")"
   ]
  },
  {
   "cell_type": "code",
   "execution_count": 3,
   "id": "b15e432a",
   "metadata": {},
   "outputs": [
    {
     "name": "stderr",
     "output_type": "stream",
     "text": [
      "22/08/04 22:21:32 WARN NativeCodeLoader: Unable to load native-hadoop library for your platform... using builtin-java classes where applicable\n",
      "22/08/04 22:21:34 WARN Utils: Service 'SparkUI' could not bind on port 4040. Attempting port 4041.\n",
      "22/08/04 22:21:34 WARN Utils: Service 'SparkUI' could not bind on port 4041. Attempting port 4042.\n"
     ]
    }
   ],
   "source": [
    "master = \"local[*]\"\n",
    "#master = \"yarn\"\n",
    "\n",
    "# Spark session & context\n",
    "spark = (SparkSession\n",
    "         .builder\n",
    "         .master(master)\n",
    "         .appName('MLIB-RL-Simple')\n",
    "         .getOrCreate())\n",
    "\n",
    "spark.sparkContext.setLogLevel(\"ERROR\")\n",
    "sc = spark.sparkContext"
   ]
  },
  {
   "cell_type": "code",
   "execution_count": 4,
   "id": "87d4a87f",
   "metadata": {},
   "outputs": [
    {
     "data": {
      "text/html": [
       "\n",
       "            <div>\n",
       "                <p><b>SparkSession - in-memory</b></p>\n",
       "                \n",
       "        <div>\n",
       "            <p><b>SparkContext</b></p>\n",
       "\n",
       "            <p><a href=\"http://spsystem:4042\">Spark UI</a></p>\n",
       "\n",
       "            <dl>\n",
       "              <dt>Version</dt>\n",
       "                <dd><code>v3.2.1</code></dd>\n",
       "              <dt>Master</dt>\n",
       "                <dd><code>local[*]</code></dd>\n",
       "              <dt>AppName</dt>\n",
       "                <dd><code>MLIB-RL-Simple</code></dd>\n",
       "            </dl>\n",
       "        </div>\n",
       "        \n",
       "            </div>\n",
       "        "
      ],
      "text/plain": [
       "<pyspark.sql.session.SparkSession at 0x7fba826e1330>"
      ]
     },
     "execution_count": 4,
     "metadata": {},
     "output_type": "execute_result"
    }
   ],
   "source": [
    "spark"
   ]
  },
  {
   "cell_type": "code",
   "execution_count": 10,
   "id": "604f0130",
   "metadata": {},
   "outputs": [],
   "source": [
    "df_parking_machine_learning = spark \\\n",
    "    .read \\\n",
    "    .parquet(\"hdfs://hadoop-namenode:9000/machineLearning/Parkings/\"+parking+\"/year=2022/month=7/\")"
   ]
  },
  {
   "cell_type": "code",
   "execution_count": 13,
   "id": "75d0a8ea",
   "metadata": {},
   "outputs": [],
   "source": [
    "df_parking_machine_learning = df_parking_machine_learning.drop(\"parking_id\", \"hour\", \"minutes\", \"day\").orderBy(\"datetime\")"
   ]
  },
  {
   "cell_type": "code",
   "execution_count": 14,
   "id": "f7015213",
   "metadata": {},
   "outputs": [
    {
     "name": "stdout",
     "output_type": "stream",
     "text": [
      "root\n",
      " |-- datetime: timestamp (nullable = true)\n",
      " |-- device_id: string (nullable = true)\n",
      " |-- parking_temperature: double (nullable = true)\n",
      " |-- parking_humidity: double (nullable = true)\n",
      " |-- level_id: integer (nullable = true)\n",
      " |-- area_id: integer (nullable = true)\n",
      " |-- area_name: string (nullable = true)\n",
      " |-- area_total_spots: integer (nullable = true)\n",
      " |-- parking_weather_status: string (nullable = true)\n",
      " |-- parking_wind_speed: double (nullable = true)\n",
      " |-- parking_holiday_status: integer (nullable = true)\n",
      " |-- parking_holiday_type: string (nullable = true)\n",
      " |-- parking_closed: integer (nullable = true)\n",
      " |-- area_occupied_spots: integer (nullable = true)\n",
      " |-- area_occupation_percentage: integer (nullable = true)\n",
      " |-- area_available_spots: integer (nullable = true)\n",
      " |-- slot_id: integer (nullable = true)\n",
      " |-- slot_state: integer (nullable = true)\n",
      "\n"
     ]
    }
   ],
   "source": [
    "df_parking_machine_learning.printSchema()"
   ]
  },
  {
   "cell_type": "code",
   "execution_count": 35,
   "id": "462ea03a",
   "metadata": {},
   "outputs": [],
   "source": [
    "vectorAssembler = VectorAssembler(\n",
    "                        inputCols = [\"parking_temperature\", \"parking_humidity\", \n",
    "                                     \"area_total_spots\", \"parking_wind_speed\",\n",
    "                                     \"parking_closed\", \"parking_holiday_status\",\n",
    "                                     \"area_available_spots\", \"area_occupied_spots\",\n",
    "                                     \"slot_state\"],\n",
    "                        outputCol = 'features')"
   ]
  },
  {
   "cell_type": "code",
   "execution_count": 36,
   "id": "cd085050",
   "metadata": {},
   "outputs": [],
   "source": [
    "va_df_parking = vectorAssembler.transform(df_parking_machine_learning)"
   ]
  },
  {
   "cell_type": "code",
   "execution_count": 37,
   "id": "6acbe0fb",
   "metadata": {},
   "outputs": [
    {
     "name": "stderr",
     "output_type": "stream",
     "text": [
      "[Stage 61:==================================>                       (3 + 2) / 5]\r"
     ]
    },
    {
     "name": "stdout",
     "output_type": "stream",
     "text": [
      "+-------------------+--------+-------+-------+--------------------+--------------------------+\n",
      "|           datetime|level_id|area_id|slot_id|            features|area_occupation_percentage|\n",
      "+-------------------+--------+-------+-------+--------------------+--------------------------+\n",
      "|2022-07-01 18:49:00|       1|      1|      5|[10.01,87.0,10.0,...|                        80|\n",
      "|2022-07-01 18:49:00|       1|      2|      1|[10.01,87.0,10.0,...|                        70|\n",
      "|2022-07-01 18:49:00|       1|      2|      3|[10.01,87.0,10.0,...|                        70|\n",
      "+-------------------+--------+-------+-------+--------------------+--------------------------+\n",
      "only showing top 3 rows\n",
      "\n"
     ]
    },
    {
     "name": "stderr",
     "output_type": "stream",
     "text": [
      "\r",
      "                                                                                \r"
     ]
    }
   ],
   "source": [
    "va_df_parking = va_df_parking.select(['datetime', \"level_id\", \"area_id\", \"slot_id\", 'features', 'area_occupation_percentage'])\n",
    "va_df_parking.show(3)"
   ]
  },
  {
   "cell_type": "code",
   "execution_count": 38,
   "id": "43cc10bf",
   "metadata": {},
   "outputs": [],
   "source": [
    "train_df, test_df = va_df_parking.randomSplit([0.7, 0.3])"
   ]
  },
  {
   "cell_type": "code",
   "execution_count": 39,
   "id": "9e964198",
   "metadata": {},
   "outputs": [
    {
     "name": "stderr",
     "output_type": "stream",
     "text": [
      "[Stage 73:>                                                         (0 + 4) / 4]\r"
     ]
    },
    {
     "name": "stdout",
     "output_type": "stream",
     "text": [
      "Coefficients: [0.0,0.0,0.0,0.0,0.0,0.0,-4.916784697362235,4.916784697371434,0.0]\n",
      "Intercept: 49.994950244869614\n"
     ]
    },
    {
     "name": "stderr",
     "output_type": "stream",
     "text": [
      "\r",
      "[Stage 73:=============================>                            (2 + 2) / 4]\r",
      "\r",
      "                                                                                \r"
     ]
    }
   ],
   "source": [
    "lr = LinearRegression(featuresCol = 'features', labelCol='area_occupation_percentage', maxIter=10, regParam=0.3, elasticNetParam=0.8)\n",
    "lr_model = lr.fit(train_df)\n",
    "print(\"Coefficients: \" + str(lr_model.coefficients))\n",
    "print(\"Intercept: \" + str(lr_model.intercept))"
   ]
  },
  {
   "cell_type": "code",
   "execution_count": 40,
   "id": "5aa2b310",
   "metadata": {},
   "outputs": [
    {
     "name": "stdout",
     "output_type": "stream",
     "text": [
      "RMSE: 0.269448\n",
      "r2: 0.999723\n"
     ]
    }
   ],
   "source": [
    "trainingSummary = lr_model.summary\n",
    "print(\"RMSE: %f\" % trainingSummary.rootMeanSquaredError)\n",
    "print(\"r2: %f\" % trainingSummary.r2)"
   ]
  },
  {
   "cell_type": "code",
   "execution_count": 41,
   "id": "ce75512c",
   "metadata": {},
   "outputs": [
    {
     "name": "stderr",
     "output_type": "stream",
     "text": [
      "                                                                                \r"
     ]
    },
    {
     "name": "stdout",
     "output_type": "stream",
     "text": [
      "+-------+------------------+------------------+------------------+--------------------------+\n",
      "|summary|          level_id|           area_id|           slot_id|area_occupation_percentage|\n",
      "+-------+------------------+------------------+------------------+--------------------------+\n",
      "|  count|           1653246|           1653246|           1653246|                   1653246|\n",
      "|   mean| 1.889034662718071|2.1105479765261794| 5.500019355861136|        49.700522487276544|\n",
      "| stddev|0.7370708422474119|0.9934471083179036|2.8718371828594016|        16.195227684021123|\n",
      "|    min|                 1|                 1|                 1|                         0|\n",
      "|    max|                 3|                 4|                10|                       100|\n",
      "+-------+------------------+------------------+------------------+--------------------------+\n",
      "\n"
     ]
    }
   ],
   "source": [
    "train_df.describe().show()"
   ]
  },
  {
   "cell_type": "code",
   "execution_count": 46,
   "id": "bcaebe7a",
   "metadata": {},
   "outputs": [
    {
     "name": "stderr",
     "output_type": "stream",
     "text": [
      "                                                                                \r"
     ]
    },
    {
     "name": "stdout",
     "output_type": "stream",
     "text": [
      "+-------------------+--------+-------+-------+-----------------+--------------------------+--------------------+\n",
      "|           datetime|level_id|area_id|slot_id|       prediction|area_occupation_percentage|            features|\n",
      "+-------------------+--------+-------+-------+-----------------+--------------------------+--------------------+\n",
      "|2022-07-01 18:49:00|       1|      1|      2|79.49565842911662|                        80|[10.01,87.0,10.0,...|\n",
      "|2022-07-01 18:49:00|       1|      1|      5|79.49565842911662|                        80|[10.01,87.0,10.0,...|\n",
      "|2022-07-01 18:49:00|       1|      1|      6|79.49565842911662|                        80|[10.01,87.0,10.0,...|\n",
      "|2022-07-01 18:49:00|       1|      1|     10|79.49565842911662|                        80|[10.01,87.0,10.0,...|\n",
      "|2022-07-01 18:49:00|       1|      2|      3|69.66208903438294|                        70|[10.01,87.0,10.0,...|\n",
      "+-------------------+--------+-------+-------+-----------------+--------------------------+--------------------+\n",
      "only showing top 5 rows\n",
      "\n"
     ]
    },
    {
     "name": "stderr",
     "output_type": "stream",
     "text": [
      "[Stage 108:>                                                        (0 + 4) / 4]\r"
     ]
    },
    {
     "name": "stdout",
     "output_type": "stream",
     "text": [
      "R Squared (R2) on test data = 0.999723\n"
     ]
    },
    {
     "name": "stderr",
     "output_type": "stream",
     "text": [
      "\r",
      "[Stage 108:============================>                            (2 + 2) / 4]\r",
      "\r",
      "                                                                                \r"
     ]
    }
   ],
   "source": [
    "lr_predictions = lr_model.transform(test_df)\n",
    "lr_predictions.select('datetime', \"level_id\", \"area_id\", \"slot_id\",\"prediction\",\"area_occupation_percentage\",\"features\").show(5)\n",
    "from pyspark.ml.evaluation import RegressionEvaluator\n",
    "lr_evaluator = RegressionEvaluator(predictionCol=\"prediction\", \\\n",
    "                 labelCol=\"area_occupation_percentage\",metricName=\"r2\")\n",
    "print(\"R Squared (R2) on test data = %g\" % lr_evaluator.evaluate(lr_predictions))"
   ]
  },
  {
   "cell_type": "code",
   "execution_count": 47,
   "id": "feb912a0",
   "metadata": {},
   "outputs": [
    {
     "name": "stdout",
     "output_type": "stream",
     "text": [
      "numIterations: 10\n",
      "objectiveHistory: [0.5000000000000009, 0.3629994541167867, 0.022008374073255794, 0.017991776472006324, 0.015628629925099596, 0.01560958276540908, 0.015608989092570302, 0.015608971466004382, 0.015608970942660573, 0.015608970927121373, 0.015608970926660276]\n"
     ]
    },
    {
     "name": "stderr",
     "output_type": "stream",
     "text": [
      "[Stage 112:>                                                        (0 + 1) / 1]\r"
     ]
    },
    {
     "name": "stdout",
     "output_type": "stream",
     "text": [
      "+------------------+\n",
      "|         residuals|\n",
      "+------------------+\n",
      "|0.5043415708833834|\n",
      "|0.5043415708833834|\n",
      "|0.5043415708833834|\n",
      "|0.5043415708833834|\n",
      "|0.5043415708833834|\n",
      "|0.5043415708833834|\n",
      "|0.3379109656170556|\n",
      "|0.3379109656170556|\n",
      "|0.3379109656170556|\n",
      "|0.3379109656170556|\n",
      "|0.3379109656170556|\n",
      "|0.3379109656170556|\n",
      "|0.5043415708833834|\n",
      "|0.5043415708833834|\n",
      "|0.5043415708833834|\n",
      "|0.5043415708833834|\n",
      "|0.5043415708833834|\n",
      "|0.5043415708833834|\n",
      "|0.5043415708833834|\n",
      "|0.5043415708833834|\n",
      "+------------------+\n",
      "only showing top 20 rows\n",
      "\n"
     ]
    },
    {
     "name": "stderr",
     "output_type": "stream",
     "text": [
      "\r",
      "                                                                                \r"
     ]
    }
   ],
   "source": [
    "print(\"numIterations: %d\" % trainingSummary.totalIterations)\n",
    "print(\"objectiveHistory: %s\" % str(trainingSummary.objectiveHistory))\n",
    "trainingSummary.residuals.show()"
   ]
  },
  {
   "cell_type": "code",
   "execution_count": 52,
   "id": "fd8afc50",
   "metadata": {},
   "outputs": [
    {
     "name": "stderr",
     "output_type": "stream",
     "text": [
      "[Stage 128:>                                                        (0 + 1) / 1]\r"
     ]
    },
    {
     "name": "stdout",
     "output_type": "stream",
     "text": [
      "+-------------------+--------+-------+-------+--------------------------------+--------------------------+\n",
      "|           datetime|level_id|area_id|slot_id|area_ocupation_percentage_target|area_occupation_percentage|\n",
      "+-------------------+--------+-------+-------+--------------------------------+--------------------------+\n",
      "|2022-07-01 18:49:00|       1|      1|      2|               79.49565842911662|                        80|\n",
      "|2022-07-01 18:49:00|       1|      1|      5|               79.49565842911662|                        80|\n",
      "|2022-07-01 18:49:00|       1|      1|      6|               79.49565842911662|                        80|\n",
      "|2022-07-01 18:49:00|       1|      1|     10|               79.49565842911662|                        80|\n",
      "|2022-07-01 18:49:00|       1|      2|      3|               69.66208903438294|                        70|\n",
      "|2022-07-01 18:49:00|       1|      2|      6|               69.66208903438294|                        70|\n",
      "|2022-07-01 18:49:00|       1|      2|      9|               69.66208903438294|                        70|\n",
      "|2022-07-01 18:49:00|       1|      2|     10|               69.66208903438294|                        70|\n",
      "|2022-07-01 18:50:00|       1|      1|      8|               79.49565842911662|                        80|\n",
      "|2022-07-01 18:50:00|       1|      1|     10|               79.49565842911662|                        80|\n",
      "|2022-07-01 18:50:00|       1|      2|      2|               69.66208903438294|                        70|\n",
      "|2022-07-01 18:50:00|       1|      2|      4|               69.66208903438294|                        70|\n",
      "|2022-07-01 18:50:00|       1|      2|      6|               69.66208903438294|                        70|\n",
      "|2022-07-01 18:50:00|       1|      2|     10|               69.66208903438294|                        70|\n",
      "|2022-07-01 18:50:00|       1|      3|      2|               69.66208903438294|                        70|\n",
      "|2022-07-01 18:50:00|       1|      3|      6|               69.66208903438294|                        70|\n",
      "|2022-07-01 18:50:00|       1|      3|      8|               69.66208903438294|                        70|\n",
      "|2022-07-01 18:50:00|       2|      1|      7|               69.66208903438294|                        70|\n",
      "|2022-07-01 18:50:00|       2|      2|      9|               49.99495024491561|                        50|\n",
      "|2022-07-01 18:50:00|       2|      3|      1|               49.99495024491561|                        50|\n",
      "+-------------------+--------+-------+-------+--------------------------------+--------------------------+\n",
      "only showing top 20 rows\n",
      "\n"
     ]
    },
    {
     "name": "stderr",
     "output_type": "stream",
     "text": [
      "\r",
      "                                                                                \r"
     ]
    }
   ],
   "source": [
    "predictions = lr_model.transform(test_df)\n",
    "predictions = predictions.select(\"datetime\", \"level_id\", \"area_id\",\n",
    "                   \"slot_id\",\"prediction\",\"area_occupation_percentage\",\n",
    "                   \"features\") \\\n",
    "            .withColumnRenamed(\"prediction\", \"area_ocupation_percentage_target\")\n"
   ]
  },
  {
   "cell_type": "code",
   "execution_count": null,
   "id": "ddbdc861",
   "metadata": {},
   "outputs": [],
   "source": [
    "predictions.drop(\"features\").show()"
   ]
  },
  {
   "cell_type": "code",
   "execution_count": null,
   "id": "117cfa31",
   "metadata": {},
   "outputs": [],
   "source": [
    "predictions"
   ]
  }
 ],
 "metadata": {
  "kernelspec": {
   "display_name": "Python 3 (ipykernel)",
   "language": "python",
   "name": "python3"
  },
  "language_info": {
   "codemirror_mode": {
    "name": "ipython",
    "version": 3
   },
   "file_extension": ".py",
   "mimetype": "text/x-python",
   "name": "python",
   "nbconvert_exporter": "python",
   "pygments_lexer": "ipython3",
   "version": "3.10.4"
  }
 },
 "nbformat": 4,
 "nbformat_minor": 5
}
