{
 "cells": [
  {
   "cell_type": "code",
   "execution_count": 1,
   "id": "c8e51622",
   "metadata": {},
   "outputs": [
    {
     "name": "stderr",
     "output_type": "stream",
     "text": [
      "22/08/05 10:31:48 WARN NativeCodeLoader: Unable to load native-hadoop library for your platform... using builtin-java classes where applicable\n",
      "22/08/05 10:31:49 WARN Utils: Service 'SparkUI' could not bind on port 4040. Attempting port 4041.\n",
      "22/08/05 10:31:49 WARN Utils: Service 'SparkUI' could not bind on port 4041. Attempting port 4042.\n",
      "22/08/05 10:31:49 WARN Utils: Service 'SparkUI' could not bind on port 4042. Attempting port 4043.\n"
     ]
    }
   ],
   "source": [
    "import findspark\n",
    "findspark.init()\n",
    "import json\n",
    "import sys\n",
    "import seaborn as sns \n",
    "import pandas as pd \n",
    "import numpy as np\n",
    "import matplotlib.pyplot as plt\n",
    "import warnings\n",
    "from datetime import datetime\n",
    "\n",
    "import pyspark.sql.functions as fn\n",
    "from pyspark import SparkContext, SparkConf\n",
    "from pyspark.streaming import StreamingContext\n",
    "from pyspark.ml.evaluation import RegressionEvaluator\n",
    "from pyspark.ml.feature import VectorAssembler, StringIndexer\n",
    "from pyspark.ml.regression import LinearRegression\n",
    "\n",
    "\n",
    "#from pyspark.ml.recommendation import ALS, ALSModel\n",
    "#from pyspark.mllib.recommendation import MatrixFactorizationModel\n",
    "from pyspark.sql import Row, SQLContext,SparkSession\n",
    "import os\n",
    "\n",
    "parking = \"TresCrucesShopping\"\n",
    "hadoop_home = \"/opt/hadoop/hadoop-3.3.2\"\n",
    "\n",
    "os.environ['HADOOP_USER_NAME'] = \"hadoop\"\n",
    "os.environ['HADOOP_CONF_DIR'] = hadoop_home + \"/etc/hadoop\"\n",
    "os.environ['YARN_CONF_DIR'] = hadoop_home + \"/etc/hadoop\"\n",
    "\n",
    "warnings.filterwarnings(\"ignore\")\n",
    "\n",
    "master = \"local[*]\"\n",
    "#master = \"yarn\"\n",
    "\n",
    "# Spark session & context\n",
    "spark = (SparkSession\n",
    "         .builder\n",
    "         .master(master)\n",
    "         .appName('RL-GenerateJsonSummary')\n",
    "         .getOrCreate())\n",
    "\n",
    "spark.sparkContext.setLogLevel(\"ERROR\")\n",
    "sc = spark.sparkContext"
   ]
  },
  {
   "cell_type": "code",
   "execution_count": 2,
   "id": "7552939a",
   "metadata": {},
   "outputs": [
    {
     "data": {
      "text/html": [
       "\n",
       "            <div>\n",
       "                <p><b>SparkSession - in-memory</b></p>\n",
       "                \n",
       "        <div>\n",
       "            <p><b>SparkContext</b></p>\n",
       "\n",
       "            <p><a href=\"http://spsystem:4043\">Spark UI</a></p>\n",
       "\n",
       "            <dl>\n",
       "              <dt>Version</dt>\n",
       "                <dd><code>v3.2.1</code></dd>\n",
       "              <dt>Master</dt>\n",
       "                <dd><code>local[*]</code></dd>\n",
       "              <dt>AppName</dt>\n",
       "                <dd><code>RL-GenerateJsonSummary</code></dd>\n",
       "            </dl>\n",
       "        </div>\n",
       "        \n",
       "            </div>\n",
       "        "
      ],
      "text/plain": [
       "<pyspark.sql.session.SparkSession at 0x7f3678595b10>"
      ]
     },
     "execution_count": 2,
     "metadata": {},
     "output_type": "execute_result"
    }
   ],
   "source": [
    "spark"
   ]
  },
  {
   "cell_type": "code",
   "execution_count": 3,
   "id": "eda0b44b",
   "metadata": {},
   "outputs": [],
   "source": [
    "now = datetime.now()"
   ]
  },
  {
   "cell_type": "code",
   "execution_count": 8,
   "id": "9579d076",
   "metadata": {},
   "outputs": [
    {
     "name": "stderr",
     "output_type": "stream",
     "text": [
      "                                                                                \r"
     ]
    }
   ],
   "source": [
    "df_parking_machine_learning = spark \\\n",
    "    .read \\\n",
    "    .parquet(f\"hdfs://hadoop-namenode:9000/predictions/Parkings/{parking}/year={now.year}/month={now.month - 1}/day={now.day}/hour={now.hour}/minute={now.minute}\")"
   ]
  },
  {
   "cell_type": "code",
   "execution_count": 9,
   "id": "f580a363",
   "metadata": {},
   "outputs": [],
   "source": [
    "df_parking_machine_learning = df_parking_machine_learning \\\n",
    "                                .withColumnRenamed(\"area_ocupation_percentage_target\", \"area_occupation_percentage_target\")"
   ]
  },
  {
   "cell_type": "code",
   "execution_count": 10,
   "id": "44b9062a",
   "metadata": {},
   "outputs": [
    {
     "name": "stdout",
     "output_type": "stream",
     "text": [
      "+--------+-------+---------------------------------+--------------------------+\n",
      "|level_id|area_id|area_occupation_percentage_target|area_occupation_percentage|\n",
      "+--------+-------+---------------------------------+--------------------------+\n",
      "|       1|      1|               20.494242060714598|                        20|\n",
      "|       1|      2|               30.327811455448266|                        30|\n",
      "|       1|      3|                59.82851963964928|                        60|\n",
      "|       2|      1|                40.16138085018194|                        40|\n",
      "|       2|      2|                49.99495024491561|                        50|\n",
      "|       2|      3|               10.660672665980933|                        10|\n",
      "|       2|      4|               10.660672665980933|                        10|\n",
      "|       3|      1|                59.82851963964928|                        60|\n",
      "|       3|      2|                59.82851963964928|                        60|\n",
      "+--------+-------+---------------------------------+--------------------------+\n",
      "\n"
     ]
    }
   ],
   "source": [
    "df_parking_machine_learning.show()\n"
   ]
  },
  {
   "cell_type": "code",
   "execution_count": 11,
   "id": "83b4862b",
   "metadata": {},
   "outputs": [],
   "source": [
    "with open(\"/opt/smart-parking/Python/MachineLearning/ParkingSummary.json\") as file:\n",
    "    json_file = json.load(file)"
   ]
  },
  {
   "cell_type": "code",
   "execution_count": 12,
   "id": "f49a77ca",
   "metadata": {},
   "outputs": [
    {
     "data": {
      "text/plain": [
       "{'coefficients': {'0to20Coef': '1.1',\n",
       "  '20to40Coef': '1.2',\n",
       "  '40to60Coef': '1.4',\n",
       "  '60to80Coef': '1.8',\n",
       "  '80to100Coef': '2'},\n",
       " 'hasDynamicPrice': True,\n",
       " 'levels': [{'level_id': '1', 'areas': []},\n",
       "  {'level_id': '2', 'areas': []},\n",
       "  {'level_id': '3', 'areas': []}]}"
      ]
     },
     "execution_count": 12,
     "metadata": {},
     "output_type": "execute_result"
    }
   ],
   "source": [
    "json_file"
   ]
  },
  {
   "cell_type": "code",
   "execution_count": 21,
   "id": "aed61a30",
   "metadata": {
    "scrolled": true
   },
   "outputs": [],
   "source": [
    "data_dict = {}\n",
    "for row in df_parking_machine_learning.rdd.collect():\n",
    "    if row['level_id'] in data_dict:\n",
    "        data_dict[row['level_id']].append({'area_id': row['area_id'], \n",
    "                                'area_occupation_percentage_target': round(row['area_occupation_percentage_target'])})\n",
    "    else:\n",
    "        data_dict.update({row['level_id']:[]})\n",
    "        data_dict[row['level_id']].append({'area_id': row['area_id'], \n",
    "                                'area_occupation_percentage_target': round(row['area_occupation_percentage_target'])})\n",
    "        "
   ]
  },
  {
   "cell_type": "code",
   "execution_count": 22,
   "id": "2d555086",
   "metadata": {},
   "outputs": [
    {
     "name": "stdout",
     "output_type": "stream",
     "text": [
      "{\n",
      "  \"1\": [\n",
      "    {\n",
      "      \"area_id\": 1,\n",
      "      \"area_occupation_percentage_target\": 20\n",
      "    },\n",
      "    {\n",
      "      \"area_id\": 2,\n",
      "      \"area_occupation_percentage_target\": 30\n",
      "    },\n",
      "    {\n",
      "      \"area_id\": 3,\n",
      "      \"area_occupation_percentage_target\": 60\n",
      "    }\n",
      "  ],\n",
      "  \"2\": [\n",
      "    {\n",
      "      \"area_id\": 1,\n",
      "      \"area_occupation_percentage_target\": 40\n",
      "    },\n",
      "    {\n",
      "      \"area_id\": 2,\n",
      "      \"area_occupation_percentage_target\": 50\n",
      "    },\n",
      "    {\n",
      "      \"area_id\": 3,\n",
      "      \"area_occupation_percentage_target\": 11\n",
      "    },\n",
      "    {\n",
      "      \"area_id\": 4,\n",
      "      \"area_occupation_percentage_target\": 11\n",
      "    }\n",
      "  ],\n",
      "  \"3\": [\n",
      "    {\n",
      "      \"area_id\": 1,\n",
      "      \"area_occupation_percentage_target\": 60\n",
      "    },\n",
      "    {\n",
      "      \"area_id\": 2,\n",
      "      \"area_occupation_percentage_target\": 60\n",
      "    }\n",
      "  ]\n",
      "}\n"
     ]
    }
   ],
   "source": [
    "print(json.dumps(data_dict, indent=2))"
   ]
  },
  {
   "cell_type": "code",
   "execution_count": null,
   "id": "5d094d41",
   "metadata": {},
   "outputs": [],
   "source": []
  }
 ],
 "metadata": {
  "kernelspec": {
   "display_name": "Python 3 (ipykernel)",
   "language": "python",
   "name": "python3"
  },
  "language_info": {
   "codemirror_mode": {
    "name": "ipython",
    "version": 3
   },
   "file_extension": ".py",
   "mimetype": "text/x-python",
   "name": "python",
   "nbconvert_exporter": "python",
   "pygments_lexer": "ipython3",
   "version": "3.10.4"
  }
 },
 "nbformat": 4,
 "nbformat_minor": 5
}
