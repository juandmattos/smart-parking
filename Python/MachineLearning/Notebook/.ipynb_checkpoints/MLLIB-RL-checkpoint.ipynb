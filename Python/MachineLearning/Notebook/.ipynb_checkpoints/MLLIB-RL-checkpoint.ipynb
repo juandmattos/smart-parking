{
 "cells": [
  {
   "cell_type": "code",
   "execution_count": 1,
   "metadata": {},
   "outputs": [],
   "source": [
    "import findspark\n",
    "findspark.init()\n",
    "\n",
    "import sys\n",
    "import seaborn as sns \n",
    "import pandas as pd \n",
    "import numpy as np\n",
    "import matplotlib.pyplot as plt\n",
    "import warnings\n",
    "\n",
    "from pyspark.sql.functions import *\n",
    "from pyspark import SparkContext, SparkConf\n",
    "from pyspark.streaming import StreamingContext\n",
    "from pyspark.ml.evaluation import RegressionEvaluator\n",
    "from pyspark.ml.recommendation import ALS, ALSModel\n",
    "from pyspark.mllib.recommendation import MatrixFactorizationModel\n",
    "from pyspark.sql import Row, SQLContext,SparkSession"
   ]
  },
  {
   "cell_type": "code",
   "execution_count": 2,
   "metadata": {},
   "outputs": [],
   "source": [
    "warnings.filterwarnings(\"ignore\")"
   ]
  },
  {
   "cell_type": "code",
   "execution_count": null,
   "metadata": {},
   "outputs": [],
   "source": [
    "# Creamos el spark SparkContext\n",
    "sc = SparkContext(appName=\"MLIB-RL\")\n",
    "sc.setLogLevel(\"WARN\")\n",
    "sqlcontext = SQLContext(sc)"
   ]
  },
  {
   "cell_type": "code",
   "execution_count": null,
   "metadata": {},
   "outputs": [],
   "source": [
    "# definimos la variable spark, en la que creamos una Sesión\n",
    "spark = SparkSession \\\n",
    "        .builder \\\n",
    "        .appName(\"MLIB-RL\") \\\n",
    "        .getOrCreate()"
   ]
  },
  {
   "cell_type": "code",
   "execution_count": null,
   "metadata": {},
   "outputs": [],
   "source": [
    "spark"
   ]
  },
  {
   "cell_type": "markdown",
   "metadata": {},
   "source": [
    "## Carga de datos\n",
    "\n",
    "Se realiza la carga de datos de la data de un día anterior a los datos"
   ]
  },
  {
   "cell_type": "code",
   "execution_count": 61,
   "metadata": {},
   "outputs": [],
   "source": [
    "df_parking = spark.read.parquet(\"hdfs://hadoop-namenode:9000/data/Parkings/TresCrucesShopping/year=2022/month=7/day=2/\")"
   ]
  },
  {
   "cell_type": "code",
   "execution_count": 64,
   "metadata": {},
   "outputs": [
    {
     "name": "stderr",
     "output_type": "stream",
     "text": [
      "                                                                                \r"
     ]
    },
    {
     "data": {
      "text/plain": [
       "4522310"
      ]
     },
     "execution_count": 64,
     "metadata": {},
     "output_type": "execute_result"
    }
   ],
   "source": [
    "df_parking.count()"
   ]
  },
  {
   "cell_type": "code",
   "execution_count": 65,
   "metadata": {},
   "outputs": [],
   "source": [
    "df_parking_cleaned = df_parking \\\n",
    "                        .drop(\"device_slots\", \"parking_address\", \"parking_description\", \"parking_weather_status_detailed\", \"parking_uuid\", \"parking_holiday_description\", \"level_name\", \"area_occupation\", \"device_timestamp\")"
   ]
  },
  {
   "cell_type": "code",
   "execution_count": 66,
   "metadata": {},
   "outputs": [
    {
     "name": "stdout",
     "output_type": "stream",
     "text": [
      "+------------------+----------+----------------+----------------+-----------------+-------------------+----------------+--------+-------+---------+----------------+----------------------+------------------+----------------------+--------------------+--------------+-------+-------------------+--------------------------+--------------------+-------+----------+----+\n",
      "|parking_name      |parking_id|device_id       |parking_latitude|parking_longitude|parking_temperature|parking_humidity|level_id|area_id|area_name|area_total_spots|parking_weather_status|parking_wind_speed|parking_holiday_status|parking_holiday_type|parking_closed|minutes|area_occupied_spots|area_occupation_percentage|area_available_spots|slot_id|slot_state|hour|\n",
      "+------------------+----------+----------------+----------------+-----------------+-------------------+----------------+--------+-------+---------+----------------+----------------------+------------------+----------------------+--------------------+--------------+-------+-------------------+--------------------------+--------------------+-------+----------+----+\n",
      "|TresCrucesShopping|1         |64ED8BB2354F293B|-34.8943081     |-56.1664375      |9.84               |100             |2       |2      |B        |10              |Rain                  |2.57              |false                 |L                   |false         |19     |7                  |70                        |3                   |1      |true      |12  |\n",
      "|TresCrucesShopping|1         |64ED8BB2354F293B|-34.8943081     |-56.1664375      |9.84               |100             |2       |2      |B        |10              |Rain                  |2.57              |false                 |L                   |false         |19     |7                  |70                        |3                   |2      |true      |12  |\n",
      "|TresCrucesShopping|1         |64ED8BB2354F293B|-34.8943081     |-56.1664375      |9.84               |100             |2       |2      |B        |10              |Rain                  |2.57              |false                 |L                   |false         |19     |7                  |70                        |3                   |3      |true      |12  |\n",
      "|TresCrucesShopping|1         |64ED8BB2354F293B|-34.8943081     |-56.1664375      |9.84               |100             |2       |2      |B        |10              |Rain                  |2.57              |false                 |L                   |false         |19     |7                  |70                        |3                   |4      |true      |12  |\n",
      "|TresCrucesShopping|1         |64ED8BB2354F293B|-34.8943081     |-56.1664375      |9.84               |100             |2       |2      |B        |10              |Rain                  |2.57              |false                 |L                   |false         |19     |7                  |70                        |3                   |5      |false     |12  |\n",
      "|TresCrucesShopping|1         |64ED8BB2354F293B|-34.8943081     |-56.1664375      |9.84               |100             |2       |2      |B        |10              |Rain                  |2.57              |false                 |L                   |false         |19     |7                  |70                        |3                   |6      |true      |12  |\n",
      "|TresCrucesShopping|1         |64ED8BB2354F293B|-34.8943081     |-56.1664375      |9.84               |100             |2       |2      |B        |10              |Rain                  |2.57              |false                 |L                   |false         |19     |7                  |70                        |3                   |7      |false     |12  |\n",
      "|TresCrucesShopping|1         |64ED8BB2354F293B|-34.8943081     |-56.1664375      |9.84               |100             |2       |2      |B        |10              |Rain                  |2.57              |false                 |L                   |false         |19     |7                  |70                        |3                   |8      |false     |12  |\n",
      "|TresCrucesShopping|1         |64ED8BB2354F293B|-34.8943081     |-56.1664375      |9.84               |100             |2       |2      |B        |10              |Rain                  |2.57              |false                 |L                   |false         |19     |7                  |70                        |3                   |9      |true      |12  |\n",
      "|TresCrucesShopping|1         |64ED8BB2354F293B|-34.8943081     |-56.1664375      |9.84               |100             |2       |2      |B        |10              |Rain                  |2.57              |false                 |L                   |false         |19     |7                  |70                        |3                   |10     |true      |12  |\n",
      "+------------------+----------+----------------+----------------+-----------------+-------------------+----------------+--------+-------+---------+----------------+----------------------+------------------+----------------------+--------------------+--------------+-------+-------------------+--------------------------+--------------------+-------+----------+----+\n",
      "only showing top 10 rows\n",
      "\n"
     ]
    }
   ],
   "source": [
    "df_parking_cleaned.show(10, truncate=False)"
   ]
  },
  {
   "cell_type": "code",
   "execution_count": 67,
   "metadata": {},
   "outputs": [
    {
     "name": "stderr",
     "output_type": "stream",
     "text": [
      "                                                                                \r"
     ]
    },
    {
     "data": {
      "text/plain": [
       "4522310"
      ]
     },
     "execution_count": 67,
     "metadata": {},
     "output_type": "execute_result"
    }
   ],
   "source": [
    "df_parking_cleaned.count()"
   ]
  },
  {
   "cell_type": "code",
   "execution_count": 68,
   "metadata": {},
   "outputs": [],
   "source": [
    "df_parking_cleaned_without_duplicated = df_parking_cleaned.dropDuplicates()"
   ]
  },
  {
   "cell_type": "code",
   "execution_count": 69,
   "metadata": {},
   "outputs": [
    {
     "name": "stderr",
     "output_type": "stream",
     "text": [
      "                                                                                \r"
     ]
    },
    {
     "data": {
      "text/plain": [
       "81816"
      ]
     },
     "execution_count": 69,
     "metadata": {},
     "output_type": "execute_result"
    }
   ],
   "source": [
    "df_parking_cleaned_without_duplicated.count()"
   ]
  },
  {
   "cell_type": "code",
   "execution_count": 70,
   "metadata": {},
   "outputs": [],
   "source": [
    "df_parking_cleaned_without_duplicated.createOrReplaceTempView(\"Parking_not_duplicated\")"
   ]
  },
  {
   "cell_type": "code",
   "execution_count": null,
   "metadata": {},
   "outputs": [],
   "source": [
    "spark.sql(\"\"\"\n",
    "SELECT\n",
    "    *\n",
    "FROM\n",
    "    Parking_not_duplicated\n",
    "    \"\"\").show()"
   ]
  },
  {
   "cell_type": "code",
   "execution_count": 9,
   "metadata": {},
   "outputs": [],
   "source": [
    "df_parking_TCS = df_parking_TCS.drop(\"device_slots\", \"device_\")"
   ]
  },
  {
   "cell_type": "code",
   "execution_count": 14,
   "metadata": {
    "scrolled": false
   },
   "outputs": [
    {
     "name": "stdout",
     "output_type": "stream",
     "text": [
      "+------------------+----------+--------------------+--------------------+-------------------+----------------+----------------+-----------------+-------------------+----------------+--------------------+--------+-------+---------+----------------+----------------------+-------------------------------+------------------+----------------------+---------------------------+--------------------+--------------+-------+-------------------+---------------+--------------------------+--------------------+----------+-------+----------+----+------+\n",
      "|      parking_name|parking_id|     parking_address| parking_description|   device_timestamp|       device_id|parking_latitude|parking_longitude|parking_temperature|parking_humidity|        parking_uuid|level_id|area_id|area_name|area_total_spots|parking_weather_status|parking_weather_status_detailed|parking_wind_speed|parking_holiday_status|parking_holiday_description|parking_holiday_type|parking_closed|minutes|area_occupied_spots|area_occupation|area_occupation_percentage|area_available_spots|level_name|slot_id|slot_state|hour|minute|\n",
      "+------------------+----------+--------------------+--------------------+-------------------+----------------+----------------+-----------------+-------------------+----------------+--------------------+--------+-------+---------+----------------+----------------------+-------------------------------+------------------+----------------------+---------------------------+--------------------+--------------+-------+-------------------+---------------+--------------------------+--------------------+----------+-------+----------+----+------+\n",
      "|TresCrucesShopping|         1|La Pasiva, 1825, ...|Parking ubicado e...|2022-07-02 12:19:54|64ED8BB2354F293B|     -34.8943081|      -56.1664375|               9.84|             100|76c41438-3a97-433...|       2|      2|        B|              10|                  Rain|                  moderate rain|              2.57|                 false|                       null|                   L|         false|     19|                  7|    Almost Full|                        70|                   3|    Piso 2|      1|      true|  12|    19|\n",
      "|TresCrucesShopping|         1|La Pasiva, 1825, ...|Parking ubicado e...|2022-07-02 12:19:54|64ED8BB2354F293B|     -34.8943081|      -56.1664375|               9.84|             100|76c41438-3a97-433...|       2|      2|        B|              10|                  Rain|                  moderate rain|              2.57|                 false|                       null|                   L|         false|     19|                  7|    Almost Full|                        70|                   3|    Piso 2|      2|      true|  12|    19|\n",
      "|TresCrucesShopping|         1|La Pasiva, 1825, ...|Parking ubicado e...|2022-07-02 12:19:54|64ED8BB2354F293B|     -34.8943081|      -56.1664375|               9.84|             100|76c41438-3a97-433...|       2|      2|        B|              10|                  Rain|                  moderate rain|              2.57|                 false|                       null|                   L|         false|     19|                  7|    Almost Full|                        70|                   3|    Piso 2|      3|      true|  12|    19|\n",
      "|TresCrucesShopping|         1|La Pasiva, 1825, ...|Parking ubicado e...|2022-07-02 12:19:54|64ED8BB2354F293B|     -34.8943081|      -56.1664375|               9.84|             100|76c41438-3a97-433...|       2|      2|        B|              10|                  Rain|                  moderate rain|              2.57|                 false|                       null|                   L|         false|     19|                  7|    Almost Full|                        70|                   3|    Piso 2|      4|      true|  12|    19|\n",
      "|TresCrucesShopping|         1|La Pasiva, 1825, ...|Parking ubicado e...|2022-07-02 12:19:54|64ED8BB2354F293B|     -34.8943081|      -56.1664375|               9.84|             100|76c41438-3a97-433...|       2|      2|        B|              10|                  Rain|                  moderate rain|              2.57|                 false|                       null|                   L|         false|     19|                  7|    Almost Full|                        70|                   3|    Piso 2|      5|     false|  12|    19|\n",
      "|TresCrucesShopping|         1|La Pasiva, 1825, ...|Parking ubicado e...|2022-07-02 12:19:54|64ED8BB2354F293B|     -34.8943081|      -56.1664375|               9.84|             100|76c41438-3a97-433...|       2|      2|        B|              10|                  Rain|                  moderate rain|              2.57|                 false|                       null|                   L|         false|     19|                  7|    Almost Full|                        70|                   3|    Piso 2|      6|      true|  12|    19|\n",
      "|TresCrucesShopping|         1|La Pasiva, 1825, ...|Parking ubicado e...|2022-07-02 12:19:54|64ED8BB2354F293B|     -34.8943081|      -56.1664375|               9.84|             100|76c41438-3a97-433...|       2|      2|        B|              10|                  Rain|                  moderate rain|              2.57|                 false|                       null|                   L|         false|     19|                  7|    Almost Full|                        70|                   3|    Piso 2|      7|     false|  12|    19|\n",
      "|TresCrucesShopping|         1|La Pasiva, 1825, ...|Parking ubicado e...|2022-07-02 12:19:54|64ED8BB2354F293B|     -34.8943081|      -56.1664375|               9.84|             100|76c41438-3a97-433...|       2|      2|        B|              10|                  Rain|                  moderate rain|              2.57|                 false|                       null|                   L|         false|     19|                  7|    Almost Full|                        70|                   3|    Piso 2|      8|     false|  12|    19|\n",
      "|TresCrucesShopping|         1|La Pasiva, 1825, ...|Parking ubicado e...|2022-07-02 12:19:54|64ED8BB2354F293B|     -34.8943081|      -56.1664375|               9.84|             100|76c41438-3a97-433...|       2|      2|        B|              10|                  Rain|                  moderate rain|              2.57|                 false|                       null|                   L|         false|     19|                  7|    Almost Full|                        70|                   3|    Piso 2|      9|      true|  12|    19|\n",
      "|TresCrucesShopping|         1|La Pasiva, 1825, ...|Parking ubicado e...|2022-07-02 12:19:54|64ED8BB2354F293B|     -34.8943081|      -56.1664375|               9.84|             100|76c41438-3a97-433...|       2|      2|        B|              10|                  Rain|                  moderate rain|              2.57|                 false|                       null|                   L|         false|     19|                  7|    Almost Full|                        70|                   3|    Piso 2|     10|      true|  12|    19|\n",
      "|TresCrucesShopping|         1|La Pasiva, 1825, ...|Parking ubicado e...|2022-07-02 12:19:54|4DE1C372D9293D6F|     -34.8943081|      -56.1664375|               9.84|             100|76c41438-3a97-433...|       1|      3|        C|              10|                  Rain|                  moderate rain|              2.57|                 false|                       null|                   L|         false|     19|                  4|   Almost Empty|                        40|                   6|    Piso 1|      1|      true|  12|    19|\n",
      "|TresCrucesShopping|         1|La Pasiva, 1825, ...|Parking ubicado e...|2022-07-02 12:19:54|4DE1C372D9293D6F|     -34.8943081|      -56.1664375|               9.84|             100|76c41438-3a97-433...|       1|      3|        C|              10|                  Rain|                  moderate rain|              2.57|                 false|                       null|                   L|         false|     19|                  4|   Almost Empty|                        40|                   6|    Piso 1|      2|     false|  12|    19|\n",
      "|TresCrucesShopping|         1|La Pasiva, 1825, ...|Parking ubicado e...|2022-07-02 12:19:54|4DE1C372D9293D6F|     -34.8943081|      -56.1664375|               9.84|             100|76c41438-3a97-433...|       1|      3|        C|              10|                  Rain|                  moderate rain|              2.57|                 false|                       null|                   L|         false|     19|                  4|   Almost Empty|                        40|                   6|    Piso 1|      3|     false|  12|    19|\n",
      "|TresCrucesShopping|         1|La Pasiva, 1825, ...|Parking ubicado e...|2022-07-02 12:19:54|4DE1C372D9293D6F|     -34.8943081|      -56.1664375|               9.84|             100|76c41438-3a97-433...|       1|      3|        C|              10|                  Rain|                  moderate rain|              2.57|                 false|                       null|                   L|         false|     19|                  4|   Almost Empty|                        40|                   6|    Piso 1|      4|      true|  12|    19|\n",
      "|TresCrucesShopping|         1|La Pasiva, 1825, ...|Parking ubicado e...|2022-07-02 12:19:54|4DE1C372D9293D6F|     -34.8943081|      -56.1664375|               9.84|             100|76c41438-3a97-433...|       1|      3|        C|              10|                  Rain|                  moderate rain|              2.57|                 false|                       null|                   L|         false|     19|                  4|   Almost Empty|                        40|                   6|    Piso 1|      5|     false|  12|    19|\n",
      "|TresCrucesShopping|         1|La Pasiva, 1825, ...|Parking ubicado e...|2022-07-02 12:19:54|4DE1C372D9293D6F|     -34.8943081|      -56.1664375|               9.84|             100|76c41438-3a97-433...|       1|      3|        C|              10|                  Rain|                  moderate rain|              2.57|                 false|                       null|                   L|         false|     19|                  4|   Almost Empty|                        40|                   6|    Piso 1|      6|      true|  12|    19|\n",
      "|TresCrucesShopping|         1|La Pasiva, 1825, ...|Parking ubicado e...|2022-07-02 12:19:54|4DE1C372D9293D6F|     -34.8943081|      -56.1664375|               9.84|             100|76c41438-3a97-433...|       1|      3|        C|              10|                  Rain|                  moderate rain|              2.57|                 false|                       null|                   L|         false|     19|                  4|   Almost Empty|                        40|                   6|    Piso 1|      7|      true|  12|    19|\n",
      "|TresCrucesShopping|         1|La Pasiva, 1825, ...|Parking ubicado e...|2022-07-02 12:19:54|4DE1C372D9293D6F|     -34.8943081|      -56.1664375|               9.84|             100|76c41438-3a97-433...|       1|      3|        C|              10|                  Rain|                  moderate rain|              2.57|                 false|                       null|                   L|         false|     19|                  4|   Almost Empty|                        40|                   6|    Piso 1|      8|     false|  12|    19|\n",
      "|TresCrucesShopping|         1|La Pasiva, 1825, ...|Parking ubicado e...|2022-07-02 12:19:54|4DE1C372D9293D6F|     -34.8943081|      -56.1664375|               9.84|             100|76c41438-3a97-433...|       1|      3|        C|              10|                  Rain|                  moderate rain|              2.57|                 false|                       null|                   L|         false|     19|                  4|   Almost Empty|                        40|                   6|    Piso 1|      9|     false|  12|    19|\n",
      "|TresCrucesShopping|         1|La Pasiva, 1825, ...|Parking ubicado e...|2022-07-02 12:19:54|4DE1C372D9293D6F|     -34.8943081|      -56.1664375|               9.84|             100|76c41438-3a97-433...|       1|      3|        C|              10|                  Rain|                  moderate rain|              2.57|                 false|                       null|                   L|         false|     19|                  4|   Almost Empty|                        40|                   6|    Piso 1|     10|     false|  12|    19|\n",
      "+------------------+----------+--------------------+--------------------+-------------------+----------------+----------------+-----------------+-------------------+----------------+--------------------+--------+-------+---------+----------------+----------------------+-------------------------------+------------------+----------------------+---------------------------+--------------------+--------------+-------+-------------------+---------------+--------------------------+--------------------+----------+-------+----------+----+------+\n",
      "only showing top 20 rows\n",
      "\n"
     ]
    }
   ],
   "source": [
    "df_parking_TCS.withColumn(\"minute\", minute(col(\"device_timestamp\"))).show()"
   ]
  },
  {
   "cell_type": "code",
   "execution_count": 10,
   "metadata": {},
   "outputs": [
    {
     "name": "stdout",
     "output_type": "stream",
     "text": [
      "+------------------+----------+--------------------+--------------------+-------------------+----------------+----------------+-----------------+-------------------+----------------+--------------------+--------+-------+---------+----------------+----------------------+-------------------------------+------------------+----------------------+---------------------------+--------------------+--------------+-------+-------------------+---------------+--------------------------+--------------------+----------+-------+----------+----+\n",
      "|      parking_name|parking_id|     parking_address| parking_description|   device_timestamp|       device_id|parking_latitude|parking_longitude|parking_temperature|parking_humidity|        parking_uuid|level_id|area_id|area_name|area_total_spots|parking_weather_status|parking_weather_status_detailed|parking_wind_speed|parking_holiday_status|parking_holiday_description|parking_holiday_type|parking_closed|minutes|area_occupied_spots|area_occupation|area_occupation_percentage|area_available_spots|level_name|slot_id|slot_state|hour|\n",
      "+------------------+----------+--------------------+--------------------+-------------------+----------------+----------------+-----------------+-------------------+----------------+--------------------+--------+-------+---------+----------------+----------------------+-------------------------------+------------------+----------------------+---------------------------+--------------------+--------------+-------+-------------------+---------------+--------------------------+--------------------+----------+-------+----------+----+\n",
      "|TresCrucesShopping|         1|La Pasiva, 1825, ...|Parking ubicado e...|2022-07-02 12:19:54|64ED8BB2354F293B|     -34.8943081|      -56.1664375|               9.84|             100|76c41438-3a97-433...|       2|      2|        B|              10|                  Rain|                  moderate rain|              2.57|                 false|                       null|                   L|         false|     19|                  7|    Almost Full|                        70|                   3|    Piso 2|      1|      true|  12|\n",
      "|TresCrucesShopping|         1|La Pasiva, 1825, ...|Parking ubicado e...|2022-07-02 12:19:54|64ED8BB2354F293B|     -34.8943081|      -56.1664375|               9.84|             100|76c41438-3a97-433...|       2|      2|        B|              10|                  Rain|                  moderate rain|              2.57|                 false|                       null|                   L|         false|     19|                  7|    Almost Full|                        70|                   3|    Piso 2|      2|      true|  12|\n",
      "|TresCrucesShopping|         1|La Pasiva, 1825, ...|Parking ubicado e...|2022-07-02 12:19:54|64ED8BB2354F293B|     -34.8943081|      -56.1664375|               9.84|             100|76c41438-3a97-433...|       2|      2|        B|              10|                  Rain|                  moderate rain|              2.57|                 false|                       null|                   L|         false|     19|                  7|    Almost Full|                        70|                   3|    Piso 2|      3|      true|  12|\n",
      "|TresCrucesShopping|         1|La Pasiva, 1825, ...|Parking ubicado e...|2022-07-02 12:19:54|64ED8BB2354F293B|     -34.8943081|      -56.1664375|               9.84|             100|76c41438-3a97-433...|       2|      2|        B|              10|                  Rain|                  moderate rain|              2.57|                 false|                       null|                   L|         false|     19|                  7|    Almost Full|                        70|                   3|    Piso 2|      4|      true|  12|\n",
      "|TresCrucesShopping|         1|La Pasiva, 1825, ...|Parking ubicado e...|2022-07-02 12:19:54|64ED8BB2354F293B|     -34.8943081|      -56.1664375|               9.84|             100|76c41438-3a97-433...|       2|      2|        B|              10|                  Rain|                  moderate rain|              2.57|                 false|                       null|                   L|         false|     19|                  7|    Almost Full|                        70|                   3|    Piso 2|      5|     false|  12|\n",
      "|TresCrucesShopping|         1|La Pasiva, 1825, ...|Parking ubicado e...|2022-07-02 12:19:54|64ED8BB2354F293B|     -34.8943081|      -56.1664375|               9.84|             100|76c41438-3a97-433...|       2|      2|        B|              10|                  Rain|                  moderate rain|              2.57|                 false|                       null|                   L|         false|     19|                  7|    Almost Full|                        70|                   3|    Piso 2|      6|      true|  12|\n",
      "|TresCrucesShopping|         1|La Pasiva, 1825, ...|Parking ubicado e...|2022-07-02 12:19:54|64ED8BB2354F293B|     -34.8943081|      -56.1664375|               9.84|             100|76c41438-3a97-433...|       2|      2|        B|              10|                  Rain|                  moderate rain|              2.57|                 false|                       null|                   L|         false|     19|                  7|    Almost Full|                        70|                   3|    Piso 2|      7|     false|  12|\n",
      "|TresCrucesShopping|         1|La Pasiva, 1825, ...|Parking ubicado e...|2022-07-02 12:19:54|64ED8BB2354F293B|     -34.8943081|      -56.1664375|               9.84|             100|76c41438-3a97-433...|       2|      2|        B|              10|                  Rain|                  moderate rain|              2.57|                 false|                       null|                   L|         false|     19|                  7|    Almost Full|                        70|                   3|    Piso 2|      8|     false|  12|\n",
      "|TresCrucesShopping|         1|La Pasiva, 1825, ...|Parking ubicado e...|2022-07-02 12:19:54|64ED8BB2354F293B|     -34.8943081|      -56.1664375|               9.84|             100|76c41438-3a97-433...|       2|      2|        B|              10|                  Rain|                  moderate rain|              2.57|                 false|                       null|                   L|         false|     19|                  7|    Almost Full|                        70|                   3|    Piso 2|      9|      true|  12|\n",
      "|TresCrucesShopping|         1|La Pasiva, 1825, ...|Parking ubicado e...|2022-07-02 12:19:54|64ED8BB2354F293B|     -34.8943081|      -56.1664375|               9.84|             100|76c41438-3a97-433...|       2|      2|        B|              10|                  Rain|                  moderate rain|              2.57|                 false|                       null|                   L|         false|     19|                  7|    Almost Full|                        70|                   3|    Piso 2|     10|      true|  12|\n",
      "|TresCrucesShopping|         1|La Pasiva, 1825, ...|Parking ubicado e...|2022-07-02 12:19:54|4DE1C372D9293D6F|     -34.8943081|      -56.1664375|               9.84|             100|76c41438-3a97-433...|       1|      3|        C|              10|                  Rain|                  moderate rain|              2.57|                 false|                       null|                   L|         false|     19|                  4|   Almost Empty|                        40|                   6|    Piso 1|      1|      true|  12|\n",
      "|TresCrucesShopping|         1|La Pasiva, 1825, ...|Parking ubicado e...|2022-07-02 12:19:54|4DE1C372D9293D6F|     -34.8943081|      -56.1664375|               9.84|             100|76c41438-3a97-433...|       1|      3|        C|              10|                  Rain|                  moderate rain|              2.57|                 false|                       null|                   L|         false|     19|                  4|   Almost Empty|                        40|                   6|    Piso 1|      2|     false|  12|\n",
      "|TresCrucesShopping|         1|La Pasiva, 1825, ...|Parking ubicado e...|2022-07-02 12:19:54|4DE1C372D9293D6F|     -34.8943081|      -56.1664375|               9.84|             100|76c41438-3a97-433...|       1|      3|        C|              10|                  Rain|                  moderate rain|              2.57|                 false|                       null|                   L|         false|     19|                  4|   Almost Empty|                        40|                   6|    Piso 1|      3|     false|  12|\n",
      "|TresCrucesShopping|         1|La Pasiva, 1825, ...|Parking ubicado e...|2022-07-02 12:19:54|4DE1C372D9293D6F|     -34.8943081|      -56.1664375|               9.84|             100|76c41438-3a97-433...|       1|      3|        C|              10|                  Rain|                  moderate rain|              2.57|                 false|                       null|                   L|         false|     19|                  4|   Almost Empty|                        40|                   6|    Piso 1|      4|      true|  12|\n",
      "|TresCrucesShopping|         1|La Pasiva, 1825, ...|Parking ubicado e...|2022-07-02 12:19:54|4DE1C372D9293D6F|     -34.8943081|      -56.1664375|               9.84|             100|76c41438-3a97-433...|       1|      3|        C|              10|                  Rain|                  moderate rain|              2.57|                 false|                       null|                   L|         false|     19|                  4|   Almost Empty|                        40|                   6|    Piso 1|      5|     false|  12|\n",
      "|TresCrucesShopping|         1|La Pasiva, 1825, ...|Parking ubicado e...|2022-07-02 12:19:54|4DE1C372D9293D6F|     -34.8943081|      -56.1664375|               9.84|             100|76c41438-3a97-433...|       1|      3|        C|              10|                  Rain|                  moderate rain|              2.57|                 false|                       null|                   L|         false|     19|                  4|   Almost Empty|                        40|                   6|    Piso 1|      6|      true|  12|\n",
      "|TresCrucesShopping|         1|La Pasiva, 1825, ...|Parking ubicado e...|2022-07-02 12:19:54|4DE1C372D9293D6F|     -34.8943081|      -56.1664375|               9.84|             100|76c41438-3a97-433...|       1|      3|        C|              10|                  Rain|                  moderate rain|              2.57|                 false|                       null|                   L|         false|     19|                  4|   Almost Empty|                        40|                   6|    Piso 1|      7|      true|  12|\n",
      "|TresCrucesShopping|         1|La Pasiva, 1825, ...|Parking ubicado e...|2022-07-02 12:19:54|4DE1C372D9293D6F|     -34.8943081|      -56.1664375|               9.84|             100|76c41438-3a97-433...|       1|      3|        C|              10|                  Rain|                  moderate rain|              2.57|                 false|                       null|                   L|         false|     19|                  4|   Almost Empty|                        40|                   6|    Piso 1|      8|     false|  12|\n",
      "|TresCrucesShopping|         1|La Pasiva, 1825, ...|Parking ubicado e...|2022-07-02 12:19:54|4DE1C372D9293D6F|     -34.8943081|      -56.1664375|               9.84|             100|76c41438-3a97-433...|       1|      3|        C|              10|                  Rain|                  moderate rain|              2.57|                 false|                       null|                   L|         false|     19|                  4|   Almost Empty|                        40|                   6|    Piso 1|      9|     false|  12|\n",
      "|TresCrucesShopping|         1|La Pasiva, 1825, ...|Parking ubicado e...|2022-07-02 12:19:54|4DE1C372D9293D6F|     -34.8943081|      -56.1664375|               9.84|             100|76c41438-3a97-433...|       1|      3|        C|              10|                  Rain|                  moderate rain|              2.57|                 false|                       null|                   L|         false|     19|                  4|   Almost Empty|                        40|                   6|    Piso 1|     10|     false|  12|\n",
      "+------------------+----------+--------------------+--------------------+-------------------+----------------+----------------+-----------------+-------------------+----------------+--------------------+--------+-------+---------+----------------+----------------------+-------------------------------+------------------+----------------------+---------------------------+--------------------+--------------+-------+-------------------+---------------+--------------------------+--------------------+----------+-------+----------+----+\n",
      "only showing top 20 rows\n",
      "\n"
     ]
    }
   ],
   "source": [
    "df_parking_TCS.show()"
   ]
  },
  {
   "cell_type": "code",
   "execution_count": 40,
   "metadata": {},
   "outputs": [
    {
     "name": "stderr",
     "output_type": "stream",
     "text": [
      "[Stage 23:==============>                                           (1 + 3) / 4]\r"
     ]
    },
    {
     "name": "stdout",
     "output_type": "stream",
     "text": [
      "+----------------+--------+-------+---------+\n",
      "|       device_id|level_id|area_id|area_name|\n",
      "+----------------+--------+-------+---------+\n",
      "|327671F2009776BE|       1|      1|        A|\n",
      "|DD5F6C5BDA3D7A95|       1|      2|        B|\n",
      "|4DE1C372D9293D6F|       1|      3|        C|\n",
      "|9AA1AD57EC8B8856|       2|      1|        A|\n",
      "|64ED8BB2354F293B|       2|      2|        B|\n",
      "|51FE29B1E7DACCB6|       2|      3|        C|\n",
      "|5AF3A94B18BC85EC|       2|      4|        D|\n",
      "|CE6EFF5988ECBF74|       3|      1|        A|\n",
      "|FCB85470B7C0E0CC|       3|      2|        B|\n",
      "+----------------+--------+-------+---------+\n",
      "\n"
     ]
    },
    {
     "name": "stderr",
     "output_type": "stream",
     "text": [
      "\r",
      "[Stage 23:===========================================>              (3 + 1) / 4]\r",
      "\r",
      "                                                                                \r"
     ]
    }
   ],
   "source": [
    "df_parking_TCS.select(\"device_id\", \"level_id\", \"area_id\", \"area_name\").dropDuplicates([\"device_id\", \"level_id\", \"area_id\", \"area_name\"]).orderBy(\"level_id\", \"area_id\").show(10)"
   ]
  },
  {
   "cell_type": "code",
   "execution_count": 30,
   "metadata": {},
   "outputs": [],
   "source": [
    "tipos = df_parking_TCS.dtypes"
   ]
  },
  {
   "cell_type": "code",
   "execution_count": null,
   "metadata": {},
   "outputs": [],
   "source": [
    "{\n",
    "  \"columns\": [\n",
    "    {\"name\": \"x\", \"type\": \"y\"},\n",
    "    {\"name\": \"x2\", \"type\": \"y2\"},\n",
    "    {\"name\": \"x3\", \"type\": \"y3\"},\n",
    "  ]\n",
    "}"
   ]
  },
  {
   "cell_type": "code",
   "execution_count": 34,
   "metadata": {},
   "outputs": [],
   "source": [
    "dict_datatypes = {\"columns\": []}"
   ]
  },
  {
   "cell_type": "code",
   "execution_count": 35,
   "metadata": {},
   "outputs": [
    {
     "name": "stdout",
     "output_type": "stream",
     "text": [
      "('parking_name', 'string')\n",
      "('parking_id', 'string')\n",
      "('parking_address', 'string')\n",
      "('parking_description', 'string')\n",
      "('device_timestamp', 'timestamp')\n",
      "('device_id', 'string')\n",
      "('parking_latitude', 'double')\n",
      "('parking_longitude', 'double')\n",
      "('parking_temperature', 'string')\n",
      "('parking_humidity', 'string')\n",
      "('parking_uuid', 'string')\n",
      "('level_id', 'int')\n",
      "('area_id', 'int')\n",
      "('area_name', 'string')\n",
      "('area_total_spots', 'int')\n",
      "('device_slots', 'array<boolean>')\n",
      "('parking_weather_status', 'string')\n",
      "('parking_weather_status_detailed', 'string')\n",
      "('parking_wind_speed', 'double')\n",
      "('parking_holiday_status', 'boolean')\n",
      "('parking_holiday_description', 'string')\n",
      "('parking_holiday_type', 'string')\n",
      "('parking_closed', 'boolean')\n",
      "('minutes', 'int')\n",
      "('area_occupied_spots', 'int')\n",
      "('area_occupation', 'string')\n",
      "('area_occupation_percentage', 'int')\n",
      "('area_available_spots', 'int')\n",
      "('level_name', 'string')\n",
      "('slot_id', 'int')\n",
      "('slot_state', 'boolean')\n",
      "('hour', 'int')\n"
     ]
    }
   ],
   "source": [
    "for t in tipos:\n",
    "    dict_aux = {}\n",
    "    dict_aux.update(name=t[0], column_type=t[1])\n",
    "    dict_datatypes['columns'].append(dict_aux)"
   ]
  },
  {
   "cell_type": "code",
   "execution_count": 36,
   "metadata": {},
   "outputs": [
    {
     "data": {
      "text/plain": [
       "{'columns': [{'name': 'parking_name', 'column_type': 'string'},\n",
       "  {'name': 'parking_id', 'column_type': 'string'},\n",
       "  {'name': 'parking_address', 'column_type': 'string'},\n",
       "  {'name': 'parking_description', 'column_type': 'string'},\n",
       "  {'name': 'device_timestamp', 'column_type': 'timestamp'},\n",
       "  {'name': 'device_id', 'column_type': 'string'},\n",
       "  {'name': 'parking_latitude', 'column_type': 'double'},\n",
       "  {'name': 'parking_longitude', 'column_type': 'double'},\n",
       "  {'name': 'parking_temperature', 'column_type': 'string'},\n",
       "  {'name': 'parking_humidity', 'column_type': 'string'},\n",
       "  {'name': 'parking_uuid', 'column_type': 'string'},\n",
       "  {'name': 'level_id', 'column_type': 'int'},\n",
       "  {'name': 'area_id', 'column_type': 'int'},\n",
       "  {'name': 'area_name', 'column_type': 'string'},\n",
       "  {'name': 'area_total_spots', 'column_type': 'int'},\n",
       "  {'name': 'device_slots', 'column_type': 'array<boolean>'},\n",
       "  {'name': 'parking_weather_status', 'column_type': 'string'},\n",
       "  {'name': 'parking_weather_status_detailed', 'column_type': 'string'},\n",
       "  {'name': 'parking_wind_speed', 'column_type': 'double'},\n",
       "  {'name': 'parking_holiday_status', 'column_type': 'boolean'},\n",
       "  {'name': 'parking_holiday_description', 'column_type': 'string'},\n",
       "  {'name': 'parking_holiday_type', 'column_type': 'string'},\n",
       "  {'name': 'parking_closed', 'column_type': 'boolean'},\n",
       "  {'name': 'minutes', 'column_type': 'int'},\n",
       "  {'name': 'area_occupied_spots', 'column_type': 'int'},\n",
       "  {'name': 'area_occupation', 'column_type': 'string'},\n",
       "  {'name': 'area_occupation_percentage', 'column_type': 'int'},\n",
       "  {'name': 'area_available_spots', 'column_type': 'int'},\n",
       "  {'name': 'level_name', 'column_type': 'string'},\n",
       "  {'name': 'slot_id', 'column_type': 'int'},\n",
       "  {'name': 'slot_state', 'column_type': 'boolean'},\n",
       "  {'name': 'hour', 'column_type': 'int'}]}"
      ]
     },
     "execution_count": 36,
     "metadata": {},
     "output_type": "execute_result"
    }
   ],
   "source": [
    "dict_datatypes"
   ]
  },
  {
   "cell_type": "code",
   "execution_count": 19,
   "metadata": {},
   "outputs": [
    {
     "name": "stderr",
     "output_type": "stream",
     "text": [
      "                                                                                \r"
     ]
    }
   ],
   "source": [
    "df_parking_TCS.drop(\"device_slots\", \"parking_address\", \"parking_description\").coalesce(1).write.option(\"header\",True).csv(\"/tmp/spark_output/PuntaCarretas_2906\")"
   ]
  },
  {
   "cell_type": "code",
   "execution_count": 8,
   "metadata": {},
   "outputs": [
    {
     "name": "stdout",
     "output_type": "stream",
     "text": [
      "root\n",
      " |-- parking_name: string (nullable = true)\n",
      " |-- parking_id: string (nullable = true)\n",
      " |-- parking_address: string (nullable = true)\n",
      " |-- parking_description: string (nullable = true)\n",
      " |-- device_id: string (nullable = true)\n",
      " |-- parking_latitude: double (nullable = true)\n",
      " |-- parking_longitude: double (nullable = true)\n",
      " |-- parking_temperature: string (nullable = true)\n",
      " |-- parking_humidity: string (nullable = true)\n",
      " |-- parking_uuid: string (nullable = true)\n",
      " |-- level_id: integer (nullable = true)\n",
      " |-- area_id: integer (nullable = true)\n",
      " |-- area_name: string (nullable = true)\n",
      " |-- area_total_spots: integer (nullable = true)\n",
      " |-- device_slots: array (nullable = true)\n",
      " |    |-- element: boolean (containsNull = true)\n",
      " |-- parking_closed: boolean (nullable = true)\n",
      " |-- minutes: integer (nullable = true)\n",
      " |-- area_description: string (nullable = true)\n",
      " |-- area_occupied_spots: integer (nullable = true)\n",
      " |-- area_occupation: string (nullable = true)\n",
      " |-- area_available_spots: integer (nullable = true)\n",
      " |-- level_name: string (nullable = true)\n",
      " |-- slot_id: integer (nullable = true)\n",
      " |-- slot_state: boolean (nullable = true)\n",
      " |-- hour: integer (nullable = true)\n",
      "\n"
     ]
    }
   ],
   "source": [
    "df_parking_TCS.printSchema()"
   ]
  },
  {
   "cell_type": "code",
   "execution_count": 9,
   "metadata": {},
   "outputs": [
    {
     "name": "stdout",
     "output_type": "stream",
     "text": [
      "+------------------+----------+--------------------+--------------------+----------------+----------------+-----------------+-------------------+----------------+--------------------+--------+-------+---------+----------------+--------------------+--------------+-------+-----------------+-------------------+---------------+--------------------+----------+-------+----------+----+\n",
      "|      parking_name|parking_id|     parking_address| parking_description|       device_id|parking_latitude|parking_longitude|parking_temperature|parking_humidity|        parking_uuid|level_id|area_id|area_name|area_total_spots|        device_slots|parking_closed|minutes| area_description|area_occupied_spots|area_occupation|area_available_spots|level_name|slot_id|slot_state|hour|\n",
      "+------------------+----------+--------------------+--------------------+----------------+----------------+-----------------+-------------------+----------------+--------------------+--------+-------+---------+----------------+--------------------+--------------+-------+-----------------+-------------------+---------------+--------------------+----------+-------+----------+----+\n",
      "|TresCrucesShopping|         1|La Pasiva, 1825, ...|Parking ubicado e...|0701C5EED1D00C8E|     -34.8943081|      -56.1664375|                7.9|              68|76c41438-3a97-433...|       3|      2|        B|              10|[false, false, fa...|         false|     30|short description|                  6|    Almost Full|                   4|    Piso 3|      1|     false|   8|\n",
      "|TresCrucesShopping|         1|La Pasiva, 1825, ...|Parking ubicado e...|0701C5EED1D00C8E|     -34.8943081|      -56.1664375|                7.9|              68|76c41438-3a97-433...|       3|      2|        B|              10|[false, false, fa...|         false|     30|short description|                  6|    Almost Full|                   4|    Piso 3|      2|     false|   8|\n",
      "|TresCrucesShopping|         1|La Pasiva, 1825, ...|Parking ubicado e...|0701C5EED1D00C8E|     -34.8943081|      -56.1664375|                7.9|              68|76c41438-3a97-433...|       3|      2|        B|              10|[false, false, fa...|         false|     30|short description|                  6|    Almost Full|                   4|    Piso 3|      3|     false|   8|\n",
      "|TresCrucesShopping|         1|La Pasiva, 1825, ...|Parking ubicado e...|0701C5EED1D00C8E|     -34.8943081|      -56.1664375|                7.9|              68|76c41438-3a97-433...|       3|      2|        B|              10|[false, false, fa...|         false|     30|short description|                  6|    Almost Full|                   4|    Piso 3|      4|      true|   8|\n",
      "|TresCrucesShopping|         1|La Pasiva, 1825, ...|Parking ubicado e...|0701C5EED1D00C8E|     -34.8943081|      -56.1664375|                7.9|              68|76c41438-3a97-433...|       3|      2|        B|              10|[false, false, fa...|         false|     30|short description|                  6|    Almost Full|                   4|    Piso 3|      5|      true|   8|\n",
      "|TresCrucesShopping|         1|La Pasiva, 1825, ...|Parking ubicado e...|0701C5EED1D00C8E|     -34.8943081|      -56.1664375|                7.9|              68|76c41438-3a97-433...|       3|      2|        B|              10|[false, false, fa...|         false|     30|short description|                  6|    Almost Full|                   4|    Piso 3|      6|      true|   8|\n",
      "|TresCrucesShopping|         1|La Pasiva, 1825, ...|Parking ubicado e...|0701C5EED1D00C8E|     -34.8943081|      -56.1664375|                7.9|              68|76c41438-3a97-433...|       3|      2|        B|              10|[false, false, fa...|         false|     30|short description|                  6|    Almost Full|                   4|    Piso 3|      7|     false|   8|\n",
      "|TresCrucesShopping|         1|La Pasiva, 1825, ...|Parking ubicado e...|0701C5EED1D00C8E|     -34.8943081|      -56.1664375|                7.9|              68|76c41438-3a97-433...|       3|      2|        B|              10|[false, false, fa...|         false|     30|short description|                  6|    Almost Full|                   4|    Piso 3|      8|      true|   8|\n",
      "|TresCrucesShopping|         1|La Pasiva, 1825, ...|Parking ubicado e...|0701C5EED1D00C8E|     -34.8943081|      -56.1664375|                7.9|              68|76c41438-3a97-433...|       3|      2|        B|              10|[false, false, fa...|         false|     30|short description|                  6|    Almost Full|                   4|    Piso 3|      9|      true|   8|\n",
      "|TresCrucesShopping|         1|La Pasiva, 1825, ...|Parking ubicado e...|0701C5EED1D00C8E|     -34.8943081|      -56.1664375|                7.9|              68|76c41438-3a97-433...|       3|      2|        B|              10|[false, false, fa...|         false|     30|short description|                  6|    Almost Full|                   4|    Piso 3|     10|      true|   8|\n",
      "+------------------+----------+--------------------+--------------------+----------------+----------------+-----------------+-------------------+----------------+--------------------+--------+-------+---------+----------------+--------------------+--------------+-------+-----------------+-------------------+---------------+--------------------+----------+-------+----------+----+\n",
      "only showing top 10 rows\n",
      "\n"
     ]
    },
    {
     "name": "stderr",
     "output_type": "stream",
     "text": [
      "22/06/20 10:45:10 WARN NettyRpcEnv: Ignored message: HeartbeatResponse(false)   \n",
      "22/06/20 10:45:10 WARN HeartbeatReceiver: Removing executor driver with no recent heartbeats: 425280 ms exceeds timeout 120000 ms\n"
     ]
    }
   ],
   "source": [
    "df_parking_TCS.show(10)"
   ]
  },
  {
   "cell_type": "code",
   "execution_count": 13,
   "metadata": {},
   "outputs": [
    {
     "ename": "AttributeError",
     "evalue": "'list' object has no attribute 'show'",
     "output_type": "error",
     "traceback": [
      "\u001b[0;31m---------------------------------------------------------------------------\u001b[0m",
      "\u001b[0;31mAttributeError\u001b[0m                            Traceback (most recent call last)",
      "Input \u001b[0;32mIn [13]\u001b[0m, in \u001b[0;36m<cell line: 1>\u001b[0;34m()\u001b[0m\n\u001b[0;32m----> 1\u001b[0m \u001b[43mdf2\u001b[49m\u001b[38;5;241;43m.\u001b[39;49m\u001b[43mshow\u001b[49m(\u001b[38;5;241m20\u001b[39m,\u001b[38;5;28;01mFalse\u001b[39;00m)\n",
      "\u001b[0;31mAttributeError\u001b[0m: 'list' object has no attribute 'show'"
     ]
    }
   ],
   "source": [
    "df2.show(20,False)"
   ]
  },
  {
   "cell_type": "code",
   "execution_count": null,
   "metadata": {},
   "outputs": [],
   "source": []
  },
  {
   "cell_type": "code",
   "execution_count": 7,
   "metadata": {},
   "outputs": [
    {
     "name": "stdout",
     "output_type": "stream",
     "text": [
      "root\n",
      " |-- Movie_ID: string (nullable = true)\n",
      " |-- Titulo: string (nullable = true)\n",
      " |-- Genero: string (nullable = true)\n",
      "\n",
      "+--------+----------------------------------+----------------------------+\n",
      "|Movie_ID|Titulo                            |Genero                      |\n",
      "+--------+----------------------------------+----------------------------+\n",
      "|1       |Toy Story (1995)                  |Animation|Children's|Comedy |\n",
      "|2       |Jumanji (1995)                    |Adventure|Children's|Fantasy|\n",
      "|3       |Grumpier Old Men (1995)           |Comedy|Romance              |\n",
      "|4       |Waiting to Exhale (1995)          |Comedy|Drama                |\n",
      "|5       |Father of the Bride Part II (1995)|Comedy                      |\n",
      "|6       |Heat (1995)                       |Action|Crime|Thriller       |\n",
      "|7       |Sabrina (1995)                    |Comedy|Romance              |\n",
      "|8       |Tom and Huck (1995)               |Adventure|Children's        |\n",
      "|9       |Sudden Death (1995)               |Action                      |\n",
      "|10      |GoldenEye (1995)                  |Action|Adventure|Thriller   |\n",
      "+--------+----------------------------------+----------------------------+\n",
      "only showing top 10 rows\n",
      "\n"
     ]
    }
   ],
   "source": [
    "#comprobamos que los datos sigan ok y hayan quedado bien los títulos de las columnas.\n",
    "df_movies.printSchema()\n",
    "df_movies.show(10,False)"
   ]
  },
  {
   "cell_type": "code",
   "execution_count": 8,
   "metadata": {},
   "outputs": [
    {
     "data": {
      "text/plain": [
       "3883"
      ]
     },
     "execution_count": 8,
     "metadata": {},
     "output_type": "execute_result"
    }
   ],
   "source": [
    "df_movies.select(\"Movie_ID\").distinct().count() #tenemos 3883 películas distintas"
   ]
  },
  {
   "cell_type": "code",
   "execution_count": 9,
   "metadata": {},
   "outputs": [],
   "source": [
    "#leemos el dataset de \"users\"\n",
    "df_users = sc.textFile(directory + 'users.dat') \\\n",
    "            .map(lambda line: line.split(\"::\")) \\\n",
    "            .filter(lambda line: len(line)>1) \\\n",
    "            .toDF(['User_ID','Sexo','Edad','Ocupacion','Codigo_postal'])"
   ]
  },
  {
   "cell_type": "code",
   "execution_count": 10,
   "metadata": {
    "scrolled": true
   },
   "outputs": [
    {
     "name": "stdout",
     "output_type": "stream",
     "text": [
      "root\n",
      " |-- User_ID: string (nullable = true)\n",
      " |-- Sexo: string (nullable = true)\n",
      " |-- Edad: string (nullable = true)\n",
      " |-- Ocupacion: string (nullable = true)\n",
      " |-- Codigo_postal: string (nullable = true)\n",
      "\n"
     ]
    }
   ],
   "source": [
    "df_users.printSchema()"
   ]
  },
  {
   "cell_type": "code",
   "execution_count": 11,
   "metadata": {},
   "outputs": [
    {
     "name": "stdout",
     "output_type": "stream",
     "text": [
      "+-------+----+----+---------+-------------+\n",
      "|User_ID|Sexo|Edad|Ocupacion|Codigo_postal|\n",
      "+-------+----+----+---------+-------------+\n",
      "|      1|   F|   1|       10|        48067|\n",
      "|      2|   M|  56|       16|        70072|\n",
      "|      3|   M|  25|       15|        55117|\n",
      "|      4|   M|  45|        7|        02460|\n",
      "|      5|   M|  25|       20|        55455|\n",
      "|      6|   F|  50|        9|        55117|\n",
      "|      7|   M|  35|        1|        06810|\n",
      "|      8|   M|  25|       12|        11413|\n",
      "|      9|   M|  25|       17|        61614|\n",
      "|     10|   F|  35|        1|        95370|\n",
      "+-------+----+----+---------+-------------+\n",
      "only showing top 10 rows\n",
      "\n"
     ]
    }
   ],
   "source": [
    "df_users.show(10)"
   ]
  },
  {
   "cell_type": "code",
   "execution_count": 12,
   "metadata": {},
   "outputs": [
    {
     "data": {
      "text/plain": [
       "6040"
      ]
     },
     "execution_count": 12,
     "metadata": {},
     "output_type": "execute_result"
    }
   ],
   "source": [
    "df_users.select(\"User_ID\").distinct().count() #tenemos 6040 usuarios distintos"
   ]
  },
  {
   "cell_type": "code",
   "execution_count": 13,
   "metadata": {},
   "outputs": [],
   "source": [
    "#leemos el dataset de \"ratings\"\n",
    "df_ratings = sc.textFile(directory + 'ratings.dat') \\\n",
    "            .map(lambda line: line.split(\"::\")) \\\n",
    "            .filter(lambda line: len(line)>1) \\\n",
    "            .toDF(['User_ID','Movie_ID','Rating','timestamp'])"
   ]
  },
  {
   "cell_type": "code",
   "execution_count": 14,
   "metadata": {},
   "outputs": [
    {
     "name": "stdout",
     "output_type": "stream",
     "text": [
      "root\n",
      " |-- User_ID: string (nullable = true)\n",
      " |-- Movie_ID: string (nullable = true)\n",
      " |-- Rating: string (nullable = true)\n",
      " |-- timestamp: string (nullable = true)\n",
      "\n",
      "+-------+--------+------+---------+\n",
      "|User_ID|Movie_ID|Rating|timestamp|\n",
      "+-------+--------+------+---------+\n",
      "|      1|    1193|     5|978300760|\n",
      "|      1|     661|     3|978302109|\n",
      "|      1|     914|     3|978301968|\n",
      "|      1|    3408|     4|978300275|\n",
      "|      1|    2355|     5|978824291|\n",
      "|      1|    1197|     3|978302268|\n",
      "|      1|    1287|     5|978302039|\n",
      "|      1|    2804|     5|978300719|\n",
      "|      1|     594|     4|978302268|\n",
      "|      1|     919|     4|978301368|\n",
      "+-------+--------+------+---------+\n",
      "only showing top 10 rows\n",
      "\n"
     ]
    }
   ],
   "source": [
    "df_ratings.printSchema()\n",
    "df_ratings.show(10)"
   ]
  },
  {
   "cell_type": "code",
   "execution_count": 15,
   "metadata": {},
   "outputs": [
    {
     "data": {
      "text/plain": [
       "1000209"
      ]
     },
     "execution_count": 15,
     "metadata": {},
     "output_type": "execute_result"
    }
   ],
   "source": [
    "#Contamos con un dataset de 1.000.209 de observaciones\n",
    "df_ratings.count()"
   ]
  },
  {
   "cell_type": "code",
   "execution_count": 16,
   "metadata": {},
   "outputs": [
    {
     "data": {
      "text/plain": [
       "6040"
      ]
     },
     "execution_count": 16,
     "metadata": {},
     "output_type": "execute_result"
    }
   ],
   "source": [
    "df_ratings.select(\"User_ID\").distinct().count() #cantidad de usuarios"
   ]
  },
  {
   "cell_type": "code",
   "execution_count": 17,
   "metadata": {},
   "outputs": [],
   "source": [
    "#creamos vistas temporales para unir las tablas usando SQL\n",
    "df_movies.createOrReplaceTempView(\"bd_movies\")\n",
    "df_users.createOrReplaceTempView(\"bd_users\")\n",
    "df_ratings.createOrReplaceTempView(\"bd_ratings\")"
   ]
  },
  {
   "cell_type": "code",
   "execution_count": 18,
   "metadata": {},
   "outputs": [],
   "source": [
    "#Generamos un nuevo dataframe con la unuón de los datos que necesitamos\n",
    "df_cleaned = spark.sql(\"SELECT R.*, U.Sexo, U.Ocupacion, U.Edad, U.Codigo_postal, M.Genero, M.Titulo FROM bd_ratings R LEFT JOIN bd_users U ON R.User_ID = U.User_ID LEFT JOIN bd_movies M ON R.Movie_ID = M.Movie_ID\")"
   ]
  },
  {
   "cell_type": "code",
   "execution_count": 19,
   "metadata": {},
   "outputs": [
    {
     "name": "stdout",
     "output_type": "stream",
     "text": [
      "root\n",
      " |-- User_ID: string (nullable = true)\n",
      " |-- Movie_ID: string (nullable = true)\n",
      " |-- Rating: string (nullable = true)\n",
      " |-- timestamp: string (nullable = true)\n",
      " |-- Sexo: string (nullable = true)\n",
      " |-- Ocupacion: string (nullable = true)\n",
      " |-- Edad: string (nullable = true)\n",
      " |-- Codigo_postal: string (nullable = true)\n",
      " |-- Genero: string (nullable = true)\n",
      " |-- Titulo: string (nullable = true)\n",
      "\n"
     ]
    }
   ],
   "source": [
    "#verificamos que nos haya quedado ok la unión.\n",
    "df_cleaned.printSchema()"
   ]
  },
  {
   "cell_type": "markdown",
   "metadata": {},
   "source": [
    "Algunos datos, como edades, no son coherentes, por ejemplo usuarios con un año puntuando películas. De todas formas no vamos a utilizar esta columna en nuestro algoritmo, por lo que no hacemos ninguna modificación."
   ]
  },
  {
   "cell_type": "code",
   "execution_count": 20,
   "metadata": {},
   "outputs": [
    {
     "data": {
      "text/plain": [
       "1000209"
      ]
     },
     "execution_count": 20,
     "metadata": {},
     "output_type": "execute_result"
    }
   ],
   "source": [
    "df_cleaned.count() #comprobamos que tenemos la misma cantidad de observaciones que en la tabla ratings"
   ]
  },
  {
   "cell_type": "code",
   "execution_count": 21,
   "metadata": {},
   "outputs": [],
   "source": [
    "#cambiamos tipos de datos para trabajar más fácilmente\n",
    "df_cleaned = df_cleaned.withColumn('Movie_ID', df_cleaned.Movie_ID.cast('int'))\\\n",
    "         .withColumn('Rating', df_cleaned.Rating.cast('int'))\\\n",
    "         .withColumn('timestamp', df_cleaned.timestamp.cast('int'))\\\n",
    "         .withColumn('User_ID', df_cleaned.User_ID.cast('int'))\\\n",
    "         .withColumn('Sexo', df_cleaned.Sexo.cast('string'))\\\n",
    "         .withColumn('Ocupacion', df_cleaned.Ocupacion.cast('int'))\\\n",
    "         .withColumn('Edad', df_cleaned.Edad.cast('int'))\\\n",
    "         .withColumn('Codigo_postal', df_cleaned.Codigo_postal.cast('int'))\\\n",
    "         .withColumn('Genero', df_cleaned.Genero.cast('string'))\\\n",
    "         .withColumn('Titulo', df_cleaned.Titulo.cast('string'))"
   ]
  },
  {
   "cell_type": "code",
   "execution_count": 22,
   "metadata": {},
   "outputs": [
    {
     "name": "stdout",
     "output_type": "stream",
     "text": [
      "root\n",
      " |-- User_ID: integer (nullable = true)\n",
      " |-- Movie_ID: integer (nullable = true)\n",
      " |-- Rating: integer (nullable = true)\n",
      " |-- timestamp: integer (nullable = true)\n",
      " |-- Sexo: string (nullable = true)\n",
      " |-- Ocupacion: integer (nullable = true)\n",
      " |-- Edad: integer (nullable = true)\n",
      " |-- Codigo_postal: integer (nullable = true)\n",
      " |-- Genero: string (nullable = true)\n",
      " |-- Titulo: string (nullable = true)\n",
      "\n"
     ]
    }
   ],
   "source": [
    "df_cleaned.printSchema() #comprobamos los cambios"
   ]
  },
  {
   "cell_type": "code",
   "execution_count": 23,
   "metadata": {},
   "outputs": [],
   "source": [
    "#Creamos una vista temporal con la data final sobre la cual vamos a trabajar\n",
    "df_cleaned.createOrReplaceTempView(\"bd_df_cleaned\") "
   ]
  },
  {
   "cell_type": "code",
   "execution_count": 24,
   "metadata": {},
   "outputs": [
    {
     "name": "stdout",
     "output_type": "stream",
     "text": [
      "+------+\n",
      "|Rating|\n",
      "+------+\n",
      "|     1|\n",
      "|     3|\n",
      "|     5|\n",
      "|     4|\n",
      "|     2|\n",
      "+------+\n",
      "\n"
     ]
    }
   ],
   "source": [
    "#nos aseguramos que en nuestros datos finales los valores de ratings están ok y no contienen errores.\n",
    "df_cleaned.select(\"Rating\").distinct().show()"
   ]
  },
  {
   "cell_type": "code",
   "execution_count": 25,
   "metadata": {},
   "outputs": [
    {
     "data": {
      "text/plain": [
       "6040"
      ]
     },
     "execution_count": 25,
     "metadata": {},
     "output_type": "execute_result"
    }
   ],
   "source": [
    "#comprobamos los datos también para User_ID luego de la unión.\n",
    "df_cleaned.select(\"User_ID\").distinct().count()"
   ]
  },
  {
   "cell_type": "code",
   "execution_count": 26,
   "metadata": {},
   "outputs": [
    {
     "data": {
      "text/plain": [
       "3706"
      ]
     },
     "execution_count": 26,
     "metadata": {},
     "output_type": "execute_result"
    }
   ],
   "source": [
    "#comprobamos los datos también para Movie_ID luego de la unión, notamos que algunas películas no tenían puntuación, por lo \n",
    "#que fueron desconsideradas.\n",
    "df_cleaned.select(\"Movie_ID\").distinct().count()"
   ]
  },
  {
   "cell_type": "markdown",
   "metadata": {},
   "source": [
    "## Ingeniería de atributos"
   ]
  },
  {
   "cell_type": "code",
   "execution_count": 27,
   "metadata": {},
   "outputs": [],
   "source": [
    "dfp = df_cleaned.toPandas() #Creamos este dataframe para mejor visualización de datos"
   ]
  },
  {
   "cell_type": "code",
   "execution_count": 28,
   "metadata": {},
   "outputs": [
    {
     "data": {
      "text/html": [
       "<div>\n",
       "<style scoped>\n",
       "    .dataframe tbody tr th:only-of-type {\n",
       "        vertical-align: middle;\n",
       "    }\n",
       "\n",
       "    .dataframe tbody tr th {\n",
       "        vertical-align: top;\n",
       "    }\n",
       "\n",
       "    .dataframe thead th {\n",
       "        text-align: right;\n",
       "    }\n",
       "</style>\n",
       "<table border=\"1\" class=\"dataframe\">\n",
       "  <thead>\n",
       "    <tr style=\"text-align: right;\">\n",
       "      <th></th>\n",
       "      <th>User_ID</th>\n",
       "      <th>Movie_ID</th>\n",
       "      <th>Rating</th>\n",
       "      <th>timestamp</th>\n",
       "      <th>Sexo</th>\n",
       "      <th>Ocupacion</th>\n",
       "      <th>Edad</th>\n",
       "      <th>Codigo_postal</th>\n",
       "      <th>Genero</th>\n",
       "      <th>Titulo</th>\n",
       "    </tr>\n",
       "  </thead>\n",
       "  <tbody>\n",
       "    <tr>\n",
       "      <th>0</th>\n",
       "      <td>3414</td>\n",
       "      <td>1090</td>\n",
       "      <td>4</td>\n",
       "      <td>967488067</td>\n",
       "      <td>M</td>\n",
       "      <td>17</td>\n",
       "      <td>25</td>\n",
       "      <td>75146.0</td>\n",
       "      <td>Drama|War</td>\n",
       "      <td>Platoon (1986)</td>\n",
       "    </tr>\n",
       "    <tr>\n",
       "      <th>1</th>\n",
       "      <td>4821</td>\n",
       "      <td>1090</td>\n",
       "      <td>4</td>\n",
       "      <td>962945683</td>\n",
       "      <td>M</td>\n",
       "      <td>19</td>\n",
       "      <td>18</td>\n",
       "      <td>75080.0</td>\n",
       "      <td>Drama|War</td>\n",
       "      <td>Platoon (1986)</td>\n",
       "    </tr>\n",
       "    <tr>\n",
       "      <th>2</th>\n",
       "      <td>3441</td>\n",
       "      <td>1090</td>\n",
       "      <td>3</td>\n",
       "      <td>972795776</td>\n",
       "      <td>F</td>\n",
       "      <td>14</td>\n",
       "      <td>25</td>\n",
       "      <td>94109.0</td>\n",
       "      <td>Drama|War</td>\n",
       "      <td>Platoon (1986)</td>\n",
       "    </tr>\n",
       "    <tr>\n",
       "      <th>3</th>\n",
       "      <td>3650</td>\n",
       "      <td>1090</td>\n",
       "      <td>5</td>\n",
       "      <td>973026311</td>\n",
       "      <td>M</td>\n",
       "      <td>0</td>\n",
       "      <td>25</td>\n",
       "      <td>60611.0</td>\n",
       "      <td>Drama|War</td>\n",
       "      <td>Platoon (1986)</td>\n",
       "    </tr>\n",
       "    <tr>\n",
       "      <th>4</th>\n",
       "      <td>451</td>\n",
       "      <td>1090</td>\n",
       "      <td>4</td>\n",
       "      <td>976415081</td>\n",
       "      <td>M</td>\n",
       "      <td>13</td>\n",
       "      <td>56</td>\n",
       "      <td>54720.0</td>\n",
       "      <td>Drama|War</td>\n",
       "      <td>Platoon (1986)</td>\n",
       "    </tr>\n",
       "    <tr>\n",
       "      <th>5</th>\n",
       "      <td>4975</td>\n",
       "      <td>1090</td>\n",
       "      <td>4</td>\n",
       "      <td>962607595</td>\n",
       "      <td>M</td>\n",
       "      <td>0</td>\n",
       "      <td>35</td>\n",
       "      <td>90065.0</td>\n",
       "      <td>Drama|War</td>\n",
       "      <td>Platoon (1986)</td>\n",
       "    </tr>\n",
       "    <tr>\n",
       "      <th>6</th>\n",
       "      <td>5523</td>\n",
       "      <td>1090</td>\n",
       "      <td>4</td>\n",
       "      <td>959649371</td>\n",
       "      <td>M</td>\n",
       "      <td>0</td>\n",
       "      <td>35</td>\n",
       "      <td>60187.0</td>\n",
       "      <td>Drama|War</td>\n",
       "      <td>Platoon (1986)</td>\n",
       "    </tr>\n",
       "    <tr>\n",
       "      <th>7</th>\n",
       "      <td>1361</td>\n",
       "      <td>1090</td>\n",
       "      <td>4</td>\n",
       "      <td>974771289</td>\n",
       "      <td>F</td>\n",
       "      <td>0</td>\n",
       "      <td>25</td>\n",
       "      <td>97401.0</td>\n",
       "      <td>Drama|War</td>\n",
       "      <td>Platoon (1986)</td>\n",
       "    </tr>\n",
       "    <tr>\n",
       "      <th>8</th>\n",
       "      <td>2725</td>\n",
       "      <td>1090</td>\n",
       "      <td>4</td>\n",
       "      <td>973270245</td>\n",
       "      <td>M</td>\n",
       "      <td>7</td>\n",
       "      <td>35</td>\n",
       "      <td>30071.0</td>\n",
       "      <td>Drama|War</td>\n",
       "      <td>Platoon (1986)</td>\n",
       "    </tr>\n",
       "    <tr>\n",
       "      <th>9</th>\n",
       "      <td>2917</td>\n",
       "      <td>1090</td>\n",
       "      <td>3</td>\n",
       "      <td>972269526</td>\n",
       "      <td>M</td>\n",
       "      <td>0</td>\n",
       "      <td>25</td>\n",
       "      <td>60201.0</td>\n",
       "      <td>Drama|War</td>\n",
       "      <td>Platoon (1986)</td>\n",
       "    </tr>\n",
       "  </tbody>\n",
       "</table>\n",
       "</div>"
      ],
      "text/plain": [
       "   User_ID  Movie_ID  Rating  timestamp Sexo  Ocupacion  Edad  Codigo_postal  \\\n",
       "0     3414      1090       4  967488067    M         17    25        75146.0   \n",
       "1     4821      1090       4  962945683    M         19    18        75080.0   \n",
       "2     3441      1090       3  972795776    F         14    25        94109.0   \n",
       "3     3650      1090       5  973026311    M          0    25        60611.0   \n",
       "4      451      1090       4  976415081    M         13    56        54720.0   \n",
       "5     4975      1090       4  962607595    M          0    35        90065.0   \n",
       "6     5523      1090       4  959649371    M          0    35        60187.0   \n",
       "7     1361      1090       4  974771289    F          0    25        97401.0   \n",
       "8     2725      1090       4  973270245    M          7    35        30071.0   \n",
       "9     2917      1090       3  972269526    M          0    25        60201.0   \n",
       "\n",
       "      Genero          Titulo  \n",
       "0  Drama|War  Platoon (1986)  \n",
       "1  Drama|War  Platoon (1986)  \n",
       "2  Drama|War  Platoon (1986)  \n",
       "3  Drama|War  Platoon (1986)  \n",
       "4  Drama|War  Platoon (1986)  \n",
       "5  Drama|War  Platoon (1986)  \n",
       "6  Drama|War  Platoon (1986)  \n",
       "7  Drama|War  Platoon (1986)  \n",
       "8  Drama|War  Platoon (1986)  \n",
       "9  Drama|War  Platoon (1986)  "
      ]
     },
     "execution_count": 28,
     "metadata": {},
     "output_type": "execute_result"
    }
   ],
   "source": [
    "dfp.head(10) "
   ]
  },
  {
   "cell_type": "code",
   "execution_count": 29,
   "metadata": {},
   "outputs": [
    {
     "data": {
      "text/html": [
       "<div>\n",
       "<style scoped>\n",
       "    .dataframe tbody tr th:only-of-type {\n",
       "        vertical-align: middle;\n",
       "    }\n",
       "\n",
       "    .dataframe tbody tr th {\n",
       "        vertical-align: top;\n",
       "    }\n",
       "\n",
       "    .dataframe thead th {\n",
       "        text-align: right;\n",
       "    }\n",
       "</style>\n",
       "<table border=\"1\" class=\"dataframe\">\n",
       "  <thead>\n",
       "    <tr style=\"text-align: right;\">\n",
       "      <th></th>\n",
       "      <th>User_ID</th>\n",
       "      <th>Movie_ID</th>\n",
       "      <th>Rating</th>\n",
       "      <th>timestamp</th>\n",
       "      <th>Ocupacion</th>\n",
       "      <th>Edad</th>\n",
       "      <th>Codigo_postal</th>\n",
       "    </tr>\n",
       "  </thead>\n",
       "  <tbody>\n",
       "    <tr>\n",
       "      <th>count</th>\n",
       "      <td>1.000209e+06</td>\n",
       "      <td>1.000209e+06</td>\n",
       "      <td>1.000209e+06</td>\n",
       "      <td>1.000209e+06</td>\n",
       "      <td>1.000209e+06</td>\n",
       "      <td>1.000209e+06</td>\n",
       "      <td>9.869830e+05</td>\n",
       "    </tr>\n",
       "    <tr>\n",
       "      <th>mean</th>\n",
       "      <td>3.024512e+03</td>\n",
       "      <td>1.865540e+03</td>\n",
       "      <td>3.581564e+00</td>\n",
       "      <td>9.722437e+08</td>\n",
       "      <td>8.036138e+00</td>\n",
       "      <td>2.973831e+01</td>\n",
       "      <td>2.232399e+05</td>\n",
       "    </tr>\n",
       "    <tr>\n",
       "      <th>std</th>\n",
       "      <td>1.728413e+03</td>\n",
       "      <td>1.096041e+03</td>\n",
       "      <td>1.117102e+00</td>\n",
       "      <td>1.215256e+07</td>\n",
       "      <td>6.531336e+00</td>\n",
       "      <td>1.175198e+01</td>\n",
       "      <td>5.674041e+06</td>\n",
       "    </tr>\n",
       "    <tr>\n",
       "      <th>min</th>\n",
       "      <td>1.000000e+00</td>\n",
       "      <td>1.000000e+00</td>\n",
       "      <td>1.000000e+00</td>\n",
       "      <td>9.567039e+08</td>\n",
       "      <td>0.000000e+00</td>\n",
       "      <td>1.000000e+00</td>\n",
       "      <td>2.310000e+02</td>\n",
       "    </tr>\n",
       "    <tr>\n",
       "      <th>25%</th>\n",
       "      <td>1.506000e+03</td>\n",
       "      <td>1.030000e+03</td>\n",
       "      <td>3.000000e+00</td>\n",
       "      <td>9.653026e+08</td>\n",
       "      <td>2.000000e+00</td>\n",
       "      <td>2.500000e+01</td>\n",
       "      <td>2.323300e+04</td>\n",
       "    </tr>\n",
       "    <tr>\n",
       "      <th>50%</th>\n",
       "      <td>3.070000e+03</td>\n",
       "      <td>1.835000e+03</td>\n",
       "      <td>4.000000e+00</td>\n",
       "      <td>9.730180e+08</td>\n",
       "      <td>7.000000e+00</td>\n",
       "      <td>2.500000e+01</td>\n",
       "      <td>5.530600e+04</td>\n",
       "    </tr>\n",
       "    <tr>\n",
       "      <th>75%</th>\n",
       "      <td>4.476000e+03</td>\n",
       "      <td>2.770000e+03</td>\n",
       "      <td>4.000000e+00</td>\n",
       "      <td>9.752209e+08</td>\n",
       "      <td>1.400000e+01</td>\n",
       "      <td>3.500000e+01</td>\n",
       "      <td>9.002400e+04</td>\n",
       "    </tr>\n",
       "    <tr>\n",
       "      <th>max</th>\n",
       "      <td>6.040000e+03</td>\n",
       "      <td>3.952000e+03</td>\n",
       "      <td>5.000000e+00</td>\n",
       "      <td>1.046455e+09</td>\n",
       "      <td>2.000000e+01</td>\n",
       "      <td>5.600000e+01</td>\n",
       "      <td>1.931220e+08</td>\n",
       "    </tr>\n",
       "  </tbody>\n",
       "</table>\n",
       "</div>"
      ],
      "text/plain": [
       "            User_ID      Movie_ID        Rating     timestamp     Ocupacion  \\\n",
       "count  1.000209e+06  1.000209e+06  1.000209e+06  1.000209e+06  1.000209e+06   \n",
       "mean   3.024512e+03  1.865540e+03  3.581564e+00  9.722437e+08  8.036138e+00   \n",
       "std    1.728413e+03  1.096041e+03  1.117102e+00  1.215256e+07  6.531336e+00   \n",
       "min    1.000000e+00  1.000000e+00  1.000000e+00  9.567039e+08  0.000000e+00   \n",
       "25%    1.506000e+03  1.030000e+03  3.000000e+00  9.653026e+08  2.000000e+00   \n",
       "50%    3.070000e+03  1.835000e+03  4.000000e+00  9.730180e+08  7.000000e+00   \n",
       "75%    4.476000e+03  2.770000e+03  4.000000e+00  9.752209e+08  1.400000e+01   \n",
       "max    6.040000e+03  3.952000e+03  5.000000e+00  1.046455e+09  2.000000e+01   \n",
       "\n",
       "               Edad  Codigo_postal  \n",
       "count  1.000209e+06   9.869830e+05  \n",
       "mean   2.973831e+01   2.232399e+05  \n",
       "std    1.175198e+01   5.674041e+06  \n",
       "min    1.000000e+00   2.310000e+02  \n",
       "25%    2.500000e+01   2.323300e+04  \n",
       "50%    2.500000e+01   5.530600e+04  \n",
       "75%    3.500000e+01   9.002400e+04  \n",
       "max    5.600000e+01   1.931220e+08  "
      ]
     },
     "execution_count": 29,
     "metadata": {},
     "output_type": "execute_result"
    }
   ],
   "source": [
    "dfp.describe() #vemos la descripción estadística de los datos numéricos"
   ]
  },
  {
   "cell_type": "code",
   "execution_count": 30,
   "metadata": {},
   "outputs": [
    {
     "data": {
      "text/plain": [
       "<matplotlib.axes._subplots.AxesSubplot at 0x7f6f961dffd0>"
      ]
     },
     "execution_count": 30,
     "metadata": {},
     "output_type": "execute_result"
    },
    {
     "data": {
      "image/png": "[encoded data removed]",
      "text/plain": [
       "<Figure size 432x288 with 1 Axes>"
      ]
     },
     "metadata": {
      "needs_background": "light"
     },
     "output_type": "display_data"
    }
   ],
   "source": [
    "#adicionalmente podemos visualizar la distribución de los ratings de forma más \"amigable\", donde notamos que tenemos más \n",
    "#cantidad de datos con puntuación 4, esto también lo vemos en la descripción estadística.\n",
    "sns.violinplot([dfp.Rating])"
   ]
  },
  {
   "cell_type": "code",
   "execution_count": 31,
   "metadata": {},
   "outputs": [
    {
     "data": {
      "text/plain": [
       "<matplotlib.axes._subplots.AxesSubplot at 0x7f6f6379cb38>"
      ]
     },
     "execution_count": 31,
     "metadata": {},
     "output_type": "execute_result"
    },
    {
     "data": {
      "image/png": "[encoded data removed]",
      "text/plain": [
       "<Figure size 432x288 with 2 Axes>"
      ]
     },
     "metadata": {
      "needs_background": "light"
     },
     "output_type": "display_data"
    }
   ],
   "source": [
    "#hacemos un mapa de calor para ver las correlaciones entre los atributos que tenemos\n",
    "corr = dfp.corr() \n",
    "sns.heatmap(corr, \n",
    "      xticklabels=corr.columns.values, \n",
    "      yticklabels=corr.columns.values) "
   ]
  },
  {
   "cell_type": "markdown",
   "metadata": {},
   "source": [
    "Vemos que los atributos tienen \"poca\" correlación, por lo que al momento los dejamos todos. "
   ]
  },
  {
   "cell_type": "code",
   "execution_count": 32,
   "metadata": {},
   "outputs": [
    {
     "data": {
      "text/html": [
       "<style  type=\"text/css\" >\n",
       "    #T_5323224e_2d21_11ec_90a6_be472134aee8 th {\n",
       "          font-size: 7pt;\n",
       "    }    #T_5323224e_2d21_11ec_90a6_be472134aee8 td {\n",
       "          padding: 0em 0em;\n",
       "    }    #T_5323224e_2d21_11ec_90a6_be472134aee8 th:hover {\n",
       "          font-size: 12pt;\n",
       "    }    #T_5323224e_2d21_11ec_90a6_be472134aee8 tr:hover td:hover {\n",
       "          max-width: 200px;\n",
       "          font-size: 12pt;\n",
       "    }    #T_5323224e_2d21_11ec_90a6_be472134aee8row0_col0 {\n",
       "            background-color:  #4479bb;\n",
       "            color:  #000000;\n",
       "            max-width:  80px;\n",
       "            font-size:  10pt;\n",
       "        }    #T_5323224e_2d21_11ec_90a6_be472134aee8row0_col1 {\n",
       "            background-color:  #efafbc;\n",
       "            color:  #000000;\n",
       "            max-width:  80px;\n",
       "            font-size:  10pt;\n",
       "        }    #T_5323224e_2d21_11ec_90a6_be472134aee8row0_col2 {\n",
       "            background-color:  #f0b7c2;\n",
       "            color:  #000000;\n",
       "            max-width:  80px;\n",
       "            font-size:  10pt;\n",
       "        }    #T_5323224e_2d21_11ec_90a6_be472134aee8row0_col3 {\n",
       "            background-color:  #d73c5b;\n",
       "            color:  #f1f1f1;\n",
       "            max-width:  80px;\n",
       "            font-size:  10pt;\n",
       "        }    #T_5323224e_2d21_11ec_90a6_be472134aee8row0_col4 {\n",
       "            background-color:  #eeacba;\n",
       "            color:  #000000;\n",
       "            max-width:  80px;\n",
       "            font-size:  10pt;\n",
       "        }    #T_5323224e_2d21_11ec_90a6_be472134aee8row0_col5 {\n",
       "            background-color:  #f1bcc7;\n",
       "            color:  #000000;\n",
       "            max-width:  80px;\n",
       "            font-size:  10pt;\n",
       "        }    #T_5323224e_2d21_11ec_90a6_be472134aee8row0_col6 {\n",
       "            background-color:  #f1bcc7;\n",
       "            color:  #000000;\n",
       "            max-width:  80px;\n",
       "            font-size:  10pt;\n",
       "        }    #T_5323224e_2d21_11ec_90a6_be472134aee8row1_col0 {\n",
       "            background-color:  #da4b68;\n",
       "            color:  #000000;\n",
       "            max-width:  80px;\n",
       "            font-size:  10pt;\n",
       "        }    #T_5323224e_2d21_11ec_90a6_be472134aee8row1_col1 {\n",
       "            background-color:  #4479bb;\n",
       "            color:  #000000;\n",
       "            max-width:  80px;\n",
       "            font-size:  10pt;\n",
       "        }    #T_5323224e_2d21_11ec_90a6_be472134aee8row1_col2 {\n",
       "            background-color:  #d73c5b;\n",
       "            color:  #f1f1f1;\n",
       "            max-width:  80px;\n",
       "            font-size:  10pt;\n",
       "        }    #T_5323224e_2d21_11ec_90a6_be472134aee8row1_col3 {\n",
       "            background-color:  #de5f79;\n",
       "            color:  #000000;\n",
       "            max-width:  80px;\n",
       "            font-size:  10pt;\n",
       "        }    #T_5323224e_2d21_11ec_90a6_be472134aee8row1_col4 {\n",
       "            background-color:  #dc546f;\n",
       "            color:  #000000;\n",
       "            max-width:  80px;\n",
       "            font-size:  10pt;\n",
       "        }    #T_5323224e_2d21_11ec_90a6_be472134aee8row1_col5 {\n",
       "            background-color:  #de5b75;\n",
       "            color:  #000000;\n",
       "            max-width:  80px;\n",
       "            font-size:  10pt;\n",
       "        }    #T_5323224e_2d21_11ec_90a6_be472134aee8row1_col6 {\n",
       "            background-color:  #dc526e;\n",
       "            color:  #000000;\n",
       "            max-width:  80px;\n",
       "            font-size:  10pt;\n",
       "        }    #T_5323224e_2d21_11ec_90a6_be472134aee8row2_col0 {\n",
       "            background-color:  #dc5570;\n",
       "            color:  #000000;\n",
       "            max-width:  80px;\n",
       "            font-size:  10pt;\n",
       "        }    #T_5323224e_2d21_11ec_90a6_be472134aee8row2_col1 {\n",
       "            background-color:  #d73c5b;\n",
       "            color:  #f1f1f1;\n",
       "            max-width:  80px;\n",
       "            font-size:  10pt;\n",
       "        }    #T_5323224e_2d21_11ec_90a6_be472134aee8row2_col2 {\n",
       "            background-color:  #4479bb;\n",
       "            color:  #000000;\n",
       "            max-width:  80px;\n",
       "            font-size:  10pt;\n",
       "        }    #T_5323224e_2d21_11ec_90a6_be472134aee8row2_col3 {\n",
       "            background-color:  #d94764;\n",
       "            color:  #f1f1f1;\n",
       "            max-width:  80px;\n",
       "            font-size:  10pt;\n",
       "        }    #T_5323224e_2d21_11ec_90a6_be472134aee8row2_col4 {\n",
       "            background-color:  #dc546f;\n",
       "            color:  #000000;\n",
       "            max-width:  80px;\n",
       "            font-size:  10pt;\n",
       "        }    #T_5323224e_2d21_11ec_90a6_be472134aee8row2_col5 {\n",
       "            background-color:  #e0657d;\n",
       "            color:  #000000;\n",
       "            max-width:  80px;\n",
       "            font-size:  10pt;\n",
       "        }    #T_5323224e_2d21_11ec_90a6_be472134aee8row2_col6 {\n",
       "            background-color:  #dd5671;\n",
       "            color:  #000000;\n",
       "            max-width:  80px;\n",
       "            font-size:  10pt;\n",
       "        }    #T_5323224e_2d21_11ec_90a6_be472134aee8row3_col0 {\n",
       "            background-color:  #d73c5b;\n",
       "            color:  #f1f1f1;\n",
       "            max-width:  80px;\n",
       "            font-size:  10pt;\n",
       "        }    #T_5323224e_2d21_11ec_90a6_be472134aee8row3_col1 {\n",
       "            background-color:  #f2bdc8;\n",
       "            color:  #000000;\n",
       "            max-width:  80px;\n",
       "            font-size:  10pt;\n",
       "        }    #T_5323224e_2d21_11ec_90a6_be472134aee8row3_col2 {\n",
       "            background-color:  #eeacba;\n",
       "            color:  #000000;\n",
       "            max-width:  80px;\n",
       "            font-size:  10pt;\n",
       "        }    #T_5323224e_2d21_11ec_90a6_be472134aee8row3_col3 {\n",
       "            background-color:  #4479bb;\n",
       "            color:  #000000;\n",
       "            max-width:  80px;\n",
       "            font-size:  10pt;\n",
       "        }    #T_5323224e_2d21_11ec_90a6_be472134aee8row3_col4 {\n",
       "            background-color:  #f0b7c2;\n",
       "            color:  #000000;\n",
       "            max-width:  80px;\n",
       "            font-size:  10pt;\n",
       "        }    #T_5323224e_2d21_11ec_90a6_be472134aee8row3_col5 {\n",
       "            background-color:  #eca4b3;\n",
       "            color:  #000000;\n",
       "            max-width:  80px;\n",
       "            font-size:  10pt;\n",
       "        }    #T_5323224e_2d21_11ec_90a6_be472134aee8row3_col6 {\n",
       "            background-color:  #efafbc;\n",
       "            color:  #000000;\n",
       "            max-width:  80px;\n",
       "            font-size:  10pt;\n",
       "        }    #T_5323224e_2d21_11ec_90a6_be472134aee8row4_col0 {\n",
       "            background-color:  #d73c5b;\n",
       "            color:  #f1f1f1;\n",
       "            max-width:  80px;\n",
       "            font-size:  10pt;\n",
       "        }    #T_5323224e_2d21_11ec_90a6_be472134aee8row4_col1 {\n",
       "            background-color:  #d94764;\n",
       "            color:  #f1f1f1;\n",
       "            max-width:  80px;\n",
       "            font-size:  10pt;\n",
       "        }    #T_5323224e_2d21_11ec_90a6_be472134aee8row4_col2 {\n",
       "            background-color:  #d94764;\n",
       "            color:  #f1f1f1;\n",
       "            max-width:  80px;\n",
       "            font-size:  10pt;\n",
       "        }    #T_5323224e_2d21_11ec_90a6_be472134aee8row4_col3 {\n",
       "            background-color:  #da4966;\n",
       "            color:  #000000;\n",
       "            max-width:  80px;\n",
       "            font-size:  10pt;\n",
       "        }    #T_5323224e_2d21_11ec_90a6_be472134aee8row4_col4 {\n",
       "            background-color:  #4479bb;\n",
       "            color:  #000000;\n",
       "            max-width:  80px;\n",
       "            font-size:  10pt;\n",
       "        }    #T_5323224e_2d21_11ec_90a6_be472134aee8row4_col5 {\n",
       "            background-color:  #df617a;\n",
       "            color:  #000000;\n",
       "            max-width:  80px;\n",
       "            font-size:  10pt;\n",
       "        }    #T_5323224e_2d21_11ec_90a6_be472134aee8row4_col6 {\n",
       "            background-color:  #d8415f;\n",
       "            color:  #f1f1f1;\n",
       "            max-width:  80px;\n",
       "            font-size:  10pt;\n",
       "        }    #T_5323224e_2d21_11ec_90a6_be472134aee8row5_col0 {\n",
       "            background-color:  #de5c76;\n",
       "            color:  #000000;\n",
       "            max-width:  80px;\n",
       "            font-size:  10pt;\n",
       "        }    #T_5323224e_2d21_11ec_90a6_be472134aee8row5_col1 {\n",
       "            background-color:  #de5b75;\n",
       "            color:  #000000;\n",
       "            max-width:  80px;\n",
       "            font-size:  10pt;\n",
       "        }    #T_5323224e_2d21_11ec_90a6_be472134aee8row5_col2 {\n",
       "            background-color:  #e0657d;\n",
       "            color:  #000000;\n",
       "            max-width:  80px;\n",
       "            font-size:  10pt;\n",
       "        }    #T_5323224e_2d21_11ec_90a6_be472134aee8row5_col3 {\n",
       "            background-color:  #d73c5b;\n",
       "            color:  #f1f1f1;\n",
       "            max-width:  80px;\n",
       "            font-size:  10pt;\n",
       "        }    #T_5323224e_2d21_11ec_90a6_be472134aee8row5_col4 {\n",
       "            background-color:  #e16c84;\n",
       "            color:  #000000;\n",
       "            max-width:  80px;\n",
       "            font-size:  10pt;\n",
       "        }    #T_5323224e_2d21_11ec_90a6_be472134aee8row5_col5 {\n",
       "            background-color:  #4479bb;\n",
       "            color:  #000000;\n",
       "            max-width:  80px;\n",
       "            font-size:  10pt;\n",
       "        }    #T_5323224e_2d21_11ec_90a6_be472134aee8row5_col6 {\n",
       "            background-color:  #df627b;\n",
       "            color:  #000000;\n",
       "            max-width:  80px;\n",
       "            font-size:  10pt;\n",
       "        }    #T_5323224e_2d21_11ec_90a6_be472134aee8row6_col0 {\n",
       "            background-color:  #db4e6a;\n",
       "            color:  #000000;\n",
       "            max-width:  80px;\n",
       "            font-size:  10pt;\n",
       "        }    #T_5323224e_2d21_11ec_90a6_be472134aee8row6_col1 {\n",
       "            background-color:  #d94261;\n",
       "            color:  #f1f1f1;\n",
       "            max-width:  80px;\n",
       "            font-size:  10pt;\n",
       "        }    #T_5323224e_2d21_11ec_90a6_be472134aee8row6_col2 {\n",
       "            background-color:  #d94764;\n",
       "            color:  #f1f1f1;\n",
       "            max-width:  80px;\n",
       "            font-size:  10pt;\n",
       "        }    #T_5323224e_2d21_11ec_90a6_be472134aee8row6_col3 {\n",
       "            background-color:  #d73c5b;\n",
       "            color:  #f1f1f1;\n",
       "            max-width:  80px;\n",
       "            font-size:  10pt;\n",
       "        }    #T_5323224e_2d21_11ec_90a6_be472134aee8row6_col4 {\n",
       "            background-color:  #d83e5d;\n",
       "            color:  #f1f1f1;\n",
       "            max-width:  80px;\n",
       "            font-size:  10pt;\n",
       "        }    #T_5323224e_2d21_11ec_90a6_be472134aee8row6_col5 {\n",
       "            background-color:  #dc546f;\n",
       "            color:  #000000;\n",
       "            max-width:  80px;\n",
       "            font-size:  10pt;\n",
       "        }    #T_5323224e_2d21_11ec_90a6_be472134aee8row6_col6 {\n",
       "            background-color:  #4479bb;\n",
       "            color:  #000000;\n",
       "            max-width:  80px;\n",
       "            font-size:  10pt;\n",
       "        }</style><table id=\"T_5323224e_2d21_11ec_90a6_be472134aee8\" ><caption>Hover to magify</caption><thead>    <tr>        <th class=\"blank level0\" ></th>        <th class=\"col_heading level0 col0\" >User_ID</th>        <th class=\"col_heading level0 col1\" >Movie_ID</th>        <th class=\"col_heading level0 col2\" >Rating</th>        <th class=\"col_heading level0 col3\" >timestamp</th>        <th class=\"col_heading level0 col4\" >Ocupacion</th>        <th class=\"col_heading level0 col5\" >Edad</th>        <th class=\"col_heading level0 col6\" >Codigo_postal</th>    </tr></thead><tbody>\n",
       "                <tr>\n",
       "                        <th id=\"T_5323224e_2d21_11ec_90a6_be472134aee8level0_row0\" class=\"row_heading level0 row0\" >User_ID</th>\n",
       "                        <td id=\"T_5323224e_2d21_11ec_90a6_be472134aee8row0_col0\" class=\"data row0 col0\" >1</td>\n",
       "                        <td id=\"T_5323224e_2d21_11ec_90a6_be472134aee8row0_col1\" class=\"data row0 col1\" >-0.018</td>\n",
       "                        <td id=\"T_5323224e_2d21_11ec_90a6_be472134aee8row0_col2\" class=\"data row0 col2\" >0.012</td>\n",
       "                        <td id=\"T_5323224e_2d21_11ec_90a6_be472134aee8row0_col3\" class=\"data row0 col3\" >-0.49</td>\n",
       "                        <td id=\"T_5323224e_2d21_11ec_90a6_be472134aee8row0_col4\" class=\"data row0 col4\" >-0.027</td>\n",
       "                        <td id=\"T_5323224e_2d21_11ec_90a6_be472134aee8row0_col5\" class=\"data row0 col5\" >0.035</td>\n",
       "                        <td id=\"T_5323224e_2d21_11ec_90a6_be472134aee8row0_col6\" class=\"data row0 col6\" >0.035</td>\n",
       "            </tr>\n",
       "            <tr>\n",
       "                        <th id=\"T_5323224e_2d21_11ec_90a6_be472134aee8level0_row1\" class=\"row_heading level0 row1\" >Movie_ID</th>\n",
       "                        <td id=\"T_5323224e_2d21_11ec_90a6_be472134aee8row1_col0\" class=\"data row1 col0\" >-0.018</td>\n",
       "                        <td id=\"T_5323224e_2d21_11ec_90a6_be472134aee8row1_col1\" class=\"data row1 col1\" >1</td>\n",
       "                        <td id=\"T_5323224e_2d21_11ec_90a6_be472134aee8row1_col2\" class=\"data row1 col2\" >-0.064</td>\n",
       "                        <td id=\"T_5323224e_2d21_11ec_90a6_be472134aee8row1_col3\" class=\"data row1 col3\" >0.042</td>\n",
       "                        <td id=\"T_5323224e_2d21_11ec_90a6_be472134aee8row1_col4\" class=\"data row1 col4\" >0.0086</td>\n",
       "                        <td id=\"T_5323224e_2d21_11ec_90a6_be472134aee8row1_col5\" class=\"data row1 col5\" >0.028</td>\n",
       "                        <td id=\"T_5323224e_2d21_11ec_90a6_be472134aee8row1_col6\" class=\"data row1 col6\" >0.0031</td>\n",
       "            </tr>\n",
       "            <tr>\n",
       "                        <th id=\"T_5323224e_2d21_11ec_90a6_be472134aee8level0_row2\" class=\"row_heading level0 row2\" >Rating</th>\n",
       "                        <td id=\"T_5323224e_2d21_11ec_90a6_be472134aee8row2_col0\" class=\"data row2 col0\" >0.012</td>\n",
       "                        <td id=\"T_5323224e_2d21_11ec_90a6_be472134aee8row2_col1\" class=\"data row2 col1\" >-0.064</td>\n",
       "                        <td id=\"T_5323224e_2d21_11ec_90a6_be472134aee8row2_col2\" class=\"data row2 col2\" >1</td>\n",
       "                        <td id=\"T_5323224e_2d21_11ec_90a6_be472134aee8row2_col3\" class=\"data row2 col3\" >-0.027</td>\n",
       "                        <td id=\"T_5323224e_2d21_11ec_90a6_be472134aee8row2_col4\" class=\"data row2 col4\" >0.0068</td>\n",
       "                        <td id=\"T_5323224e_2d21_11ec_90a6_be472134aee8row2_col5\" class=\"data row2 col5\" >0.057</td>\n",
       "                        <td id=\"T_5323224e_2d21_11ec_90a6_be472134aee8row2_col6\" class=\"data row2 col6\" >0.016</td>\n",
       "            </tr>\n",
       "            <tr>\n",
       "                        <th id=\"T_5323224e_2d21_11ec_90a6_be472134aee8level0_row3\" class=\"row_heading level0 row3\" >timestamp</th>\n",
       "                        <td id=\"T_5323224e_2d21_11ec_90a6_be472134aee8row3_col0\" class=\"data row3 col0\" >-0.49</td>\n",
       "                        <td id=\"T_5323224e_2d21_11ec_90a6_be472134aee8row3_col1\" class=\"data row3 col1\" >0.042</td>\n",
       "                        <td id=\"T_5323224e_2d21_11ec_90a6_be472134aee8row3_col2\" class=\"data row3 col2\" >-0.027</td>\n",
       "                        <td id=\"T_5323224e_2d21_11ec_90a6_be472134aee8row3_col3\" class=\"data row3 col3\" >1</td>\n",
       "                        <td id=\"T_5323224e_2d21_11ec_90a6_be472134aee8row3_col4\" class=\"data row3 col4\" >0.016</td>\n",
       "                        <td id=\"T_5323224e_2d21_11ec_90a6_be472134aee8row3_col5\" class=\"data row3 col5\" >-0.065</td>\n",
       "                        <td id=\"T_5323224e_2d21_11ec_90a6_be472134aee8row3_col6\" class=\"data row3 col6\" >-0.018</td>\n",
       "            </tr>\n",
       "            <tr>\n",
       "                        <th id=\"T_5323224e_2d21_11ec_90a6_be472134aee8level0_row4\" class=\"row_heading level0 row4\" >Ocupacion</th>\n",
       "                        <td id=\"T_5323224e_2d21_11ec_90a6_be472134aee8row4_col0\" class=\"data row4 col0\" >-0.027</td>\n",
       "                        <td id=\"T_5323224e_2d21_11ec_90a6_be472134aee8row4_col1\" class=\"data row4 col1\" >0.0086</td>\n",
       "                        <td id=\"T_5323224e_2d21_11ec_90a6_be472134aee8row4_col2\" class=\"data row4 col2\" >0.0068</td>\n",
       "                        <td id=\"T_5323224e_2d21_11ec_90a6_be472134aee8row4_col3\" class=\"data row4 col3\" >0.016</td>\n",
       "                        <td id=\"T_5323224e_2d21_11ec_90a6_be472134aee8row4_col4\" class=\"data row4 col4\" >1</td>\n",
       "                        <td id=\"T_5323224e_2d21_11ec_90a6_be472134aee8row4_col5\" class=\"data row4 col5\" >0.078</td>\n",
       "                        <td id=\"T_5323224e_2d21_11ec_90a6_be472134aee8row4_col6\" class=\"data row4 col6\" >-0.0089</td>\n",
       "            </tr>\n",
       "            <tr>\n",
       "                        <th id=\"T_5323224e_2d21_11ec_90a6_be472134aee8level0_row5\" class=\"row_heading level0 row5\" >Edad</th>\n",
       "                        <td id=\"T_5323224e_2d21_11ec_90a6_be472134aee8row5_col0\" class=\"data row5 col0\" >0.035</td>\n",
       "                        <td id=\"T_5323224e_2d21_11ec_90a6_be472134aee8row5_col1\" class=\"data row5 col1\" >0.028</td>\n",
       "                        <td id=\"T_5323224e_2d21_11ec_90a6_be472134aee8row5_col2\" class=\"data row5 col2\" >0.057</td>\n",
       "                        <td id=\"T_5323224e_2d21_11ec_90a6_be472134aee8row5_col3\" class=\"data row5 col3\" >-0.065</td>\n",
       "                        <td id=\"T_5323224e_2d21_11ec_90a6_be472134aee8row5_col4\" class=\"data row5 col4\" >0.078</td>\n",
       "                        <td id=\"T_5323224e_2d21_11ec_90a6_be472134aee8row5_col5\" class=\"data row5 col5\" >1</td>\n",
       "                        <td id=\"T_5323224e_2d21_11ec_90a6_be472134aee8row5_col6\" class=\"data row5 col6\" >0.051</td>\n",
       "            </tr>\n",
       "            <tr>\n",
       "                        <th id=\"T_5323224e_2d21_11ec_90a6_be472134aee8level0_row6\" class=\"row_heading level0 row6\" >Codigo_postal</th>\n",
       "                        <td id=\"T_5323224e_2d21_11ec_90a6_be472134aee8row6_col0\" class=\"data row6 col0\" >0.035</td>\n",
       "                        <td id=\"T_5323224e_2d21_11ec_90a6_be472134aee8row6_col1\" class=\"data row6 col1\" >0.0031</td>\n",
       "                        <td id=\"T_5323224e_2d21_11ec_90a6_be472134aee8row6_col2\" class=\"data row6 col2\" >0.016</td>\n",
       "                        <td id=\"T_5323224e_2d21_11ec_90a6_be472134aee8row6_col3\" class=\"data row6 col3\" >-0.018</td>\n",
       "                        <td id=\"T_5323224e_2d21_11ec_90a6_be472134aee8row6_col4\" class=\"data row6 col4\" >-0.0089</td>\n",
       "                        <td id=\"T_5323224e_2d21_11ec_90a6_be472134aee8row6_col5\" class=\"data row6 col5\" >0.051</td>\n",
       "                        <td id=\"T_5323224e_2d21_11ec_90a6_be472134aee8row6_col6\" class=\"data row6 col6\" >1</td>\n",
       "            </tr>\n",
       "    </tbody></table>"
      ],
      "text/plain": [
       "<pandas.io.formats.style.Styler at 0x7f6fcfff4ef0>"
      ]
     },
     "execution_count": 32,
     "metadata": {},
     "output_type": "execute_result"
    }
   ],
   "source": [
    "#Otra forma de ver la correlación, no solo con colores sino con los valores de cada correlación.\n",
    "\n",
    "cmap=sns.diverging_palette(5, 250, as_cmap=True)\n",
    "\n",
    "def magnify():\n",
    "    return [dict(selector=\"th\",\n",
    "                 props=[(\"font-size\", \"7pt\")]),\n",
    "            dict(selector=\"td\",\n",
    "                 props=[('padding', \"0em 0em\")]),\n",
    "            dict(selector=\"th:hover\",\n",
    "                 props=[(\"font-size\", \"12pt\")]),\n",
    "            dict(selector=\"tr:hover td:hover\",\n",
    "                 props=[('max-width', '200px'),\n",
    "                        ('font-size', '12pt')])\n",
    "]\n",
    "\n",
    "corr.style.background_gradient(cmap, axis=1)\\\n",
    "    .set_properties(**{'max-width': '80px', 'font-size': '10pt'})\\\n",
    "    .set_caption(\"Hover to magify\")\\\n",
    "    .set_precision(2)\\\n",
    "    .set_table_styles(magnify())"
   ]
  },
  {
   "cell_type": "markdown",
   "metadata": {},
   "source": [
    "Esta forma de ver la correlación es un poco más clara y podemos ver los valores, pero se mantiene la conclusión anterior."
   ]
  },
  {
   "cell_type": "markdown",
   "metadata": {},
   "source": [
    "## Modelo ALS"
   ]
  },
  {
   "cell_type": "markdown",
   "metadata": {},
   "source": [
    "Construimos las recomendaciones usando el modelo ALS (Alternating Least Squares) en data de train.\n",
    "Los parametros del modelo son los siguientes:\n",
    "\n",
    "- maxIter: cantidad de iteraciones, el valor predeterminado es 10 pero luego de pruebas, nos quedamos con 8.\n",
    "- regParam: especifica el parámetro de regularización (por defecto es 1, pero optamos por 0.05).\n",
    "\n",
    "Luego se definen las columnas del dataset con las que va a trabajar el modelo:\n",
    "- ColdStartStrategy= drop nos aseguramos de eliminar las filas con valores vacíos y por lo tanto no tener métricas con valores NAN.\n",
    "El modelo puede trabajar con implicit o explicit preference, por defecto es implicit= False. En nuestro caso, trabajaremos con lo que viene predeterminado porque lo que indica las preferencias en nuestro dataset es un rating, o sea que sabemos explícitamente qué tanto le gustó una pelicula a un usuario. "
   ]
  },
  {
   "cell_type": "code",
   "execution_count": 33,
   "metadata": {},
   "outputs": [],
   "source": [
    "#separamos los datos en train y test\n",
    "(train, test) = df_cleaned.randomSplit([0.8, 0.2]) "
   ]
  },
  {
   "cell_type": "code",
   "execution_count": 34,
   "metadata": {},
   "outputs": [],
   "source": [
    "#Definimos los parametros con los que vamos a entrenar el modelo y lo entrenamos\n",
    "als = ALS(maxIter=8, regParam=0.05, userCol=\"User_ID\", itemCol=\"Movie_ID\", ratingCol=\"Rating\",\n",
    "          coldStartStrategy=\"drop\")\n",
    "model = als.fit(train)"
   ]
  },
  {
   "cell_type": "code",
   "execution_count": 37,
   "metadata": {},
   "outputs": [],
   "source": [
    "model.save(\"/home/jovyan/model/\")"
   ]
  },
  {
   "cell_type": "code",
   "execution_count": null,
   "metadata": {},
   "outputs": [],
   "source": [
    "! ls /home/jovyan/model"
   ]
  },
  {
   "cell_type": "code",
   "execution_count": null,
   "metadata": {},
   "outputs": [],
   "source": [
    "! ls /home/jovyan/model/itemFactors"
   ]
  },
  {
   "cell_type": "code",
   "execution_count": null,
   "metadata": {},
   "outputs": [],
   "source": [
    "spark.read.parquet('/home/jovyan/model/itemFactors').show(10,False,True)"
   ]
  },
  {
   "cell_type": "code",
   "execution_count": null,
   "metadata": {},
   "outputs": [],
   "source": [
    "! cat /home/jovyan/model/metadata/part-00000"
   ]
  },
  {
   "cell_type": "code",
   "execution_count": null,
   "metadata": {},
   "outputs": [],
   "source": [
    "! ls /home/jovyan/model/userFactors"
   ]
  },
  {
   "cell_type": "code",
   "execution_count": null,
   "metadata": {},
   "outputs": [],
   "source": [
    "spark.read.parquet('/home/jovyan/model/userFactors').show(10,False,True)"
   ]
  },
  {
   "cell_type": "markdown",
   "metadata": {},
   "source": [
    "## Evaluación del modelo"
   ]
  },
  {
   "cell_type": "markdown",
   "metadata": {},
   "source": [
    "Utilizamos RMSE, que calcula el promedio de los errores al cuadraro entre los valores predichos del conjunto de entrenamiento con los valores del conjunto de validación. Cuanto menor es el error, mejor es la capacidad de pronóstico del modelo según el criterio del RMSE.\n",
    "\n",
    "Con un RMSE de 0.86, consideramos que obtenemos buenos resultados porque como el rating va del 1 al 5, el error que en promedio podremos cometer es de 17%. Es decir, dado un rating estimado, en promedio nos estaremos desviando un 17%, lo cual es un buen resultado."
   ]
  },
  {
   "cell_type": "code",
   "execution_count": 44,
   "metadata": {},
   "outputs": [
    {
     "name": "stdout",
     "output_type": "stream",
     "text": [
      "Root-mean-square error = 0.8615964679702744\n"
     ]
    }
   ],
   "source": [
    "predictions = model.transform(test)\n",
    "evaluator = RegressionEvaluator(metricName=\"rmse\", labelCol=\"Rating\",\n",
    "                                predictionCol=\"prediction\")\n",
    "rmse = evaluator.evaluate(predictions)\n",
    "print(\"Root-mean-square error = \" + str(rmse))"
   ]
  },
  {
   "cell_type": "code",
   "execution_count": 45,
   "metadata": {},
   "outputs": [
    {
     "name": "stdout",
     "output_type": "stream",
     "text": [
      "-RECORD 0-----------------------------------------\n",
      " User_ID       | 2383                             \n",
      " Movie_ID      | 148                              \n",
      " Rating        | 2                                \n",
      " timestamp     | 974417654                        \n",
      " Sexo          | F                                \n",
      " Ocupacion     | 14                               \n",
      " Edad          | 25                               \n",
      " Codigo_postal | 95125                            \n",
      " Genero        | Drama                            \n",
      " Titulo        | Awfully Big Adventure, An (1995) \n",
      " prediction    | 2.255461                         \n",
      "-RECORD 1-----------------------------------------\n",
      " User_ID       | 3539                             \n",
      " Movie_ID      | 148                              \n",
      " Rating        | 3                                \n",
      " timestamp     | 966932408                        \n",
      " Sexo          | F                                \n",
      " Ocupacion     | 4                                \n",
      " Edad          | 25                               \n",
      " Codigo_postal | 77006                            \n",
      " Genero        | Drama                            \n",
      " Titulo        | Awfully Big Adventure, An (1995) \n",
      " prediction    | 3.1831822                        \n",
      "-RECORD 2-----------------------------------------\n",
      " User_ID       | 482                              \n",
      " Movie_ID      | 148                              \n",
      " Rating        | 2                                \n",
      " timestamp     | 976219954                        \n",
      " Sexo          | M                                \n",
      " Ocupacion     | 14                               \n",
      " Edad          | 25                               \n",
      " Codigo_postal | 55305                            \n",
      " Genero        | Drama                            \n",
      " Titulo        | Awfully Big Adventure, An (1995) \n",
      " prediction    | 2.5400124                        \n",
      "-RECORD 3-----------------------------------------\n",
      " User_ID       | 319                              \n",
      " Movie_ID      | 463                              \n",
      " Rating        | 2                                \n",
      " timestamp     | 976424451                        \n",
      " Sexo          | F                                \n",
      " Ocupacion     | 6                                \n",
      " Edad          | 50                               \n",
      " Codigo_postal | 33436                            \n",
      " Genero        | Crime|Drama|Thriller             \n",
      " Titulo        | Guilty as Sin (1993)             \n",
      " prediction    | 2.073638                         \n",
      "-RECORD 4-----------------------------------------\n",
      " User_ID       | 746                              \n",
      " Movie_ID      | 463                              \n",
      " Rating        | 1                                \n",
      " timestamp     | 975470754                        \n",
      " Sexo          | F                                \n",
      " Ocupacion     | 19                               \n",
      " Edad          | 18                               \n",
      " Codigo_postal | 95019                            \n",
      " Genero        | Crime|Drama|Thriller             \n",
      " Titulo        | Guilty as Sin (1993)             \n",
      " prediction    | 2.1326842                        \n",
      "-RECORD 5-----------------------------------------\n",
      " User_ID       | 5511                             \n",
      " Movie_ID      | 463                              \n",
      " Rating        | 2                                \n",
      " timestamp     | 959715021                        \n",
      " Sexo          | M                                \n",
      " Ocupacion     | 1                                \n",
      " Edad          | 45                               \n",
      " Codigo_postal | 92407                            \n",
      " Genero        | Crime|Drama|Thriller             \n",
      " Titulo        | Guilty as Sin (1993)             \n",
      " prediction    | 3.558584                         \n",
      "-RECORD 6-----------------------------------------\n",
      " User_ID       | 331                              \n",
      " Movie_ID      | 463                              \n",
      " Rating        | 4                                \n",
      " timestamp     | 979855540                        \n",
      " Sexo          | M                                \n",
      " Ocupacion     | 7                                \n",
      " Edad          | 25                               \n",
      " Codigo_postal | 55902                            \n",
      " Genero        | Crime|Drama|Thriller             \n",
      " Titulo        | Guilty as Sin (1993)             \n",
      " prediction    | 2.5330088                        \n",
      "-RECORD 7-----------------------------------------\n",
      " User_ID       | 524                              \n",
      " Movie_ID      | 463                              \n",
      " Rating        | 3                                \n",
      " timestamp     | 976172772                        \n",
      " Sexo          | M                                \n",
      " Ocupacion     | 0                                \n",
      " Edad          | 18                               \n",
      " Codigo_postal | 91320                            \n",
      " Genero        | Crime|Drama|Thriller             \n",
      " Titulo        | Guilty as Sin (1993)             \n",
      " prediction    | 2.0462933                        \n",
      "-RECORD 8-----------------------------------------\n",
      " User_ID       | 3808                             \n",
      " Movie_ID      | 463                              \n",
      " Rating        | 3                                \n",
      " timestamp     | 965972261                        \n",
      " Sexo          | M                                \n",
      " Ocupacion     | 7                                \n",
      " Edad          | 25                               \n",
      " Codigo_postal | 60010                            \n",
      " Genero        | Crime|Drama|Thriller             \n",
      " Titulo        | Guilty as Sin (1993)             \n",
      " prediction    | 2.6543467                        \n",
      "-RECORD 9-----------------------------------------\n",
      " User_ID       | 934                              \n",
      " Movie_ID      | 463                              \n",
      " Rating        | 3                                \n",
      " timestamp     | 992547644                        \n",
      " Sexo          | F                                \n",
      " Ocupacion     | 7                                \n",
      " Edad          | 35                               \n",
      " Codigo_postal | 97401                            \n",
      " Genero        | Crime|Drama|Thriller             \n",
      " Titulo        | Guilty as Sin (1993)             \n",
      " prediction    | 2.2434833                        \n",
      "only showing top 10 rows\n",
      "\n"
     ]
    }
   ],
   "source": [
    "predictions.show(10,False,True) #mostramos algunas predicciones luego de aplicar el algoritmo"
   ]
  },
  {
   "cell_type": "code",
   "execution_count": 46,
   "metadata": {},
   "outputs": [],
   "source": [
    "#Vemos la primera película recomendada para cada usuario\n",
    "userRecs = model.recommendForAllUsers(1)"
   ]
  },
  {
   "cell_type": "code",
   "execution_count": 47,
   "metadata": {},
   "outputs": [
    {
     "name": "stdout",
     "output_type": "stream",
     "text": [
      "+-------+-------------------+\n",
      "|User_ID|    recommendations|\n",
      "+-------+-------------------+\n",
      "|   1580|   [[557, 4.94973]]|\n",
      "|   4900|  [[572, 6.751706]]|\n",
      "|   5300| [[557, 5.7473125]]|\n",
      "|    471| [[3951, 5.294216]]|\n",
      "|   1591|  [[572, 6.194825]]|\n",
      "|   4101| [[2964, 6.058449]]|\n",
      "|   1342| [[572, 4.8523083]]|\n",
      "|   2122| [[572, 5.4402065]]|\n",
      "|   2142| [[572, 5.2857795]]|\n",
      "|    463|[[2309, 4.8618903]]|\n",
      "|    833|[[2964, 6.4485483]]|\n",
      "|   5803|[[1574, 6.3360844]]|\n",
      "|   3794|[[2309, 5.0118876]]|\n",
      "|   1645| [[2964, 6.847805]]|\n",
      "|   3175|[[2192, 6.4620423]]|\n",
      "|   4935|  [[682, 5.959664]]|\n",
      "|    496|[[2562, 5.9101458]]|\n",
      "|   2366| [[572, 4.9769077]]|\n",
      "|   2866|[[1743, 5.0615377]]|\n",
      "|   5156|  [[572, 6.002281]]|\n",
      "+-------+-------------------+\n",
      "only showing top 20 rows\n",
      "\n"
     ]
    }
   ],
   "source": [
    "#Acá vemos que el resultado que obtenemos tiene dos columnas, una con el User_ID y la otra con una tupla que incluye el \n",
    "#Movie_ID y el rating estimado\n",
    "userRecs.show()"
   ]
  },
  {
   "cell_type": "code",
   "execution_count": 49,
   "metadata": {},
   "outputs": [],
   "source": [
    "users = df_ratings.select(als.getUserCol()).distinct().limit(3)"
   ]
  },
  {
   "cell_type": "code",
   "execution_count": 50,
   "metadata": {},
   "outputs": [
    {
     "data": {
      "text/plain": [
       "DataFrame[User_ID: string]"
      ]
     },
     "execution_count": 50,
     "metadata": {},
     "output_type": "execute_result"
    }
   ],
   "source": [
    "users"
   ]
  },
  {
   "cell_type": "code",
   "execution_count": 51,
   "metadata": {},
   "outputs": [
    {
     "name": "stdout",
     "output_type": "stream",
     "text": [
      "+-------+\n",
      "|User_ID|\n",
      "+-------+\n",
      "|    296|\n",
      "|    467|\n",
      "|    675|\n",
      "+-------+\n",
      "\n"
     ]
    }
   ],
   "source": [
    "users.show()"
   ]
  },
  {
   "cell_type": "code",
   "execution_count": null,
   "metadata": {},
   "outputs": [],
   "source": []
  }
 ],
 "metadata": {
  "kernelspec": {
   "display_name": "Python 3 (ipykernel)",
   "language": "python",
   "name": "python3"
  },
  "language_info": {
   "codemirror_mode": {
    "name": "ipython",
    "version": 3
   },
   "file_extension": ".py",
   "mimetype": "text/x-python",
   "name": "python",
   "nbconvert_exporter": "python",
   "pygments_lexer": "ipython3",
   "version": "3.10.4"
  }
 },
 "nbformat": 4,
 "nbformat_minor": 2
}
