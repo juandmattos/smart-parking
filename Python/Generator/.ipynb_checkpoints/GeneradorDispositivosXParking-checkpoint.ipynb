{
 "cells": [
  {
   "cell_type": "code",
   "execution_count": 1,
   "id": "f889fa22",
   "metadata": {},
   "outputs": [],
   "source": [
    "import os \n",
    "import string\n",
    "import random"
   ]
  },
  {
   "cell_type": "code",
   "execution_count": 2,
   "id": "20fe5e01",
   "metadata": {},
   "outputs": [],
   "source": [
    "directorios = os.listdir(\"/opt/smart-parking/Python/Generator/Parkings\")"
   ]
  },
  {
   "cell_type": "code",
   "execution_count": 3,
   "id": "18add50f",
   "metadata": {},
   "outputs": [
    {
     "name": "stdout",
     "output_type": "stream",
     "text": [
      "Indique cantidad de dispositivos a generar (10): \n"
     ]
    }
   ],
   "source": [
    "length_of_string = 16\n",
    "number_of_strings = input(\"Indique cantidad de dispositivos a generar (10): \")\n",
    "if number_of_strings == \"\":\n",
    "    number_of_strings = 10\n",
    "else:\n",
    "    number_of_strings = int(number_of_strings)\n",
    "devicesFinal = {}\n",
    "for d in directorios:\n",
    "    devices = []\n",
    "    for x in range(number_of_strings):\n",
    "        devices.append(''.join(random.choice(string.ascii_uppercase[0:6] + string.digits) for _ in range(length_of_string)))\n",
    "    devicesFinal[d] = devices\n",
    "    \n",
    "    with open(\"/opt/smart-parking/Python/Generator/Parkings/\"+d+\"/\"+d+\"Devices.txt\", \"w+\") as f:\n",
    "        f.write(\"\\n\".join(devicesFinal[d]))\n",
    "\n"
   ]
  }
 ],
 "metadata": {
  "kernelspec": {
   "display_name": "Python 3 (ipykernel)",
   "language": "python",
   "name": "python3"
  },
  "language_info": {
   "codemirror_mode": {
    "name": "ipython",
    "version": 3
   },
   "file_extension": ".py",
   "mimetype": "text/x-python",
   "name": "python",
   "nbconvert_exporter": "python",
   "pygments_lexer": "ipython3",
   "version": "3.10.4"
  }
 },
 "nbformat": 4,
 "nbformat_minor": 5
}
