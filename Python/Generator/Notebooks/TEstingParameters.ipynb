{
 "cells": [
  {
   "cell_type": "code",
   "execution_count": 2,
   "id": "b62645bc",
   "metadata": {},
   "outputs": [],
   "source": [
    "import sys "
   ]
  },
  {
   "cell_type": "code",
   "execution_count": 3,
   "id": "461c5326",
   "metadata": {},
   "outputs": [
    {
     "data": {
      "text/plain": [
       "['/home/spsystem/.local/lib/python3.10/site-packages/ipykernel_launcher.py',\n",
       " '-f',\n",
       " '/home/spsystem/.local/share/jupyter/runtime/kernel-d61624dc-86de-4561-9dd1-c2e0cb12c551.json']"
      ]
     },
     "execution_count": 3,
     "metadata": {},
     "output_type": "execute_result"
    }
   ],
   "source": [
    "sys.argv"
   ]
  },
  {
   "cell_type": "code",
   "execution_count": 4,
   "id": "06012c09",
   "metadata": {},
   "outputs": [],
   "source": [
    "import os\n",
    "import uuid"
   ]
  },
  {
   "cell_type": "code",
   "execution_count": 12,
   "id": "8e90d6ca",
   "metadata": {},
   "outputs": [
    {
     "data": {
      "text/plain": [
       "'f6965716-e3a0-4fae-a7c3-be200459b27b'"
      ]
     },
     "execution_count": 12,
     "metadata": {},
     "output_type": "execute_result"
    }
   ],
   "source": [
    "uuid.uuid4().urn.split(\":\")[-1]"
   ]
  },
  {
   "cell_type": "code",
   "execution_count": 14,
   "id": "e500ee2d",
   "metadata": {},
   "outputs": [
    {
     "name": "stdout",
     "output_type": "stream",
     "text": [
      "\n",
      "Bienvenido a la primer Script del Proyecto SmartParkingSystem\n",
      "este script esta diseñado para la generación de un nuevo Parking\n",
      "para la integración dentro del Sistema de BigData\n",
      "['/home/spsystem/.local/lib/python3.10/site-packages/ipykernel_launcher.py', '-f', '/home/spsystem/.local/share/jupyter/runtime/kernel-d61624dc-86de-4561-9dd1-c2e0cb12c551.json']\n"
     ]
    },
    {
     "ename": "KeyboardInterrupt",
     "evalue": "Interrupted by user",
     "output_type": "error",
     "traceback": [
      "\u001b[0;31m---------------------------------------------------------------------------\u001b[0m",
      "\u001b[0;31mKeyboardInterrupt\u001b[0m                         Traceback (most recent call last)",
      "Input \u001b[0;32mIn [14]\u001b[0m, in \u001b[0;36m<cell line: 28>\u001b[0;34m()\u001b[0m\n\u001b[1;32m     29\u001b[0m     parking_description \u001b[38;5;241m=\u001b[39m sys\u001b[38;5;241m.\u001b[39margv[\u001b[38;5;241m3\u001b[39m]\n\u001b[1;32m     30\u001b[0m \u001b[38;5;28;01mexcept\u001b[39;00m \u001b[38;5;167;01mIndexError\u001b[39;00m:\n\u001b[0;32m---> 31\u001b[0m     parking_description \u001b[38;5;241m=\u001b[39m \u001b[38;5;28;43minput\u001b[39;49m\u001b[43m(\u001b[49m\u001b[38;5;124;43m\"\u001b[39;49m\u001b[38;5;124;43mIndique una descripcion para el parking: \u001b[39;49m\u001b[38;5;124;43m\"\u001b[39;49m\u001b[43m)\u001b[49m\n\u001b[1;32m     33\u001b[0m uuidDevice \u001b[38;5;241m=\u001b[39m uuid\u001b[38;5;241m.\u001b[39muuid4()\u001b[38;5;241m.\u001b[39murn\u001b[38;5;241m.\u001b[39msplit(\u001b[38;5;124m\"\u001b[39m\u001b[38;5;124m:\u001b[39m\u001b[38;5;124m\"\u001b[39m)[\u001b[38;5;241m-\u001b[39m\u001b[38;5;241m1\u001b[39m]\n\u001b[1;32m     35\u001b[0m contenido \u001b[38;5;241m=\u001b[39m os\u001b[38;5;241m.\u001b[39mlistdir(dirGeneral)\n",
      "File \u001b[0;32m~/.local/lib/python3.10/site-packages/ipykernel/kernelbase.py:1161\u001b[0m, in \u001b[0;36mKernel.raw_input\u001b[0;34m(self, prompt)\u001b[0m\n\u001b[1;32m   1157\u001b[0m \u001b[38;5;28;01mif\u001b[39;00m \u001b[38;5;129;01mnot\u001b[39;00m \u001b[38;5;28mself\u001b[39m\u001b[38;5;241m.\u001b[39m_allow_stdin:\n\u001b[1;32m   1158\u001b[0m     \u001b[38;5;28;01mraise\u001b[39;00m StdinNotImplementedError(\n\u001b[1;32m   1159\u001b[0m         \u001b[38;5;124m\"\u001b[39m\u001b[38;5;124mraw_input was called, but this frontend does not support input requests.\u001b[39m\u001b[38;5;124m\"\u001b[39m\n\u001b[1;32m   1160\u001b[0m     )\n\u001b[0;32m-> 1161\u001b[0m \u001b[38;5;28;01mreturn\u001b[39;00m \u001b[38;5;28;43mself\u001b[39;49m\u001b[38;5;241;43m.\u001b[39;49m\u001b[43m_input_request\u001b[49m\u001b[43m(\u001b[49m\n\u001b[1;32m   1162\u001b[0m \u001b[43m    \u001b[49m\u001b[38;5;28;43mstr\u001b[39;49m\u001b[43m(\u001b[49m\u001b[43mprompt\u001b[49m\u001b[43m)\u001b[49m\u001b[43m,\u001b[49m\n\u001b[1;32m   1163\u001b[0m \u001b[43m    \u001b[49m\u001b[38;5;28;43mself\u001b[39;49m\u001b[38;5;241;43m.\u001b[39;49m\u001b[43m_parent_ident\u001b[49m\u001b[43m[\u001b[49m\u001b[38;5;124;43m\"\u001b[39;49m\u001b[38;5;124;43mshell\u001b[39;49m\u001b[38;5;124;43m\"\u001b[39;49m\u001b[43m]\u001b[49m\u001b[43m,\u001b[49m\n\u001b[1;32m   1164\u001b[0m \u001b[43m    \u001b[49m\u001b[38;5;28;43mself\u001b[39;49m\u001b[38;5;241;43m.\u001b[39;49m\u001b[43mget_parent\u001b[49m\u001b[43m(\u001b[49m\u001b[38;5;124;43m\"\u001b[39;49m\u001b[38;5;124;43mshell\u001b[39;49m\u001b[38;5;124;43m\"\u001b[39;49m\u001b[43m)\u001b[49m\u001b[43m,\u001b[49m\n\u001b[1;32m   1165\u001b[0m \u001b[43m    \u001b[49m\u001b[43mpassword\u001b[49m\u001b[38;5;241;43m=\u001b[39;49m\u001b[38;5;28;43;01mFalse\u001b[39;49;00m\u001b[43m,\u001b[49m\n\u001b[1;32m   1166\u001b[0m \u001b[43m\u001b[49m\u001b[43m)\u001b[49m\n",
      "File \u001b[0;32m~/.local/lib/python3.10/site-packages/ipykernel/kernelbase.py:1205\u001b[0m, in \u001b[0;36mKernel._input_request\u001b[0;34m(self, prompt, ident, parent, password)\u001b[0m\n\u001b[1;32m   1202\u001b[0m             \u001b[38;5;28;01mbreak\u001b[39;00m\n\u001b[1;32m   1203\u001b[0m \u001b[38;5;28;01mexcept\u001b[39;00m \u001b[38;5;167;01mKeyboardInterrupt\u001b[39;00m:\n\u001b[1;32m   1204\u001b[0m     \u001b[38;5;66;03m# re-raise KeyboardInterrupt, to truncate traceback\u001b[39;00m\n\u001b[0;32m-> 1205\u001b[0m     \u001b[38;5;28;01mraise\u001b[39;00m \u001b[38;5;167;01mKeyboardInterrupt\u001b[39;00m(\u001b[38;5;124m\"\u001b[39m\u001b[38;5;124mInterrupted by user\u001b[39m\u001b[38;5;124m\"\u001b[39m) \u001b[38;5;28;01mfrom\u001b[39;00m \u001b[38;5;28mNone\u001b[39m\n\u001b[1;32m   1206\u001b[0m \u001b[38;5;28;01mexcept\u001b[39;00m \u001b[38;5;167;01mException\u001b[39;00m:\n\u001b[1;32m   1207\u001b[0m     \u001b[38;5;28mself\u001b[39m\u001b[38;5;241m.\u001b[39mlog\u001b[38;5;241m.\u001b[39mwarning(\u001b[38;5;124m\"\u001b[39m\u001b[38;5;124mInvalid Message:\u001b[39m\u001b[38;5;124m\"\u001b[39m, exc_info\u001b[38;5;241m=\u001b[39m\u001b[38;5;28;01mTrue\u001b[39;00m)\n",
      "\u001b[0;31mKeyboardInterrupt\u001b[0m: Interrupted by user"
     ]
    }
   ],
   "source": [
    "import os \n",
    "import sys \n",
    "import uuid\n",
    "\n",
    "\n",
    "print(\"\"\"\n",
    "Bienvenido a la primer Script del Proyecto SmartParkingSystem\n",
    "este script esta diseñado para la generación de un nuevo Parking\n",
    "para la integración dentro del Sistema de BigData\"\"\")\n",
    "\n",
    "print(sys.argv)\n",
    "\n",
    "dirGeneral = \"/opt/smart-parking/Python/Generator/\"\n",
    "try:\n",
    "    parking = sys.argv[1]\n",
    "except IndexError:\n",
    "    parking = input(\"Indique el nombre del parking a crear: \")\n",
    "\n",
    "if \" \" in parking:\n",
    "    parking = parking.replace(\" \", \"\")\n",
    "\n",
    "try:\n",
    "    parking_address = sys.argv[2]\n",
    "except IndexError:\n",
    "    parking_address = input(\"Indique la direccion del parking: \")\n",
    "\n",
    "\n",
    "try:\n",
    "    parking_description = sys.argv[3]\n",
    "except IndexError:\n",
    "    parking_description = input(\"Indique una descripcion para el parking: \")\n",
    "    \n",
    "uuidDevice = uuid.uuid4().urn.split(\":\")[-1]\n",
    "\n",
    "contenido = os.listdir(dirGeneral)\n",
    "# Rutina de creación de Parking \n",
    "if \"BaseConfig\" in contenido:\n",
    "    os.system(\"cp -r \"+dirGeneral+\"BaseConfig/ \"+dirGeneral+parking)"
   ]
  },
  {
   "cell_type": "code",
   "execution_count": 15,
   "id": "4a86b5ab",
   "metadata": {},
   "outputs": [],
   "source": [
    "import os\n",
    "import sys\n",
    "import uuid"
   ]
  },
  {
   "cell_type": "code",
   "execution_count": 20,
   "id": "53290df6",
   "metadata": {},
   "outputs": [],
   "source": [
    "def parameters(argv): \n",
    "    try:      \n",
    "        opts, args = getopt.getopt(argv, \"hdanc:\", [\"help\", \"description=\", \"address=\", \"name=\", \"create\"])\n",
    "    except getopt.GetoptError:          \n",
    "        print(\"Opcion no valida\")\n",
    "        usage()                        \n",
    "        sys.exit(2)   \n",
    "    \n",
    "    create = False\n",
    "    description = \"\"\n",
    "    address = \"\"\n",
    "    name = \"\"\n",
    "    for opt, arg in opts:                \n",
    "        if opt in (\"-h\", \"--help\"):      \n",
    "            usage()               \n",
    "            sys.exit()                  \n",
    "        elif opt in ('-d', \"--description\"):                \n",
    "            description = arg\n",
    "        elif opt in ('-a', \"--address\"):                \n",
    "            address = arg\n",
    "        elif opt in ('-n', \"--name\"):                \n",
    "            name = arg\n",
    "        elif opt in ('-c', \"--create\"):                \n",
    "            create = True\n",
    "    \n",
    "    return create, description, address, name"
   ]
  },
  {
   "cell_type": "code",
   "execution_count": 21,
   "id": "f6273071",
   "metadata": {},
   "outputs": [],
   "source": [
    "def usage():\n",
    "    print(\"\"\"\n",
    "Opciones:\n",
    "--help (-h)\\t\\tMenu de Opciones del programa\n",
    "--description (-d)\\t\\tDescripcion del parking (Mandatorio)\n",
    "--address (-a)\\t\\tNombre de la Calle y numero de puerta del Parking (Mandatorio)\n",
    "--name (-n)\\t\\tNombre del Parking (Mandatorio)\n",
    "--create (-c)\\t\\tFuncion de creacion del directorio del parking\n",
    "\"\"\")"
   ]
  },
  {
   "cell_type": "code",
   "execution_count": null,
   "id": "1d3e4a55",
   "metadata": {},
   "outputs": [],
   "source": [
    "parameters"
   ]
  }
 ],
 "metadata": {
  "kernelspec": {
   "display_name": "Python 3 (ipykernel)",
   "language": "python",
   "name": "python3"
  },
  "language_info": {
   "codemirror_mode": {
    "name": "ipython",
    "version": 3
   },
   "file_extension": ".py",
   "mimetype": "text/x-python",
   "name": "python",
   "nbconvert_exporter": "python",
   "pygments_lexer": "ipython3",
   "version": "3.10.4"
  }
 },
 "nbformat": 4,
 "nbformat_minor": 5
}
