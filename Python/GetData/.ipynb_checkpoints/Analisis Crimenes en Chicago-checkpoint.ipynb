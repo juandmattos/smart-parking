{
 "cells": [
  {
   "cell_type": "markdown",
   "metadata": {},
   "source": [
    "### Spark DataFrames: Exploring Chicago Crimes\n",
    "\n",
    "En este notebook se analizarán los datos de crímenes de [data.gov](https://data.cityofchicago.org/api/views/ijzp-q8t2/rows.csv?accessType=DOWNLOAD). En éste dataset se encuentran reportados los crímenes que ocurrieron en la ciudad de Chicago desde el año 2001.\n",
    "\n",
    "Primero, iniciamos una SparkSession..."
   ]
  },
  {
   "cell_type": "code",
   "execution_count": null,
   "metadata": {
    "collapsed": true
   },
   "outputs": [],
   "source": [
    "from pyspark.sql import SparkSession\n",
    "spark = SparkSession.builder.appName(\"Chicago_crime_analysis\").getOrCreate()"
   ]
  },
  {
   "cell_type": "code",
   "execution_count": null,
   "metadata": {
    "collapsed": true
   },
   "outputs": [],
   "source": [
    "from pyspark.sql.types import  (StructType, \n",
    "                                StructField, \n",
    "                                DateType, \n",
    "                                BooleanType,\n",
    "                                DoubleType,\n",
    "                                IntegerType,\n",
    "                                StringType,\n",
    "                               TimestampType)\n",
    "from pyspark.sql.functions import col\n"
   ]
  },
  {
   "cell_type": "markdown",
   "metadata": {},
   "source": [
    "#### Creamos el dataframe crimes"
   ]
  },
  {
   "cell_type": "code",
   "execution_count": null,
   "metadata": {
    "collapsed": true
   },
   "outputs": [],
   "source": [
    "crimes = spark.read.csv(\"data/Crimes_2001_toPresent.csv\", header = True) "
   ]
  },
  {
   "cell_type": "markdown",
   "metadata": {},
   "source": [
    "Primero mostramos cuantos registros tiene el dataframe:"
   ]
  },
  {
   "cell_type": "code",
   "execution_count": null,
   "metadata": {},
   "outputs": [],
   "source": [
    "print(\" The crimes dataframe has {} records\".format(crimes.count()))"
   ]
  },
  {
   "cell_type": "code",
   "execution_count": null,
   "metadata": {
    "collapsed": true
   },
   "outputs": [],
   "source": [
    "crimes = crimes.withColumn(\"Arrest\", (crimes.Arrest).cast('Boolean'))\\\n",
    "               .withColumn(\"Domestic\", (crimes.Domestic).cast('Boolean'))\\\n",
    "               .withColumn(\"X Coordinate\", (col(\"X Coordinate\").cast('Double')))\\\n",
    "               .withColumn(\"Y Coordinate\", (col(\"Y Coordinate\").cast('Double')))\\\n",
    "               .withColumn(\"Year\", (crimes.Year.cast('Integer')))\\\n",
    "               .withColumn(\"Updated On\", (col(\"Updated On\").cast('Date')))\\\n",
    "               .withColumn(\"Latitude\", (crimes.Latitude.cast('Double')))\\\n",
    "               .withColumn(\"Longitude\", (crimes.Longitude.cast('Double')))"
   ]
  },
  {
   "cell_type": "markdown",
   "metadata": {},
   "source": [
    "Con los comandos que siguen podemos visualizar las columnas del DF y sus tipos de datos."
   ]
  },
  {
   "cell_type": "code",
   "execution_count": null,
   "metadata": {},
   "outputs": [],
   "source": [
    "crimes.columns"
   ]
  },
  {
   "cell_type": "code",
   "execution_count": null,
   "metadata": {},
   "outputs": [],
   "source": [
    "crimes.dtypes"
   ]
  },
  {
   "cell_type": "code",
   "execution_count": null,
   "metadata": {},
   "outputs": [],
   "source": [
    "crimes.printSchema()"
   ]
  },
  {
   "cell_type": "code",
   "execution_count": null,
   "metadata": {},
   "outputs": [],
   "source": [
    "crimes.select(\"*\").show(10)"
   ]
  },
  {
   "cell_type": "code",
   "execution_count": null,
   "metadata": {},
   "outputs": [],
   "source": [
    "crimes.select(\"Date\").show(10, truncate = False)"
   ]
  },
  {
   "cell_type": "markdown",
   "metadata": {},
   "source": [
    "#### Cambio de tipo de dato de una columna\n",
    "\n",
    "La columna \"Date\" se encuentra en formato string. Vamos a cambiarla al tipo de dato timestamp utilizando una udf.f).\n",
    "\n",
    "Con **withColumn** creamos una columna nueva y con **drop** la eliminamos."
   ]
  },
  {
   "cell_type": "code",
   "execution_count": null,
   "metadata": {},
   "outputs": [],
   "source": [
    "from datetime import datetime\n",
    "from pyspark.sql.functions import col,udf\n",
    "\n",
    "myfunc =  udf(lambda x: datetime.strptime(x, '%m/%d/%Y %I:%M:%S %p'), TimestampType())\n",
    "df = crimes.withColumn('Date_time', myfunc(col('Date'))).drop(\"Date\")\n",
    "\n",
    "df.select(df[\"Date_time\"]).show(5)"
   ]
  },
  {
   "cell_type": "code",
   "execution_count": null,
   "metadata": {},
   "outputs": [],
   "source": [
    "df.dtypes"
   ]
  },
  {
   "cell_type": "markdown",
   "metadata": {},
   "source": [
    "### Uso de describe para las columnas numéricas\n",
    "\n"
   ]
  },
  {
   "cell_type": "code",
   "execution_count": null,
   "metadata": {},
   "outputs": [],
   "source": [
    "crimes.select([\"Latitude\",\"Longitude\",\"Year\",\"X Coordinate\",\"Y Coordinate\"]).describe().show()"
   ]
  },
  {
   "cell_type": "markdown",
   "metadata": {},
   "source": [
    "Usamos **format_number** para cambiar el formato de algunas variables."
   ]
  },
  {
   "cell_type": "code",
   "execution_count": null,
   "metadata": {
    "collapsed": true
   },
   "outputs": [],
   "source": [
    "from pyspark.sql.functions import format_number"
   ]
  },
  {
   "cell_type": "code",
   "execution_count": null,
   "metadata": {
    "scrolled": true
   },
   "outputs": [],
   "source": [
    "result = crimes.select([\"Latitude\",\"Longitude\",\"Year\",\"X Coordinate\",\"Y Coordinate\"]).describe()\n",
    "result.select(result['summary'],\n",
    "              format_number(result['Latitude'].cast('float'),2).alias('Latitude'),\n",
    "              format_number(result['Longitude'].cast('float'),2).alias('Longitude'),\n",
    "              result['Year'].cast('int').alias('year'),\n",
    "              format_number(result['X Coordinate'].cast('float'),2).alias('X Coordinate'),\n",
    "              format_number(result['Y Coordinate'].cast('float'),2).alias('Y Coordinate')\n",
    "             ).show()"
   ]
  },
  {
   "cell_type": "markdown",
   "metadata": {},
   "source": [
    "#### Cuantos tipos primarios de crímenes existen?\n"
   ]
  },
  {
   "cell_type": "code",
   "execution_count": null,
   "metadata": {},
   "outputs": [],
   "source": [
    "crimes.select(\"Primary Type\").distinct().count()"
   ]
  },
  {
   "cell_type": "markdown",
   "metadata": {},
   "source": [
    "Podemos visualizarlos en una lista:"
   ]
  },
  {
   "cell_type": "code",
   "execution_count": null,
   "metadata": {},
   "outputs": [],
   "source": [
    "crimes.select(\"Primary Type\").distinct().show(n = 35)"
   ]
  },
  {
   "cell_type": "markdown",
   "metadata": {},
   "source": [
    "#### Ejercicio - Cuántos homicidios hay en el dataframe ?"
   ]
  },
  {
   "cell_type": "code",
   "execution_count": null,
   "metadata": {},
   "outputs": [],
   "source": []
  },
  {
   "cell_type": "markdown",
   "metadata": {},
   "source": [
    "#### Ejercicio - Cuántos asaltos domésticos hay ?\n"
   ]
  },
  {
   "cell_type": "code",
   "execution_count": null,
   "metadata": {
    "scrolled": true
   },
   "outputs": [],
   "source": []
  },
  {
   "cell_type": "code",
   "execution_count": null,
   "metadata": {},
   "outputs": [],
   "source": [
    "columns = ['Primary Type', 'Description', 'Arrest', 'Domestic']\n",
    "\n",
    "crimes.where((crimes[\"Primary Type\"] == \"HOMICIDE\") & (crimes[\"Arrest\"] == \"true\"))\\\n",
    "                                                        .select(columns).show(10)"
   ]
  },
  {
   "cell_type": "markdown",
   "metadata": {},
   "source": [
    "Podemos usar **limit** para limitar la cantidad de filas que obtenemos del dataframe. "
   ]
  },
  {
   "cell_type": "code",
   "execution_count": null,
   "metadata": {},
   "outputs": [],
   "source": [
    "crimes.select(columns).limit(11). show(truncate = True)"
   ]
  },
  {
   "cell_type": "code",
   "execution_count": null,
   "metadata": {},
   "outputs": [],
   "source": [
    "lat_max = crimes.agg({\"Latitude\" : \"max\"}).collect()[0][0]\n",
    "\n",
    "print(\"The maximum latitude values is {}\".format(lat_max))\n"
   ]
  },
  {
   "cell_type": "markdown",
   "metadata": {},
   "source": [
    "#### Ejercicio - crear una nueva columna \"difference_from_max_lat\" con la diferencia respecto a la variable \"lat_max\" y mostrar el resultado (las primeras 5 filas)\n"
   ]
  },
  {
   "cell_type": "code",
   "execution_count": null,
   "metadata": {
    "collapsed": true
   },
   "outputs": [],
   "source": []
  },
  {
   "cell_type": "code",
   "execution_count": null,
   "metadata": {},
   "outputs": [],
   "source": []
  },
  {
   "cell_type": "markdown",
   "metadata": {},
   "source": [
    "#### Cómo renombrar columnas\n"
   ]
  },
  {
   "cell_type": "code",
   "execution_count": null,
   "metadata": {},
   "outputs": [],
   "source": [
    "df = crimes.withColumnRenamed(\"Latitude\", \"Lat\")\n",
    "df.columns"
   ]
  },
  {
   "cell_type": "code",
   "execution_count": null,
   "metadata": {},
   "outputs": [],
   "source": [
    "columns = ['Primary Type', 'Description', 'Arrest', 'Domestic','Lat']\n",
    "\n",
    "df.orderBy(df[\"Lat\"].desc()).select(columns).show(10)"
   ]
  },
  {
   "cell_type": "markdown",
   "metadata": {},
   "source": [
    "### Funciones de spark para promedios, máximos y mínimos\n",
    "\n",
    "Calculamos el promedio del valor de la latitud."
   ]
  },
  {
   "cell_type": "code",
   "execution_count": null,
   "metadata": {},
   "outputs": [],
   "source": [
    "from pyspark.sql.functions import mean\n",
    "df.select(mean(\"Lat\")).alias(\"Mean Latitude\").show()"
   ]
  },
  {
   "cell_type": "markdown",
   "metadata": {},
   "source": [
    "También podemos calcular el promedio con la función **agg**."
   ]
  },
  {
   "cell_type": "code",
   "execution_count": null,
   "metadata": {},
   "outputs": [],
   "source": [
    "df.agg({\"Lat\":\"avg\"}).show()"
   ]
  },
  {
   "cell_type": "code",
   "execution_count": null,
   "metadata": {
    "collapsed": true
   },
   "outputs": [],
   "source": [
    "from pyspark.sql.functions import max,min"
   ]
  },
  {
   "cell_type": "code",
   "execution_count": null,
   "metadata": {},
   "outputs": [],
   "source": [
    "df.select(max(\"X coordinate\"),min(\"X coordinate\")).show()"
   ]
  },
  {
   "cell_type": "markdown",
   "metadata": {},
   "source": [
    "#### Que porcentaje de crímenes son \"Domestic\""
   ]
  },
  {
   "cell_type": "code",
   "execution_count": null,
   "metadata": {},
   "outputs": [],
   "source": [
    "df.filter(df[\"Domestic\"]==True).count()/df.count() * 100"
   ]
  },
  {
   "cell_type": "markdown",
   "metadata": {},
   "source": [
    "#### Coeficiente de correlacion de Pearson entre Lat y Y coordinate?"
   ]
  },
  {
   "cell_type": "code",
   "execution_count": null,
   "metadata": {},
   "outputs": [],
   "source": [
    "from pyspark.sql.functions import corr\n",
    "df.select(corr(\"Lat\",\"Y coordinate\")).show()"
   ]
  },
  {
   "cell_type": "markdown",
   "metadata": {},
   "source": [
    "#### Cantidad de crímenes por año"
   ]
  },
  {
   "cell_type": "code",
   "execution_count": null,
   "metadata": {},
   "outputs": [],
   "source": [
    "df.groupBy(\"Year\").count().show()"
   ]
  },
  {
   "cell_type": "code",
   "execution_count": null,
   "metadata": {},
   "outputs": [],
   "source": [
    "df.groupBy(\"Year\").count().collect()"
   ]
  },
  {
   "cell_type": "markdown",
   "metadata": {},
   "source": [
    "####    Usamos matplotlib y pandas para plotear la cantidad de crímenes por año"
   ]
  },
  {
   "cell_type": "code",
   "execution_count": null,
   "metadata": {
    "collapsed": true
   },
   "outputs": [],
   "source": [
    "count = [item[1] for item in df.groupBy(\"Year\").count().collect()]\n",
    "year = [item[0] for item in df.groupBy(\"Year\").count().collect()]"
   ]
  },
  {
   "cell_type": "code",
   "execution_count": null,
   "metadata": {
    "collapsed": true
   },
   "outputs": [],
   "source": [
    "number_of_crimes_per_year = {\"count\":count, \"year\" : year}"
   ]
  },
  {
   "cell_type": "code",
   "execution_count": null,
   "metadata": {
    "collapsed": true
   },
   "outputs": [],
   "source": [
    "import pandas as pd\n",
    "import matplotlib.pyplot as plt\n",
    "%matplotlib inline"
   ]
  },
  {
   "cell_type": "code",
   "execution_count": null,
   "metadata": {
    "collapsed": true
   },
   "outputs": [],
   "source": [
    "number_of_crimes_per_year = pd.DataFrame(number_of_crimes_per_year)"
   ]
  },
  {
   "cell_type": "code",
   "execution_count": null,
   "metadata": {},
   "outputs": [],
   "source": [
    "number_of_crimes_per_year.head()"
   ]
  },
  {
   "cell_type": "markdown",
   "metadata": {},
   "source": [
    "<div>\n",
    "<style scoped>\n",
    "    .dataframe tbody tr th:only-of-type {\n",
    "        vertical-align: middle;\n",
    "    }"
   ]
  },
  {
   "cell_type": "code",
   "execution_count": null,
   "metadata": {},
   "outputs": [],
   "source": [
    "number_of_crimes_per_year = number_of_crimes_per_year.sort_values(by = \"year\")\n",
    "\n",
    "number_of_crimes_per_year.plot(figsize = (20,10), kind = \"bar\", color = \"red\",\n",
    "                               x = \"year\", y = \"count\", legend = False)\n",
    "\n",
    "plt.xlabel(\"\", fontsize = 18)\n",
    "plt.ylabel(\"Number of Crimes\", fontsize = 18)\n",
    "plt.title(\"Number of Crimes Per Year\", fontsize = 28)\n",
    "plt.xticks(size = 18)\n",
    "plt.yticks(size = 18)\n",
    "plt.show()"
   ]
  },
  {
   "cell_type": "markdown",
   "metadata": {},
   "source": [
    "### Dónde ocurren la mayoría de los crímenes?"
   ]
  },
  {
   "cell_type": "code",
   "execution_count": null,
   "metadata": {},
   "outputs": [],
   "source": [
    "crimes.groupBy(\"Location Description\").count().show()"
   ]
  },
  {
   "cell_type": "code",
   "execution_count": null,
   "metadata": {},
   "outputs": [],
   "source": [
    "crime_location  = crimes.groupBy(\"Location Description\").count().collect()\n",
    "location = [item[0] for item in crime_location]\n",
    "count = [item[1] for item in crime_location]\n",
    "crime_location = {\"location\" : location, \"count\": count}\n",
    "crime_location = pd.DataFrame(crime_location)\n",
    "crime_location = crime_location.sort_values(by = \"count\", ascending  = False)\n",
    "crime_location.iloc[:5]"
   ]
  },
  {
   "cell_type": "markdown",
   "metadata": {},
   "source": [
    "<div>\n",
    "<style scoped>\n",
    "    .dataframe tbody tr th:only-of-type {\n",
    "        vertical-align: middle;\n",
    "    }"
   ]
  },
  {
   "cell_type": "code",
   "execution_count": null,
   "metadata": {},
   "outputs": [],
   "source": [
    "crime_location = crime_location.iloc[:20]\n",
    "\n",
    "myplot = crime_location .plot(figsize = (20,20), kind = \"barh\", color = \"#b35900\", width = 0.8,\n",
    "                               x = \"location\", y = \"count\", legend = False)\n",
    "\n",
    "myplot.invert_yaxis()\n",
    "\n",
    "plt.xlabel(\"Number of crimes\", fontsize = 28)\n",
    "plt.ylabel(\"Crime Location\", fontsize = 28)\n",
    "plt.title(\"Number of Crimes By Location\", fontsize = 36)\n",
    "plt.xticks(size = 24)\n",
    "plt.yticks(size = 24)\n",
    "plt.show()"
   ]
  }
 ],
 "metadata": {
  "kernelspec": {
   "display_name": "Python 3",
   "language": "python",
   "name": "python3"
  },
  "language_info": {
   "codemirror_mode": {
    "name": "ipython",
    "version": 3
   },
   "file_extension": ".py",
   "mimetype": "text/x-python",
   "name": "python",
   "nbconvert_exporter": "python",
   "pygments_lexer": "ipython3",
   "version": "3.6.2"
  }
 },
 "nbformat": 4,
 "nbformat_minor": 2
}
