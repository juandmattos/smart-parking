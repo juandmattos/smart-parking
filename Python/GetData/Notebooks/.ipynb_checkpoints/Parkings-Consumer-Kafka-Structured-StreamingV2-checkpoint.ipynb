{
 "cells": [
  {
   "cell_type": "code",
   "execution_count": 1,
   "metadata": {},
   "outputs": [],
   "source": [
    "import subprocess\n",
    "import findspark\n",
    "from pyspark.sql import SparkSession\n",
    "from pyspark.sql.functions import explode\n",
    "from pyspark.sql.functions import split\n",
    "from pyspark.sql.functions import from_unixtime\n",
    "from pyspark.sql.functions import from_json\n",
    "from pyspark.sql.types import *"
   ]
  },
  {
   "cell_type": "code",
   "execution_count": 2,
   "metadata": {},
   "outputs": [],
   "source": [
    "findspark.init(spark_home='/opt/spark')"
   ]
  },
  {
   "cell_type": "code",
   "execution_count": 3,
   "metadata": {},
   "outputs": [
    {
     "data": {
      "text/plain": [
       "['0_1_1_A', '0_1_1_B', '1_1_1_A', 'XBEESmartParkingModel']"
      ]
     },
     "execution_count": 3,
     "metadata": {},
     "output_type": "execute_result"
    }
   ],
   "source": [
    "topics = subprocess.check_output(\"/opt/kafka/bin/kafka-topics.sh --list --bootstrap-server hadoop-namenode:9092\", shell=True)\n",
    "topics = topics.split()\n",
    "topics = [ topic.decode(\"UTF-8\") for topic in topics ]\n",
    "topics.pop()\n",
    "topics"
   ]
  },
  {
   "cell_type": "code",
   "execution_count": 4,
   "metadata": {},
   "outputs": [],
   "source": [
    "schema = StructType([StructField(\"parking_name\", StringType())])"
   ]
  },
  {
   "cell_type": "code",
   "execution_count": 5,
   "metadata": {},
   "outputs": [
    {
     "name": "stderr",
     "output_type": "stream",
     "text": [
      "22/05/09 01:05:53 WARN NativeCodeLoader: Unable to load native-hadoop library for your platform... using builtin-java classes where applicable\n"
     ]
    }
   ],
   "source": [
    "# Spark session & context\n",
    "spark = (SparkSession\n",
    "         .builder\n",
    "         .master('local')\n",
    "         .appName('Parkings')\n",
    "         .config('spark.jars', 'file:///opt/smart-parking/Python/GetData/spark-sql-kafka-0-10_2.12-3.2.1.jar,file:///opt/smart-parking/Python/GetData/kafka-clients-3.1.0.jar')\n",
    "         .config('spark.executor.extraClassPath','file:///opt/smart-parking/Python/GetData/spark-sql-kafka-0-10_2.12-3.2.1.jar:file:///opt/smart-parking/Python/GetData/kafka-clients-3.1.0.jar')\n",
    "         .config('spark.executor.extraLibrary','file:///opt/smart-parking/Python/GetData/spark-sql-kafka-0-10_2.12-3.2.1.jar:file:///opt/smart-parking/Python/GetData/kafka-clients-3.1.0.jar')\n",
    "         .config('spark.driver.extraClassPath', 'file:///opt/smart-parking/Python/GetData/spark-sql-kafka-0-10_2.12-3.2.1.jar:file:///opt/smart-parking/Python/GetData/kafka-clients-3.1.0.jar')\n",
    "         .getOrCreate())\n",
    "\n",
    "spark.sparkContext.setLogLevel(\"ERROR\")\n",
    "sc = spark.sparkContext"
   ]
  },
  {
   "cell_type": "code",
   "execution_count": 6,
   "metadata": {},
   "outputs": [
    {
     "data": {
      "text/plain": [
       "DataFrame[key: string, value: string]"
      ]
     },
     "execution_count": 6,
     "metadata": {},
     "output_type": "execute_result"
    }
   ],
   "source": [
    "# Subscribe to 1 topic\n",
    "df = spark \\\n",
    "  .readStream \\\n",
    "  .format(\"kafka\") \\\n",
    "  .option(\"kafka.bootstrap.servers\", \"hadoop-namenode:9092\") \\\n",
    "  .option(\"subscribe\", \"XBEESmartParkingModel\") \\\n",
    "  .load()\n",
    "df.selectExpr(\"CAST(key AS STRING)\", \"CAST(value AS STRING)\")"
   ]
  },
  {
   "cell_type": "code",
   "execution_count": 7,
   "metadata": {},
   "outputs": [],
   "source": [
    "decode_value = df[['value']]\n",
    "decode_value = decode_value.withColumn(\"value\", decode_value.value.cast(\"String\"))"
   ]
  },
  {
   "cell_type": "code",
   "execution_count": 9,
   "metadata": {},
   "outputs": [
    {
     "data": {
      "text/plain": [
       "DataFrame[json: struct<parking_name:string>]"
      ]
     },
     "execution_count": 9,
     "metadata": {},
     "output_type": "execute_result"
    }
   ],
   "source": [
    "decode_value.select(from_json(decode_value.value, schema).alias(\"json\"))"
   ]
  },
  {
   "cell_type": "code",
   "execution_count": 10,
   "metadata": {},
   "outputs": [],
   "source": [
    "# Inicia la consulta e imprime el resultado\n",
    "query = decode_value \\\n",
    "    .writeStream \\\n",
    "    .format(\"memory\") \\\n",
    "    .queryName(\"Parkings\") \\\n",
    "    .start()"
   ]
  },
  {
   "cell_type": "code",
   "execution_count": 11,
   "metadata": {
    "scrolled": true
   },
   "outputs": [
    {
     "data": {
      "text/plain": [
       "{'message': 'Waiting for data to arrive',\n",
       " 'isDataAvailable': False,\n",
       " 'isTriggerActive': False}"
      ]
     },
     "metadata": {},
     "output_type": "display_data"
    },
    {
     "name": "stdout",
     "output_type": "stream",
     "text": [
      "+--------------------------------------------------------------------------------------------------------------------------------------------------------------------------------------------------------------------------------------------------------------------------------------------------------------------------------------------------------------------------------------------------------------------------------------------------------------------------------------------------------------------------------------------------------------------------------------------------------------------------------------------------------------------------------------------------------------------------+\n",
      "|value                                                                                                                                                                                                                                                                                                                                                                                                                                                                                                                                                                                                                                                                                                                     |\n",
      "+--------------------------------------------------------------------------------------------------------------------------------------------------------------------------------------------------------------------------------------------------------------------------------------------------------------------------------------------------------------------------------------------------------------------------------------------------------------------------------------------------------------------------------------------------------------------------------------------------------------------------------------------------------------------------------------------------------------------------+\n",
      "|{\"parking_name\": \"XBEESmartParkingModel\", \"parking_address\": \"Bvr. Gral. Artigas 2107, Montevideo, Uruguay\", \"description\": \"Maqueta realizada en casa con Arduino, Xbee y Sensores IR\", \"timestamp\": \"2022-05-09 01:07:24\", \"device_address\": \"0013A20041814D79\", \"device_latitude\": -34.88847289464252, \"device_longitude\": -56.165987228247765, \"temperature\": \"22\", \"humidity\": \"70\", \"parking_uuid\": \"596d34da-22e7-4310-8a82-051ccbbfa0dc\", \"parking_id\": \"0\", \"level_id\": \"1\", \"area_id\": \"1\", \"area_name\": \"B\", \"spots\": \"5\", \"slots\": [{\"slot_id\": \"1\", \"state\": false}, {\"slot_id\": \"2\", \"state\": false}, {\"slot_id\": \"3\", \"state\": true}, {\"slot_id\": \"4\", \"state\": true}, {\"slot_id\": \"5\", \"state\": false}]}  |\n",
      "|{\"parking_name\": \"XBEESmartParkingModel\", \"parking_address\": \"Bvr. Gral. Artigas 2107, Montevideo, Uruguay\", \"description\": \"Maqueta realizada en casa con Arduino, Xbee y Sensores IR\", \"timestamp\": \"2022-05-09 01:07:24\", \"device_address\": \"0013A2004147A0E5\", \"device_latitude\": -34.88847289464252, \"device_longitude\": -56.165987228247765, \"temperature\": \"00\", \"humidity\": \"00\", \"parking_uuid\": \"596d34da-22e7-4310-8a82-051ccbbfa0dc\", \"parking_id\": \"0\", \"level_id\": \"1\", \"area_id\": \"1\", \"area_name\": \"A\", \"spots\": \"5\", \"slots\": [{\"slot_id\": \"1\", \"state\": false}, {\"slot_id\": \"2\", \"state\": false}, {\"slot_id\": \"3\", \"state\": false}, {\"slot_id\": \"4\", \"state\": false}, {\"slot_id\": \"5\", \"state\": false}]}|\n",
      "|{\"parking_name\": \"XBEESmartParkingModel\", \"parking_address\": \"Bvr. Gral. Artigas 2107, Montevideo, Uruguay\", \"description\": \"Maqueta realizada en casa con Arduino, Xbee y Sensores IR\", \"timestamp\": \"2022-05-09 01:07:25\", \"device_address\": \"0013A20041814D79\", \"device_latitude\": -34.88847289464252, \"device_longitude\": -56.165987228247765, \"temperature\": \"22\", \"humidity\": \"70\", \"parking_uuid\": \"596d34da-22e7-4310-8a82-051ccbbfa0dc\", \"parking_id\": \"0\", \"level_id\": \"1\", \"area_id\": \"1\", \"area_name\": \"B\", \"spots\": \"5\", \"slots\": [{\"slot_id\": \"1\", \"state\": false}, {\"slot_id\": \"2\", \"state\": false}, {\"slot_id\": \"3\", \"state\": true}, {\"slot_id\": \"4\", \"state\": true}, {\"slot_id\": \"5\", \"state\": false}]}  |\n",
      "|{\"parking_name\": \"XBEESmartParkingModel\", \"parking_address\": \"Bvr. Gral. Artigas 2107, Montevideo, Uruguay\", \"description\": \"Maqueta realizada en casa con Arduino, Xbee y Sensores IR\", \"timestamp\": \"2022-05-09 01:07:25\", \"device_address\": \"0013A2004147A0E5\", \"device_latitude\": -34.88847289464252, \"device_longitude\": -56.165987228247765, \"temperature\": \"00\", \"humidity\": \"00\", \"parking_uuid\": \"596d34da-22e7-4310-8a82-051ccbbfa0dc\", \"parking_id\": \"0\", \"level_id\": \"1\", \"area_id\": \"1\", \"area_name\": \"A\", \"spots\": \"5\", \"slots\": [{\"slot_id\": \"1\", \"state\": true}, {\"slot_id\": \"2\", \"state\": true}, {\"slot_id\": \"3\", \"state\": true}, {\"slot_id\": \"4\", \"state\": true}, {\"slot_id\": \"5\", \"state\": false}]}    |\n",
      "|{\"parking_name\": \"XBEESmartParkingModel\", \"parking_address\": \"Bvr. Gral. Artigas 2107, Montevideo, Uruguay\", \"description\": \"Maqueta realizada en casa con Arduino, Xbee y Sensores IR\", \"timestamp\": \"2022-05-09 01:07:26\", \"device_address\": \"0013A20041814D79\", \"device_latitude\": -34.88847289464252, \"device_longitude\": -56.165987228247765, \"temperature\": \"22\", \"humidity\": \"70\", \"parking_uuid\": \"596d34da-22e7-4310-8a82-051ccbbfa0dc\", \"parking_id\": \"0\", \"level_id\": \"1\", \"area_id\": \"1\", \"area_name\": \"B\", \"spots\": \"5\", \"slots\": [{\"slot_id\": \"1\", \"state\": false}, {\"slot_id\": \"2\", \"state\": false}, {\"slot_id\": \"3\", \"state\": true}, {\"slot_id\": \"4\", \"state\": true}, {\"slot_id\": \"5\", \"state\": false}]}  |\n",
      "|{\"parking_name\": \"XBEESmartParkingModel\", \"parking_address\": \"Bvr. Gral. Artigas 2107, Montevideo, Uruguay\", \"description\": \"Maqueta realizada en casa con Arduino, Xbee y Sensores IR\", \"timestamp\": \"2022-05-09 01:07:28\", \"device_address\": \"0013A2004147A0E5\", \"device_latitude\": -34.88847289464252, \"device_longitude\": -56.165987228247765, \"temperature\": \"00\", \"humidity\": \"00\", \"parking_uuid\": \"596d34da-22e7-4310-8a82-051ccbbfa0dc\", \"parking_id\": \"0\", \"level_id\": \"1\", \"area_id\": \"1\", \"area_name\": \"A\", \"spots\": \"5\", \"slots\": [{\"slot_id\": \"1\", \"state\": false}, {\"slot_id\": \"2\", \"state\": false}, {\"slot_id\": \"3\", \"state\": true}, {\"slot_id\": \"4\", \"state\": false}, {\"slot_id\": \"5\", \"state\": false}]} |\n",
      "|{\"parking_name\": \"XBEESmartParkingModel\", \"parking_address\": \"Bvr. Gral. Artigas 2107, Montevideo, Uruguay\", \"description\": \"Maqueta realizada en casa con Arduino, Xbee y Sensores IR\", \"timestamp\": \"2022-05-09 01:07:32\", \"device_address\": \"0013A20041814D79\", \"device_latitude\": -34.88847289464252, \"device_longitude\": -56.165987228247765, \"temperature\": \"22\", \"humidity\": \"70\", \"parking_uuid\": \"596d34da-22e7-4310-8a82-051ccbbfa0dc\", \"parking_id\": \"0\", \"level_id\": \"1\", \"area_id\": \"1\", \"area_name\": \"B\", \"spots\": \"5\", \"slots\": [{\"slot_id\": \"1\", \"state\": false}, {\"slot_id\": \"2\", \"state\": false}, {\"slot_id\": \"3\", \"state\": true}, {\"slot_id\": \"4\", \"state\": true}, {\"slot_id\": \"5\", \"state\": false}]}  |\n",
      "|{\"parking_name\": \"XBEESmartParkingModel\", \"parking_address\": \"Bvr. Gral. Artigas 2107, Montevideo, Uruguay\", \"description\": \"Maqueta realizada en casa con Arduino, Xbee y Sensores IR\", \"timestamp\": \"2022-05-09 01:07:32\", \"device_address\": \"0013A2004147A0E5\", \"device_latitude\": -34.88847289464252, \"device_longitude\": -56.165987228247765, \"temperature\": \"00\", \"humidity\": \"00\", \"parking_uuid\": \"596d34da-22e7-4310-8a82-051ccbbfa0dc\", \"parking_id\": \"0\", \"level_id\": \"1\", \"area_id\": \"1\", \"area_name\": \"A\", \"spots\": \"5\", \"slots\": [{\"slot_id\": \"1\", \"state\": false}, {\"slot_id\": \"2\", \"state\": false}, {\"slot_id\": \"3\", \"state\": true}, {\"slot_id\": \"4\", \"state\": false}, {\"slot_id\": \"5\", \"state\": false}]} |\n",
      "|{\"parking_name\": \"XBEESmartParkingModel\", \"parking_address\": \"Bvr. Gral. Artigas 2107, Montevideo, Uruguay\", \"description\": \"Maqueta realizada en casa con Arduino, Xbee y Sensores IR\", \"timestamp\": \"2022-05-09 01:07:35\", \"device_address\": \"0013A2004147A0E5\", \"device_latitude\": -34.88847289464252, \"device_longitude\": -56.165987228247765, \"temperature\": \"00\", \"humidity\": \"00\", \"parking_uuid\": \"596d34da-22e7-4310-8a82-051ccbbfa0dc\", \"parking_id\": \"0\", \"level_id\": \"1\", \"area_id\": \"1\", \"area_name\": \"A\", \"spots\": \"5\", \"slots\": [{\"slot_id\": \"1\", \"state\": false}, {\"slot_id\": \"2\", \"state\": false}, {\"slot_id\": \"3\", \"state\": false}, {\"slot_id\": \"4\", \"state\": false}, {\"slot_id\": \"5\", \"state\": false}]}|\n",
      "|{\"parking_name\": \"XBEESmartParkingModel\", \"parking_address\": \"Bvr. Gral. Artigas 2107, Montevideo, Uruguay\", \"description\": \"Maqueta realizada en casa con Arduino, Xbee y Sensores IR\", \"timestamp\": \"2022-05-09 01:07:36\", \"device_address\": \"0013A20041814D79\", \"device_latitude\": -34.88847289464252, \"device_longitude\": -56.165987228247765, \"temperature\": \"22\", \"humidity\": \"70\", \"parking_uuid\": \"596d34da-22e7-4310-8a82-051ccbbfa0dc\", \"parking_id\": \"0\", \"level_id\": \"1\", \"area_id\": \"1\", \"area_name\": \"B\", \"spots\": \"5\", \"slots\": [{\"slot_id\": \"1\", \"state\": false}, {\"slot_id\": \"2\", \"state\": false}, {\"slot_id\": \"3\", \"state\": true}, {\"slot_id\": \"4\", \"state\": true}, {\"slot_id\": \"5\", \"state\": false}]}  |\n",
      "|{\"parking_name\": \"XBEESmartParkingModel\", \"parking_address\": \"Bvr. Gral. Artigas 2107, Montevideo, Uruguay\", \"description\": \"Maqueta realizada en casa con Arduino, Xbee y Sensores IR\", \"timestamp\": \"2022-05-09 01:07:37\", \"device_address\": \"0013A20041814D79\", \"device_latitude\": -34.88847289464252, \"device_longitude\": -56.165987228247765, \"temperature\": \"22\", \"humidity\": \"70\", \"parking_uuid\": \"596d34da-22e7-4310-8a82-051ccbbfa0dc\", \"parking_id\": \"0\", \"level_id\": \"1\", \"area_id\": \"1\", \"area_name\": \"B\", \"spots\": \"5\", \"slots\": [{\"slot_id\": \"1\", \"state\": false}, {\"slot_id\": \"2\", \"state\": false}, {\"slot_id\": \"3\", \"state\": true}, {\"slot_id\": \"4\", \"state\": true}, {\"slot_id\": \"5\", \"state\": false}]}  |\n",
      "|{\"parking_name\": \"XBEESmartParkingModel\", \"parking_address\": \"Bvr. Gral. Artigas 2107, Montevideo, Uruguay\", \"description\": \"Maqueta realizada en casa con Arduino, Xbee y Sensores IR\", \"timestamp\": \"2022-05-09 01:07:39\", \"device_address\": \"0013A20041814D79\", \"device_latitude\": -34.88847289464252, \"device_longitude\": -56.165987228247765, \"temperature\": \"22\", \"humidity\": \"70\", \"parking_uuid\": \"596d34da-22e7-4310-8a82-051ccbbfa0dc\", \"parking_id\": \"0\", \"level_id\": \"1\", \"area_id\": \"1\", \"area_name\": \"B\", \"spots\": \"5\", \"slots\": [{\"slot_id\": \"1\", \"state\": false}, {\"slot_id\": \"2\", \"state\": false}, {\"slot_id\": \"3\", \"state\": true}, {\"slot_id\": \"4\", \"state\": true}, {\"slot_id\": \"5\", \"state\": false}]}  |\n",
      "|{\"parking_name\": \"XBEESmartParkingModel\", \"parking_address\": \"Bvr. Gral. Artigas 2107, Montevideo, Uruguay\", \"description\": \"Maqueta realizada en casa con Arduino, Xbee y Sensores IR\", \"timestamp\": \"2022-05-09 01:07:40\", \"device_address\": \"0013A20041814D79\", \"device_latitude\": -34.88847289464252, \"device_longitude\": -56.165987228247765, \"temperature\": \"22\", \"humidity\": \"70\", \"parking_uuid\": \"596d34da-22e7-4310-8a82-051ccbbfa0dc\", \"parking_id\": \"0\", \"level_id\": \"1\", \"area_id\": \"1\", \"area_name\": \"B\", \"spots\": \"5\", \"slots\": [{\"slot_id\": \"1\", \"state\": false}, {\"slot_id\": \"2\", \"state\": false}, {\"slot_id\": \"3\", \"state\": true}, {\"slot_id\": \"4\", \"state\": true}, {\"slot_id\": \"5\", \"state\": false}]}  |\n",
      "|{\"parking_name\": \"XBEESmartParkingModel\", \"parking_address\": \"Bvr. Gral. Artigas 2107, Montevideo, Uruguay\", \"description\": \"Maqueta realizada en casa con Arduino, Xbee y Sensores IR\", \"timestamp\": \"2022-05-09 01:07:41\", \"device_address\": \"0013A20041814D79\", \"device_latitude\": -34.88847289464252, \"device_longitude\": -56.165987228247765, \"temperature\": \"22\", \"humidity\": \"70\", \"parking_uuid\": \"596d34da-22e7-4310-8a82-051ccbbfa0dc\", \"parking_id\": \"0\", \"level_id\": \"1\", \"area_id\": \"1\", \"area_name\": \"B\", \"spots\": \"5\", \"slots\": [{\"slot_id\": \"1\", \"state\": false}, {\"slot_id\": \"2\", \"state\": false}, {\"slot_id\": \"3\", \"state\": true}, {\"slot_id\": \"4\", \"state\": true}, {\"slot_id\": \"5\", \"state\": false}]}  |\n",
      "|{\"parking_name\": \"XBEESmartParkingModel\", \"parking_address\": \"Bvr. Gral. Artigas 2107, Montevideo, Uruguay\", \"description\": \"Maqueta realizada en casa con Arduino, Xbee y Sensores IR\", \"timestamp\": \"2022-05-09 01:07:43\", \"device_address\": \"0013A20041814D79\", \"device_latitude\": -34.88847289464252, \"device_longitude\": -56.165987228247765, \"temperature\": \"22\", \"humidity\": \"70\", \"parking_uuid\": \"596d34da-22e7-4310-8a82-051ccbbfa0dc\", \"parking_id\": \"0\", \"level_id\": \"1\", \"area_id\": \"1\", \"area_name\": \"B\", \"spots\": \"5\", \"slots\": [{\"slot_id\": \"1\", \"state\": false}, {\"slot_id\": \"2\", \"state\": false}, {\"slot_id\": \"3\", \"state\": true}, {\"slot_id\": \"4\", \"state\": true}, {\"slot_id\": \"5\", \"state\": false}]}  |\n",
      "|{\"parking_name\": \"XBEESmartParkingModel\", \"parking_address\": \"Bvr. Gral. Artigas 2107, Montevideo, Uruguay\", \"description\": \"Maqueta realizada en casa con Arduino, Xbee y Sensores IR\", \"timestamp\": \"2022-05-09 01:07:43\", \"device_address\": \"0013A2004147A0E5\", \"device_latitude\": -34.88847289464252, \"device_longitude\": -56.165987228247765, \"temperature\": \"00\", \"humidity\": \"00\", \"parking_uuid\": \"596d34da-22e7-4310-8a82-051ccbbfa0dc\", \"parking_id\": \"0\", \"level_id\": \"1\", \"area_id\": \"1\", \"area_name\": \"A\", \"spots\": \"5\", \"slots\": [{\"slot_id\": \"1\", \"state\": true}, {\"slot_id\": \"2\", \"state\": false}, {\"slot_id\": \"3\", \"state\": false}, {\"slot_id\": \"4\", \"state\": false}, {\"slot_id\": \"5\", \"state\": true}]}  |\n",
      "|{\"parking_name\": \"XBEESmartParkingModel\", \"parking_address\": \"Bvr. Gral. Artigas 2107, Montevideo, Uruguay\", \"description\": \"Maqueta realizada en casa con Arduino, Xbee y Sensores IR\", \"timestamp\": \"2022-05-09 01:07:45\", \"device_address\": \"0013A20041814D79\", \"device_latitude\": -34.88847289464252, \"device_longitude\": -56.165987228247765, \"temperature\": \"22\", \"humidity\": \"70\", \"parking_uuid\": \"596d34da-22e7-4310-8a82-051ccbbfa0dc\", \"parking_id\": \"0\", \"level_id\": \"1\", \"area_id\": \"1\", \"area_name\": \"B\", \"spots\": \"5\", \"slots\": [{\"slot_id\": \"1\", \"state\": false}, {\"slot_id\": \"2\", \"state\": false}, {\"slot_id\": \"3\", \"state\": true}, {\"slot_id\": \"4\", \"state\": true}, {\"slot_id\": \"5\", \"state\": false}]}  |\n",
      "|{\"parking_name\": \"XBEESmartParkingModel\", \"parking_address\": \"Bvr. Gral. Artigas 2107, Montevideo, Uruguay\", \"description\": \"Maqueta realizada en casa con Arduino, Xbee y Sensores IR\", \"timestamp\": \"2022-05-09 01:07:46\", \"device_address\": \"0013A2004147A0E5\", \"device_latitude\": -34.88847289464252, \"device_longitude\": -56.165987228247765, \"temperature\": \"00\", \"humidity\": \"00\", \"parking_uuid\": \"596d34da-22e7-4310-8a82-051ccbbfa0dc\", \"parking_id\": \"0\", \"level_id\": \"1\", \"area_id\": \"1\", \"area_name\": \"A\", \"spots\": \"5\", \"slots\": [{\"slot_id\": \"1\", \"state\": false}, {\"slot_id\": \"2\", \"state\": true}, {\"slot_id\": \"3\", \"state\": false}, {\"slot_id\": \"4\", \"state\": false}, {\"slot_id\": \"5\", \"state\": false}]} |\n",
      "|{\"parking_name\": \"XBEESmartParkingModel\", \"parking_address\": \"Bvr. Gral. Artigas 2107, Montevideo, Uruguay\", \"description\": \"Maqueta realizada en casa con Arduino, Xbee y Sensores IR\", \"timestamp\": \"2022-05-09 01:07:47\", \"device_address\": \"0013A20041814D79\", \"device_latitude\": -34.88847289464252, \"device_longitude\": -56.165987228247765, \"temperature\": \"22\", \"humidity\": \"70\", \"parking_uuid\": \"596d34da-22e7-4310-8a82-051ccbbfa0dc\", \"parking_id\": \"0\", \"level_id\": \"1\", \"area_id\": \"1\", \"area_name\": \"B\", \"spots\": \"5\", \"slots\": [{\"slot_id\": \"1\", \"state\": false}, {\"slot_id\": \"2\", \"state\": false}, {\"slot_id\": \"3\", \"state\": true}, {\"slot_id\": \"4\", \"state\": true}, {\"slot_id\": \"5\", \"state\": false}]}  |\n",
      "|{\"parking_name\": \"XBEESmartParkingModel\", \"parking_address\": \"Bvr. Gral. Artigas 2107, Montevideo, Uruguay\", \"description\": \"Maqueta realizada en casa con Arduino, Xbee y Sensores IR\", \"timestamp\": \"2022-05-09 01:07:48\", \"device_address\": \"0013A2004147A0E5\", \"device_latitude\": -34.88847289464252, \"device_longitude\": -56.165987228247765, \"temperature\": \"00\", \"humidity\": \"00\", \"parking_uuid\": \"596d34da-22e7-4310-8a82-051ccbbfa0dc\", \"parking_id\": \"0\", \"level_id\": \"1\", \"area_id\": \"1\", \"area_name\": \"A\", \"spots\": \"5\", \"slots\": [{\"slot_id\": \"1\", \"state\": true}, {\"slot_id\": \"2\", \"state\": false}, {\"slot_id\": \"3\", \"state\": false}, {\"slot_id\": \"4\", \"state\": false}, {\"slot_id\": \"5\", \"state\": false}]} |\n",
      "+--------------------------------------------------------------------------------------------------------------------------------------------------------------------------------------------------------------------------------------------------------------------------------------------------------------------------------------------------------------------------------------------------------------------------------------------------------------------------------------------------------------------------------------------------------------------------------------------------------------------------------------------------------------------------------------------------------------------------+\n",
      "only showing top 20 rows\n",
      "\n"
     ]
    },
    {
     "data": {
      "text/plain": [
       "None"
      ]
     },
     "metadata": {},
     "output_type": "display_data"
    },
    {
     "ename": "KeyboardInterrupt",
     "evalue": "",
     "output_type": "error",
     "traceback": [
      "\u001b[0;31m---------------------------------------------------------------------------\u001b[0m",
      "\u001b[0;31mKeyboardInterrupt\u001b[0m                         Traceback (most recent call last)",
      "Input \u001b[0;32mIn [11]\u001b[0m, in \u001b[0;36m<cell line: 4>\u001b[0;34m()\u001b[0m\n\u001b[1;32m      6\u001b[0m display(query\u001b[38;5;241m.\u001b[39mstatus)\n\u001b[1;32m      7\u001b[0m display(spark\u001b[38;5;241m.\u001b[39msql(\u001b[38;5;124m'\u001b[39m\u001b[38;5;124mSELECT * FROM Parkings \u001b[39m\u001b[38;5;124m'\u001b[39m)\u001b[38;5;241m.\u001b[39mshow(truncate\u001b[38;5;241m=\u001b[39m\u001b[38;5;28;01mFalse\u001b[39;00m))\n\u001b[0;32m----> 8\u001b[0m \u001b[43msleep\u001b[49m\u001b[43m(\u001b[49m\u001b[38;5;241;43m1\u001b[39;49m\u001b[43m)\u001b[49m\n",
      "\u001b[0;31mKeyboardInterrupt\u001b[0m: "
     ]
    }
   ],
   "source": [
    "from IPython.display import display, clear_output\n",
    "from time import sleep\n",
    "\n",
    "while True:\n",
    "    clear_output(wait=True)\n",
    "    display(query.status)\n",
    "    display(spark.sql('SELECT * FROM Parkings ').show(truncate=False))\n",
    "    sleep(1)"
   ]
  }
 ],
 "metadata": {
  "kernelspec": {
   "display_name": "Python 3 (ipykernel)",
   "language": "python",
   "name": "python3"
  },
  "language_info": {
   "codemirror_mode": {
    "name": "ipython",
    "version": 3
   },
   "file_extension": ".py",
   "mimetype": "text/x-python",
   "name": "python",
   "nbconvert_exporter": "python",
   "pygments_lexer": "ipython3",
   "version": "3.10.4"
  }
 },
 "nbformat": 4,
 "nbformat_minor": 2
}
